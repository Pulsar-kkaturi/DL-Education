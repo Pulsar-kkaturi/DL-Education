{
  "nbformat": 4,
  "nbformat_minor": 0,
  "metadata": {
    "colab": {
      "provenance": [],
      "authorship_tag": "ABX9TyO/ejpRe5uofkv3rVcyCaYA",
      "include_colab_link": true
    },
    "kernelspec": {
      "name": "python3",
      "display_name": "Python 3"
    },
    "language_info": {
      "name": "python"
    }
  },
  "cells": [
    {
      "cell_type": "markdown",
      "metadata": {
        "id": "view-in-github",
        "colab_type": "text"
      },
      "source": [
        "<a href=\"https://colab.research.google.com/github/Pulsar-kkaturi/DL-Education/blob/master/Python_Lecture/Lecture6_Python_control.ipynb\" target=\"_parent\"><img src=\"https://colab.research.google.com/assets/colab-badge.svg\" alt=\"Open In Colab\"/></a>"
      ]
    },
    {
      "cell_type": "markdown",
      "source": [
        "# Lecture 6. 파이썬 제어문"
      ],
      "metadata": {
        "id": "VHU5k86RSTn-"
      }
    },
    {
      "cell_type": "markdown",
      "source": [
        "## 1. 조건문의 정의"
      ],
      "metadata": {
        "id": "CuWCVt3wTOX2"
      }
    },
    {
      "cell_type": "code",
      "execution_count": null,
      "metadata": {
        "id": "2kXRCJg9Ryaz"
      },
      "outputs": [],
      "source": [
        "if condition:\n",
        "  실행문\n",
        "else:\n",
        "  실행문"
      ]
    },
    {
      "cell_type": "code",
      "source": [
        "money = False\n",
        "if money:\n",
        "  print('택시 타자')\n",
        "else:\n",
        "  print('걸어 가자')"
      ],
      "metadata": {
        "colab": {
          "base_uri": "https://localhost:8080/"
        },
        "id": "BkSz4DEuThNt",
        "outputId": "bde5a12d-3145-4a86-a1b5-e82865ee8134"
      },
      "execution_count": 11,
      "outputs": [
        {
          "output_type": "stream",
          "name": "stdout",
          "text": [
            "걸어 가자\n"
          ]
        }
      ]
    },
    {
      "cell_type": "code",
      "source": [
        "a = 1\n",
        "if a > 10:\n",
        "  print(1)\n",
        "else:\n",
        "  print(2)"
      ],
      "metadata": {
        "colab": {
          "base_uri": "https://localhost:8080/"
        },
        "id": "25RoZrUaT1yU",
        "outputId": "7a197755-07a9-4723-c7c3-e04bb12ee52c"
      },
      "execution_count": 4,
      "outputs": [
        {
          "output_type": "stream",
          "name": "stdout",
          "text": [
            "2\n"
          ]
        }
      ]
    },
    {
      "cell_type": "markdown",
      "source": [
        "## 2. 비교 연산자\n",
        "\n",
        "|비교연산자|설명|\n",
        "|---|---|\n",
        "|<|작다|\n",
        "|>|크다|\n",
        "|==|같다|\n",
        "|!=|틀리다|\n",
        "|<=|작거나 같다|\n",
        "|>=|크거나 같다|\n"
      ],
      "metadata": {
        "id": "lvORhNxcUhKF"
      }
    },
    {
      "cell_type": "code",
      "source": [
        "print(3>2)\n",
        "print(4>5)"
      ],
      "metadata": {
        "colab": {
          "base_uri": "https://localhost:8080/"
        },
        "id": "u9MMsvIPUwXb",
        "outputId": "292846ef-b365-469c-d481-6b135eacc958"
      },
      "execution_count": 6,
      "outputs": [
        {
          "output_type": "stream",
          "name": "stdout",
          "text": [
            "True\n",
            "False\n"
          ]
        }
      ]
    },
    {
      "cell_type": "code",
      "source": [
        "a = int(input())\n",
        "b = int(input())\n",
        "print(a == b)\n",
        "print(a != b)"
      ],
      "metadata": {
        "colab": {
          "base_uri": "https://localhost:8080/"
        },
        "id": "ZoTH34gzU8Y2",
        "outputId": "9e53064a-26dc-4a42-d8c5-715eae071a27"
      },
      "execution_count": 9,
      "outputs": [
        {
          "output_type": "stream",
          "name": "stdout",
          "text": [
            "4\n",
            "5\n",
            "False\n",
            "True\n"
          ]
        }
      ]
    },
    {
      "cell_type": "code",
      "source": [
        "a = 3 > 2\n",
        "b = 1 == 2\n",
        "print(a)\n",
        "print(b)"
      ],
      "metadata": {
        "colab": {
          "base_uri": "https://localhost:8080/"
        },
        "id": "LwMeqzUOVpW1",
        "outputId": "9e04459d-1d64-4de1-98d7-6f95e6354a73"
      },
      "execution_count": 12,
      "outputs": [
        {
          "output_type": "stream",
          "name": "stdout",
          "text": [
            "True\n",
            "False\n"
          ]
        }
      ]
    },
    {
      "cell_type": "code",
      "source": [
        "money = int(input())\n",
        "if money > 4000:\n",
        "  print('택시 타자') \n",
        "else:\n",
        "  print('걸어 가자')"
      ],
      "metadata": {
        "colab": {
          "base_uri": "https://localhost:8080/"
        },
        "id": "cvwzaBQPVC1d",
        "outputId": "f8f945fc-df1c-4d63-bb79-1cb933d97621"
      },
      "execution_count": 14,
      "outputs": [
        {
          "output_type": "stream",
          "name": "stdout",
          "text": [
            "1000\n",
            "걸어 가자\n"
          ]
        }
      ]
    },
    {
      "cell_type": "markdown",
      "source": [
        "* and\n",
        "* or\n",
        "* not"
      ],
      "metadata": {
        "id": "_97f0ywdWUas"
      }
    },
    {
      "cell_type": "code",
      "source": [
        "money = 2000\n",
        "card = False\n",
        "if money >= 4000 or card:\n",
        "  print('택시 타자')\n",
        "else:\n",
        "  print('걸어 가자')"
      ],
      "metadata": {
        "colab": {
          "base_uri": "https://localhost:8080/"
        },
        "id": "B-WjzY5cWDrr",
        "outputId": "9da5e0d6-3b86-4853-d50e-139d6177c70e"
      },
      "execution_count": 17,
      "outputs": [
        {
          "output_type": "stream",
          "name": "stdout",
          "text": [
            "걸어 가자\n"
          ]
        }
      ]
    },
    {
      "cell_type": "code",
      "source": [
        "money = 100\n",
        "id = True\n",
        "if money >= 5000 and id:\n",
        "  print('술 마시자!')\n",
        "else:\n",
        "  print('물 마시자!')"
      ],
      "metadata": {
        "colab": {
          "base_uri": "https://localhost:8080/"
        },
        "id": "2Jg9-FPiWrMD",
        "outputId": "e6086926-c19e-43c9-8a8f-d95df9332650"
      },
      "execution_count": 20,
      "outputs": [
        {
          "output_type": "stream",
          "name": "stdout",
          "text": [
            "물 마시자!\n"
          ]
        }
      ]
    },
    {
      "cell_type": "code",
      "source": [
        "univ = '불합격'\n",
        "handsome = False\n",
        "sense = True\n",
        "humor = True\n",
        "\n",
        "if univ == '합격' or handsome and sense and humor:\n",
        "  print('여자친구가 생긴다')\n",
        "else:\n",
        "  print('그런거 없다.')"
      ],
      "metadata": {
        "colab": {
          "base_uri": "https://localhost:8080/"
        },
        "id": "-c-uSqTrXVm0",
        "outputId": "e6f1ea0c-8de4-421f-c1af-3fa27e5c8a48"
      },
      "execution_count": 26,
      "outputs": [
        {
          "output_type": "stream",
          "name": "stdout",
          "text": [
            "그런거 없다.\n"
          ]
        }
      ]
    },
    {
      "cell_type": "markdown",
      "source": [
        "* in\n",
        "* not in"
      ],
      "metadata": {
        "id": "ZJiHh5HPYdri"
      }
    },
    {
      "cell_type": "code",
      "source": [
        "pocket = ['id', 'key']\n",
        "if 'money' in pocket:\n",
        "  print('택시 타자')\n",
        "else:\n",
        "  print('걸어가자')"
      ],
      "metadata": {
        "colab": {
          "base_uri": "https://localhost:8080/"
        },
        "id": "UN1AM5asXwct",
        "outputId": "49eaff20-0c86-46bd-f220-2375f87d0b5a"
      },
      "execution_count": 28,
      "outputs": [
        {
          "output_type": "stream",
          "name": "stdout",
          "text": [
            "걸어가자\n"
          ]
        }
      ]
    },
    {
      "cell_type": "code",
      "source": [
        "pocket = ['money', 'card', 'id']\n",
        "if 'id' not in pocket:\n",
        "  print('11전 퇴장')\n",
        "else:\n",
        "  print('밤샘 피시방')"
      ],
      "metadata": {
        "colab": {
          "base_uri": "https://localhost:8080/"
        },
        "id": "X4nKTJZFYjfs",
        "outputId": "ddbb4593-fdf1-430c-f103-69054f980a3d"
      },
      "execution_count": 30,
      "outputs": [
        {
          "output_type": "stream",
          "name": "stdout",
          "text": [
            "밤샘 피시방\n"
          ]
        }
      ]
    },
    {
      "cell_type": "code",
      "source": [
        "pocket = ['money', 'card', 'id']\n",
        "if 'id' in pocket:\n",
        "  print('밤샘 피시방')\n",
        "else:\n",
        "  print('11전 퇴장')"
      ],
      "metadata": {
        "colab": {
          "base_uri": "https://localhost:8080/"
        },
        "id": "CTjf4IOLY6FU",
        "outputId": "9da8c80d-c2d8-4af2-e3f9-8a5072cdd15a"
      },
      "execution_count": 31,
      "outputs": [
        {
          "output_type": "stream",
          "name": "stdout",
          "text": [
            "밤샘 피시방\n"
          ]
        }
      ]
    },
    {
      "cell_type": "markdown",
      "source": [
        "## 3. 추가 조건 elif"
      ],
      "metadata": {
        "id": "8Jx18IcCZIpk"
      }
    },
    {
      "cell_type": "code",
      "source": [
        "money = 1000\n",
        "if money > 4000:\n",
        "  print('택시 타자')\n",
        "elif money > 2000: \n",
        "  print('버스 타자')\n",
        "else:\n",
        "  print('걸어 가자')"
      ],
      "metadata": {
        "colab": {
          "base_uri": "https://localhost:8080/"
        },
        "id": "2j87yfpCZLTU",
        "outputId": "45842ec2-0fce-4077-c0bd-f64931c4d03d"
      },
      "execution_count": 34,
      "outputs": [
        {
          "output_type": "stream",
          "name": "stdout",
          "text": [
            "걸어 가자\n"
          ]
        }
      ]
    },
    {
      "cell_type": "markdown",
      "source": [
        "## Quiz.\n",
        "\n",
        "100~91 -> A\n",
        "\n",
        "90~71 -> B\n",
        "\n",
        "70 ~ 0 -> C\n",
        "\n",
        "가 나오도록 제어문을 활용하여 코딩하시오."
      ],
      "metadata": {
        "id": "Itzl35Mtc3Vc"
      }
    },
    {
      "cell_type": "code",
      "source": [
        "score = 30\n",
        "if score > 90:\n",
        "  print('A')\n",
        "elif score > 70:\n",
        "  print('B')\n",
        "else:\n",
        "  print('C')"
      ],
      "metadata": {
        "id": "--gtc9AudNZ7",
        "outputId": "87adeace-d2f0-4937-838a-7d2547b7329a",
        "colab": {
          "base_uri": "https://localhost:8080/"
        }
      },
      "execution_count": 37,
      "outputs": [
        {
          "output_type": "stream",
          "name": "stdout",
          "text": [
            "C\n"
          ]
        }
      ]
    },
    {
      "cell_type": "code",
      "source": [],
      "metadata": {
        "id": "Cg9QzFaWeuBc"
      },
      "execution_count": null,
      "outputs": []
    }
  ]
}