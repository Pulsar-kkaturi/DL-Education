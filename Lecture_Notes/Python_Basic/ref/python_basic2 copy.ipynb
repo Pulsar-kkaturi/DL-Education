{
  "cells": [
    {
      "cell_type": "markdown",
      "metadata": {
        "colab_type": "text",
        "id": "view-in-github"
      },
      "source": [
        "<a href=\"https://colab.research.google.com/github/Pulsar-kkaturi/DL-Education/blob/master/Python_Basic/python_basic2.ipynb\" target=\"_parent\"><img src=\"https://colab.research.google.com/assets/colab-badge.svg\" alt=\"Open In Colab\"/></a>"
      ]
    },
    {
      "cell_type": "markdown",
      "metadata": {
        "id": "7fgKy8EztZYZ"
      },
      "source": [
        "# 파이썬 기초문법 2 - 데이터 다루기"
      ]
    },
    {
      "cell_type": "markdown",
      "metadata": {
        "id": "evhKB8vhto9c"
      },
      "source": [
        "# 1. if 문"
      ]
    },
    {
      "cell_type": "markdown",
      "metadata": {
        "id": "pOjYcMPbtsDz"
      },
      "source": [
        "* 조건에 따라 분기 시켜 실행"
      ]
    },
    {
      "cell_type": "code",
      "execution_count": 1,
      "metadata": {
        "colab": {
          "base_uri": "https://localhost:8080/"
        },
        "id": "VHpHkALqtqf6",
        "outputId": "bf1dd315-8b4c-459b-f348-81c4ba63696a"
      },
      "outputs": [
        {
          "name": "stdout",
          "output_type": "stream",
          "text": [
            "x is \n",
            "        larger than 10.\n"
          ]
        }
      ],
      "source": [
        "x = 11\n",
        "if x > 10:\n",
        "    print('x is ') # ... (A1)\n",
        "    print('        larger than 10.') # ... (A2)\n",
        "else:\n",
        "    print('x is smaller than 11') # ... (B1) "
      ]
    },
    {
      "cell_type": "markdown",
      "metadata": {
        "id": "VqMSLAuIt-0d"
      },
      "source": [
        "* if 다음에 조건이 맞으면 실행되고, 조건이 틀릴시 else 다음 결과가 출력된다."
      ]
    },
    {
      "cell_type": "code",
      "execution_count": 2,
      "metadata": {
        "colab": {
          "base_uri": "https://localhost:8080/"
        },
        "id": "m1M4PdMEtwsz",
        "outputId": "878daec3-daaa-4228-9f7a-83e4355b3232"
      },
      "outputs": [
        {
          "name": "stdout",
          "output_type": "stream",
          "text": [
            "True\n",
            "<class 'bool'>\n"
          ]
        }
      ],
      "source": [
        "print(x > 10)\n",
        "print(type(x > 10))"
      ]
    },
    {
      "cell_type": "markdown",
      "metadata": {
        "id": "AY8fQ14duXx0"
      },
      "source": [
        "**[비교연산자]**\n",
        "* a=b : a와 b가 같다.\n",
        "* a > b : a가 b보다 크다.\n",
        "* a >= : a가 b 이상이다.\n",
        "* a != b : a와 b가 다르다"
      ]
    },
    {
      "cell_type": "code",
      "execution_count": 3,
      "metadata": {
        "colab": {
          "base_uri": "https://localhost:8080/"
        },
        "id": "rX3lsg9QuXeO",
        "outputId": "428095a8-2cd3-4a53-950b-61181591e194"
      },
      "outputs": [
        {
          "name": "stdout",
          "output_type": "stream",
          "text": [
            "x is between 10 and 20\n"
          ]
        }
      ],
      "source": [
        "# 여러 조건 사용시, and(그리고), or(또는) 사용\n",
        "x = 15\n",
        "if 10 <= x and x <= 20:\n",
        "  print('x is between 10 and 20')"
      ]
    },
    {
      "cell_type": "markdown",
      "metadata": {
        "id": "G8ghT-ptu-if"
      },
      "source": [
        "# 2. for 문"
      ]
    },
    {
      "cell_type": "markdown",
      "metadata": {
        "id": "S8Xq-N8TvH45"
      },
      "source": [
        "* 연산을 반복하고 싶을 때 사용"
      ]
    },
    {
      "cell_type": "code",
      "execution_count": 4,
      "metadata": {
        "colab": {
          "base_uri": "https://localhost:8080/"
        },
        "id": "cYbWSOh3t5N-",
        "outputId": "6b06cc48-ecbf-4c00-8f35-8fc5576bf45e"
      },
      "outputs": [
        {
          "name": "stdout",
          "output_type": "stream",
          "text": [
            "1\n",
            "2\n",
            "3\n"
          ]
        }
      ],
      "source": [
        "for i in [1, 2, 3]:\n",
        "    print(i)"
      ]
    },
    {
      "cell_type": "code",
      "execution_count": 5,
      "metadata": {
        "colab": {
          "base_uri": "https://localhost:8080/"
        },
        "id": "1XQpyVFivN4s",
        "outputId": "f864d749-3c76-4db8-d829-a91e2ea2ca97"
      },
      "outputs": [
        {
          "name": "stdout",
          "output_type": "stream",
          "text": [
            "[4, 8, 12, 16, 20]\n"
          ]
        }
      ],
      "source": [
        "# range 함수 사용법\n",
        "num = [2, 4, 6, 8, 10]\n",
        "for i in range(len(num)):\n",
        "    num[i] = num[i] * 2\n",
        "print(num)"
      ]
    },
    {
      "cell_type": "code",
      "execution_count": 8,
      "metadata": {
        "colab": {
          "base_uri": "https://localhost:8080/"
        },
        "id": "HAuodXtZvTKx",
        "outputId": "ced36cf3-890b-450d-e448-253a5a8dd471"
      },
      "outputs": [
        {
          "name": "stdout",
          "output_type": "stream",
          "text": [
            "[2, 4, 6, 8, 10]\n"
          ]
        }
      ],
      "source": [
        "# enumerate 함수 사용법\n",
        "num = [2, 4, 6, 8, 10]\n",
        "for i, i_ in enumerate(num):\n",
        "    i_ = i_ + i\n",
        "print(num)"
      ]
    },
    {
      "cell_type": "markdown",
      "metadata": {
        "id": "bCxrq-Smv342"
      },
      "source": [
        "# 3. 벡터와 행렬"
      ]
    },
    {
      "cell_type": "code",
      "execution_count": 9,
      "metadata": {
        "colab": {
          "base_uri": "https://localhost:8080/"
        },
        "id": "RRnNXhEcvhDp",
        "outputId": "4a0932c0-defc-4503-b39b-85c8bb2482a7"
      },
      "outputs": [
        {
          "data": {
            "text/plain": [
              "[1, 2, 1, 2]"
            ]
          },
          "execution_count": 9,
          "metadata": {},
          "output_type": "execute_result"
        }
      ],
      "source": [
        "[1, 2] + [1, 2]"
      ]
    },
    {
      "cell_type": "code",
      "execution_count": 10,
      "metadata": {
        "id": "3JgW5_Mfv7yp"
      },
      "outputs": [],
      "source": [
        "# 벡터(행렬)을 만들어주는 라이브러리 - 수학연산 라이브러리 Numpy\n",
        "import numpy as np"
      ]
    },
    {
      "cell_type": "code",
      "execution_count": 11,
      "metadata": {
        "colab": {
          "base_uri": "https://localhost:8080/"
        },
        "id": "dk6YHj7rwEib",
        "outputId": "83320f78-9e1c-44f4-8c9a-9a7f425899d6"
      },
      "outputs": [
        {
          "name": "stdout",
          "output_type": "stream",
          "text": [
            "[3 4 5]\n"
          ]
        }
      ],
      "source": [
        "x = np.array([1,2,3])\n",
        "y = np.array([2,2,2])\n",
        "print(x + y)"
      ]
    },
    {
      "cell_type": "code",
      "execution_count": 12,
      "metadata": {
        "colab": {
          "base_uri": "https://localhost:8080/"
        },
        "id": "8CUMA0wUwLeJ",
        "outputId": "5d93f99f-b613-4205-dd44-351d41dd12ec"
      },
      "outputs": [
        {
          "name": "stdout",
          "output_type": "stream",
          "text": [
            "<class 'numpy.ndarray'>\n"
          ]
        }
      ],
      "source": [
        "print(type(x))"
      ]
    },
    {
      "cell_type": "code",
      "execution_count": 13,
      "metadata": {
        "colab": {
          "base_uri": "https://localhost:8080/"
        },
        "id": "OOECJOkEwPiL",
        "outputId": "97869354-68c2-4469-f58c-13dd5b97f94b"
      },
      "outputs": [
        {
          "name": "stdout",
          "output_type": "stream",
          "text": [
            "<class 'list'>\n"
          ]
        }
      ],
      "source": [
        "# 2차원 행렬\n",
        "a = [[0,0,0,0,0], [0,0,1,0,0], [0,1,1,1,0], [0,0,1,0,0], [0,0,0,0,0]]\n",
        "print(type(a))"
      ]
    },
    {
      "cell_type": "code",
      "execution_count": 14,
      "metadata": {
        "colab": {
          "base_uri": "https://localhost:8080/"
        },
        "id": "eAOkhEf1wetr",
        "outputId": "5e30ac8a-6223-4365-896a-bd7c479f2f45"
      },
      "outputs": [
        {
          "name": "stdout",
          "output_type": "stream",
          "text": [
            "<class 'list'>\n"
          ]
        }
      ],
      "source": [
        "a_vector = np.array(a)\n",
        "print(type(a_vector))"
      ]
    },
    {
      "cell_type": "code",
      "execution_count": 17,
      "metadata": {
        "colab": {
          "base_uri": "https://localhost:8080/"
        },
        "id": "uQkZ86s5wmhU",
        "outputId": "c0b4ae91-1e0a-4d98-9738-fc456c9c4545"
      },
      "outputs": [
        {
          "name": "stdout",
          "output_type": "stream",
          "text": [
            "[[0 0 0 0 0]\n",
            " [0 0 2 0 0]\n",
            " [0 2 2 2 0]\n",
            " [0 0 2 0 0]\n",
            " [0 0 0 0 0]]\n",
            "[[1 1 1 1 1]\n",
            " [1 1 2 1 1]\n",
            " [1 2 2 2 1]\n",
            " [1 1 2 1 1]\n",
            " [1 1 1 1 1]]\n"
          ]
        }
      ],
      "source": [
        "print(a_vector * 2)\n",
        "print(a_vector + 1)"
      ]
    },
    {
      "cell_type": "markdown",
      "metadata": {
        "id": "AZVvOUfWw6ZS"
      },
      "source": [
        "* 슬라이싱: 행렬에서 특정 부분만 잘라낼때 사용"
      ]
    },
    {
      "cell_type": "code",
      "execution_count": 18,
      "metadata": {
        "colab": {
          "base_uri": "https://localhost:8080/"
        },
        "id": "p46zYSgNwqk8",
        "outputId": "4b0bd3b9-16a2-44e0-a84b-b545ef75c1c1"
      },
      "outputs": [
        {
          "name": "stdout",
          "output_type": "stream",
          "text": [
            "[0 1 2 3 4 5 6 7 8 9]\n",
            "[0 1 2 3 4]\n"
          ]
        }
      ],
      "source": [
        "x = np.arange(10)\n",
        "print(x)\n",
        "print(x[:5])"
      ]
    },
    {
      "cell_type": "markdown",
      "metadata": {
        "id": "TfwxWnS6xE5z"
      },
      "source": [
        "## 4. 함수"
      ]
    },
    {
      "cell_type": "markdown",
      "metadata": {
        "id": "c73d5URwxJq1"
      },
      "source": [
        "* 자주 반복되는 코드를 함수로 만들면 언제든 사용할 수 있다!"
      ]
    },
    {
      "cell_type": "code",
      "execution_count": 19,
      "metadata": {
        "colab": {
          "base_uri": "https://localhost:8080/"
        },
        "id": "8ptlkkQJxDPo",
        "outputId": "b5704c02-463b-4c01-fdc8-d356527dbf61"
      },
      "outputs": [
        {
          "name": "stdout",
          "output_type": "stream",
          "text": [
            "Hi!\n"
          ]
        }
      ],
      "source": [
        "def my_func1():\n",
        "    print('Hi!')\n",
        "# 함수 my_func1()의 정의는 여기까지\n",
        "my_func1() # 함수를 실행"
      ]
    },
    {
      "cell_type": "code",
      "execution_count": 20,
      "metadata": {
        "colab": {
          "base_uri": "https://localhost:8080/"
        },
        "id": "tW7O2nPRxSXz",
        "outputId": "072aa2cd-1448-4702-eef1-3351a2451d36"
      },
      "outputs": [
        {
          "data": {
            "text/plain": [
              "3"
            ]
          },
          "execution_count": 20,
          "metadata": {},
          "output_type": "execute_result"
        }
      ],
      "source": [
        "def my_func2(a, b):\n",
        "    c = a + b\n",
        "    return c\n",
        "\n",
        "\n",
        "my_func2(1, 2)"
      ]
    },
    {
      "cell_type": "code",
      "execution_count": null,
      "metadata": {
        "id": "cWsFFPwyxUge"
      },
      "outputs": [],
      "source": []
    }
  ],
  "metadata": {
    "colab": {
      "include_colab_link": true,
      "name": "python_basic2.ipynb",
      "provenance": []
    },
    "kernelspec": {
      "display_name": "Python 3",
      "name": "python3"
    },
    "language_info": {
      "name": "python"
    },
    "orig_nbformat": 4
  },
  "nbformat": 4,
  "nbformat_minor": 0
}
