{
  "nbformat": 4,
  "nbformat_minor": 0,
  "metadata": {
    "colab": {
      "name": "Lecture14_CAE.ipynb",
      "provenance": [],
      "authorship_tag": "ABX9TyOoprR9Jc5Pq3nu5g7XG8tb",
      "include_colab_link": true
    },
    "kernelspec": {
      "name": "python3",
      "display_name": "Python 3"
    },
    "accelerator": "GPU"
  },
  "cells": [
    {
      "cell_type": "markdown",
      "metadata": {
        "id": "view-in-github",
        "colab_type": "text"
      },
      "source": [
        "<a href=\"https://colab.research.google.com/github/Pulsar-kkaturi/Deepnoid-Education/blob/master/Lecture14_CAE.ipynb\" target=\"_parent\"><img src=\"https://colab.research.google.com/assets/colab-badge.svg\" alt=\"Open In Colab\"/></a>"
      ]
    },
    {
      "cell_type": "markdown",
      "metadata": {
        "id": "MDELquKDIs1z"
      },
      "source": [
        "# Lecture 14. CAE"
      ]
    },
    {
      "cell_type": "markdown",
      "metadata": {
        "id": "K9AEyL36Ksda"
      },
      "source": [
        "# 1. Library Import"
      ]
    },
    {
      "cell_type": "markdown",
      "metadata": {
        "id": "a-lZr00lK4Zn"
      },
      "source": [
        "라이브러리를 불러옵니다."
      ]
    },
    {
      "cell_type": "code",
      "metadata": {
        "id": "G7pzGnS7Iv5h"
      },
      "source": [
        "from tensorflow.keras.datasets import mnist\r\n",
        "from tensorflow.keras.models import Sequential, Model\r\n",
        "from tensorflow.keras.layers import Input, Dense, Conv2D, MaxPooling2D, UpSampling2D, Flatten, Reshape\r\n",
        "import matplotlib.pyplot as plt\r\n",
        "import numpy as np"
      ],
      "execution_count": 1,
      "outputs": []
    },
    {
      "cell_type": "markdown",
      "metadata": {
        "id": "QjFphpg0K89y"
      },
      "source": [
        "# 2. Dataset Load"
      ]
    },
    {
      "cell_type": "markdown",
      "metadata": {
        "id": "AS4GEK1NLCgs"
      },
      "source": [
        "MNIST데이터 셋을 불러옵니다."
      ]
    },
    {
      "cell_type": "code",
      "metadata": {
        "id": "VugElZAcKwRs"
      },
      "source": [
        "(X_train, _), (X_test, _) = mnist.load_data()\r\n",
        "\r\n",
        "train_size = 1000  # X_train.shape[0]\r\n",
        "test_size = 500  # X_test.shape[0]\r\n",
        "\r\n",
        "X_train = X_train[:train_size].reshape(train_size, 28, 28, 1).astype('float32') / 255  \r\n",
        "X_test = X_test[:test_size].reshape(test_size, 28, 28, 1).astype('float32') / 255 "
      ],
      "execution_count": 10,
      "outputs": []
    },
    {
      "cell_type": "code",
      "metadata": {
        "colab": {
          "base_uri": "https://localhost:8080/"
        },
        "id": "9fJ_K54CLGt_",
        "outputId": "2815f26b-5b19-4774-f690-5e004df1e13d"
      },
      "source": [
        "print(X_train.shape, X_test.shape)"
      ],
      "execution_count": 11,
      "outputs": [
        {
          "output_type": "stream",
          "text": [
            "(1000, 28, 28, 1) (500, 28, 28, 1)\n"
          ],
          "name": "stdout"
        }
      ]
    },
    {
      "cell_type": "markdown",
      "metadata": {
        "id": "kYQ1jXBnMOUD"
      },
      "source": [
        "# 3. Model Build"
      ]
    },
    {
      "cell_type": "markdown",
      "metadata": {
        "id": "mEXbFFL5MQck"
      },
      "source": [
        "생성자 모델을 만듭니다."
      ]
    },
    {
      "cell_type": "code",
      "metadata": {
        "id": "5okORZMNLLS5"
      },
      "source": [
        "autoencoder = Sequential()"
      ],
      "execution_count": 12,
      "outputs": []
    },
    {
      "cell_type": "markdown",
      "metadata": {
        "id": "JcC76s5BMXjm"
      },
      "source": [
        "인코더 파트를 만듭니다."
      ]
    },
    {
      "cell_type": "code",
      "metadata": {
        "id": "f-1cZboqMULq"
      },
      "source": [
        "autoencoder.add(Conv2D(16, kernel_size=3, padding='same', input_shape=(28,28,1), activation='relu'))\r\n",
        "autoencoder.add(MaxPooling2D(pool_size=2, padding='same'))\r\n",
        "autoencoder.add(Conv2D(8, kernel_size=3, activation='relu', padding='same'))\r\n",
        "autoencoder.add(MaxPooling2D(pool_size=2, padding='same'))\r\n",
        "autoencoder.add(Conv2D(8, kernel_size=3, strides=2, padding='same', activation='relu'))"
      ],
      "execution_count": 13,
      "outputs": []
    },
    {
      "cell_type": "markdown",
      "metadata": {
        "id": "kThHBLqTMcVJ"
      },
      "source": [
        "디코더 파트를 만듭니다."
      ]
    },
    {
      "cell_type": "code",
      "metadata": {
        "id": "gdVn2H7LMZGX"
      },
      "source": [
        "autoencoder.add(Conv2D(8, kernel_size=3, padding='same', activation='relu'))\r\n",
        "autoencoder.add(UpSampling2D())\r\n",
        "autoencoder.add(Conv2D(8, kernel_size=3, padding='same', activation='relu'))\r\n",
        "autoencoder.add(UpSampling2D())\r\n",
        "autoencoder.add(Conv2D(16, kernel_size=3, activation='relu'))\r\n",
        "autoencoder.add(UpSampling2D())\r\n",
        "autoencoder.add(Conv2D(1, kernel_size=3, padding='same', activation='sigmoid'))"
      ],
      "execution_count": 14,
      "outputs": []
    },
    {
      "cell_type": "markdown",
      "metadata": {
        "id": "-hs4MwGIMmSO"
      },
      "source": [
        "전체 구조를 확인해 봅니다."
      ]
    },
    {
      "cell_type": "code",
      "metadata": {
        "colab": {
          "base_uri": "https://localhost:8080/"
        },
        "id": "kcv-htEiMhII",
        "outputId": "7745cab6-e0dd-46f5-c596-b78858f7b016"
      },
      "source": [
        "autoencoder.summary()"
      ],
      "execution_count": 15,
      "outputs": [
        {
          "output_type": "stream",
          "text": [
            "Model: \"sequential\"\n",
            "_________________________________________________________________\n",
            "Layer (type)                 Output Shape              Param #   \n",
            "=================================================================\n",
            "conv2d (Conv2D)              (None, 28, 28, 16)        160       \n",
            "_________________________________________________________________\n",
            "max_pooling2d (MaxPooling2D) (None, 14, 14, 16)        0         \n",
            "_________________________________________________________________\n",
            "conv2d_1 (Conv2D)            (None, 14, 14, 8)         1160      \n",
            "_________________________________________________________________\n",
            "max_pooling2d_1 (MaxPooling2 (None, 7, 7, 8)           0         \n",
            "_________________________________________________________________\n",
            "conv2d_2 (Conv2D)            (None, 4, 4, 8)           584       \n",
            "_________________________________________________________________\n",
            "conv2d_3 (Conv2D)            (None, 4, 4, 8)           584       \n",
            "_________________________________________________________________\n",
            "up_sampling2d (UpSampling2D) (None, 8, 8, 8)           0         \n",
            "_________________________________________________________________\n",
            "conv2d_4 (Conv2D)            (None, 8, 8, 8)           584       \n",
            "_________________________________________________________________\n",
            "up_sampling2d_1 (UpSampling2 (None, 16, 16, 8)         0         \n",
            "_________________________________________________________________\n",
            "conv2d_5 (Conv2D)            (None, 14, 14, 16)        1168      \n",
            "_________________________________________________________________\n",
            "up_sampling2d_2 (UpSampling2 (None, 28, 28, 16)        0         \n",
            "_________________________________________________________________\n",
            "conv2d_6 (Conv2D)            (None, 28, 28, 1)         145       \n",
            "=================================================================\n",
            "Total params: 4,385\n",
            "Trainable params: 4,385\n",
            "Non-trainable params: 0\n",
            "_________________________________________________________________\n"
          ],
          "name": "stdout"
        }
      ]
    },
    {
      "cell_type": "markdown",
      "metadata": {
        "id": "9ByAGDa3MpAn"
      },
      "source": [
        "# 4. Model Training"
      ]
    },
    {
      "cell_type": "markdown",
      "metadata": {
        "id": "BrQncCXuMsWx"
      },
      "source": [
        "컴파일 및 학습을 하는 부분입니다."
      ]
    },
    {
      "cell_type": "code",
      "metadata": {
        "colab": {
          "base_uri": "https://localhost:8080/"
        },
        "id": "xrEOmz55Mhg0",
        "outputId": "4c107c43-342b-4668-944d-9ff5112e3f75"
      },
      "source": [
        "autoencoder.compile(optimizer='adam', loss='binary_crossentropy')\r\n",
        "autoencoder.fit(X_train, X_train, epochs=50, batch_size=128, validation_data=(X_test, X_test))"
      ],
      "execution_count": 16,
      "outputs": [
        {
          "output_type": "stream",
          "text": [
            "Epoch 1/50\n",
            "8/8 [==============================] - 8s 62ms/step - loss: 0.6794 - val_loss: 0.6295\n",
            "Epoch 2/50\n",
            "8/8 [==============================] - 0s 9ms/step - loss: 0.5967 - val_loss: 0.4908\n",
            "Epoch 3/50\n",
            "8/8 [==============================] - 0s 9ms/step - loss: 0.4968 - val_loss: 0.4591\n",
            "Epoch 4/50\n",
            "8/8 [==============================] - 0s 9ms/step - loss: 0.4572 - val_loss: 0.4263\n",
            "Epoch 5/50\n",
            "8/8 [==============================] - 0s 9ms/step - loss: 0.4150 - val_loss: 0.3727\n",
            "Epoch 6/50\n",
            "8/8 [==============================] - 0s 8ms/step - loss: 0.3652 - val_loss: 0.3270\n",
            "Epoch 7/50\n",
            "8/8 [==============================] - 0s 8ms/step - loss: 0.3183 - val_loss: 0.2873\n",
            "Epoch 8/50\n",
            "8/8 [==============================] - 0s 9ms/step - loss: 0.2818 - val_loss: 0.2580\n",
            "Epoch 9/50\n",
            "8/8 [==============================] - 0s 9ms/step - loss: 0.2554 - val_loss: 0.2424\n",
            "Epoch 10/50\n",
            "8/8 [==============================] - 0s 8ms/step - loss: 0.2433 - val_loss: 0.2312\n",
            "Epoch 11/50\n",
            "8/8 [==============================] - 0s 9ms/step - loss: 0.2344 - val_loss: 0.2257\n",
            "Epoch 12/50\n",
            "8/8 [==============================] - 0s 8ms/step - loss: 0.2286 - val_loss: 0.2219\n",
            "Epoch 13/50\n",
            "8/8 [==============================] - 0s 9ms/step - loss: 0.2255 - val_loss: 0.2191\n",
            "Epoch 14/50\n",
            "8/8 [==============================] - 0s 8ms/step - loss: 0.2219 - val_loss: 0.2171\n",
            "Epoch 15/50\n",
            "8/8 [==============================] - 0s 9ms/step - loss: 0.2189 - val_loss: 0.2148\n",
            "Epoch 16/50\n",
            "8/8 [==============================] - 0s 8ms/step - loss: 0.2150 - val_loss: 0.2125\n",
            "Epoch 17/50\n",
            "8/8 [==============================] - 0s 8ms/step - loss: 0.2147 - val_loss: 0.2107\n",
            "Epoch 18/50\n",
            "8/8 [==============================] - 0s 9ms/step - loss: 0.2100 - val_loss: 0.2096\n",
            "Epoch 19/50\n",
            "8/8 [==============================] - 0s 8ms/step - loss: 0.2097 - val_loss: 0.2071\n",
            "Epoch 20/50\n",
            "8/8 [==============================] - 0s 8ms/step - loss: 0.2083 - val_loss: 0.2047\n",
            "Epoch 21/50\n",
            "8/8 [==============================] - 0s 24ms/step - loss: 0.2051 - val_loss: 0.2028\n",
            "Epoch 22/50\n",
            "8/8 [==============================] - 0s 9ms/step - loss: 0.2022 - val_loss: 0.2010\n",
            "Epoch 23/50\n",
            "8/8 [==============================] - 0s 10ms/step - loss: 0.2015 - val_loss: 0.1988\n",
            "Epoch 24/50\n",
            "8/8 [==============================] - 0s 10ms/step - loss: 0.1973 - val_loss: 0.1965\n",
            "Epoch 25/50\n",
            "8/8 [==============================] - 0s 9ms/step - loss: 0.1967 - val_loss: 0.1949\n",
            "Epoch 26/50\n",
            "8/8 [==============================] - 0s 10ms/step - loss: 0.1954 - val_loss: 0.1933\n",
            "Epoch 27/50\n",
            "8/8 [==============================] - 0s 10ms/step - loss: 0.1956 - val_loss: 0.1917\n",
            "Epoch 28/50\n",
            "8/8 [==============================] - 0s 9ms/step - loss: 0.1902 - val_loss: 0.1900\n",
            "Epoch 29/50\n",
            "8/8 [==============================] - 0s 9ms/step - loss: 0.1889 - val_loss: 0.1881\n",
            "Epoch 30/50\n",
            "8/8 [==============================] - 0s 10ms/step - loss: 0.1868 - val_loss: 0.1869\n",
            "Epoch 31/50\n",
            "8/8 [==============================] - 0s 10ms/step - loss: 0.1838 - val_loss: 0.1844\n",
            "Epoch 32/50\n",
            "8/8 [==============================] - 0s 9ms/step - loss: 0.1821 - val_loss: 0.1824\n",
            "Epoch 33/50\n",
            "8/8 [==============================] - 0s 9ms/step - loss: 0.1829 - val_loss: 0.1805\n",
            "Epoch 34/50\n",
            "8/8 [==============================] - 0s 10ms/step - loss: 0.1797 - val_loss: 0.1788\n",
            "Epoch 35/50\n",
            "8/8 [==============================] - 0s 9ms/step - loss: 0.1766 - val_loss: 0.1763\n",
            "Epoch 36/50\n",
            "8/8 [==============================] - 0s 9ms/step - loss: 0.1750 - val_loss: 0.1741\n",
            "Epoch 37/50\n",
            "8/8 [==============================] - 0s 10ms/step - loss: 0.1742 - val_loss: 0.1726\n",
            "Epoch 38/50\n",
            "8/8 [==============================] - 0s 10ms/step - loss: 0.1711 - val_loss: 0.1707\n",
            "Epoch 39/50\n",
            "8/8 [==============================] - 0s 10ms/step - loss: 0.1702 - val_loss: 0.1689\n",
            "Epoch 40/50\n",
            "8/8 [==============================] - 0s 9ms/step - loss: 0.1660 - val_loss: 0.1673\n",
            "Epoch 41/50\n",
            "8/8 [==============================] - 0s 10ms/step - loss: 0.1638 - val_loss: 0.1657\n",
            "Epoch 42/50\n",
            "8/8 [==============================] - 0s 11ms/step - loss: 0.1637 - val_loss: 0.1648\n",
            "Epoch 43/50\n",
            "8/8 [==============================] - 0s 10ms/step - loss: 0.1647 - val_loss: 0.1622\n",
            "Epoch 44/50\n",
            "8/8 [==============================] - 0s 9ms/step - loss: 0.1609 - val_loss: 0.1614\n",
            "Epoch 45/50\n",
            "8/8 [==============================] - 0s 9ms/step - loss: 0.1590 - val_loss: 0.1594\n",
            "Epoch 46/50\n",
            "8/8 [==============================] - 0s 10ms/step - loss: 0.1579 - val_loss: 0.1583\n",
            "Epoch 47/50\n",
            "8/8 [==============================] - 0s 9ms/step - loss: 0.1560 - val_loss: 0.1568\n",
            "Epoch 48/50\n",
            "8/8 [==============================] - 0s 9ms/step - loss: 0.1551 - val_loss: 0.1558\n",
            "Epoch 49/50\n",
            "8/8 [==============================] - 0s 9ms/step - loss: 0.1545 - val_loss: 0.1546\n",
            "Epoch 50/50\n",
            "8/8 [==============================] - 0s 11ms/step - loss: 0.1523 - val_loss: 0.1535\n"
          ],
          "name": "stdout"
        },
        {
          "output_type": "execute_result",
          "data": {
            "text/plain": [
              "<tensorflow.python.keras.callbacks.History at 0x7f5a005ac278>"
            ]
          },
          "metadata": {
            "tags": []
          },
          "execution_count": 16
        }
      ]
    },
    {
      "cell_type": "markdown",
      "metadata": {
        "id": "pAbNVw6lM-LS"
      },
      "source": [
        "# 5. Train Result"
      ]
    },
    {
      "cell_type": "markdown",
      "metadata": {
        "id": "QyGSxT4OM2se"
      },
      "source": [
        "학습된 결과를 출력하는 부분입니다."
      ]
    },
    {
      "cell_type": "code",
      "metadata": {
        "id": "c7gamIPfMw1c"
      },
      "source": [
        "random_test = np.random.randint(X_test.shape[0], size=10)  #테스트할 이미지를 랜덤하게 불러옵니다.\r\n",
        "ae_imgs = autoencoder.predict(X_test)  #앞서 만든 오토인코더 모델에 집어 넣습니다."
      ],
      "execution_count": 22,
      "outputs": []
    },
    {
      "cell_type": "code",
      "metadata": {
        "colab": {
          "base_uri": "https://localhost:8080/",
          "height": 274
        },
        "id": "LU06nnF0NFr9",
        "outputId": "1dc1b5ff-e7b3-4e39-b26f-54bd8fbe10fa"
      },
      "source": [
        "plt.figure(figsize=(20, 5))  #출력될 이미지의 크기를 정합니다.\r\n",
        "for i, image_idx in enumerate(random_test):    #랜덤하게 뽑은 이미지를 차례로 나열합니다.\r\n",
        "   ax = plt.subplot(2, 10, i + 1) \r\n",
        "   plt.imshow(X_test[image_idx].reshape(28, 28))  #테스트할 이미지를 먼저 그대로 보여줍니다.\r\n",
        "   ax.axis('off')\r\n",
        "   ax = plt.subplot(2, 10, 10 + i +1)\r\n",
        "   plt.imshow(ae_imgs[image_idx].reshape(28, 28))  #오토인코딩 결과를 다음열에 출력합니다.\r\n",
        "   ax.axis('off')\r\n",
        "plt.show()"
      ],
      "execution_count": 29,
      "outputs": [
        {
          "output_type": "display_data",
          "data": {
            "image/png": "[encoded data removed]",
            "text/plain": [
              "<Figure size 1440x360 with 20 Axes>"
            ]
          },
          "metadata": {
            "tags": [],
            "needs_background": "light"
          }
        }
      ]
    }
  ]
}