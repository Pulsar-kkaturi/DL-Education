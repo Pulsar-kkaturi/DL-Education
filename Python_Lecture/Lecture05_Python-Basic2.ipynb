{
  "cells": [
    {
      "cell_type": "markdown",
      "metadata": {
        "id": "view-in-github",
        "colab_type": "text"
      },
      "source": [
        "<a href=\"https://colab.research.google.com/github/Pulsar-kkaturi/DL-Education/blob/master/Python_Lecture/Lecture05_Python-Basic2.ipynb\" target=\"_parent\"><img src=\"https://colab.research.google.com/assets/colab-badge.svg\" alt=\"Open In Colab\"/></a>"
      ]
    },
    {
      "cell_type": "markdown",
      "metadata": {
        "id": "c4gtWdziKasH"
      },
      "source": [
        "# Lecture 5. 파이썬 프로그래밍 기초 2. 자료형: 리스트, 튜플, 딕셔너리"
      ]
    },
    {
      "cell_type": "markdown",
      "metadata": {
        "id": "xC_sfwFCKasI"
      },
      "source": [
        "## 1. 리스트"
      ]
    },
    {
      "cell_type": "markdown",
      "source": [
        "## 2. 튜플"
      ],
      "metadata": {
        "id": "Vy3NhxAsKiGV"
      }
    },
    {
      "cell_type": "markdown",
      "source": [
        "## 3. 딕셔너리"
      ],
      "metadata": {
        "id": "OxvcvhHsKj0l"
      }
    },
    {
      "cell_type": "code",
      "source": [],
      "metadata": {
        "id": "uAZAZxpuKhhG"
      },
      "execution_count": null,
      "outputs": []
    }
  ],
  "metadata": {
    "language_info": {
      "name": "python"
    },
    "orig_nbformat": 4,
    "colab": {
      "provenance": [],
      "include_colab_link": true
    }
  },
  "nbformat": 4,
  "nbformat_minor": 0
}