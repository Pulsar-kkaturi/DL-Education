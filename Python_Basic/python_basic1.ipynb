{
  "nbformat": 4,
  "nbformat_minor": 0,
  "metadata": {
    "interpreter": {
      "hash": "23f9346fbce5fd1ea3aa77c4e5ac78421a3bb77361f42496a3017c0adb6888d7"
    },
    "kernelspec": {
      "display_name": "Python 3.8.10 64-bit ('py38': conda)",
      "name": "python3"
    },
    "language_info": {
      "codemirror_mode": {
        "name": "ipython",
        "version": 3
      },
      "file_extension": ".py",
      "mimetype": "text/x-python",
      "name": "python",
      "nbconvert_exporter": "python",
      "pygments_lexer": "ipython3",
      "version": "3.8.10"
    },
    "orig_nbformat": 4,
    "colab": {
      "name": "python_basic1.ipynb",
      "provenance": [],
      "include_colab_link": true
    }
  },
  "cells": [
    {
      "cell_type": "markdown",
      "metadata": {
        "id": "view-in-github",
        "colab_type": "text"
      },
      "source": [
        "<a href=\"https://colab.research.google.com/github/Pulsar-kkaturi/DL-Education/blob/master/Python_Basic/python_basic1.ipynb\" target=\"_parent\"><img src=\"https://colab.research.google.com/assets/colab-badge.svg\" alt=\"Open In Colab\"/></a>"
      ]
    },
    {
      "cell_type": "markdown",
      "metadata": {
        "id": "G9Vmb4Ya6Iu4"
      },
      "source": [
        "# 파이썬 기초문법 1 - 데이터 다루기"
      ]
    },
    {
      "cell_type": "markdown",
      "metadata": {
        "id": "Kvb7RS-S6Iu-"
      },
      "source": [
        "## 1. 사칙연산"
      ]
    },
    {
      "cell_type": "code",
      "metadata": {
        "id": "AeLWXvop6Iu_",
        "outputId": "6aea833e-dc42-43ed-ed6c-9f735695e005",
        "colab": {
          "base_uri": "https://localhost:8080/"
        }
      },
      "source": [
        "1 + 2"
      ],
      "execution_count": 1,
      "outputs": [
        {
          "output_type": "execute_result",
          "data": {
            "text/plain": [
              "3"
            ]
          },
          "metadata": {},
          "execution_count": 1
        }
      ]
    },
    {
      "cell_type": "markdown",
      "metadata": {
        "id": "3vLBSBQH6IvC"
      },
      "source": [
        "**[사칙연산 기호]**\n",
        "* 더하기: +\n",
        "* 빼기: -\n",
        "* 곱하기: *\n",
        "* 나누기: /"
      ]
    },
    {
      "cell_type": "code",
      "metadata": {
        "id": "oym_4aMh6IvD",
        "outputId": "57643270-9acf-4f12-dbf8-2cf4e86a053e",
        "colab": {
          "base_uri": "https://localhost:8080/"
        }
      },
      "source": [
        "(1 + 2 * 3 - 4) / 5"
      ],
      "execution_count": 2,
      "outputs": [
        {
          "output_type": "execute_result",
          "data": {
            "text/plain": [
              "0.6"
            ]
          },
          "metadata": {},
          "execution_count": 2
        }
      ]
    },
    {
      "cell_type": "markdown",
      "metadata": {
        "id": "dZvdUWUi6IvD"
      },
      "source": [
        "[제곱은 **로 나타냅니다.]\n",
        "* 제곱: **"
      ]
    },
    {
      "cell_type": "code",
      "metadata": {
        "id": "L08gzVt56IvE",
        "outputId": "6908cb96-3cb0-40d2-8adf-faf9785e715e",
        "colab": {
          "base_uri": "https://localhost:8080/"
        }
      },
      "source": [
        "2 ** 8"
      ],
      "execution_count": 3,
      "outputs": [
        {
          "output_type": "execute_result",
          "data": {
            "text/plain": [
              "256"
            ]
          },
          "metadata": {},
          "execution_count": 3
        }
      ]
    },
    {
      "cell_type": "markdown",
      "metadata": {
        "id": "-J2CqCqPVcc8"
      },
      "source": [
        "## 2. 변수"
      ]
    },
    {
      "cell_type": "markdown",
      "metadata": {
        "id": "59NfvgeyWtgr"
      },
      "source": [
        "* 알파벳을 사용하여 변수 선언"
      ]
    },
    {
      "cell_type": "code",
      "metadata": {
        "id": "L0G80r3e6IvF",
        "outputId": "692d1f2d-55a5-4973-a001-4c553e9f53ac",
        "colab": {
          "base_uri": "https://localhost:8080/"
        }
      },
      "source": [
        "x = 1\n",
        "y = 1/3\n",
        "x + y"
      ],
      "execution_count": 4,
      "outputs": [
        {
          "output_type": "execute_result",
          "data": {
            "text/plain": [
              "1.3333333333333333"
            ]
          },
          "metadata": {},
          "execution_count": 4
        }
      ]
    },
    {
      "cell_type": "markdown",
      "metadata": {
        "id": "E06ckaWPXA8d"
      },
      "source": [
        "* 변수명에는 알파벳, 숫자 밑줄(_) 등을 사용할 수 있습니다.\n",
        "* 첫글자에는 숫자 사용 금지!"
      ]
    },
    {
      "cell_type": "code",
      "metadata": {
        "id": "wRyJGpO7WzfP",
        "outputId": "f734e06a-2457-4448-dd3d-7fd63cc1a288",
        "colab": {
          "base_uri": "https://localhost:8080/"
        }
      },
      "source": [
        "Data_1 = 1/5\n",
        "Data_2 = 3/5\n",
        "Data_1 + Data_2"
      ],
      "execution_count": 5,
      "outputs": [
        {
          "output_type": "execute_result",
          "data": {
            "text/plain": [
              "0.8"
            ]
          },
          "metadata": {},
          "execution_count": 5
        }
      ]
    },
    {
      "cell_type": "code",
      "metadata": {
        "id": "TqWw1LzFXNWr"
      },
      "source": [
        ""
      ],
      "execution_count": null,
      "outputs": []
    }
  ]
}