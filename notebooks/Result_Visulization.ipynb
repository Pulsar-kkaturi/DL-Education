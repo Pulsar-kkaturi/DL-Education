{
  "cells": [
    {
      "cell_type": "markdown",
      "metadata": {
        "id": "view-in-github",
        "colab_type": "text"
      },
      "source": [
        "<a href=\"https://colab.research.google.com/github/Pulsar-kkaturi/DL-Education/blob/master/notebooks/Result_Visulization.ipynb\" target=\"_parent\"><img src=\"https://colab.research.google.com/assets/colab-badge.svg\" alt=\"Open In Colab\"/></a>"
      ]
    },
    {
      "cell_type": "markdown",
      "metadata": {
        "id": "37DOVvDMm-_A"
      },
      "source": [
        "# Result Visulization (결과 시각화)"
      ]
    },
    {
      "cell_type": "markdown",
      "metadata": {
        "id": "Q4XY8H1nnFe_"
      },
      "source": [
        "# 1. Library Import"
      ]
    },
    {
      "cell_type": "code",
      "execution_count": 30,
      "metadata": {
        "id": "-vEPrq0skcWj"
      },
      "outputs": [],
      "source": [
        "import os, matplotlib, csv, shutil, json\n",
        "import numpy as np\n",
        "import matplotlib\n",
        "from matplotlib import pyplot as plt\n",
        "import matplotlib.cm as cm\n",
        "import pandas as pd\n",
        "from IPython.display import Image\n",
        "import skimage\n",
        "from skimage import transform as skit\n",
        "\n",
        "### Tensorflow 2.0 ###\n",
        "import tensorflow as tf\n",
        "from tensorflow import keras\n",
        "from tensorflow.keras.models import Sequential, Model\n",
        "from tensorflow.keras import Input\n",
        "from tensorflow.keras import layers\n",
        "from tensorflow.keras import models\n",
        "from tensorflow.keras.preprocessing import image\n",
        "from tensorflow.keras.preprocessing.image import ImageDataGenerator\n",
        "from tensorflow.keras import losses\n",
        "from tensorflow.keras import optimizers\n",
        "from tensorflow.keras import metrics\n",
        "from tensorflow.keras import regularizers\n",
        "from tensorflow.keras import utils\n",
        "from tensorflow.keras.callbacks import ModelCheckpoint, LearningRateScheduler\n",
        "from keras import backend as K\n",
        "\n",
        "import sklearn.metrics\n",
        "from sklearn.metrics import roc_curve, auc\n",
        "from sklearn.metrics import confusion_matrix\n",
        "import seaborn as sns"
      ]
    },
    {
      "cell_type": "markdown",
      "metadata": {
        "id": "78f6Q_C-8dnh"
      },
      "source": [
        "# 2. 데이터셋 로딩"
      ]
    },
    {
      "cell_type": "code",
      "execution_count": 2,
      "metadata": {
        "colab": {
          "base_uri": "https://localhost:8080/"
        },
        "id": "HwNtiL33oGpZ",
        "outputId": "029e8dfc-345e-48f4-9645-4cbc5c9b4a1a"
      },
      "outputs": [
        {
          "output_type": "stream",
          "name": "stdout",
          "text": [
            "Downloading data from https://storage.googleapis.com/tensorflow/tf-keras-datasets/mnist.npz\n",
            "11490434/11490434 [==============================] - 0s 0us/step\n"
          ]
        }
      ],
      "source": [
        "(x_train, y_train), (x_test, y_test)=keras.datasets.mnist.load_data(path='minist.npz')\n"
      ]
    },
    {
      "cell_type": "code",
      "execution_count": 3,
      "metadata": {
        "colab": {
          "base_uri": "https://localhost:8080/"
        },
        "id": "wP8qLluRuV2O",
        "outputId": "41782353-f685-48f2-ac6a-2083c1b6e7e0"
      },
      "outputs": [
        {
          "output_type": "stream",
          "name": "stdout",
          "text": [
            "(60000, 28, 28) (60000,)\n"
          ]
        }
      ],
      "source": [
        "print(x_train.shape, y_train.shape)"
      ]
    },
    {
      "cell_type": "markdown",
      "metadata": {
        "id": "1hkS7G1ruu5q"
      },
      "source": [
        "# 2.1 MNIST Image Array"
      ]
    },
    {
      "cell_type": "code",
      "execution_count": 5,
      "metadata": {
        "colab": {
          "base_uri": "https://localhost:8080/"
        },
        "id": "7UHKqWuXuWuu",
        "outputId": "0242dd77-3ad0-488d-9434-3d60e1bdfa83"
      },
      "outputs": [
        {
          "output_type": "stream",
          "name": "stdout",
          "text": [
            "(1000, 64, 64, 1) (500, 64, 64, 1)\n"
          ]
        }
      ],
      "source": [
        "x_train_list = []\n",
        "x_test_list = []\n",
        "for i, i_ in enumerate(x_train[:1000]):\n",
        "    arr = skit.resize(x_train[i], (64, 64), anti_aliasing=True)\n",
        "    x_train_list.append(arr)\n",
        "for i, i_ in enumerate(x_test[:500]):\n",
        "    arr = skit.resize(x_test[i], (64, 64), anti_aliasing=True)\n",
        "    x_test_list.append(arr)\n",
        "\n",
        "x_train1 = np.expand_dims(np.array(x_train_list), axis=-1)\n",
        "x_test1 = np.expand_dims(np.array(x_test_list), axis=-1)\n",
        "print(x_train1.shape, x_test1.shape)"
      ]
    },
    {
      "cell_type": "markdown",
      "metadata": {
        "id": "AWvQRG19uzZF"
      },
      "source": [
        "## 2.2 MNIST LABEL Array"
      ]
    },
    {
      "cell_type": "code",
      "execution_count": 6,
      "metadata": {
        "colab": {
          "base_uri": "https://localhost:8080/"
        },
        "id": "FrMj2eGFusoa",
        "outputId": "67c4f53c-ad9a-42cb-896b-20330da11060"
      },
      "outputs": [
        {
          "output_type": "stream",
          "name": "stdout",
          "text": [
            "(1000, 10) (500, 10)\n"
          ]
        }
      ],
      "source": [
        "y_train_list = []\n",
        "y_test_list = []\n",
        "for i, i_ in enumerate(y_train[:1000]):\n",
        "    zero = [0]*10\n",
        "    zero[i_] = 1\n",
        "    y_train_list.append(zero)\n",
        "\n",
        "for i, i_ in enumerate(y_test[:500]):\n",
        "    zero = [0]*10\n",
        "    zero[i_] = 1\n",
        "    y_test_list.append(zero)    \n",
        "    \n",
        "y_train1 = np.array(y_train_list)\n",
        "y_test1 = np.array(y_test_list)\n",
        "print(y_train1.shape, y_test1.shape)"
      ]
    },
    {
      "cell_type": "markdown",
      "metadata": {
        "id": "x2-6RHzfvi0N"
      },
      "source": [
        "## 2.3 MNIST figure"
      ]
    },
    {
      "cell_type": "code",
      "execution_count": 8,
      "metadata": {
        "colab": {
          "base_uri": "https://localhost:8080/",
          "height": 607
        },
        "id": "gM8fOyzMutQi",
        "outputId": "3e2aa2da-9afe-44f7-8804-ce32efe2891d"
      },
      "outputs": [
        {
          "output_type": "display_data",
          "data": {
            "text/plain": [
              "<Figure size 720x720 with 9 Axes>"
            ],
            "image/png": "[encoded data removed]"
          },
          "metadata": {
            "needs_background": "light"
          }
        }
      ],
      "source": [
        "plt.figure(figsize=(10,10))\n",
        "num = 3\n",
        "for i in range(num):\n",
        "    for j in range(num):\n",
        "      id = (num*i) + j\n",
        "      plt.subplot(num,num,id+1)\n",
        "      plt.imshow(x_train1[id][...,0], cmap='gray')\n",
        "      plt.title('Class = {}'.format(y_train[id]))"
      ]
    },
    {
      "cell_type": "markdown",
      "metadata": {
        "id": "7PsuhnRmvosv"
      },
      "source": [
        "# 3. VGG Model Build"
      ]
    },
    {
      "cell_type": "code",
      "execution_count": 9,
      "metadata": {
        "id": "SQyNwsW7vhw0"
      },
      "outputs": [],
      "source": [
        "def conv_block_2d(lr_conv, lr_num, par_list, bkn):\n",
        "        # parameter\n",
        "        filter_num = par_list[0]\n",
        "        conv_size = par_list[1]\n",
        "        conv_act = par_list[2]\n",
        "        pool_size = par_list[3]\n",
        "        # code\n",
        "        for i in range(lr_num):\n",
        "            lr_conv = layers.Conv2D(filter_num, conv_size, activation=None, padding='same', \n",
        "                                    kernel_initializer='he_normal',\n",
        "                                    name='block{}_conv{}'.format(bkn, i+1))(lr_conv)\n",
        "            lr_conv = layers.BatchNormalization(axis=-1, name='block{}_batchnorm{}'.format(bkn, i+1))(lr_conv)\n",
        "            lr_conv = layers.Activation(conv_act, name='block{}_activ{}'.format(bkn, i+1))(lr_conv)\n",
        "        lr_pool = layers.MaxPooling2D(pool_size=pool_size, name='block{}_pool'.format(bkn, i+1))(lr_conv)\n",
        "        return lr_pool\n",
        "\n",
        "def output_block(lr_dense, block_num, dens_count, act_func, drop_rate):\n",
        "    lr_dense = layers.Flatten(name='flatten_layer')(lr_dense)\n",
        "    for i in range(block_num):\n",
        "        lr_dense = layers.Dense(dens_count[i], kernel_regularizer=None,\n",
        "                                activation=act_func, name='classifier_dense_{}'.format(i+1))(lr_dense)\n",
        "        lr_dense = layers.Dropout(drop_rate, name='classifier_dropout_{}'.format(i+1))(lr_dense)\n",
        "    return lr_dense"
      ]
    },
    {
      "cell_type": "code",
      "execution_count": 10,
      "metadata": {
        "id": "YQ6tQ28ZwFmO"
      },
      "outputs": [],
      "source": [
        "def VGG16_2D(par_dic):\n",
        "    # parameters\n",
        "    input_size = par_dic['input_size']\n",
        "    conv_size = par_dic['conv_size']\n",
        "    conv_act = par_dic['conv_act']\n",
        "    pool_size = par_dic['pool_size']\n",
        "    dens_num = par_dic['dens_num']\n",
        "    dens_count = par_dic['dens_count']\n",
        "    dens_act = par_dic['dens_act']\n",
        "    drop_out = par_dic['drop_out']\n",
        "    output_count = par_dic['output_count']\n",
        "    output_act = par_dic['output_act']\n",
        "\n",
        "    # code block\n",
        "    inputs = Input(shape=(input_size, input_size, 1), name='input_layer')\n",
        "    block1 = conv_block_2d(inputs, 2, [64, conv_size, conv_act, pool_size])\n",
        "    block2 = conv_block_2d(block1, 2, [128, conv_size, conv_act, pool_size])\n",
        "    block3 = conv_block_2d(block2, 3, [256, conv_size, conv_act, pool_size])\n",
        "    block4 = conv_block_2d(block3, 3, [512, conv_size, conv_act, pool_size])\n",
        "    block5 = conv_block_2d(block4, 3, [512, conv_size, conv_act, pool_size])\n",
        "    dens = output_block(block5, dens_num, dens_count, dens_act, drop_out)\n",
        "    outputs = layers.Dense(output_count, activation=output_act, name='output_layer')(dens)\n",
        "    model = Model(inputs, outputs)\n",
        "    return model"
      ]
    },
    {
      "cell_type": "code",
      "execution_count": 11,
      "metadata": {
        "id": "SEKz3nqgxYQQ"
      },
      "outputs": [],
      "source": [
        "def VGG19_2D(par_dic):\n",
        "    # parameters\n",
        "    input_size = par_dic['input_size']\n",
        "    conv_size = par_dic['conv_size']\n",
        "    conv_act = par_dic['conv_act']\n",
        "    pool_size = par_dic['pool_size']\n",
        "    dens_num = par_dic['dens_num']\n",
        "    dens_count = par_dic['dens_count']\n",
        "    dens_act = par_dic['dens_act']\n",
        "    drop_out = par_dic['drop_out']\n",
        "    output_count = par_dic['output_count']\n",
        "    output_act = par_dic['output_act']\n",
        "\n",
        "    # code block\n",
        "    inputs = Input(shape=(input_size, input_size, 1))\n",
        "    block1 = conv_block_2d(inputs, 2, [64, conv_size, conv_act, pool_size], 1)\n",
        "    block2 = conv_block_2d(block1, 2, [128, conv_size, conv_act, pool_size], 2)\n",
        "    block3 = conv_block_2d(block2, 4, [256, conv_size, conv_act, pool_size], 3)\n",
        "    block4 = conv_block_2d(block3, 4, [512, conv_size, conv_act, pool_size], 4)\n",
        "    block5 = conv_block_2d(block4, 4, [512, conv_size, conv_act, pool_size], 5)\n",
        "    dens = output_block(block5, dens_num, dens_count, dens_act, drop_out)\n",
        "    outputs = layers.Dense(output_count, activation=output_act)(dens)\n",
        "    model = Model(inputs, outputs)\n",
        "    return model"
      ]
    },
    {
      "cell_type": "code",
      "execution_count": 12,
      "metadata": {
        "id": "94txtM58xuKS"
      },
      "outputs": [],
      "source": [
        "network_param_set = {'input_size': 64,\n",
        "                     'conv_size': 3,\n",
        "                     'conv_act': 'relu',\n",
        "                     'pool_size': 2,\n",
        "                     'dens_num': 2,\n",
        "                     'dens_count': [1000,500],\n",
        "                     'dens_act': 'relu',\n",
        "                     'drop_out': 0.5,\n",
        "                     'output_count': 10,\n",
        "                     'output_act': 'softmax'}"
      ]
    },
    {
      "cell_type": "code",
      "execution_count": 13,
      "metadata": {
        "colab": {
          "base_uri": "https://localhost:8080/"
        },
        "id": "87IRklsi0_t0",
        "outputId": "490a040d-0ea2-4909-88a9-06ef652d7b11"
      },
      "outputs": [
        {
          "output_type": "stream",
          "name": "stdout",
          "text": [
            "Model: \"model\"\n",
            "_________________________________________________________________\n",
            " Layer (type)                Output Shape              Param #   \n",
            "=================================================================\n",
            " input_1 (InputLayer)        [(None, 64, 64, 1)]       0         \n",
            "                                                                 \n",
            " block1_conv1 (Conv2D)       (None, 64, 64, 64)        640       \n",
            "                                                                 \n",
            " block1_batchnorm1 (BatchNor  (None, 64, 64, 64)       256       \n",
            " malization)                                                     \n",
            "                                                                 \n",
            " block1_activ1 (Activation)  (None, 64, 64, 64)        0         \n",
            "                                                                 \n",
            " block1_conv2 (Conv2D)       (None, 64, 64, 64)        36928     \n",
            "                                                                 \n",
            " block1_batchnorm2 (BatchNor  (None, 64, 64, 64)       256       \n",
            " malization)                                                     \n",
            "                                                                 \n",
            " block1_activ2 (Activation)  (None, 64, 64, 64)        0         \n",
            "                                                                 \n",
            " block1_pool (MaxPooling2D)  (None, 32, 32, 64)        0         \n",
            "                                                                 \n",
            " block2_conv1 (Conv2D)       (None, 32, 32, 128)       73856     \n",
            "                                                                 \n",
            " block2_batchnorm1 (BatchNor  (None, 32, 32, 128)      512       \n",
            " malization)                                                     \n",
            "                                                                 \n",
            " block2_activ1 (Activation)  (None, 32, 32, 128)       0         \n",
            "                                                                 \n",
            " block2_conv2 (Conv2D)       (None, 32, 32, 128)       147584    \n",
            "                                                                 \n",
            " block2_batchnorm2 (BatchNor  (None, 32, 32, 128)      512       \n",
            " malization)                                                     \n",
            "                                                                 \n",
            " block2_activ2 (Activation)  (None, 32, 32, 128)       0         \n",
            "                                                                 \n",
            " block2_pool (MaxPooling2D)  (None, 16, 16, 128)       0         \n",
            "                                                                 \n",
            " block3_conv1 (Conv2D)       (None, 16, 16, 256)       295168    \n",
            "                                                                 \n",
            " block3_batchnorm1 (BatchNor  (None, 16, 16, 256)      1024      \n",
            " malization)                                                     \n",
            "                                                                 \n",
            " block3_activ1 (Activation)  (None, 16, 16, 256)       0         \n",
            "                                                                 \n",
            " block3_conv2 (Conv2D)       (None, 16, 16, 256)       590080    \n",
            "                                                                 \n",
            " block3_batchnorm2 (BatchNor  (None, 16, 16, 256)      1024      \n",
            " malization)                                                     \n",
            "                                                                 \n",
            " block3_activ2 (Activation)  (None, 16, 16, 256)       0         \n",
            "                                                                 \n",
            " block3_conv3 (Conv2D)       (None, 16, 16, 256)       590080    \n",
            "                                                                 \n",
            " block3_batchnorm3 (BatchNor  (None, 16, 16, 256)      1024      \n",
            " malization)                                                     \n",
            "                                                                 \n",
            " block3_activ3 (Activation)  (None, 16, 16, 256)       0         \n",
            "                                                                 \n",
            " block3_conv4 (Conv2D)       (None, 16, 16, 256)       590080    \n",
            "                                                                 \n",
            " block3_batchnorm4 (BatchNor  (None, 16, 16, 256)      1024      \n",
            " malization)                                                     \n",
            "                                                                 \n",
            " block3_activ4 (Activation)  (None, 16, 16, 256)       0         \n",
            "                                                                 \n",
            " block3_pool (MaxPooling2D)  (None, 8, 8, 256)         0         \n",
            "                                                                 \n",
            " block4_conv1 (Conv2D)       (None, 8, 8, 512)         1180160   \n",
            "                                                                 \n",
            " block4_batchnorm1 (BatchNor  (None, 8, 8, 512)        2048      \n",
            " malization)                                                     \n",
            "                                                                 \n",
            " block4_activ1 (Activation)  (None, 8, 8, 512)         0         \n",
            "                                                                 \n",
            " block4_conv2 (Conv2D)       (None, 8, 8, 512)         2359808   \n",
            "                                                                 \n",
            " block4_batchnorm2 (BatchNor  (None, 8, 8, 512)        2048      \n",
            " malization)                                                     \n",
            "                                                                 \n",
            " block4_activ2 (Activation)  (None, 8, 8, 512)         0         \n",
            "                                                                 \n",
            " block4_conv3 (Conv2D)       (None, 8, 8, 512)         2359808   \n",
            "                                                                 \n",
            " block4_batchnorm3 (BatchNor  (None, 8, 8, 512)        2048      \n",
            " malization)                                                     \n",
            "                                                                 \n",
            " block4_activ3 (Activation)  (None, 8, 8, 512)         0         \n",
            "                                                                 \n",
            " block4_conv4 (Conv2D)       (None, 8, 8, 512)         2359808   \n",
            "                                                                 \n",
            " block4_batchnorm4 (BatchNor  (None, 8, 8, 512)        2048      \n",
            " malization)                                                     \n",
            "                                                                 \n",
            " block4_activ4 (Activation)  (None, 8, 8, 512)         0         \n",
            "                                                                 \n",
            " block4_pool (MaxPooling2D)  (None, 4, 4, 512)         0         \n",
            "                                                                 \n",
            " block5_conv1 (Conv2D)       (None, 4, 4, 512)         2359808   \n",
            "                                                                 \n",
            " block5_batchnorm1 (BatchNor  (None, 4, 4, 512)        2048      \n",
            " malization)                                                     \n",
            "                                                                 \n",
            " block5_activ1 (Activation)  (None, 4, 4, 512)         0         \n",
            "                                                                 \n",
            " block5_conv2 (Conv2D)       (None, 4, 4, 512)         2359808   \n",
            "                                                                 \n",
            " block5_batchnorm2 (BatchNor  (None, 4, 4, 512)        2048      \n",
            " malization)                                                     \n",
            "                                                                 \n",
            " block5_activ2 (Activation)  (None, 4, 4, 512)         0         \n",
            "                                                                 \n",
            " block5_conv3 (Conv2D)       (None, 4, 4, 512)         2359808   \n",
            "                                                                 \n",
            " block5_batchnorm3 (BatchNor  (None, 4, 4, 512)        2048      \n",
            " malization)                                                     \n",
            "                                                                 \n",
            " block5_activ3 (Activation)  (None, 4, 4, 512)         0         \n",
            "                                                                 \n",
            " block5_conv4 (Conv2D)       (None, 4, 4, 512)         2359808   \n",
            "                                                                 \n",
            " block5_batchnorm4 (BatchNor  (None, 4, 4, 512)        2048      \n",
            " malization)                                                     \n",
            "                                                                 \n",
            " block5_activ4 (Activation)  (None, 4, 4, 512)         0         \n",
            "                                                                 \n",
            " block5_pool (MaxPooling2D)  (None, 2, 2, 512)         0         \n",
            "                                                                 \n",
            " flatten_layer (Flatten)     (None, 2048)              0         \n",
            "                                                                 \n",
            " classifier_dense_1 (Dense)  (None, 1000)              2049000   \n",
            "                                                                 \n",
            " classifier_dropout_1 (Dropo  (None, 1000)             0         \n",
            " ut)                                                             \n",
            "                                                                 \n",
            " classifier_dense_2 (Dense)  (None, 500)               500500    \n",
            "                                                                 \n",
            " classifier_dropout_2 (Dropo  (None, 500)              0         \n",
            " ut)                                                             \n",
            "                                                                 \n",
            " dense (Dense)               (None, 10)                5010      \n",
            "                                                                 \n",
            "=================================================================\n",
            "Total params: 22,599,758\n",
            "Trainable params: 22,588,750\n",
            "Non-trainable params: 11,008\n",
            "_________________________________________________________________\n"
          ]
        }
      ],
      "source": [
        "model = VGG19_2D(network_param_set)\n",
        "model.summary()"
      ]
    },
    {
      "cell_type": "markdown",
      "metadata": {
        "id": "pRre4jFLxoXI"
      },
      "source": [
        "# 4. MNIST Training"
      ]
    },
    {
      "cell_type": "code",
      "execution_count": 14,
      "metadata": {
        "id": "1jhKYdmd119b",
        "outputId": "e7c35530-e917-4bc1-edc6-fdef636d539c",
        "colab": {
          "base_uri": "https://localhost:8080/"
        }
      },
      "outputs": [
        {
          "output_type": "stream",
          "name": "stderr",
          "text": [
            "/usr/local/lib/python3.8/dist-packages/keras/optimizers/optimizer_v2/adam.py:110: UserWarning: The `lr` argument is deprecated, use `learning_rate` instead.\n",
            "  super(Adam, self).__init__(name, **kwargs)\n"
          ]
        }
      ],
      "source": [
        "model.compile(loss=losses.CategoricalCrossentropy(), optimizer=optimizers.Adam(lr=1e-4), metrics=['accuracy'])"
      ]
    },
    {
      "cell_type": "code",
      "execution_count": 16,
      "metadata": {
        "colab": {
          "base_uri": "https://localhost:8080/"
        },
        "id": "D3tXYPUV17YC",
        "outputId": "045d8c4f-38ce-440c-b234-83207e15d1da"
      },
      "outputs": [
        {
          "output_type": "stream",
          "name": "stdout",
          "text": [
            "Epoch 1/50\n",
            "50/50 [==============================] - 5s 89ms/step - loss: 2.5296 - accuracy: 0.2280 - val_loss: 2.3708 - val_accuracy: 0.1340 - lr: 1.0000e-04\n",
            "Epoch 2/50\n",
            "50/50 [==============================] - 3s 64ms/step - loss: 1.3249 - accuracy: 0.5390 - val_loss: 3.4706 - val_accuracy: 0.1340 - lr: 1.0000e-04\n",
            "Epoch 3/50\n",
            "50/50 [==============================] - 3s 64ms/step - loss: 0.7206 - accuracy: 0.7660 - val_loss: 4.7384 - val_accuracy: 0.1340 - lr: 1.0000e-04\n",
            "Epoch 4/50\n",
            "50/50 [==============================] - 3s 69ms/step - loss: 0.3409 - accuracy: 0.8930 - val_loss: 5.9569 - val_accuracy: 0.1340 - lr: 1.0000e-04\n",
            "Epoch 5/50\n",
            "50/50 [==============================] - 3s 64ms/step - loss: 0.2307 - accuracy: 0.9450 - val_loss: 6.8591 - val_accuracy: 0.1340 - lr: 1.0000e-04\n",
            "Epoch 6/50\n",
            "50/50 [==============================] - 3s 65ms/step - loss: 0.1179 - accuracy: 0.9620 - val_loss: 7.2511 - val_accuracy: 0.1340 - lr: 1.0000e-04\n",
            "Epoch 7/50\n",
            "50/50 [==============================] - 3s 69ms/step - loss: 0.0668 - accuracy: 0.9790 - val_loss: 4.6698 - val_accuracy: 0.1640 - lr: 1.0000e-05\n",
            "Epoch 8/50\n",
            "50/50 [==============================] - 4s 88ms/step - loss: 0.0427 - accuracy: 0.9910 - val_loss: 2.2470 - val_accuracy: 0.4280 - lr: 1.0000e-05\n",
            "Epoch 9/50\n",
            "50/50 [==============================] - 4s 83ms/step - loss: 0.0249 - accuracy: 0.9950 - val_loss: 1.0582 - val_accuracy: 0.6940 - lr: 1.0000e-05\n",
            "Epoch 10/50\n",
            "50/50 [==============================] - 4s 84ms/step - loss: 0.0341 - accuracy: 0.9910 - val_loss: 0.6035 - val_accuracy: 0.8100 - lr: 1.0000e-05\n",
            "Epoch 11/50\n",
            "50/50 [==============================] - 4s 83ms/step - loss: 0.0324 - accuracy: 0.9930 - val_loss: 0.4000 - val_accuracy: 0.8740 - lr: 1.0000e-05\n",
            "Epoch 12/50\n",
            "50/50 [==============================] - 4s 84ms/step - loss: 0.0260 - accuracy: 0.9950 - val_loss: 0.2886 - val_accuracy: 0.9020 - lr: 1.0000e-05\n",
            "Epoch 13/50\n",
            "50/50 [==============================] - 4s 84ms/step - loss: 0.0258 - accuracy: 0.9950 - val_loss: 0.2172 - val_accuracy: 0.9200 - lr: 1.0000e-05\n",
            "Epoch 14/50\n",
            "50/50 [==============================] - 4s 84ms/step - loss: 0.0230 - accuracy: 0.9940 - val_loss: 0.1861 - val_accuracy: 0.9260 - lr: 1.0000e-05\n",
            "Epoch 15/50\n",
            "50/50 [==============================] - 4s 85ms/step - loss: 0.0152 - accuracy: 1.0000 - val_loss: 0.1692 - val_accuracy: 0.9320 - lr: 1.0000e-05\n",
            "Epoch 16/50\n",
            "50/50 [==============================] - 4s 84ms/step - loss: 0.0153 - accuracy: 0.9990 - val_loss: 0.1621 - val_accuracy: 0.9420 - lr: 1.0000e-05\n",
            "Epoch 17/50\n",
            "50/50 [==============================] - 4s 90ms/step - loss: 0.0158 - accuracy: 0.9980 - val_loss: 0.1617 - val_accuracy: 0.9320 - lr: 1.0000e-05\n",
            "Epoch 18/50\n",
            "50/50 [==============================] - 4s 90ms/step - loss: 0.0131 - accuracy: 0.9980 - val_loss: 0.1527 - val_accuracy: 0.9420 - lr: 1.0000e-05\n",
            "Epoch 19/50\n",
            "50/50 [==============================] - 4s 89ms/step - loss: 0.0138 - accuracy: 0.9980 - val_loss: 0.1436 - val_accuracy: 0.9480 - lr: 1.0000e-05\n",
            "Epoch 20/50\n",
            "50/50 [==============================] - 4s 73ms/step - loss: 0.0086 - accuracy: 0.9980 - val_loss: 0.1468 - val_accuracy: 0.9520 - lr: 1.0000e-05\n",
            "Epoch 21/50\n",
            "50/50 [==============================] - 5s 91ms/step - loss: 0.0101 - accuracy: 1.0000 - val_loss: 0.1345 - val_accuracy: 0.9540 - lr: 1.0000e-05\n",
            "Epoch 22/50\n",
            "50/50 [==============================] - 3s 68ms/step - loss: 0.0106 - accuracy: 0.9990 - val_loss: 0.1426 - val_accuracy: 0.9480 - lr: 1.0000e-05\n",
            "Epoch 23/50\n",
            "50/50 [==============================] - 4s 73ms/step - loss: 0.0140 - accuracy: 0.9980 - val_loss: 0.1569 - val_accuracy: 0.9480 - lr: 1.0000e-05\n",
            "Epoch 24/50\n",
            "50/50 [==============================] - 4s 72ms/step - loss: 0.0111 - accuracy: 0.9980 - val_loss: 0.1575 - val_accuracy: 0.9480 - lr: 1.0000e-05\n",
            "Epoch 25/50\n",
            "50/50 [==============================] - 3s 69ms/step - loss: 0.0096 - accuracy: 0.9980 - val_loss: 0.1517 - val_accuracy: 0.9480 - lr: 1.0000e-05\n",
            "Epoch 26/50\n",
            "50/50 [==============================] - 3s 69ms/step - loss: 0.0082 - accuracy: 0.9990 - val_loss: 0.1477 - val_accuracy: 0.9560 - lr: 1.0000e-05\n",
            "Epoch 27/50\n",
            "50/50 [==============================] - 3s 69ms/step - loss: 0.0078 - accuracy: 0.9990 - val_loss: 0.1445 - val_accuracy: 0.9540 - lr: 1.0000e-06\n",
            "Epoch 28/50\n",
            "50/50 [==============================] - 3s 70ms/step - loss: 0.0077 - accuracy: 0.9980 - val_loss: 0.1445 - val_accuracy: 0.9560 - lr: 1.0000e-06\n",
            "Epoch 29/50\n",
            "50/50 [==============================] - 3s 70ms/step - loss: 0.0077 - accuracy: 0.9990 - val_loss: 0.1438 - val_accuracy: 0.9540 - lr: 1.0000e-06\n",
            "Epoch 30/50\n",
            "50/50 [==============================] - 3s 70ms/step - loss: 0.0081 - accuracy: 0.9990 - val_loss: 0.1432 - val_accuracy: 0.9520 - lr: 1.0000e-06\n",
            "Epoch 31/50\n",
            "50/50 [==============================] - 3s 70ms/step - loss: 0.0072 - accuracy: 1.0000 - val_loss: 0.1439 - val_accuracy: 0.9520 - lr: 1.0000e-06\n"
          ]
        }
      ],
      "source": [
        "callback_list = [keras.callbacks.EarlyStopping(monitor='val_loss', patience=10),\n",
        "                         keras.callbacks.ModelCheckpoint(filepath=os.path.join('model.h5'),\n",
        "                                                         monitor='val_loss', save_best_only=True),\n",
        "                         keras.callbacks.ReduceLROnPlateau(monitor='val_loss', factor=0.1, patience=5)]\n",
        "\n",
        "history = model.fit(x_train1, y_train1, epochs=50, batch_size=20, \n",
        "                    validation_data=(x_test1, y_test1),\n",
        "                    callbacks=callback_list, shuffle=True)"
      ]
    },
    {
      "cell_type": "markdown",
      "metadata": {
        "id": "BVbOLIN1kFq4"
      },
      "source": [
        "# 5. Train Result"
      ]
    },
    {
      "cell_type": "markdown",
      "metadata": {
        "id": "mPK_eXBMkLou"
      },
      "source": [
        "## 5.1. Loss & Accuracy"
      ]
    },
    {
      "cell_type": "code",
      "execution_count": 17,
      "metadata": {
        "id": "hPAPGT9XkC0a"
      },
      "outputs": [],
      "source": [
        "acc = history.history['accuracy']\n",
        "val_acc = history.history['val_accuracy']\n",
        "loss = history.history['loss']\n",
        "val_loss = history.history['val_loss']\n",
        "epochs = range(1,len(acc)+1)"
      ]
    },
    {
      "cell_type": "code",
      "execution_count": 18,
      "metadata": {
        "colab": {
          "base_uri": "https://localhost:8080/",
          "height": 545
        },
        "id": "w8uaVegLksW4",
        "outputId": "feda5cb9-22c6-411f-b6b5-fcc991b74c98"
      },
      "outputs": [
        {
          "output_type": "display_data",
          "data": {
            "text/plain": [
              "<Figure size 432x288 with 1 Axes>"
            ],
            "image/png": "[encoded data removed]"
          },
          "metadata": {
            "needs_background": "light"
          }
        },
        {
          "output_type": "display_data",
          "data": {
            "text/plain": [
              "<Figure size 432x288 with 1 Axes>"
            ],
            "image/png": "[encoded data removed]"
          },
          "metadata": {
            "needs_background": "light"
          }
        }
      ],
      "source": [
        "plt.plot(epochs, acc, 'b', color='blue', label='Training acc')\n",
        "plt.plot(epochs, val_acc, 'b', color='red', label='Validation acc')\n",
        "plt.title('Training and validation accuracy')\n",
        "plt.legend()\n",
        "\n",
        "plt.figure()\n",
        "\n",
        "plt.plot(epochs, loss, 'b', color='blue', label='Training loss')\n",
        "plt.plot(epochs, val_loss, 'b', color='red', label='Validation loss')\n",
        "plt.title('Training and validation loss')\n",
        "plt.legend()\n",
        "\n",
        "plt.show()"
      ]
    },
    {
      "cell_type": "markdown",
      "metadata": {
        "id": "MD0WC69Fk7af"
      },
      "source": [
        "##5.2. Prediction Result"
      ]
    },
    {
      "cell_type": "code",
      "execution_count": 19,
      "metadata": {
        "colab": {
          "base_uri": "https://localhost:8080/",
          "height": 304
        },
        "id": "gQL2Tcuak_86",
        "outputId": "d4dab364-7cd5-4154-ef9d-aaf48d2a3ca1"
      },
      "outputs": [
        {
          "output_type": "stream",
          "name": "stdout",
          "text": [
            "(64, 64, 1)\n"
          ]
        },
        {
          "output_type": "execute_result",
          "data": {
            "text/plain": [
              "<matplotlib.image.AxesImage at 0x7f4e1e4bda30>"
            ]
          },
          "metadata": {},
          "execution_count": 19
        },
        {
          "output_type": "display_data",
          "data": {
            "text/plain": [
              "<Figure size 432x288 with 1 Axes>"
            ],
            "image/png": "[encoded data removed]"
          },
          "metadata": {
            "needs_background": "light"
          }
        }
      ],
      "source": [
        "test1 = x_test1[0]\n",
        "print(test1.shape)\n",
        "plt.imshow(test1[...,0])"
      ]
    },
    {
      "cell_type": "code",
      "execution_count": 28,
      "metadata": {
        "colab": {
          "base_uri": "https://localhost:8080/"
        },
        "id": "HOqgXtWqlX11",
        "outputId": "05d9046b-6c3a-437f-a3b6-3b928c39329b"
      },
      "outputs": [
        {
          "output_type": "stream",
          "name": "stdout",
          "text": [
            "4/4 [==============================] - 0s 27ms/step\n"
          ]
        }
      ],
      "source": [
        "testp = x_test1[:100]\n",
        "testg = y_test[:100]\n",
        "scores = model.predict(testp)\n",
        "\n",
        "new_scores = []\n",
        "for score in scores:\n",
        "  max_val = np.max(score)\n",
        "  prob_num = list(score).index(max_val)\n",
        "  new_scores.append(prob_num)\n",
        "\n"
      ]
    },
    {
      "cell_type": "code",
      "source": [
        "plt.imshow(testp[0,...,0])\n",
        "print(f'label={testg[0]}, predict={new_scores[0]}')\n",
        "print(scores[0])\n"
      ],
      "metadata": {
        "id": "5ornqMTyJUov",
        "outputId": "36371eed-a840-46f7-89bc-180da7efee45",
        "colab": {
          "base_uri": "https://localhost:8080/",
          "height": 322
        }
      },
      "execution_count": 29,
      "outputs": [
        {
          "output_type": "stream",
          "name": "stdout",
          "text": [
            "label=7, predict=7\n",
            "[1.3538564e-08 4.0190372e-08 1.2335800e-08 6.6327082e-08 3.6016040e-08\n",
            " 1.4467518e-09 8.6948565e-10 9.9999988e-01 3.1848353e-09 2.5711190e-08]\n"
          ]
        },
        {
          "output_type": "display_data",
          "data": {
            "text/plain": [
              "<Figure size 432x288 with 1 Axes>"
            ],
            "image/png": "[encoded data removed]"
          },
          "metadata": {
            "needs_background": "light"
          }
        }
      ]
    },
    {
      "cell_type": "code",
      "source": [],
      "metadata": {
        "id": "b0jlcC3OKNeq"
      },
      "execution_count": null,
      "outputs": []
    },
    {
      "cell_type": "markdown",
      "metadata": {
        "id": "YsqVifQSmj7y"
      },
      "source": [
        "## 5.3. Class Attention Map"
      ]
    },
    {
      "cell_type": "markdown",
      "metadata": {
        "id": "CKaUH9KbwxXv"
      },
      "source": [
        "먼저 GRAD-CAM을 구해주는 함수를 정의한다."
      ]
    },
    {
      "cell_type": "code",
      "execution_count": null,
      "metadata": {
        "id": "Dwn_3iaRoJJz"
      },
      "outputs": [],
      "source": [
        "def make_gradcam_heatmap(img_array, model, last_conv_layer_name, classifier_layer_names):\n",
        "\n",
        "    # 1. 먼저 모델에서 마지막 컨브넷층을 output으로 하고, 테스트 이미지를 input으로 하는 모델을 구성한다.\n",
        "    last_conv_layer = model.get_layer(last_conv_layer_name)\n",
        "    last_conv_layer_model = keras.Model(model.inputs, last_conv_layer.output)\n",
        "\n",
        "    # 2. 마지막 컨브넷층과 최종 예측결과를 인아웃으로 받는 모델을 구성한다.\n",
        "    classifier_input = keras.Input(shape=last_conv_layer.output.shape[1:])\n",
        "    x = classifier_input\n",
        "    for layer_name in classifier_layer_names:\n",
        "        x = model.get_layer(layer_name)(x)\n",
        "    classifier_model = keras.Model(classifier_input, x)\n",
        "\n",
        "    # 그다음, 테스트 이미지에 대한 가장 높은 예측 클래스(여기서는 7)와 마지막 컨브넷층에 대한 그래디언트를 구한다.\n",
        "    with tf.GradientTape() as tape:\n",
        "        # 최종 컨브넷층의 결과 추출\n",
        "        last_conv_layer_output = last_conv_layer_model(img_array)\n",
        "        tape.watch(last_conv_layer_output)\n",
        "        # 예측 클래스 계산\n",
        "        preds = classifier_model(last_conv_layer_output)\n",
        "        top_pred_index = tf.argmax(preds[0])\n",
        "        top_class_channel = preds[:, top_pred_index]\n",
        "\n",
        "    # 마지막 컨브넷층의 특성맵에 대한 가장 높은 예측 클래스의 그래디언트.\n",
        "    grads = tape.gradient(top_class_channel, last_conv_layer_output)\n",
        "\n",
        "    # 특성 맵 채널별 그래디언트 평균 값이 담긴 (512,) 크기의 벡터.\n",
        "    pooled_grads = tf.reduce_mean(grads, axis=(0, 1, 2))\n",
        "\n",
        "    # 가장 높은 예측 클래스에 대한 \"채널의 중요도\"를 특성 맵 배열의 채널에 곱한다.\n",
        "    last_conv_layer_output = last_conv_layer_output.numpy()[0]\n",
        "    pooled_grads = pooled_grads.numpy()\n",
        "    for i in range(pooled_grads.shape[-1]):\n",
        "        last_conv_layer_output[:, :, i] *= pooled_grads[i]\n",
        "\n",
        "    # 만들어진 특성 맵에서 채널 축을 따라 평균한 값이 클래스 활성화의 히트맵.\n",
        "    heatmap = np.mean(last_conv_layer_output, axis=-1)\n",
        "\n",
        "    # 마지막으로 구해진 히트맵을 0 ~ 1 사이값으로 정규화\n",
        "    heatmap = np.maximum(heatmap, 0) / np.max(heatmap)\n",
        "    return heatmap"
      ]
    },
    {
      "cell_type": "code",
      "execution_count": null,
      "metadata": {
        "colab": {
          "base_uri": "https://localhost:8080/",
          "height": 293
        },
        "id": "KUkU8LUMy35r",
        "outputId": "fa47ca68-296a-4e72-f971-6ee0d411dba8"
      },
      "outputs": [
        {
          "name": "stdout",
          "output_type": "stream",
          "text": [
            "(2, 2)\n"
          ]
        },
        {
          "data": {
            "image/png": "[encoded data removed]",
            "text/plain": [
              "<Figure size 288x288 with 1 Axes>"
            ]
          },
          "metadata": {
            "needs_background": "light",
            "tags": []
          },
          "output_type": "display_data"
        }
      ],
      "source": [
        "# MNIST 테스트 이미지에 대한 히트맵을 구한다.\n",
        "heatmap = make_gradcam_heatmap(test1p, model, 'block5_activ4',['block5_pool','flatten_layer'])\n",
        "print(heatmap.shape)\n",
        "\n",
        "# Display heatmap\n",
        "plt.matshow(heatmap)\n",
        "plt.show()"
      ]
    },
    {
      "cell_type": "code",
      "execution_count": null,
      "metadata": {
        "colab": {
          "base_uri": "https://localhost:8080/",
          "height": 366
        },
        "id": "fC6S92Sk1Sf2",
        "outputId": "45c61d3f-b97d-4bf2-bca5-8d359fa389f9"
      },
      "outputs": [
        {
          "name": "stderr",
          "output_type": "stream",
          "text": [
            "Clipping input data to the valid range for imshow with RGB data ([0..1] for floats or [0..255] for integers).\n",
            "Clipping input data to the valid range for imshow with RGB data ([0..1] for floats or [0..255] for integers).\n",
            "Clipping input data to the valid range for imshow with RGB data ([0..1] for floats or [0..255] for integers).\n"
          ]
        },
        {
          "data": {
            "text/plain": [
              "<matplotlib.image.AxesImage at 0x7f6f6747a208>"
            ]
          },
          "execution_count": 84,
          "metadata": {
            "tags": []
          },
          "output_type": "execute_result"
        },
        {
          "data": {
            "image/png": "[encoded data removed]",
            "text/plain": [
              "<Figure size 1080x576 with 3 Axes>"
            ]
          },
          "metadata": {
            "needs_background": "light",
            "tags": []
          },
          "output_type": "display_data"
        }
      ],
      "source": [
        "# 히트맵을 0 ~255 사이 값으로 재조정\n",
        "heatmap = np.uint8(255 * heatmap)\n",
        "\n",
        "# color map으로 변환\n",
        "cmap_sel = 'inferno'\n",
        "new_cm = cm.get_cmap(cmap_sel)\n",
        "\n",
        "# 컬러맵을 RGB 값으로 변환\n",
        "cm_colors = new_cm(np.arange(256))[:, :3]\n",
        "col_heatmap = cm_colors[heatmap]\n",
        "\n",
        "# RGB 컬러로 변환 컬러맵으로 원본크기에 맞게 히트맵 변환\n",
        "col_heatmap = keras.preprocessing.image.array_to_img(col_heatmap)\n",
        "col_heatmap = col_heatmap.resize((32, 32))\n",
        "col_heatmap = keras.preprocessing.image.img_to_array(col_heatmap)\n",
        "\n",
        "# 테스트 이미지에 히트맵 오버레이\n",
        "test1_col = test1 * [0.2989, 0.5870, 0.1140]\n",
        "superimposed_img = (col_heatmap * 0.005) + test1_col\n",
        "\n",
        "# 결과 시각화\n",
        "plt.figure(figsize=(15,8))\n",
        "plt.subplot(1,3,1)\n",
        "plt.imshow(test1_col, cmap='gray')\n",
        "plt.subplot(1,3,2)\n",
        "plt.imshow(col_heatmap, cmap=cmap_sel)\n",
        "plt.subplot(1,3,3)\n",
        "plt.imshow(superimposed_img)\n"
      ]
    },
    {
      "cell_type": "code",
      "execution_count": null,
      "metadata": {
        "id": "ohFectDW1iLT"
      },
      "outputs": [],
      "source": []
    }
  ],
  "metadata": {
    "accelerator": "GPU",
    "colab": {
      "name": "Result_Visulization.ipynb",
      "provenance": [],
      "include_colab_link": true
    },
    "kernelspec": {
      "display_name": "Python 3",
      "name": "python3"
    }
  },
  "nbformat": 4,
  "nbformat_minor": 0
}