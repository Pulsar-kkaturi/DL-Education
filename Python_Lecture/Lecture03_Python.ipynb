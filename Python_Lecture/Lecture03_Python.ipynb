{
  "cells": [
    {
      "cell_type": "markdown",
      "metadata": {
        "id": "view-in-github",
        "colab_type": "text"
      },
      "source": [
        "<a href=\"https://colab.research.google.com/github/Pulsar-kkaturi/DL-Education/blob/master/Python_Lecture/Lecture03_Python.ipynb\" target=\"_parent\"><img src=\"https://colab.research.google.com/assets/colab-badge.svg\" alt=\"Open In Colab\"/></a>"
      ]
    },
    {
      "cell_type": "markdown",
      "metadata": {
        "id": "Dl752T0jZ8EH"
      },
      "source": [
        "# Lecture 3. 파이썬으로 딥러닝 맛보기"
      ]
    },
    {
      "cell_type": "code",
      "execution_count": null,
      "metadata": {
        "id": "_T8DnkyyZ8EK"
      },
      "outputs": [],
      "source": [
        "print(\"hello world\")"
      ]
    },
    {
      "cell_type": "markdown",
      "metadata": {
        "id": "oYo7NVHeZ8EL"
      },
      "source": [
        "### 1. 데이터 만들기"
      ]
    },
    {
      "cell_type": "code",
      "execution_count": null,
      "metadata": {
        "id": "kEf6StKzZ8EL"
      },
      "outputs": [],
      "source": [
        "# 라이브러리 불러오기\n",
        "from tensorflow.keras.datasets import mnist\n",
        "from tensorflow import keras\n",
        "from tensorflow.keras import layers\n",
        "from matplotlib import pyplot as plt\n",
        "import numpy as np"
      ]
    },
    {
      "cell_type": "code",
      "execution_count": null,
      "metadata": {
        "id": "7m9cNSWpZ8EL"
      },
      "outputs": [],
      "source": [
        "# MNIST 불러오기\n",
        "(train_images, train_labels), (test_images, test_labels) = mnist.load_data()"
      ]
    },
    {
      "cell_type": "code",
      "execution_count": null,
      "metadata": {
        "id": "gKpv6_gWZ8EM"
      },
      "outputs": [],
      "source": [
        "# Train 데이터 확인\n",
        "print('이미지 크기 = ', train_images.shape)\n",
        "print('레이블 길이 = ', len(train_labels))"
      ]
    },
    {
      "cell_type": "code",
      "execution_count": null,
      "metadata": {
        "id": "xq7oj5xoZ8EM"
      },
      "outputs": [],
      "source": [
        "# Train 데이터 샘플\n",
        "plt.figure(figsize=(5,5))\n",
        "plt.imshow(train_images[0])\n",
        "plt.title(train_labels[0])"
      ]
    },
    {
      "cell_type": "code",
      "execution_count": null,
      "metadata": {
        "id": "SUTXOHVGZ8EM"
      },
      "outputs": [],
      "source": [
        "# Test Data 확인\n",
        "print('이미지 크기 = ', test_images.shape)\n",
        "print('레이블 길이 = ', len(test_labels))\n",
        "plt.figure(figsize=(5,5))\n",
        "plt.imshow(test_images[0])\n",
        "plt.title(test_labels[0])"
      ]
    },
    {
      "cell_type": "markdown",
      "metadata": {
        "id": "XfOoiInFZ8EM"
      },
      "source": [
        "### 2. 데이터 전처리"
      ]
    },
    {
      "cell_type": "code",
      "execution_count": null,
      "metadata": {
        "id": "j6Gn5j-hZ8EM"
      },
      "outputs": [],
      "source": [
        "# 데이터 형태 변형 (2차원 -> 1차원 배열)\n",
        "train_images1 = train_images.reshape((60000, 28 * 28))\n",
        "train_images1 = train_images1.astype(\"float32\") / 255\n",
        "test_images1 = test_images.reshape((10000, 28 * 28))\n",
        "test_images1 = test_images1.astype(\"float32\") / 255"
      ]
    },
    {
      "cell_type": "code",
      "execution_count": null,
      "metadata": {
        "id": "ZCe0siXjZ8EN"
      },
      "outputs": [],
      "source": [
        "print(train_images.shape)\n",
        "print(test_images.shape)\n",
        "print(train_images1.shape)\n",
        "print(test_images1.shape)"
      ]
    },
    {
      "cell_type": "markdown",
      "metadata": {
        "id": "PJtBhnfkZ8EN"
      },
      "source": [
        "### 3. 모델 만들기"
      ]
    },
    {
      "cell_type": "code",
      "execution_count": null,
      "metadata": {
        "id": "z_CU-kuHZ8EN"
      },
      "outputs": [],
      "source": [
        "# 신경망 구조\n",
        "model = keras.Sequential([\n",
        "    layers.Dense(512, activation=\"relu\"), \n",
        "    layers.Dense(10, activation=\"softmax\")\n",
        "    ])"
      ]
    },
    {
      "cell_type": "code",
      "execution_count": null,
      "metadata": {
        "id": "_bEvxgwJZ8EN"
      },
      "outputs": [],
      "source": [
        "# 컴파일 단계\n",
        "model.compile(optimizer=\"rmsprop\",\n",
        "              loss=\"sparse_categorical_crossentropy\",\n",
        "              metrics=[\"accuracy\"])"
      ]
    },
    {
      "cell_type": "markdown",
      "metadata": {
        "id": "ouhxK1UBZ8EO"
      },
      "source": [
        "### 4. 모델 훈련하기"
      ]
    },
    {
      "cell_type": "code",
      "execution_count": null,
      "metadata": {
        "id": "iY-2fWYCZ8EO"
      },
      "outputs": [],
      "source": [
        "model.fit(train_images1, train_labels, epochs=5, batch_size=128)"
      ]
    },
    {
      "cell_type": "markdown",
      "metadata": {
        "id": "U4aAiuhTZ8EO"
      },
      "source": [
        "### 5. 결과 분석"
      ]
    },
    {
      "cell_type": "code",
      "execution_count": null,
      "metadata": {
        "id": "_Gu1f7GeZ8EO"
      },
      "outputs": [],
      "source": [
        "# 모델을 사용해 예측 만들기\n",
        "test_digits = test_images1[0:10] # 10개 데이터셋만 추출\n",
        "predictions = model.predict(test_digits)\n",
        "predictions[0]"
      ]
    },
    {
      "cell_type": "code",
      "execution_count": null,
      "metadata": {
        "id": "Pk5CIxcbZ8EO"
      },
      "outputs": [],
      "source": [
        "print(\"예측값 = \", predictions[0].argmax())\n",
        "print(\"예측값의 신뢰도 = \", predictions[0][7])\n",
        "print(\"정답 = \", test_labels[0])"
      ]
    },
    {
      "cell_type": "code",
      "execution_count": null,
      "metadata": {
        "id": "bpZ6SBGRZ8EP"
      },
      "outputs": [],
      "source": [
        "# 테스트 데이터셋에서 모델 성능\n",
        "test_loss, test_acc = model.evaluate(test_images1, test_labels)\n",
        "print(f\"테스트 정확도: {test_acc}\")"
      ]
    },
    {
      "cell_type": "code",
      "execution_count": null,
      "metadata": {
        "id": "0686MKB5Z8EP"
      },
      "outputs": [],
      "source": [
        "testp = test_images1[:100]\n",
        "testg = test_labels[:100]\n",
        "scores = model.predict(testp)\n",
        "\n",
        "new_scores = []\n",
        "for score in scores:\n",
        "  max_val = np.max(score)\n",
        "  prob_num = list(score).index(max_val)\n",
        "  new_scores.append(prob_num)"
      ]
    },
    {
      "cell_type": "code",
      "execution_count": null,
      "metadata": {
        "id": "14Axmy8fZ8EP"
      },
      "outputs": [],
      "source": [
        "num = 1\n",
        "plt.imshow(test_images[num])\n",
        "print(f'label={testg[num]}, predict={new_scores[num]}')\n",
        "print(scores[num])"
      ]
    },
    {
      "cell_type": "code",
      "execution_count": null,
      "metadata": {
        "id": "3Fw0QfAfZ8EP"
      },
      "outputs": [],
      "source": []
    }
  ],
  "metadata": {
    "kernelspec": {
      "display_name": "base",
      "language": "python",
      "name": "python3"
    },
    "language_info": {
      "codemirror_mode": {
        "name": "ipython",
        "version": 3
      },
      "file_extension": ".py",
      "mimetype": "text/x-python",
      "name": "python",
      "nbconvert_exporter": "python",
      "pygments_lexer": "ipython3",
      "version": "3.10.8"
    },
    "orig_nbformat": 4,
    "colab": {
      "provenance": [],
      "include_colab_link": true
    }
  },
  "nbformat": 4,
  "nbformat_minor": 0
}