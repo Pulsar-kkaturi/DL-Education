{
  "nbformat": 4,
  "nbformat_minor": 0,
  "metadata": {
    "accelerator": "GPU",
    "colab": {
      "name": "Lecture2_VGG.ipynb",
      "provenance": [],
      "include_colab_link": true
    },
    "kernelspec": {
      "display_name": "Python 3",
      "language": "python",
      "name": "python3"
    },
    "language_info": {
      "codemirror_mode": {
        "name": "ipython",
        "version": 3
      },
      "file_extension": ".py",
      "mimetype": "text/x-python",
      "name": "python",
      "nbconvert_exporter": "python",
      "pygments_lexer": "ipython3",
      "version": "3.8.10"
    }
  },
  "cells": [
    {
      "cell_type": "markdown",
      "metadata": {
        "id": "view-in-github",
        "colab_type": "text"
      },
      "source": [
        "<a href=\"https://colab.research.google.com/github/Pulsar-kkaturi/DL-Education/blob/master/Lecture2_VGG.ipynb\" target=\"_parent\"><img src=\"https://colab.research.google.com/assets/colab-badge.svg\" alt=\"Open In Colab\"/></a>"
      ]
    },
    {
      "cell_type": "markdown",
      "metadata": {
        "id": "jKTrhLL73Gdw"
      },
      "source": [
        "![대체 텍스트](https://raw.githubusercontent.com/deepnoid/education/master/7.%20Deep%20Learning%20Keras/dataset/deepnoid_logo.jpg)"
      ]
    },
    {
      "cell_type": "code",
      "metadata": {
        "colab": {
          "base_uri": "https://localhost:8080/"
        },
        "id": "fSlw29m0tmXC",
        "outputId": "33391f1c-0ac5-4803-de14-ba2c001b9f2b"
      },
      "source": [
        "!git clone https://github.com/Pulsar-kkaturi/DL-Education.git"
      ],
      "execution_count": 19,
      "outputs": [
        {
          "output_type": "stream",
          "name": "stdout",
          "text": [
            "fatal: destination path 'DL-Education' already exists and is not an empty directory.\n"
          ]
        }
      ]
    },
    {
      "cell_type": "markdown",
      "metadata": {
        "id": "VNoMJXbut1Hp"
      },
      "source": [
        "# 모듈 불러오기"
      ]
    },
    {
      "cell_type": "code",
      "metadata": {
        "id": "rkc9kbsdpkgR"
      },
      "source": [
        "import tensorflow as tf\n",
        "import tensorflow.keras"
      ],
      "execution_count": 20,
      "outputs": []
    },
    {
      "cell_type": "code",
      "metadata": {
        "id": "XiBmYHwjt0Fw"
      },
      "source": [
        "from tensorflow.keras import applications, optimizers\n",
        "from tensorflow.keras.preprocessing import image\n",
        "from tensorflow.keras.preprocessing.image import ImageDataGenerator\n",
        "from tensorflow.keras.optimizers import Adam\n",
        "from tensorflow.keras.models import Model, Sequential\n",
        "from tensorflow.keras.layers import *\n",
        "from skimage.transform import rotate\n",
        "from skimage import exposure\n",
        "import matplotlib.pyplot as plt\n",
        "import numpy as np\n",
        "import os"
      ],
      "execution_count": 21,
      "outputs": []
    },
    {
      "cell_type": "markdown",
      "metadata": {
        "id": "9FLp6uSOt9uQ"
      },
      "source": [
        "# 경로 설정하기"
      ]
    },
    {
      "cell_type": "code",
      "metadata": {
        "id": "a_S1GaKVt5S4"
      },
      "source": [
        "BASE_PATH = 'DL-Education/dataset/xray_abd_chest'\n",
        "TRAIN_DATA_PATH = os.path.join(BASE_PATH, 'TRAIN')\n",
        "VAL_DATA_PATH = os.path.join(BASE_PATH, 'VAL')\n",
        "TEST_DATA_PATH = os.path.join(BASE_PATH, 'TEST', 'abd2.png')"
      ],
      "execution_count": 25,
      "outputs": []
    },
    {
      "cell_type": "markdown",
      "metadata": {
        "id": "t0bQ0fp7uA6B"
      },
      "source": [
        "# 하이퍼 파라미터\n",
        "\n",
        "하이퍼 파라미터를 이용해 인공지능 모델을 조정합니다.  \n",
        "주로 사용하는 하이퍼 파라미터는 다음과 같습니다."
      ]
    },
    {
      "cell_type": "code",
      "metadata": {
        "id": "SQEoCOsWt-Mw"
      },
      "source": [
        "IMG_HEIGHT, IMG_WIDTH = (256, 256)\n",
        "EPOCHS = 10\n",
        "BATCH_SIZE = 5\n",
        "LEARNING_RATE = 1e-4 \n",
        "DECAY_RATE = 0\n",
        "INIT_FILTERS = 32\n",
        "ACTIVATION_FN = 'elu' # relu, elu, sigmoid\n",
        "DROP_RATE = 0.25"
      ],
      "execution_count": 27,
      "outputs": []
    },
    {
      "cell_type": "markdown",
      "metadata": {
        "id": "51BTXNX8uEwx"
      },
      "source": [
        "# 데이터 불러오기\n",
        "AI 모델 학습에 사용할 데이터를 불러오겠습니다.  "
      ]
    },
    {
      "cell_type": "code",
      "metadata": {
        "colab": {
          "base_uri": "https://localhost:8080/"
        },
        "id": "CqoWWh0juGrZ",
        "outputId": "1e5657d6-99f4-4fa7-b0f6-035f1b5a181a"
      },
      "source": [
        "train_datagen = ImageDataGenerator(width_shift_range=0.2,\n",
        "                                   height_shift_range=0.2,\n",
        "                                   zoom_range=0.2,\n",
        "                                   horizontal_flip=True,\n",
        "                                   vertical_flip=False,\n",
        "                                   rescale=1/255.)\n",
        "val_datagen = ImageDataGenerator(rescale=1/255.)\n",
        "\n",
        "train_generator = train_datagen.flow_from_directory(directory=TRAIN_DATA_PATH,\n",
        "                                                    target_size=(IMG_HEIGHT, IMG_WIDTH),\n",
        "                                                    batch_size=BATCH_SIZE,\n",
        "                                                    class_mode='binary',\n",
        "                                                    shuffle=True,\n",
        "                                                    seed=42)\n",
        "val_generator = val_datagen.flow_from_directory(directory=VAL_DATA_PATH,\n",
        "                                                target_size=(IMG_HEIGHT, IMG_WIDTH),\n",
        "                                                batch_size=BATCH_SIZE,\n",
        "                                                class_mode='binary',\n",
        "                                                shuffle=False,\n",
        "                                                seed=42)"
      ],
      "execution_count": 28,
      "outputs": [
        {
          "output_type": "stream",
          "name": "stdout",
          "text": [
            "Found 65 images belonging to 2 classes.\n",
            "Found 10 images belonging to 2 classes.\n"
          ]
        }
      ]
    },
    {
      "cell_type": "code",
      "metadata": {
        "colab": {
          "base_uri": "https://localhost:8080/",
          "height": 287
        },
        "id": "dArLzHrVpAjS",
        "outputId": "f02f532b-f7de-468f-a77a-026030e4dcd2"
      },
      "source": [
        "img = plt.imread(TEST_DATA_PATH)\n",
        "plt.imshow(img, cmap='Greys')\n",
        "plt.show()\n",
        "print(img.shape)"
      ],
      "execution_count": 29,
      "outputs": [
        {
          "output_type": "display_data",
          "data": {
            "image/png": "[encoded data removed]",
            "text/plain": [
              "<Figure size 432x288 with 1 Axes>"
            ]
          },
          "metadata": {
            "needs_background": "light"
          }
        },
        {
          "output_type": "stream",
          "name": "stdout",
          "text": [
            "(489, 404, 3)\n"
          ]
        }
      ]
    },
    {
      "cell_type": "markdown",
      "metadata": {
        "id": "ioOw_SKpuIFj"
      },
      "source": [
        "# **AI 모델을 구성하는 레이어 만들기**\n",
        "\n",
        "AI 모델은 여러 개의 레이어를 쌓아 올려 만듭니다.  \n",
        "가장 대표적인 레이어 구조인 **CONV-BN-ACT-POOL** 구조를 만들어 보겠습니다.\n",
        "\n",
        "먼저 데이터가 들어가는 첫 번째 레이어를 만들어 봅시다."
      ]
    },
    {
      "cell_type": "code",
      "metadata": {
        "id": "hPKMZFdWuJzY"
      },
      "source": [
        "first_layer = Input(shape=(32, 32, 3))"
      ],
      "execution_count": 30,
      "outputs": []
    },
    {
      "cell_type": "markdown",
      "metadata": {
        "id": "207xMAaxuLMx"
      },
      "source": [
        "그 다음으로 데이터의 특징을 추출할 Convolution 레이어를 연결하겠습니다."
      ]
    },
    {
      "cell_type": "code",
      "metadata": {
        "id": "FChj3wzouMu5"
      },
      "source": [
        "second_layer = Conv2D(filters=8, kernel_size=(3, 3), activation=None, padding='same')(first_layer)"
      ],
      "execution_count": 31,
      "outputs": []
    },
    {
      "cell_type": "markdown",
      "metadata": {
        "id": "3pWFY0UQuN5C"
      },
      "source": [
        "다음으로 레이어 중간에서 정규화를 도와줄 Batch Normalization 레이어를 추가하겠습니다.다음으로 레이어 중간에서 정규화를 도와줄 Batch Normalization 레이어를 추가하겠습니다."
      ]
    },
    {
      "cell_type": "code",
      "metadata": {
        "id": "_tyJVgfCuPbC"
      },
      "source": [
        "third_layer = BatchNormalization()(second_layer)"
      ],
      "execution_count": 32,
      "outputs": []
    },
    {
      "cell_type": "markdown",
      "metadata": {
        "id": "yF-yQJjfuQ8R"
      },
      "source": [
        "Batch Normalization 이후 신호를 변환하여 다음 뉴런으로 전달하는 Activation function 레이어를 추가합니다."
      ]
    },
    {
      "cell_type": "code",
      "metadata": {
        "id": "HFlwcNm4uSOx"
      },
      "source": [
        "fourth_layer = Activation('relu')(third_layer)"
      ],
      "execution_count": 33,
      "outputs": []
    },
    {
      "cell_type": "markdown",
      "metadata": {
        "id": "CGUE6ABKuTgp"
      },
      "source": [
        "다음으로 이미지 사이즈를 줄여주는 Pooling 레이어를 연결합니다."
      ]
    },
    {
      "cell_type": "code",
      "metadata": {
        "id": "TiVWbA8ZuU75"
      },
      "source": [
        "fifth_layer = MaxPool2D(strides=(2, 2))(fourth_layer)"
      ],
      "execution_count": 34,
      "outputs": []
    },
    {
      "cell_type": "markdown",
      "metadata": {
        "id": "-2z8x-n3uWJr"
      },
      "source": [
        "그 후 모든 뉴런을 일렬로 늘어세우는 Flatten 레이어를 만듭니다."
      ]
    },
    {
      "cell_type": "code",
      "metadata": {
        "id": "EX3YOwJnuXLZ"
      },
      "source": [
        "sixth_layer = Flatten()(fifth_layer)"
      ],
      "execution_count": 35,
      "outputs": []
    },
    {
      "cell_type": "markdown",
      "metadata": {
        "id": "5_L9WFFSuYdg"
      },
      "source": [
        "일렬로 늘어세운 후 이전 계층의 모든 뉴런을 연결해주는 Fully connected(Dense) 레이어를 연결합니다."
      ]
    },
    {
      "cell_type": "code",
      "metadata": {
        "id": "sFwrqET4uZ70"
      },
      "source": [
        "seventh_layer = Dense(12, activation = 'relu')(sixth_layer)"
      ],
      "execution_count": 36,
      "outputs": []
    },
    {
      "cell_type": "markdown",
      "metadata": {
        "id": "FDEr4np-ubTa"
      },
      "source": [
        "Dropout 레이어를 활용해 일부 뉴런들을 무작위로 학습에서 배제하도록 합시다."
      ]
    },
    {
      "cell_type": "code",
      "metadata": {
        "id": "fsutwc0mucZS"
      },
      "source": [
        "eighth_layer = Dropout(0.25)(seventh_layer)"
      ],
      "execution_count": 37,
      "outputs": []
    },
    {
      "cell_type": "markdown",
      "metadata": {
        "id": "NsbbYuOTudry"
      },
      "source": [
        "마지막으로 최종 결과물을 출력해주는 레이어를 만들어 줍니다."
      ]
    },
    {
      "cell_type": "code",
      "metadata": {
        "id": "4xwrcZ2Uue5r"
      },
      "source": [
        "final_layer =  Dense(1, activation='sigmoid')(eighth_layer)"
      ],
      "execution_count": 38,
      "outputs": []
    },
    {
      "cell_type": "markdown",
      "metadata": {
        "id": "4vNWbtzYuf8x"
      },
      "source": [
        "지금까지 만든 레이어를 Model 함수에 넣어 연결하면 모델이 완성됩니다."
      ]
    },
    {
      "cell_type": "code",
      "metadata": {
        "colab": {
          "base_uri": "https://localhost:8080/"
        },
        "id": "08GBN6sruhT8",
        "outputId": "273c2628-8dad-48cc-8adf-0c6a219e0cb5"
      },
      "source": [
        "sample_model = Model(first_layer, final_layer)\n",
        "sample_model.summary()"
      ],
      "execution_count": 39,
      "outputs": [
        {
          "output_type": "stream",
          "name": "stdout",
          "text": [
            "Model: \"model\"\n",
            "_________________________________________________________________\n",
            " Layer (type)                Output Shape              Param #   \n",
            "=================================================================\n",
            " input_1 (InputLayer)        [(None, 32, 32, 3)]       0         \n",
            "                                                                 \n",
            " conv2d (Conv2D)             (None, 32, 32, 8)         224       \n",
            "                                                                 \n",
            " batch_normalization (BatchN  (None, 32, 32, 8)        32        \n",
            " ormalization)                                                   \n",
            "                                                                 \n",
            " activation (Activation)     (None, 32, 32, 8)         0         \n",
            "                                                                 \n",
            " max_pooling2d (MaxPooling2D  (None, 16, 16, 8)        0         \n",
            " )                                                               \n",
            "                                                                 \n",
            " flatten (Flatten)           (None, 2048)              0         \n",
            "                                                                 \n",
            " dense (Dense)               (None, 12)                24588     \n",
            "                                                                 \n",
            " dropout (Dropout)           (None, 12)                0         \n",
            "                                                                 \n",
            " dense_1 (Dense)             (None, 1)                 13        \n",
            "                                                                 \n",
            "=================================================================\n",
            "Total params: 24,857\n",
            "Trainable params: 24,841\n",
            "Non-trainable params: 16\n",
            "_________________________________________________________________\n"
          ]
        }
      ]
    },
    {
      "cell_type": "markdown",
      "metadata": {
        "id": "aBJNBXF7ujZ9"
      },
      "source": [
        "# **X-ray 이미지 구분하는 AI 모델 만들기**\n",
        "\n",
        "앞에서 배운 지식을 바탕으로  \n",
        "모델 구조가 간단하고 준수한 성능을 보이는 VGG16 모델을 직접 만들어보겠습니다."
      ]
    },
    {
      "cell_type": "code",
      "metadata": {
        "id": "iHNZBYGFpkgg"
      },
      "source": [
        "tf.debugging.set_log_device_placement(True)"
      ],
      "execution_count": 40,
      "outputs": []
    },
    {
      "cell_type": "code",
      "metadata": {
        "colab": {
          "base_uri": "https://localhost:8080/"
        },
        "id": "5A5A1FC6uj4M",
        "outputId": "8c67c74e-44a3-4d8a-bc50-1aab681cae77"
      },
      "source": [
        "input_layer = Input(shape=(IMG_HEIGHT, IMG_WIDTH, 3))\n",
        "\n",
        "filters = INIT_FILTERS\n",
        "l = Conv2D(filters=filters, kernel_size=(3, 3), activation=None, padding='same')(input_layer)\n",
        "l = BatchNormalization()(l)\n",
        "l = Activation(ACTIVATION_FN)(l)\n",
        "\n",
        "l = Conv2D(filters=filters, kernel_size=(3, 3), activation=None, padding='same')(l)\n",
        "l = BatchNormalization()(l)\n",
        "l = Activation(ACTIVATION_FN)(l)\n",
        "\n",
        "l = MaxPool2D(strides=(2, 2))(l)\n",
        "\n",
        "filters *= 2\n",
        "l = Conv2D(filters=filters, kernel_size=(3, 3), activation=None, padding='same')(l)\n",
        "l = BatchNormalization()(l)\n",
        "l = Activation(ACTIVATION_FN)(l)\n",
        "\n",
        "l = Conv2D(filters=filters, kernel_size=(3, 3), activation=None, padding='same')(l)\n",
        "l = BatchNormalization()(l)\n",
        "l = Activation(ACTIVATION_FN)(l)\n",
        "\n",
        "l = MaxPool2D(strides=(2, 2))(l)\n",
        "\n",
        "filters *= 2\n",
        "l = Conv2D(filters=filters, kernel_size=(3, 3), activation=None, padding='same')(l)\n",
        "l = BatchNormalization()(l)\n",
        "l = Activation(ACTIVATION_FN)(l)\n",
        "\n",
        "l = Conv2D(filters=filters, kernel_size=(3, 3), activation=None, padding='same')(l)\n",
        "l = BatchNormalization()(l)\n",
        "l = Activation(ACTIVATION_FN)(l)\n",
        "\n",
        "l = Conv2D(filters=filters, kernel_size=(3, 3), activation=None, padding='same')(l)\n",
        "l = BatchNormalization()(l)\n",
        "l = Activation(ACTIVATION_FN)(l)\n",
        "\n",
        "l = MaxPool2D(strides=(2, 2))(l)\n",
        "\n",
        "filters *= 2\n",
        "l = Conv2D(filters=filters, kernel_size=(3, 3), activation=None, padding='same')(l)\n",
        "l = BatchNormalization()(l)\n",
        "l = Activation(ACTIVATION_FN)(l)\n",
        "\n",
        "l = Conv2D(filters=filters, kernel_size=(3, 3), activation=None, padding='same')(l)\n",
        "l = BatchNormalization()(l)\n",
        "l = Activation(ACTIVATION_FN)(l)\n",
        "\n",
        "l = Conv2D(filters=filters, kernel_size=(3, 3), activation=None, padding='same')(l)\n",
        "l = BatchNormalization()(l)\n",
        "l = Activation(ACTIVATION_FN)(l)\n",
        "\n",
        "l = MaxPool2D(strides=(2, 2))(l)\n",
        "\n",
        "l = Conv2D(filters=filters, kernel_size=(3, 3), activation=None, padding='same')(l)\n",
        "l = BatchNormalization()(l)\n",
        "l = Activation(ACTIVATION_FN)(l)\n",
        "\n",
        "l = Conv2D(filters=filters, kernel_size=(3, 3), activation=None, padding='same')(l)\n",
        "l = BatchNormalization()(l)\n",
        "l = Activation(ACTIVATION_FN)(l)\n",
        "\n",
        "l = Conv2D(filters=filters, kernel_size=(3, 3), activation=None, padding='same')(l)\n",
        "l = BatchNormalization()(l)\n",
        "l = Activation(ACTIVATION_FN)(l)\n",
        "\n",
        "l = MaxPool2D(strides=(2, 2))(l)\n",
        "\n",
        "l = Flatten()(l)\n",
        "l = Dense(1024, activation = ACTIVATION_FN)(l)\n",
        "l = Dropout(DROP_RATE)(l)\n",
        "l = Dense(512, activation = ACTIVATION_FN)(l)\n",
        "l = Dropout(DROP_RATE)(l)\n",
        "output_layer = Dense(1, activation='sigmoid')(l)\n",
        "\n",
        "model= Model(input_layer, output_layer)\n",
        "model.compile(optimizer=Adam(lr=LEARNING_RATE, \n",
        "                             epsilon=1e-8,\n",
        "                             decay=DECAY_RATE),\n",
        "              loss='binary_crossentropy',\n",
        "              metrics=['accuracy'])\n",
        "\n",
        "\n",
        "model.summary()"
      ],
      "execution_count": 41,
      "outputs": [
        {
          "output_type": "stream",
          "name": "stdout",
          "text": [
            "Model: \"model_1\"\n",
            "_________________________________________________________________\n",
            " Layer (type)                Output Shape              Param #   \n",
            "=================================================================\n",
            " input_2 (InputLayer)        [(None, 256, 256, 3)]     0         \n",
            "                                                                 \n",
            " conv2d_1 (Conv2D)           (None, 256, 256, 32)      896       \n",
            "                                                                 \n",
            " batch_normalization_1 (Batc  (None, 256, 256, 32)     128       \n",
            " hNormalization)                                                 \n",
            "                                                                 \n",
            " activation_1 (Activation)   (None, 256, 256, 32)      0         \n",
            "                                                                 \n",
            " conv2d_2 (Conv2D)           (None, 256, 256, 32)      9248      \n",
            "                                                                 \n",
            " batch_normalization_2 (Batc  (None, 256, 256, 32)     128       \n",
            " hNormalization)                                                 \n",
            "                                                                 \n",
            " activation_2 (Activation)   (None, 256, 256, 32)      0         \n",
            "                                                                 \n",
            " max_pooling2d_1 (MaxPooling  (None, 128, 128, 32)     0         \n",
            " 2D)                                                             \n",
            "                                                                 \n",
            " conv2d_3 (Conv2D)           (None, 128, 128, 64)      18496     \n",
            "                                                                 \n",
            " batch_normalization_3 (Batc  (None, 128, 128, 64)     256       \n",
            " hNormalization)                                                 \n",
            "                                                                 \n",
            " activation_3 (Activation)   (None, 128, 128, 64)      0         \n",
            "                                                                 \n",
            " conv2d_4 (Conv2D)           (None, 128, 128, 64)      36928     \n",
            "                                                                 \n",
            " batch_normalization_4 (Batc  (None, 128, 128, 64)     256       \n",
            " hNormalization)                                                 \n",
            "                                                                 \n",
            " activation_4 (Activation)   (None, 128, 128, 64)      0         \n",
            "                                                                 \n",
            " max_pooling2d_2 (MaxPooling  (None, 64, 64, 64)       0         \n",
            " 2D)                                                             \n",
            "                                                                 \n",
            " conv2d_5 (Conv2D)           (None, 64, 64, 128)       73856     \n",
            "                                                                 \n",
            " batch_normalization_5 (Batc  (None, 64, 64, 128)      512       \n",
            " hNormalization)                                                 \n",
            "                                                                 \n",
            " activation_5 (Activation)   (None, 64, 64, 128)       0         \n",
            "                                                                 \n",
            " conv2d_6 (Conv2D)           (None, 64, 64, 128)       147584    \n",
            "                                                                 \n",
            " batch_normalization_6 (Batc  (None, 64, 64, 128)      512       \n",
            " hNormalization)                                                 \n",
            "                                                                 \n",
            " activation_6 (Activation)   (None, 64, 64, 128)       0         \n",
            "                                                                 \n",
            " conv2d_7 (Conv2D)           (None, 64, 64, 128)       147584    \n",
            "                                                                 \n",
            " batch_normalization_7 (Batc  (None, 64, 64, 128)      512       \n",
            " hNormalization)                                                 \n",
            "                                                                 \n",
            " activation_7 (Activation)   (None, 64, 64, 128)       0         \n",
            "                                                                 \n",
            " max_pooling2d_3 (MaxPooling  (None, 32, 32, 128)      0         \n",
            " 2D)                                                             \n",
            "                                                                 \n",
            " conv2d_8 (Conv2D)           (None, 32, 32, 256)       295168    \n",
            "                                                                 \n",
            " batch_normalization_8 (Batc  (None, 32, 32, 256)      1024      \n",
            " hNormalization)                                                 \n",
            "                                                                 \n",
            " activation_8 (Activation)   (None, 32, 32, 256)       0         \n",
            "                                                                 \n",
            " conv2d_9 (Conv2D)           (None, 32, 32, 256)       590080    \n",
            "                                                                 \n",
            " batch_normalization_9 (Batc  (None, 32, 32, 256)      1024      \n",
            " hNormalization)                                                 \n",
            "                                                                 \n",
            " activation_9 (Activation)   (None, 32, 32, 256)       0         \n",
            "                                                                 \n",
            " conv2d_10 (Conv2D)          (None, 32, 32, 256)       590080    \n",
            "                                                                 \n",
            " batch_normalization_10 (Bat  (None, 32, 32, 256)      1024      \n",
            " chNormalization)                                                \n",
            "                                                                 \n",
            " activation_10 (Activation)  (None, 32, 32, 256)       0         \n",
            "                                                                 \n",
            " max_pooling2d_4 (MaxPooling  (None, 16, 16, 256)      0         \n",
            " 2D)                                                             \n",
            "                                                                 \n",
            " conv2d_11 (Conv2D)          (None, 16, 16, 256)       590080    \n",
            "                                                                 \n",
            " batch_normalization_11 (Bat  (None, 16, 16, 256)      1024      \n",
            " chNormalization)                                                \n",
            "                                                                 \n",
            " activation_11 (Activation)  (None, 16, 16, 256)       0         \n",
            "                                                                 \n",
            " conv2d_12 (Conv2D)          (None, 16, 16, 256)       590080    \n",
            "                                                                 \n",
            " batch_normalization_12 (Bat  (None, 16, 16, 256)      1024      \n",
            " chNormalization)                                                \n",
            "                                                                 \n",
            " activation_12 (Activation)  (None, 16, 16, 256)       0         \n",
            "                                                                 \n",
            " conv2d_13 (Conv2D)          (None, 16, 16, 256)       590080    \n",
            "                                                                 \n",
            " batch_normalization_13 (Bat  (None, 16, 16, 256)      1024      \n",
            " chNormalization)                                                \n",
            "                                                                 \n",
            " activation_13 (Activation)  (None, 16, 16, 256)       0         \n",
            "                                                                 \n",
            " max_pooling2d_5 (MaxPooling  (None, 8, 8, 256)        0         \n",
            " 2D)                                                             \n",
            "                                                                 \n",
            " flatten_1 (Flatten)         (None, 16384)             0         \n",
            "                                                                 \n",
            " dense_2 (Dense)             (None, 1024)              16778240  \n",
            "                                                                 \n",
            " dropout_1 (Dropout)         (None, 1024)              0         \n",
            "                                                                 \n",
            " dense_3 (Dense)             (None, 512)               524800    \n",
            "                                                                 \n",
            " dropout_2 (Dropout)         (None, 512)               0         \n",
            "                                                                 \n",
            " dense_4 (Dense)             (None, 1)                 513       \n",
            "                                                                 \n",
            "=================================================================\n",
            "Total params: 20,992,161\n",
            "Trainable params: 20,987,937\n",
            "Non-trainable params: 4,224\n",
            "_________________________________________________________________\n"
          ]
        },
        {
          "output_type": "stream",
          "name": "stderr",
          "text": [
            "/usr/local/lib/python3.7/dist-packages/keras/optimizer_v2/adam.py:105: UserWarning: The `lr` argument is deprecated, use `learning_rate` instead.\n",
            "  super(Adam, self).__init__(name, **kwargs)\n"
          ]
        }
      ]
    },
    {
      "cell_type": "markdown",
      "metadata": {
        "id": "gXdEuMmfuk7S"
      },
      "source": [
        "# AI 모델 훈련하기\n",
        "\n",
        "이렇게 준비한 AI 모델을 fit_generator 함수를 이용해 훈련시킬 수 있습니다."
      ]
    },
    {
      "cell_type": "code",
      "metadata": {
        "id": "CHH4KB8rpkgi",
        "outputId": "da1d05bb-210c-43db-ba30-10d987c7ee3f",
        "colab": {
          "base_uri": "https://localhost:8080/"
        }
      },
      "source": [
        "physical_devices = tf.config.list_physical_devices('GPU')\n",
        "print(physical_devices)\n",
        "# tf.config.set_visible_devices(physical_devices[self.gpu_vision[0]], 'GPU')"
      ],
      "execution_count": 43,
      "outputs": [
        {
          "output_type": "stream",
          "name": "stdout",
          "text": [
            "[PhysicalDevice(name='/physical_device:GPU:0', device_type='GPU')]\n"
          ]
        }
      ]
    },
    {
      "cell_type": "code",
      "metadata": {
        "colab": {
          "base_uri": "https://localhost:8080/"
        },
        "id": "ni_7kCDaum8h",
        "outputId": "5c735bb8-dfea-4177-9437-a838fd4cdaa9"
      },
      "source": [
        "tf.debugging.set_log_device_placement(True)\n",
        "history = model.fit_generator(generator=train_generator,\n",
        "                              steps_per_epoch=train_generator.n // BATCH_SIZE,\n",
        "                              epochs=EPOCHS,\n",
        "                              validation_data=val_generator,\n",
        "                              validation_steps=val_generator.n // BATCH_SIZE)"
      ],
      "execution_count": 44,
      "outputs": [
        {
          "output_type": "stream",
          "name": "stderr",
          "text": [
            "/usr/local/lib/python3.7/dist-packages/ipykernel_launcher.py:6: UserWarning: `Model.fit_generator` is deprecated and will be removed in a future version. Please use `Model.fit`, which supports generators.\n",
            "  \n"
          ]
        },
        {
          "output_type": "stream",
          "name": "stdout",
          "text": [
            "Epoch 1/10\n",
            "13/13 [==============================] - 36s 194ms/step - loss: 1.6142 - accuracy: 0.6615 - val_loss: 0.7865 - val_accuracy: 0.5000\n",
            "Epoch 2/10\n",
            "13/13 [==============================] - 2s 159ms/step - loss: 0.1819 - accuracy: 0.9385 - val_loss: 1.5576 - val_accuracy: 0.5000\n",
            "Epoch 3/10\n",
            "13/13 [==============================] - 2s 160ms/step - loss: 0.6247 - accuracy: 0.9077 - val_loss: 3.6534 - val_accuracy: 0.5000\n",
            "Epoch 4/10\n",
            "13/13 [==============================] - 2s 162ms/step - loss: 0.0736 - accuracy: 0.9692 - val_loss: 8.0254 - val_accuracy: 0.5000\n",
            "Epoch 5/10\n",
            "13/13 [==============================] - 2s 159ms/step - loss: 0.4745 - accuracy: 0.8615 - val_loss: 6.0689 - val_accuracy: 0.5000\n",
            "Epoch 6/10\n",
            "13/13 [==============================] - 2s 162ms/step - loss: 0.2999 - accuracy: 0.9538 - val_loss: 6.2796 - val_accuracy: 0.5000\n",
            "Epoch 7/10\n",
            "13/13 [==============================] - 2s 160ms/step - loss: 0.1375 - accuracy: 0.9538 - val_loss: 11.2948 - val_accuracy: 0.5000\n",
            "Epoch 8/10\n",
            "13/13 [==============================] - 2s 161ms/step - loss: 0.2252 - accuracy: 0.9538 - val_loss: 10.0208 - val_accuracy: 0.5000\n",
            "Epoch 9/10\n",
            "13/13 [==============================] - 2s 160ms/step - loss: 0.2319 - accuracy: 0.9385 - val_loss: 6.0983 - val_accuracy: 0.5000\n",
            "Epoch 10/10\n",
            "13/13 [==============================] - 2s 162ms/step - loss: 0.2002 - accuracy: 0.9692 - val_loss: 3.1305 - val_accuracy: 0.5000\n"
          ]
        }
      ]
    },
    {
      "cell_type": "markdown",
      "metadata": {
        "id": "4xWvq7RAun_M"
      },
      "source": [
        "# 훈련 결과 확인하기\n",
        "\n",
        "훈련 결과를 한 눈에 확인할 수 있는 그래프를 만들어 보겠습니다.\n",
        "\n",
        "먼저 그래프의 **y축에 사용할 값**들을 **history 항목**에서 추출해 봅시다."
      ]
    },
    {
      "cell_type": "code",
      "metadata": {
        "id": "tUCiev-4upJa"
      },
      "source": [
        "acc = history.history['accuracy']\n",
        "val_acc = history.history['val_accuracy']\n",
        "loss = history.history['loss']\n",
        "val_loss = history.history['val_loss']"
      ],
      "execution_count": null,
      "outputs": []
    },
    {
      "cell_type": "markdown",
      "metadata": {
        "id": "YIcXSXQwuqPC"
      },
      "source": [
        "다음으로 그래프의 **x축** 값으로 사용할 **epoch** 을 뽑아 보겠습니다."
      ]
    },
    {
      "cell_type": "code",
      "metadata": {
        "id": "_mxBUAYmurbK"
      },
      "source": [
        "epochs = range(1,len(acc)+1)"
      ],
      "execution_count": null,
      "outputs": []
    },
    {
      "cell_type": "markdown",
      "metadata": {
        "id": "IdiQPsrouseK"
      },
      "source": [
        "값들을 확인해볼까요?"
      ]
    },
    {
      "cell_type": "code",
      "metadata": {
        "colab": {
          "base_uri": "https://localhost:8080/"
        },
        "id": "92K_ukiButoK",
        "outputId": "dd1315f2-549d-401b-8baa-179530d25839"
      },
      "source": [
        "acc"
      ],
      "execution_count": null,
      "outputs": [
        {
          "data": {
            "text/plain": [
              "[0.7846153974533081,\n",
              " 0.8461538553237915,\n",
              " 0.9538461565971375,\n",
              " 0.9230769276618958,\n",
              " 0.9230769276618958,\n",
              " 0.9076923131942749,\n",
              " 0.9846153855323792,\n",
              " 0.9230769276618958,\n",
              " 0.9076923131942749,\n",
              " 0.9538461565971375]"
            ]
          },
          "execution_count": 21,
          "metadata": {
            "tags": []
          },
          "output_type": "execute_result"
        }
      ]
    },
    {
      "cell_type": "code",
      "metadata": {
        "colab": {
          "base_uri": "https://localhost:8080/"
        },
        "id": "yTBWF_vxuu9M",
        "outputId": "dfbebf97-988a-41b9-f74c-f86ea7a2e2b5"
      },
      "source": [
        "val_acc"
      ],
      "execution_count": null,
      "outputs": [
        {
          "data": {
            "text/plain": [
              "[0.5, 0.5, 0.5, 0.5, 0.5, 0.5, 0.5, 0.5, 0.5, 0.5]"
            ]
          },
          "execution_count": 22,
          "metadata": {
            "tags": []
          },
          "output_type": "execute_result"
        }
      ]
    },
    {
      "cell_type": "code",
      "metadata": {
        "colab": {
          "base_uri": "https://localhost:8080/"
        },
        "id": "jrrbJ7JxuwFM",
        "outputId": "4f3252dc-703b-48de-da6b-ce8bf80abb5f"
      },
      "source": [
        "loss"
      ],
      "execution_count": null,
      "outputs": [
        {
          "data": {
            "text/plain": [
              "[1.0432980060577393,\n",
              " 0.6810811758041382,\n",
              " 0.13829486072063446,\n",
              " 0.48031941056251526,\n",
              " 0.40483081340789795,\n",
              " 0.42576709389686584,\n",
              " 0.11356111615896225,\n",
              " 0.19687685370445251,\n",
              " 0.5338226556777954,\n",
              " 0.20979827642440796]"
            ]
          },
          "execution_count": 23,
          "metadata": {
            "tags": []
          },
          "output_type": "execute_result"
        }
      ]
    },
    {
      "cell_type": "code",
      "metadata": {
        "colab": {
          "base_uri": "https://localhost:8080/"
        },
        "id": "nzV7hYZVuyGM",
        "outputId": "0f0b2299-0b0b-4252-9b05-0cd3510984be"
      },
      "source": [
        "val_loss"
      ],
      "execution_count": null,
      "outputs": [
        {
          "data": {
            "text/plain": [
              "[3.8615670204162598,\n",
              " 9.646465301513672,\n",
              " 9.978872299194336,\n",
              " 12.612260818481445,\n",
              " 5.030977249145508,\n",
              " 5.710585594177246,\n",
              " 7.835955619812012,\n",
              " 10.239974021911621,\n",
              " 10.468313217163086,\n",
              " 7.57915735244751]"
            ]
          },
          "execution_count": 24,
          "metadata": {
            "tags": []
          },
          "output_type": "execute_result"
        }
      ]
    },
    {
      "cell_type": "code",
      "metadata": {
        "colab": {
          "base_uri": "https://localhost:8080/"
        },
        "id": "SwWP2NvUuzkC",
        "outputId": "88d4685d-f795-4f9c-f33c-929145258044"
      },
      "source": [
        "list(epochs)"
      ],
      "execution_count": null,
      "outputs": [
        {
          "data": {
            "text/plain": [
              "[1, 2, 3, 4, 5, 6, 7, 8, 9, 10]"
            ]
          },
          "execution_count": 25,
          "metadata": {
            "tags": []
          },
          "output_type": "execute_result"
        }
      ]
    },
    {
      "cell_type": "markdown",
      "metadata": {
        "id": "kmrVRY3Su09q"
      },
      "source": [
        "이 값들을 이용해 그래프를 만들어 보겠습니다."
      ]
    },
    {
      "cell_type": "code",
      "metadata": {
        "colab": {
          "base_uri": "https://localhost:8080/",
          "height": 545
        },
        "id": "Qw76EOfEu1lj",
        "outputId": "d828ffc3-53b5-4f25-ee09-0f8c56cca0bb"
      },
      "source": [
        "plt.plot(epochs, acc, 'b', color='blue', label='Training acc')\n",
        "plt.plot(epochs, val_acc, 'b', color='red', label='Validation acc')\n",
        "plt.title('Training and validation accuracy')\n",
        "plt.legend()\n",
        "\n",
        "plt.figure()\n",
        "\n",
        "plt.plot(epochs, loss, 'b', color='blue', label='Training loss')\n",
        "plt.plot(epochs, val_loss, 'b', color='red', label='Validation loss')\n",
        "plt.title('Training and validation loss')\n",
        "plt.legend()\n",
        "\n",
        "plt.show()"
      ],
      "execution_count": null,
      "outputs": [
        {
          "data": {
            "image/png": "[encoded data removed]",
            "text/plain": [
              "<Figure size 432x288 with 1 Axes>"
            ]
          },
          "metadata": {
            "needs_background": "light",
            "tags": []
          },
          "output_type": "display_data"
        },
        {
          "data": {
            "image/png": "[encoded data removed]",
            "text/plain": [
              "<Figure size 432x288 with 1 Axes>"
            ]
          },
          "metadata": {
            "needs_background": "light",
            "tags": []
          },
          "output_type": "display_data"
        }
      ]
    },
    {
      "cell_type": "markdown",
      "metadata": {
        "id": "hRot97WCu4xC"
      },
      "source": [
        "# 테스트하기\n",
        "\n",
        "마지막으로 AI 모델이 실제로 X-ray 이미지를 잘 분류하는지 확인해보겠습니다."
      ]
    },
    {
      "cell_type": "code",
      "metadata": {
        "colab": {
          "base_uri": "https://localhost:8080/",
          "height": 556
        },
        "id": "lWPuxbBlu5LL",
        "outputId": "49839df9-d281-4166-987e-761a24736f24"
      },
      "source": [
        "img1_path = './Deepnoid-Education/dataset/xray_abd_chest/TEST/chest2.png'\n",
        "img2_path = './Deepnoid-Education/dataset/xray_abd_chest/TEST/abd2.png'\n",
        "\n",
        "img1 = image.load_img(img1_path, target_size=(IMG_HEIGHT, IMG_WIDTH))\n",
        "img2 = image.load_img(img2_path, target_size=(IMG_HEIGHT, IMG_WIDTH))\n",
        "\n",
        "plt.imshow(img1)\n",
        "plt.show()\n",
        "\n",
        "img1 = image.img_to_array(img1)\n",
        "img1 /= 255.\n",
        "img1 = img1[np.newaxis, :, :, :]\n",
        "score1 = model.predict(img1)\n",
        "print('Predicted:', 'Chest X-ray' if score1 < 0.5 else 'Abd X-ray', ', Score:', score1[0,0])\n",
        "\n",
        "plt.imshow(img2)\n",
        "plt.show()\n",
        "\n",
        "img2 = image.img_to_array(img2)\n",
        "img2 /= 255.\n",
        "img2 = img2[np.newaxis, :, :, :]\n",
        "score2 = model.predict(img2)\n",
        "print('Predicted: ', 'Chest X-ray' if score2 < 0.5 else 'Abd X-ray', ', Score:', score2[0,0])"
      ],
      "execution_count": null,
      "outputs": [
        {
          "data": {
            "image/png": "[encoded data removed]",
            "text/plain": [
              "<Figure size 432x288 with 1 Axes>"
            ]
          },
          "metadata": {
            "needs_background": "light",
            "tags": []
          },
          "output_type": "display_data"
        },
        {
          "name": "stdout",
          "output_type": "stream",
          "text": [
            "Predicted: Abd X-ray , Score: 1.0\n"
          ]
        },
        {
          "data": {
            "image/png": "[encoded data removed]",
            "text/plain": [
              "<Figure size 432x288 with 1 Axes>"
            ]
          },
          "metadata": {
            "needs_background": "light",
            "tags": []
          },
          "output_type": "display_data"
        },
        {
          "name": "stdout",
          "output_type": "stream",
          "text": [
            "Predicted:  Abd X-ray , Score: 1.0\n"
          ]
        }
      ]
    },
    {
      "cell_type": "code",
      "metadata": {
        "id": "-mtyii-evHOQ"
      },
      "source": [
        ""
      ],
      "execution_count": null,
      "outputs": []
    }
  ]
}