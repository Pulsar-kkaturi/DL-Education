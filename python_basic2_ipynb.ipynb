{
  "nbformat": 4,
  "nbformat_minor": 0,
  "metadata": {
    "orig_nbformat": 4,
    "language_info": {
      "name": "plaintext"
    },
    "colab": {
      "name": "python_basic2.ipynb의 사본",
      "provenance": [],
      "include_colab_link": true
    }
  },
  "cells": [
    {
      "cell_type": "markdown",
      "metadata": {
        "id": "view-in-github",
        "colab_type": "text"
      },
      "source": [
        "<a href=\"https://colab.research.google.com/github/Pulsar-kkaturi/DL-Education/blob/master/python_basic2_ipynb.ipynb\" target=\"_parent\"><img src=\"https://colab.research.google.com/assets/colab-badge.svg\" alt=\"Open In Colab\"/></a>"
      ]
    },
    {
      "cell_type": "markdown",
      "metadata": {
        "id": "TdNuM_Mll272"
      },
      "source": [
        "# 파이썬 기초문법 2 - 흐름제어와 함수"
      ]
    },
    {
      "cell_type": "markdown",
      "metadata": {
        "id": "D65OfIdhl27-"
      },
      "source": [
        "## 1. if 문"
      ]
    },
    {
      "cell_type": "code",
      "metadata": {
        "id": "ye8fUCNbl5cq"
      },
      "source": [
        ""
      ],
      "execution_count": null,
      "outputs": []
    }
  ]
}