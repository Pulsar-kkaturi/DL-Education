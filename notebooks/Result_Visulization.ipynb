{
  "cells": [
    {
      "cell_type": "markdown",
      "metadata": {
        "colab_type": "text",
        "id": "view-in-github"
      },
      "source": [
        "<a href=\"https://colab.research.google.com/github/Pulsar-kkaturi/Deepnoid-Education/blob/master/notebooks/Result_Visulization.ipynb\" target=\"_parent\"><img src=\"https://colab.research.google.com/assets/colab-badge.svg\" alt=\"Open In Colab\"/></a>"
      ]
    },
    {
      "cell_type": "markdown",
      "metadata": {
        "id": "37DOVvDMm-_A"
      },
      "source": [
        "# Result Visulization (결과 시각화)"
      ]
    },
    {
      "cell_type": "markdown",
      "metadata": {
        "id": "Q4XY8H1nnFe_"
      },
      "source": [
        "# 1. Library Import"
      ]
    },
    {
      "cell_type": "code",
      "execution_count": 39,
      "metadata": {
        "id": "-vEPrq0skcWj"
      },
      "outputs": [],
      "source": [
        "import os, matplotlib, csv, shutil, json\n",
        "import numpy as np\n",
        "import matplotlib\n",
        "from matplotlib import pyplot as plt\n",
        "import matplotlib.cm as cm\n",
        "import pandas as pd\n",
        "from IPython.display import Image\n",
        "\n",
        "### Tensorflow 2.0 ###\n",
        "import tensorflow as tf\n",
        "from tensorflow import keras\n",
        "from tensorflow.keras.models import Sequential, Model\n",
        "from tensorflow.keras import Input\n",
        "from tensorflow.keras import layers\n",
        "from tensorflow.keras import models\n",
        "from tensorflow.keras.preprocessing import image\n",
        "from tensorflow.keras.preprocessing.image import ImageDataGenerator\n",
        "from tensorflow.keras import losses\n",
        "from tensorflow.keras import optimizers\n",
        "from tensorflow.keras import metrics\n",
        "from tensorflow.keras import regularizers\n",
        "from tensorflow.keras import utils\n",
        "from tensorflow.keras.callbacks import ModelCheckpoint, LearningRateScheduler\n",
        "from keras import backend as K"
      ]
    },
    {
      "cell_type": "markdown",
      "metadata": {
        "id": "78f6Q_C-8dnh"
      },
      "source": [
        "# 2. 데이터셋 로딩"
      ]
    },
    {
      "cell_type": "code",
      "execution_count": 2,
      "metadata": {
        "colab": {
          "base_uri": "https://localhost:8080/"
        },
        "id": "HwNtiL33oGpZ",
        "outputId": "b99ec31f-7edb-4e55-8876-ccc9d638a966"
      },
      "outputs": [
        {
          "name": "stdout",
          "output_type": "stream",
          "text": [
            "Downloading data from https://storage.googleapis.com/tensorflow/tf-keras-datasets/mnist.npz\n",
            "11493376/11490434 [==============================] - 0s 0us/step\n"
          ]
        }
      ],
      "source": [
        "(x_train, y_train), (x_test, y_test)=keras.datasets.mnist.load_data(path='minist.npz')\n"
      ]
    },
    {
      "cell_type": "code",
      "execution_count": 3,
      "metadata": {
        "colab": {
          "base_uri": "https://localhost:8080/"
        },
        "id": "wP8qLluRuV2O",
        "outputId": "6ebc4166-d66c-49c1-f94a-6e52e3ee0c72"
      },
      "outputs": [
        {
          "name": "stdout",
          "output_type": "stream",
          "text": [
            "(60000, 28, 28) (60000,)\n"
          ]
        }
      ],
      "source": [
        "print(x_train.shape, y_train.shape)"
      ]
    },
    {
      "cell_type": "markdown",
      "metadata": {
        "id": "1hkS7G1ruu5q"
      },
      "source": [
        "# 2.1 MNIST Image Array"
      ]
    },
    {
      "cell_type": "code",
      "execution_count": 4,
      "metadata": {
        "colab": {
          "base_uri": "https://localhost:8080/"
        },
        "id": "7UHKqWuXuWuu",
        "outputId": "c15a6116-3610-4804-b86d-e872a0fc1c35"
      },
      "outputs": [
        {
          "name": "stdout",
          "output_type": "stream",
          "text": [
            "(1000, 32, 32, 1) (500, 32, 32, 1)\n"
          ]
        }
      ],
      "source": [
        "x_train_list = []\n",
        "x_test_list = []\n",
        "for i, i_ in enumerate(x_train[:1000]):\n",
        "    arr = np.zeros(shape=(32, 32))\n",
        "    arr[:28,:28] = x_train[i]\n",
        "    x_train_list.append(arr)\n",
        "for i, i_ in enumerate(x_test[:500]):\n",
        "    arr = np.zeros(shape=(32, 32))\n",
        "    arr[:28,:28] = x_test[i]\n",
        "    x_test_list.append(arr)\n",
        "\n",
        "x_train1 = np.expand_dims(np.array(x_train_list), axis=-1)\n",
        "x_test1 = np.expand_dims(np.array(x_test_list), axis=-1)\n",
        "print(x_train1.shape, x_test1.shape)"
      ]
    },
    {
      "cell_type": "markdown",
      "metadata": {
        "id": "AWvQRG19uzZF"
      },
      "source": [
        "## 2.2 MNIST LABEL Array"
      ]
    },
    {
      "cell_type": "code",
      "execution_count": 5,
      "metadata": {
        "colab": {
          "base_uri": "https://localhost:8080/"
        },
        "id": "FrMj2eGFusoa",
        "outputId": "ee1f2142-da56-4c25-9a56-5599f1b96220"
      },
      "outputs": [
        {
          "name": "stdout",
          "output_type": "stream",
          "text": [
            "(1000, 10) (500, 10)\n"
          ]
        }
      ],
      "source": [
        "y_train_list = []\n",
        "y_test_list = []\n",
        "for i, i_ in enumerate(y_train[:1000]):\n",
        "    zero = [0]*10\n",
        "    zero[i_] = 1\n",
        "    y_train_list.append(zero)\n",
        "\n",
        "for i, i_ in enumerate(y_test[:500]):\n",
        "    zero = [0]*10\n",
        "    zero[i_] = 1\n",
        "    y_test_list.append(zero)    \n",
        "    \n",
        "y_train1 = np.array(y_train_list)\n",
        "y_test1 = np.array(y_test_list)\n",
        "print(y_train1.shape, y_test1.shape)"
      ]
    },
    {
      "cell_type": "markdown",
      "metadata": {
        "id": "x2-6RHzfvi0N"
      },
      "source": [
        "## 2.3 MNIST figure"
      ]
    },
    {
      "cell_type": "code",
      "execution_count": 6,
      "metadata": {
        "colab": {
          "base_uri": "https://localhost:8080/",
          "height": 228
        },
        "id": "gM8fOyzMutQi",
        "outputId": "e91fd810-8086-49f6-b09a-3dfe53fbdee3"
      },
      "outputs": [
        {
          "data": {
            "image/png": "[encoded data removed]",
            "text/plain": [
              "<Figure size 720x720 with 3 Axes>"
            ]
          },
          "metadata": {
            "needs_background": "light",
            "tags": []
          },
          "output_type": "display_data"
        }
      ],
      "source": [
        "plt.figure(figsize=(10,10))\n",
        "for i in range(3):\n",
        "    plt.subplot(1,3,i+1)\n",
        "    plt.imshow(x_train1[i][...,0], cmap='gray')\n",
        "    plt.title('Class = {}'.format(y_train[i]))"
      ]
    },
    {
      "cell_type": "markdown",
      "metadata": {
        "id": "7PsuhnRmvosv"
      },
      "source": [
        "# 3. VGG Model Build"
      ]
    },
    {
      "cell_type": "code",
      "execution_count": 7,
      "metadata": {
        "id": "SQyNwsW7vhw0"
      },
      "outputs": [],
      "source": [
        "def conv_block_2d(lr_conv, lr_num, par_list, bkn):\n",
        "        # parameter\n",
        "        filter_num = par_list[0]\n",
        "        conv_size = par_list[1]\n",
        "        conv_act = par_list[2]\n",
        "        pool_size = par_list[3]\n",
        "        # code\n",
        "        for i in range(lr_num):\n",
        "            lr_conv = layers.Conv2D(filter_num, conv_size, activation=None, padding='same', \n",
        "                                    kernel_initializer='he_normal',\n",
        "                                    name='block{}_conv{}'.format(bkn, i+1))(lr_conv)\n",
        "            lr_conv = layers.BatchNormalization(axis=-1, name='block{}_batchnorm{}'.format(bkn, i+1))(lr_conv)\n",
        "            lr_conv = layers.Activation(conv_act, name='block{}_activ{}'.format(bkn, i+1))(lr_conv)\n",
        "        lr_pool = layers.MaxPooling2D(pool_size=pool_size, name='block{}_pool'.format(bkn, i+1))(lr_conv)\n",
        "        return lr_pool\n",
        "\n",
        "def output_block(lr_dense, block_num, dens_count, act_func, drop_rate):\n",
        "    lr_dense = layers.Flatten(name='flatten_layer')(lr_dense)\n",
        "    for i in range(block_num):\n",
        "        lr_dense = layers.Dense(dens_count[i], kernel_regularizer=None,\n",
        "                                activation=act_func, name='classifier_dense_{}'.format(i+1))(lr_dense)\n",
        "        lr_dense = layers.Dropout(drop_rate, name='classifier_dropout_{}'.format(i+1))(lr_dense)\n",
        "    return lr_dense"
      ]
    },
    {
      "cell_type": "code",
      "execution_count": 8,
      "metadata": {
        "id": "YQ6tQ28ZwFmO"
      },
      "outputs": [],
      "source": [
        "def VGG16_2D(par_dic):\n",
        "    # parameters\n",
        "    input_size = par_dic['input_size']\n",
        "    conv_size = par_dic['conv_size']\n",
        "    conv_act = par_dic['conv_act']\n",
        "    pool_size = par_dic['pool_size']\n",
        "    dens_num = par_dic['dens_num']\n",
        "    dens_count = par_dic['dens_count']\n",
        "    dens_act = par_dic['dens_act']\n",
        "    drop_out = par_dic['drop_out']\n",
        "    output_count = par_dic['output_count']\n",
        "    output_act = par_dic['output_act']\n",
        "\n",
        "    # code block\n",
        "    inputs = Input(shape=(input_size, input_size, 1), name='input_layer')\n",
        "    block1 = conv_block_2d(inputs, 2, [64, conv_size, conv_act, pool_size])\n",
        "    block2 = conv_block_2d(block1, 2, [128, conv_size, conv_act, pool_size])\n",
        "    block3 = conv_block_2d(block2, 3, [256, conv_size, conv_act, pool_size])\n",
        "    block4 = conv_block_2d(block3, 3, [512, conv_size, conv_act, pool_size])\n",
        "    block5 = conv_block_2d(block4, 3, [512, conv_size, conv_act, pool_size])\n",
        "    dens = output_block(block5, dens_num, dens_count, dens_act, drop_out)\n",
        "    outputs = layers.Dense(output_count, activation=output_act, name='output_layer')(dens)\n",
        "    model = Model(inputs, outputs)\n",
        "    return model"
      ]
    },
    {
      "cell_type": "code",
      "execution_count": 15,
      "metadata": {
        "id": "SEKz3nqgxYQQ"
      },
      "outputs": [],
      "source": [
        "def VGG19_2D(par_dic):\n",
        "    # parameters\n",
        "    input_size = par_dic['input_size']\n",
        "    conv_size = par_dic['conv_size']\n",
        "    conv_act = par_dic['conv_act']\n",
        "    pool_size = par_dic['pool_size']\n",
        "    dens_num = par_dic['dens_num']\n",
        "    dens_count = par_dic['dens_count']\n",
        "    dens_act = par_dic['dens_act']\n",
        "    drop_out = par_dic['drop_out']\n",
        "    output_count = par_dic['output_count']\n",
        "    output_act = par_dic['output_act']\n",
        "\n",
        "    # code block\n",
        "    inputs = Input(shape=(input_size, input_size, 1))\n",
        "    block1 = conv_block_2d(inputs, 2, [64, conv_size, conv_act, pool_size], 1)\n",
        "    block2 = conv_block_2d(block1, 2, [128, conv_size, conv_act, pool_size], 2)\n",
        "    block3 = conv_block_2d(block2, 4, [256, conv_size, conv_act, pool_size], 3)\n",
        "    block4 = conv_block_2d(block3, 4, [512, conv_size, conv_act, pool_size], 4)\n",
        "    block5 = conv_block_2d(block4, 4, [512, conv_size, conv_act, pool_size], 5)\n",
        "    dens = output_block(block5, dens_num, dens_count, dens_act, drop_out)\n",
        "    outputs = layers.Dense(output_count, activation=output_act)(dens)\n",
        "    model = Model(inputs, outputs)\n",
        "    return model"
      ]
    },
    {
      "cell_type": "code",
      "execution_count": 16,
      "metadata": {
        "id": "94txtM58xuKS"
      },
      "outputs": [],
      "source": [
        "network_param_set = {'input_size': 32,\n",
        "                     'conv_size': 3,\n",
        "                     'conv_act': 'relu',\n",
        "                     'pool_size': 2,\n",
        "                     'dens_num': 2,\n",
        "                     'dens_count': [1000,500],\n",
        "                     'dens_act': 'relu',\n",
        "                     'drop_out': 0.5,\n",
        "                     'output_count': 10,\n",
        "                     'output_act': 'softmax'}"
      ]
    },
    {
      "cell_type": "code",
      "execution_count": 17,
      "metadata": {
        "colab": {
          "base_uri": "https://localhost:8080/"
        },
        "id": "87IRklsi0_t0",
        "outputId": "4a215516-0d89-4903-d497-55d4cf0674fc"
      },
      "outputs": [
        {
          "name": "stdout",
          "output_type": "stream",
          "text": [
            "Model: \"model\"\n",
            "_________________________________________________________________\n",
            "Layer (type)                 Output Shape              Param #   \n",
            "=================================================================\n",
            "input_3 (InputLayer)         [(None, 32, 32, 1)]       0         \n",
            "_________________________________________________________________\n",
            "block1_conv1 (Conv2D)        (None, 32, 32, 64)        640       \n",
            "_________________________________________________________________\n",
            "block1_batchnorm1 (BatchNorm (None, 32, 32, 64)        256       \n",
            "_________________________________________________________________\n",
            "block1_activ1 (Activation)   (None, 32, 32, 64)        0         \n",
            "_________________________________________________________________\n",
            "block1_conv2 (Conv2D)        (None, 32, 32, 64)        36928     \n",
            "_________________________________________________________________\n",
            "block1_batchnorm2 (BatchNorm (None, 32, 32, 64)        256       \n",
            "_________________________________________________________________\n",
            "block1_activ2 (Activation)   (None, 32, 32, 64)        0         \n",
            "_________________________________________________________________\n",
            "block1_pool (MaxPooling2D)   (None, 16, 16, 64)        0         \n",
            "_________________________________________________________________\n",
            "block2_conv1 (Conv2D)        (None, 16, 16, 128)       73856     \n",
            "_________________________________________________________________\n",
            "block2_batchnorm1 (BatchNorm (None, 16, 16, 128)       512       \n",
            "_________________________________________________________________\n",
            "block2_activ1 (Activation)   (None, 16, 16, 128)       0         \n",
            "_________________________________________________________________\n",
            "block2_conv2 (Conv2D)        (None, 16, 16, 128)       147584    \n",
            "_________________________________________________________________\n",
            "block2_batchnorm2 (BatchNorm (None, 16, 16, 128)       512       \n",
            "_________________________________________________________________\n",
            "block2_activ2 (Activation)   (None, 16, 16, 128)       0         \n",
            "_________________________________________________________________\n",
            "block2_pool (MaxPooling2D)   (None, 8, 8, 128)         0         \n",
            "_________________________________________________________________\n",
            "block3_conv1 (Conv2D)        (None, 8, 8, 256)         295168    \n",
            "_________________________________________________________________\n",
            "block3_batchnorm1 (BatchNorm (None, 8, 8, 256)         1024      \n",
            "_________________________________________________________________\n",
            "block3_activ1 (Activation)   (None, 8, 8, 256)         0         \n",
            "_________________________________________________________________\n",
            "block3_conv2 (Conv2D)        (None, 8, 8, 256)         590080    \n",
            "_________________________________________________________________\n",
            "block3_batchnorm2 (BatchNorm (None, 8, 8, 256)         1024      \n",
            "_________________________________________________________________\n",
            "block3_activ2 (Activation)   (None, 8, 8, 256)         0         \n",
            "_________________________________________________________________\n",
            "block3_conv3 (Conv2D)        (None, 8, 8, 256)         590080    \n",
            "_________________________________________________________________\n",
            "block3_batchnorm3 (BatchNorm (None, 8, 8, 256)         1024      \n",
            "_________________________________________________________________\n",
            "block3_activ3 (Activation)   (None, 8, 8, 256)         0         \n",
            "_________________________________________________________________\n",
            "block3_conv4 (Conv2D)        (None, 8, 8, 256)         590080    \n",
            "_________________________________________________________________\n",
            "block3_batchnorm4 (BatchNorm (None, 8, 8, 256)         1024      \n",
            "_________________________________________________________________\n",
            "block3_activ4 (Activation)   (None, 8, 8, 256)         0         \n",
            "_________________________________________________________________\n",
            "block3_pool (MaxPooling2D)   (None, 4, 4, 256)         0         \n",
            "_________________________________________________________________\n",
            "block4_conv1 (Conv2D)        (None, 4, 4, 512)         1180160   \n",
            "_________________________________________________________________\n",
            "block4_batchnorm1 (BatchNorm (None, 4, 4, 512)         2048      \n",
            "_________________________________________________________________\n",
            "block4_activ1 (Activation)   (None, 4, 4, 512)         0         \n",
            "_________________________________________________________________\n",
            "block4_conv2 (Conv2D)        (None, 4, 4, 512)         2359808   \n",
            "_________________________________________________________________\n",
            "block4_batchnorm2 (BatchNorm (None, 4, 4, 512)         2048      \n",
            "_________________________________________________________________\n",
            "block4_activ2 (Activation)   (None, 4, 4, 512)         0         \n",
            "_________________________________________________________________\n",
            "block4_conv3 (Conv2D)        (None, 4, 4, 512)         2359808   \n",
            "_________________________________________________________________\n",
            "block4_batchnorm3 (BatchNorm (None, 4, 4, 512)         2048      \n",
            "_________________________________________________________________\n",
            "block4_activ3 (Activation)   (None, 4, 4, 512)         0         \n",
            "_________________________________________________________________\n",
            "block4_conv4 (Conv2D)        (None, 4, 4, 512)         2359808   \n",
            "_________________________________________________________________\n",
            "block4_batchnorm4 (BatchNorm (None, 4, 4, 512)         2048      \n",
            "_________________________________________________________________\n",
            "block4_activ4 (Activation)   (None, 4, 4, 512)         0         \n",
            "_________________________________________________________________\n",
            "block4_pool (MaxPooling2D)   (None, 2, 2, 512)         0         \n",
            "_________________________________________________________________\n",
            "block5_conv1 (Conv2D)        (None, 2, 2, 512)         2359808   \n",
            "_________________________________________________________________\n",
            "block5_batchnorm1 (BatchNorm (None, 2, 2, 512)         2048      \n",
            "_________________________________________________________________\n",
            "block5_activ1 (Activation)   (None, 2, 2, 512)         0         \n",
            "_________________________________________________________________\n",
            "block5_conv2 (Conv2D)        (None, 2, 2, 512)         2359808   \n",
            "_________________________________________________________________\n",
            "block5_batchnorm2 (BatchNorm (None, 2, 2, 512)         2048      \n",
            "_________________________________________________________________\n",
            "block5_activ2 (Activation)   (None, 2, 2, 512)         0         \n",
            "_________________________________________________________________\n",
            "block5_conv3 (Conv2D)        (None, 2, 2, 512)         2359808   \n",
            "_________________________________________________________________\n",
            "block5_batchnorm3 (BatchNorm (None, 2, 2, 512)         2048      \n",
            "_________________________________________________________________\n",
            "block5_activ3 (Activation)   (None, 2, 2, 512)         0         \n",
            "_________________________________________________________________\n",
            "block5_conv4 (Conv2D)        (None, 2, 2, 512)         2359808   \n",
            "_________________________________________________________________\n",
            "block5_batchnorm4 (BatchNorm (None, 2, 2, 512)         2048      \n",
            "_________________________________________________________________\n",
            "block5_activ4 (Activation)   (None, 2, 2, 512)         0         \n",
            "_________________________________________________________________\n",
            "block5_pool (MaxPooling2D)   (None, 1, 1, 512)         0         \n",
            "_________________________________________________________________\n",
            "flatten_layer (Flatten)      (None, 512)               0         \n",
            "_________________________________________________________________\n",
            "classifier_dense_1 (Dense)   (None, 1000)              513000    \n",
            "_________________________________________________________________\n",
            "classifier_dropout_1 (Dropou (None, 1000)              0         \n",
            "_________________________________________________________________\n",
            "classifier_dense_2 (Dense)   (None, 500)               500500    \n",
            "_________________________________________________________________\n",
            "classifier_dropout_2 (Dropou (None, 500)               0         \n",
            "_________________________________________________________________\n",
            "dense (Dense)                (None, 10)                5010      \n",
            "=================================================================\n",
            "Total params: 21,063,758\n",
            "Trainable params: 21,052,750\n",
            "Non-trainable params: 11,008\n",
            "_________________________________________________________________\n"
          ]
        }
      ],
      "source": [
        "model = VGG19_2D(network_param_set)\n",
        "model.summary()"
      ]
    },
    {
      "cell_type": "markdown",
      "metadata": {
        "id": "pRre4jFLxoXI"
      },
      "source": [
        "# 4. MNIST Training"
      ]
    },
    {
      "cell_type": "code",
      "execution_count": 18,
      "metadata": {
        "id": "1jhKYdmd119b"
      },
      "outputs": [],
      "source": [
        "model.compile(loss=losses.CategoricalCrossentropy(), optimizer=optimizers.Adam(lr=1e-5), metrics=['accuracy'])"
      ]
    },
    {
      "cell_type": "code",
      "execution_count": 19,
      "metadata": {
        "colab": {
          "base_uri": "https://localhost:8080/"
        },
        "id": "D3tXYPUV17YC",
        "outputId": "9631d4bf-2f46-40e2-a5ab-e52f8ebd69da"
      },
      "outputs": [
        {
          "name": "stdout",
          "output_type": "stream",
          "text": [
            "Epoch 1/50\n",
            "32/32 [==============================] - 11s 67ms/step - loss: 3.5706 - accuracy: 0.0874 - val_loss: 2.3279 - val_accuracy: 0.1000\n",
            "Epoch 2/50\n",
            "32/32 [==============================] - 1s 43ms/step - loss: 2.7661 - accuracy: 0.1416 - val_loss: 2.2912 - val_accuracy: 0.1080\n",
            "Epoch 3/50\n",
            "32/32 [==============================] - 1s 43ms/step - loss: 2.4316 - accuracy: 0.2041 - val_loss: 2.2246 - val_accuracy: 0.1640\n",
            "Epoch 4/50\n",
            "32/32 [==============================] - 1s 43ms/step - loss: 2.2053 - accuracy: 0.2440 - val_loss: 2.1165 - val_accuracy: 0.3300\n",
            "Epoch 5/50\n",
            "32/32 [==============================] - 1s 43ms/step - loss: 1.9796 - accuracy: 0.3166 - val_loss: 1.9921 - val_accuracy: 0.4200\n",
            "Epoch 6/50\n",
            "32/32 [==============================] - 1s 43ms/step - loss: 1.8117 - accuracy: 0.3551 - val_loss: 1.8496 - val_accuracy: 0.4780\n",
            "Epoch 7/50\n",
            "32/32 [==============================] - 1s 43ms/step - loss: 1.6231 - accuracy: 0.4279 - val_loss: 1.7071 - val_accuracy: 0.5520\n",
            "Epoch 8/50\n",
            "32/32 [==============================] - 2s 48ms/step - loss: 1.5081 - accuracy: 0.4845 - val_loss: 1.5916 - val_accuracy: 0.5500\n",
            "Epoch 9/50\n",
            "32/32 [==============================] - 1s 43ms/step - loss: 1.3141 - accuracy: 0.5525 - val_loss: 1.4663 - val_accuracy: 0.6040\n",
            "Epoch 10/50\n",
            "32/32 [==============================] - 1s 46ms/step - loss: 1.2130 - accuracy: 0.6014 - val_loss: 1.3563 - val_accuracy: 0.6380\n",
            "Epoch 11/50\n",
            "32/32 [==============================] - 1s 45ms/step - loss: 1.0279 - accuracy: 0.6863 - val_loss: 1.2490 - val_accuracy: 0.6440\n",
            "Epoch 12/50\n",
            "32/32 [==============================] - 1s 45ms/step - loss: 0.9415 - accuracy: 0.7162 - val_loss: 1.1449 - val_accuracy: 0.6780\n",
            "Epoch 13/50\n",
            "32/32 [==============================] - 1s 45ms/step - loss: 0.8882 - accuracy: 0.7447 - val_loss: 1.0650 - val_accuracy: 0.7100\n",
            "Epoch 14/50\n",
            "32/32 [==============================] - 1s 45ms/step - loss: 0.7472 - accuracy: 0.7682 - val_loss: 0.9972 - val_accuracy: 0.7360\n",
            "Epoch 15/50\n",
            "32/32 [==============================] - 1s 46ms/step - loss: 0.6169 - accuracy: 0.8233 - val_loss: 0.9197 - val_accuracy: 0.7660\n",
            "Epoch 16/50\n",
            "32/32 [==============================] - 1s 46ms/step - loss: 0.5369 - accuracy: 0.8558 - val_loss: 0.8592 - val_accuracy: 0.7660\n",
            "Epoch 17/50\n",
            "32/32 [==============================] - 1s 43ms/step - loss: 0.4653 - accuracy: 0.8798 - val_loss: 0.8057 - val_accuracy: 0.7700\n",
            "Epoch 18/50\n",
            "32/32 [==============================] - 1s 46ms/step - loss: 0.4385 - accuracy: 0.8905 - val_loss: 0.7608 - val_accuracy: 0.7880\n",
            "Epoch 19/50\n",
            "32/32 [==============================] - 1s 45ms/step - loss: 0.4088 - accuracy: 0.8994 - val_loss: 0.7300 - val_accuracy: 0.7900\n",
            "Epoch 20/50\n",
            "32/32 [==============================] - 1s 46ms/step - loss: 0.3108 - accuracy: 0.9402 - val_loss: 0.6911 - val_accuracy: 0.8000\n",
            "Epoch 21/50\n",
            "32/32 [==============================] - 1s 45ms/step - loss: 0.3019 - accuracy: 0.9290 - val_loss: 0.6554 - val_accuracy: 0.8060\n",
            "Epoch 22/50\n",
            "32/32 [==============================] - 1s 46ms/step - loss: 0.2132 - accuracy: 0.9612 - val_loss: 0.6407 - val_accuracy: 0.8080\n",
            "Epoch 23/50\n",
            "32/32 [==============================] - 1s 46ms/step - loss: 0.2231 - accuracy: 0.9560 - val_loss: 0.6191 - val_accuracy: 0.8120\n",
            "Epoch 24/50\n",
            "32/32 [==============================] - 1s 45ms/step - loss: 0.1836 - accuracy: 0.9660 - val_loss: 0.6062 - val_accuracy: 0.8040\n",
            "Epoch 25/50\n",
            "32/32 [==============================] - 1s 45ms/step - loss: 0.1656 - accuracy: 0.9799 - val_loss: 0.5844 - val_accuracy: 0.8220\n",
            "Epoch 26/50\n",
            "32/32 [==============================] - 1s 45ms/step - loss: 0.1527 - accuracy: 0.9827 - val_loss: 0.5730 - val_accuracy: 0.8080\n",
            "Epoch 27/50\n",
            "32/32 [==============================] - 1s 45ms/step - loss: 0.1125 - accuracy: 0.9882 - val_loss: 0.5535 - val_accuracy: 0.8260\n",
            "Epoch 28/50\n",
            "32/32 [==============================] - 1s 43ms/step - loss: 0.1120 - accuracy: 0.9871 - val_loss: 0.5430 - val_accuracy: 0.8200\n",
            "Epoch 29/50\n",
            "32/32 [==============================] - 1s 46ms/step - loss: 0.0902 - accuracy: 0.9899 - val_loss: 0.5249 - val_accuracy: 0.8360\n",
            "Epoch 30/50\n",
            "32/32 [==============================] - 1s 44ms/step - loss: 0.0945 - accuracy: 0.9913 - val_loss: 0.5097 - val_accuracy: 0.8360\n",
            "Epoch 31/50\n",
            "32/32 [==============================] - 1s 45ms/step - loss: 0.1081 - accuracy: 0.9899 - val_loss: 0.5056 - val_accuracy: 0.8380\n",
            "Epoch 32/50\n",
            "32/32 [==============================] - 1s 46ms/step - loss: 0.0659 - accuracy: 0.9957 - val_loss: 0.4904 - val_accuracy: 0.8400\n",
            "Epoch 33/50\n",
            "32/32 [==============================] - 1s 45ms/step - loss: 0.0847 - accuracy: 0.9840 - val_loss: 0.4842 - val_accuracy: 0.8380\n",
            "Epoch 34/50\n",
            "32/32 [==============================] - 1s 45ms/step - loss: 0.0743 - accuracy: 0.9912 - val_loss: 0.4727 - val_accuracy: 0.8440\n",
            "Epoch 35/50\n",
            "32/32 [==============================] - 1s 45ms/step - loss: 0.0615 - accuracy: 0.9940 - val_loss: 0.4639 - val_accuracy: 0.8480\n",
            "Epoch 36/50\n",
            "32/32 [==============================] - 1s 44ms/step - loss: 0.0802 - accuracy: 0.9881 - val_loss: 0.4497 - val_accuracy: 0.8460\n",
            "Epoch 37/50\n",
            "32/32 [==============================] - 1s 43ms/step - loss: 0.0655 - accuracy: 0.9876 - val_loss: 0.4413 - val_accuracy: 0.8560\n",
            "Epoch 38/50\n",
            "32/32 [==============================] - 1s 46ms/step - loss: 0.0427 - accuracy: 0.9989 - val_loss: 0.4418 - val_accuracy: 0.8460\n",
            "Epoch 39/50\n",
            "32/32 [==============================] - 1s 43ms/step - loss: 0.0457 - accuracy: 0.9953 - val_loss: 0.4419 - val_accuracy: 0.8500\n",
            "Epoch 40/50\n",
            "32/32 [==============================] - 1s 43ms/step - loss: 0.0420 - accuracy: 0.9965 - val_loss: 0.4353 - val_accuracy: 0.8500\n",
            "Epoch 41/50\n",
            "32/32 [==============================] - 1s 44ms/step - loss: 0.0343 - accuracy: 0.9951 - val_loss: 0.4320 - val_accuracy: 0.8460\n",
            "Epoch 42/50\n",
            "32/32 [==============================] - 1s 43ms/step - loss: 0.0385 - accuracy: 0.9962 - val_loss: 0.4305 - val_accuracy: 0.8500\n",
            "Epoch 43/50\n",
            "32/32 [==============================] - 1s 46ms/step - loss: 0.0317 - accuracy: 1.0000 - val_loss: 0.4323 - val_accuracy: 0.8460\n",
            "Epoch 44/50\n",
            "32/32 [==============================] - 1s 43ms/step - loss: 0.0389 - accuracy: 0.9971 - val_loss: 0.4202 - val_accuracy: 0.8580\n",
            "Epoch 45/50\n",
            "32/32 [==============================] - 1s 43ms/step - loss: 0.0365 - accuracy: 0.9961 - val_loss: 0.4186 - val_accuracy: 0.8560\n",
            "Epoch 46/50\n",
            "32/32 [==============================] - 1s 45ms/step - loss: 0.0247 - accuracy: 1.0000 - val_loss: 0.4151 - val_accuracy: 0.8620\n",
            "Epoch 47/50\n",
            "32/32 [==============================] - 1s 45ms/step - loss: 0.0322 - accuracy: 0.9944 - val_loss: 0.4088 - val_accuracy: 0.8620\n",
            "Epoch 48/50\n",
            "32/32 [==============================] - 1s 45ms/step - loss: 0.0243 - accuracy: 0.9971 - val_loss: 0.4109 - val_accuracy: 0.8540\n",
            "Epoch 49/50\n",
            "32/32 [==============================] - 1s 43ms/step - loss: 0.0204 - accuracy: 1.0000 - val_loss: 0.4056 - val_accuracy: 0.8580\n",
            "Epoch 50/50\n",
            "32/32 [==============================] - 1s 44ms/step - loss: 0.0185 - accuracy: 1.0000 - val_loss: 0.4012 - val_accuracy: 0.8660\n"
          ]
        }
      ],
      "source": [
        "callback_list = [keras.callbacks.EarlyStopping(monitor='val_loss', patience=10),\n",
        "                         keras.callbacks.ModelCheckpoint(filepath=os.path.join('model.h5'),\n",
        "                                                         monitor='val_loss', save_best_only=True),\n",
        "                         keras.callbacks.ReduceLROnPlateau(monitor='val_loss', factor=0.1, patience=5)]\n",
        "\n",
        "history = model.fit(x_train1, y_train1, epochs=50, batch_size=32, \n",
        "                    validation_data=(x_test1, y_test1),\n",
        "                    callbacks=callback_list, shuffle=True)"
      ]
    },
    {
      "cell_type": "markdown",
      "metadata": {
        "id": "BVbOLIN1kFq4"
      },
      "source": [
        "# 5. Train Result"
      ]
    },
    {
      "cell_type": "markdown",
      "metadata": {
        "id": "mPK_eXBMkLou"
      },
      "source": [
        "## 5.1. Loss & Accuracy"
      ]
    },
    {
      "cell_type": "code",
      "execution_count": 20,
      "metadata": {
        "id": "hPAPGT9XkC0a"
      },
      "outputs": [],
      "source": [
        "acc = history.history['accuracy']\n",
        "val_acc = history.history['val_accuracy']\n",
        "loss = history.history['loss']\n",
        "val_loss = history.history['val_loss']\n",
        "epochs = range(1,len(acc)+1)"
      ]
    },
    {
      "cell_type": "code",
      "execution_count": 21,
      "metadata": {
        "colab": {
          "base_uri": "https://localhost:8080/",
          "height": 545
        },
        "id": "w8uaVegLksW4",
        "outputId": "052530ad-2423-4307-af05-597977f33043"
      },
      "outputs": [
        {
          "data": {
            "image/png": "[encoded data removed]",
            "text/plain": [
              "<Figure size 432x288 with 1 Axes>"
            ]
          },
          "metadata": {
            "needs_background": "light",
            "tags": []
          },
          "output_type": "display_data"
        },
        {
          "data": {
            "image/png": "[encoded data removed]",
            "text/plain": [
              "<Figure size 432x288 with 1 Axes>"
            ]
          },
          "metadata": {
            "needs_background": "light",
            "tags": []
          },
          "output_type": "display_data"
        }
      ],
      "source": [
        "plt.plot(epochs, acc, 'b', color='blue', label='Training acc')\n",
        "plt.plot(epochs, val_acc, 'b', color='red', label='Validation acc')\n",
        "plt.title('Training and validation accuracy')\n",
        "plt.legend()\n",
        "\n",
        "plt.figure()\n",
        "\n",
        "plt.plot(epochs, loss, 'b', color='blue', label='Training loss')\n",
        "plt.plot(epochs, val_loss, 'b', color='red', label='Validation loss')\n",
        "plt.title('Training and validation loss')\n",
        "plt.legend()\n",
        "\n",
        "plt.show()"
      ]
    },
    {
      "cell_type": "markdown",
      "metadata": {
        "id": "MD0WC69Fk7af"
      },
      "source": [
        "##5.2. Prediction Result"
      ]
    },
    {
      "cell_type": "code",
      "execution_count": 22,
      "metadata": {
        "colab": {
          "base_uri": "https://localhost:8080/",
          "height": 302
        },
        "id": "gQL2Tcuak_86",
        "outputId": "5c9c63b4-72a5-4f7e-de03-8495cebc9b0e"
      },
      "outputs": [
        {
          "name": "stdout",
          "output_type": "stream",
          "text": [
            "(32, 32, 1)\n"
          ]
        },
        {
          "data": {
            "text/plain": [
              "<matplotlib.image.AxesImage at 0x7f70a008e6d8>"
            ]
          },
          "execution_count": 22,
          "metadata": {
            "tags": []
          },
          "output_type": "execute_result"
        },
        {
          "data": {
            "image/png": "[encoded data removed]",
            "text/plain": [
              "<Figure size 432x288 with 1 Axes>"
            ]
          },
          "metadata": {
            "needs_background": "light",
            "tags": []
          },
          "output_type": "display_data"
        }
      ],
      "source": [
        "test1 = x_test1[0]\n",
        "print(test1.shape)\n",
        "plt.imshow(test1[...,0])"
      ]
    },
    {
      "cell_type": "code",
      "execution_count": 27,
      "metadata": {
        "colab": {
          "base_uri": "https://localhost:8080/"
        },
        "id": "HOqgXtWqlX11",
        "outputId": "313ff94d-e886-4f79-faee-34dcf6fe40fe"
      },
      "outputs": [
        {
          "name": "stdout",
          "output_type": "stream",
          "text": [
            "(1, 32, 32, 1)\n",
            "[[2.4445073e-05 5.1004763e-06 4.7714680e-06 5.4349118e-07 5.9829695e-06\n",
            "  2.2206672e-05 5.7355572e-07 9.9989283e-01 3.4462839e-06 4.0216531e-05]]\n",
            "[0, 0, 0, 0, 0, 0, 0, 1, 0, 0] \n",
            "# Prediciton Result =  7\n"
          ]
        }
      ],
      "source": [
        "test1p = test1[np.newaxis,...]\n",
        "score1 = model.predict(test1p)\n",
        "print(test1p.shape)\n",
        "print(score1)\n",
        "\n",
        "new_score1 = []\n",
        "pred_result = None\n",
        "for i, i_ in enumerate(score1[0]):\n",
        "  if i_ < 0.5:\n",
        "    new_score1.append(0)\n",
        "  else:\n",
        "    new_score1.append(1)\n",
        "    pred_result = i\n",
        "\n",
        "print(new_score1, '\\n# Prediciton Result = ', pred_result)"
      ]
    },
    {
      "cell_type": "markdown",
      "metadata": {
        "id": "YsqVifQSmj7y"
      },
      "source": [
        "## 5.3. Class Attention Map"
      ]
    },
    {
      "cell_type": "markdown",
      "metadata": {
        "id": "CKaUH9KbwxXv"
      },
      "source": [
        "먼저 GRAD-CAM을 구해주는 함수를 정의한다."
      ]
    },
    {
      "cell_type": "code",
      "execution_count": 29,
      "metadata": {
        "id": "Dwn_3iaRoJJz"
      },
      "outputs": [],
      "source": [
        "def make_gradcam_heatmap(img_array, model, last_conv_layer_name, classifier_layer_names):\n",
        "\n",
        "    # 1. 먼저 모델에서 마지막 컨브넷층을 output으로 하고, 테스트 이미지를 input으로 하는 모델을 구성한다.\n",
        "    last_conv_layer = model.get_layer(last_conv_layer_name)\n",
        "    last_conv_layer_model = keras.Model(model.inputs, last_conv_layer.output)\n",
        "\n",
        "    # 2. 마지막 컨브넷층과 최종 예측결과를 인아웃으로 받는 모델을 구성한다.\n",
        "    classifier_input = keras.Input(shape=last_conv_layer.output.shape[1:])\n",
        "    x = classifier_input\n",
        "    for layer_name in classifier_layer_names:\n",
        "        x = model.get_layer(layer_name)(x)\n",
        "    classifier_model = keras.Model(classifier_input, x)\n",
        "\n",
        "    # 그다음, 테스트 이미지에 대한 가장 높은 예측 클래스(여기서는 7)와 마지막 컨브넷층에 대한 그래디언트를 구한다.\n",
        "    with tf.GradientTape() as tape:\n",
        "        # 최종 컨브넷층의 결과 추출\n",
        "        last_conv_layer_output = last_conv_layer_model(img_array)\n",
        "        tape.watch(last_conv_layer_output)\n",
        "        # 예측 클래스 계산\n",
        "        preds = classifier_model(last_conv_layer_output)\n",
        "        top_pred_index = tf.argmax(preds[0])\n",
        "        top_class_channel = preds[:, top_pred_index]\n",
        "\n",
        "    # 마지막 컨브넷층의 특성맵에 대한 가장 높은 예측 클래스의 그래디언트.\n",
        "    grads = tape.gradient(top_class_channel, last_conv_layer_output)\n",
        "\n",
        "    # 특성 맵 채널별 그래디언트 평균 값이 담긴 (512,) 크기의 벡터.\n",
        "    pooled_grads = tf.reduce_mean(grads, axis=(0, 1, 2))\n",
        "\n",
        "    # 가장 높은 예측 클래스에 대한 \"채널의 중요도\"를 특성 맵 배열의 채널에 곱한다.\n",
        "    last_conv_layer_output = last_conv_layer_output.numpy()[0]\n",
        "    pooled_grads = pooled_grads.numpy()\n",
        "    for i in range(pooled_grads.shape[-1]):\n",
        "        last_conv_layer_output[:, :, i] *= pooled_grads[i]\n",
        "\n",
        "    # 만들어진 특성 맵에서 채널 축을 따라 평균한 값이 클래스 활성화의 히트맵.\n",
        "    heatmap = np.mean(last_conv_layer_output, axis=-1)\n",
        "\n",
        "    # 마지막으로 구해진 히트맵을 0 ~ 1 사이값으로 정규화\n",
        "    heatmap = np.maximum(heatmap, 0) / np.max(heatmap)\n",
        "    return heatmap"
      ]
    },
    {
      "cell_type": "code",
      "execution_count": 85,
      "metadata": {
        "colab": {
          "base_uri": "https://localhost:8080/",
          "height": 293
        },
        "id": "KUkU8LUMy35r",
        "outputId": "fa47ca68-296a-4e72-f971-6ee0d411dba8"
      },
      "outputs": [
        {
          "name": "stdout",
          "output_type": "stream",
          "text": [
            "(2, 2)\n"
          ]
        },
        {
          "data": {
            "image/png": "[encoded data removed]",
            "text/plain": [
              "<Figure size 288x288 with 1 Axes>"
            ]
          },
          "metadata": {
            "needs_background": "light",
            "tags": []
          },
          "output_type": "display_data"
        }
      ],
      "source": [
        "# MNIST 테스트 이미지에 대한 히트맵을 구한다.\n",
        "heatmap = make_gradcam_heatmap(test1p, model, 'block5_activ4',['block5_pool','flatten_layer'])\n",
        "print(heatmap.shape)\n",
        "\n",
        "# Display heatmap\n",
        "plt.matshow(heatmap)\n",
        "plt.show()"
      ]
    },
    {
      "cell_type": "code",
      "execution_count": 84,
      "metadata": {
        "colab": {
          "base_uri": "https://localhost:8080/",
          "height": 366
        },
        "id": "fC6S92Sk1Sf2",
        "outputId": "45c61d3f-b97d-4bf2-bca5-8d359fa389f9"
      },
      "outputs": [
        {
          "name": "stderr",
          "output_type": "stream",
          "text": [
            "Clipping input data to the valid range for imshow with RGB data ([0..1] for floats or [0..255] for integers).\n",
            "Clipping input data to the valid range for imshow with RGB data ([0..1] for floats or [0..255] for integers).\n",
            "Clipping input data to the valid range for imshow with RGB data ([0..1] for floats or [0..255] for integers).\n"
          ]
        },
        {
          "data": {
            "text/plain": [
              "<matplotlib.image.AxesImage at 0x7f6f6747a208>"
            ]
          },
          "execution_count": 84,
          "metadata": {
            "tags": []
          },
          "output_type": "execute_result"
        },
        {
          "data": {
            "image/png": "[encoded data removed]",
            "text/plain": [
              "<Figure size 1080x576 with 3 Axes>"
            ]
          },
          "metadata": {
            "needs_background": "light",
            "tags": []
          },
          "output_type": "display_data"
        }
      ],
      "source": [
        "# 히트맵을 0 ~255 사이 값으로 재조정\n",
        "heatmap = np.uint8(255 * heatmap)\n",
        "\n",
        "# color map으로 변환\n",
        "cmap_sel = 'inferno'\n",
        "new_cm = cm.get_cmap(cmap_sel)\n",
        "\n",
        "# 컬러맵을 RGB 값으로 변환\n",
        "cm_colors = new_cm(np.arange(256))[:, :3]\n",
        "col_heatmap = cm_colors[heatmap]\n",
        "\n",
        "# RGB 컬러로 변환 컬러맵으로 원본크기에 맞게 히트맵 변환\n",
        "col_heatmap = keras.preprocessing.image.array_to_img(col_heatmap)\n",
        "col_heatmap = col_heatmap.resize((32, 32))\n",
        "col_heatmap = keras.preprocessing.image.img_to_array(col_heatmap)\n",
        "\n",
        "# 테스트 이미지에 히트맵 오버레이\n",
        "test1_col = test1 * [0.2989, 0.5870, 0.1140]\n",
        "superimposed_img = (col_heatmap * 0.005) + test1_col\n",
        "\n",
        "# 결과 시각화\n",
        "plt.figure(figsize=(15,8))\n",
        "plt.subplot(1,3,1)\n",
        "plt.imshow(test1_col, cmap='gray')\n",
        "plt.subplot(1,3,2)\n",
        "plt.imshow(col_heatmap, cmap=cmap_sel)\n",
        "plt.subplot(1,3,3)\n",
        "plt.imshow(superimposed_img)\n"
      ]
    },
    {
      "cell_type": "code",
      "execution_count": null,
      "metadata": {
        "id": "ohFectDW1iLT"
      },
      "outputs": [],
      "source": []
    }
  ],
  "metadata": {
    "accelerator": "GPU",
    "colab": {
      "authorship_tag": "ABX9TyM7N/VXZYtGPDOv/X1DVbxB",
      "include_colab_link": true,
      "name": "Result_Visulization.ipynb",
      "provenance": [],
      "toc_visible": true
    },
    "kernelspec": {
      "display_name": "Python 3",
      "name": "python3"
    }
  },
  "nbformat": 4,
  "nbformat_minor": 0
}
