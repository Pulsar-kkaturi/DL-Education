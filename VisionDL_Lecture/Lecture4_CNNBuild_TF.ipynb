{
  "cells": [
    {
      "cell_type": "markdown",
      "metadata": {
        "id": "view-in-github",
        "colab_type": "text"
      },
      "source": [
        "<a href=\"https://colab.research.google.com/github/Pulsar-kkaturi/DL-Education/blob/master/VisionDL_Lecture/Lecture4_CNNBuild_TF.ipynb\" target=\"_parent\"><img src=\"https://colab.research.google.com/assets/colab-badge.svg\" alt=\"Open In Colab\"/></a>"
      ]
    },
    {
      "cell_type": "markdown",
      "metadata": {
        "id": "UDCIqpTnJeqZ"
      },
      "source": [
        "# Lecture 4. CNN Build"
      ]
    },
    {
      "cell_type": "markdown",
      "metadata": {
        "id": "rTaaZF3HJs40"
      },
      "source": [
        "## 1. Simple CNN"
      ]
    },
    {
      "cell_type": "markdown",
      "metadata": {
        "id": "bwbSpz2l8v7_"
      },
      "source": [
        "### 1.1. Library Setting"
      ]
    },
    {
      "cell_type": "code",
      "execution_count": 1,
      "metadata": {
        "id": "vIIvdH4_JbR2"
      },
      "outputs": [],
      "source": [
        "import numpy as np\n",
        "import os, matplotlib, random\n",
        "from matplotlib import pyplot as plt\n",
        "\n",
        "### Tensorflow 2.0 ###\n",
        "import tensorflow as tf\n",
        "from tensorflow import keras\n",
        "from tensorflow.keras.models import Sequential, Model\n",
        "from tensorflow.keras import Input\n",
        "from tensorflow.keras import layers\n",
        "from tensorflow.keras import models\n",
        "from tensorflow.keras.preprocessing import image\n",
        "from tensorflow.keras.preprocessing.image import ImageDataGenerator\n",
        "from tensorflow.keras import losses\n",
        "from tensorflow.keras import optimizers\n",
        "from tensorflow.keras import metrics\n",
        "from tensorflow.keras import regularizers\n",
        "from tensorflow.keras import utils"
      ]
    },
    {
      "cell_type": "code",
      "execution_count": 2,
      "metadata": {
        "id": "-5JgCVTgBH9s",
        "outputId": "2c18bedd-89f0-4f46-8c07-cd31c39207db",
        "colab": {
          "base_uri": "https://localhost:8080/"
        }
      },
      "outputs": [
        {
          "output_type": "execute_result",
          "data": {
            "text/plain": [
              "[PhysicalDevice(name='/physical_device:CPU:0', device_type='CPU'),\n",
              " PhysicalDevice(name='/physical_device:GPU:0', device_type='GPU')]"
            ]
          },
          "metadata": {},
          "execution_count": 2
        }
      ],
      "source": [
        "import tensorflow as tf\n",
        "tf.config.list_physical_devices()"
      ]
    },
    {
      "cell_type": "markdown",
      "metadata": {
        "id": "oSc3RZmiKDUv"
      },
      "source": [
        "### 1.2. 데이터 로딩"
      ]
    },
    {
      "cell_type": "code",
      "execution_count": 3,
      "metadata": {
        "id": "H6Z_blzwKB16",
        "outputId": "e5e60b25-c018-4dc1-9020-0ddf71d45171",
        "colab": {
          "base_uri": "https://localhost:8080/"
        }
      },
      "outputs": [
        {
          "output_type": "stream",
          "name": "stdout",
          "text": [
            "Downloading data from https://storage.googleapis.com/tensorflow/tf-keras-datasets/mnist.npz\n",
            "11490434/11490434 [==============================] - 1s 0us/step\n",
            "(60000, 28, 28) (60000,)\n"
          ]
        }
      ],
      "source": [
        "(x_train, y_train), (x_test, y_test)= tf.keras.datasets.mnist.load_data(path='minist.npz')\n",
        "print(x_train.shape, y_train.shape)"
      ]
    },
    {
      "cell_type": "code",
      "execution_count": 4,
      "metadata": {
        "id": "0FLSAWYcKIjl",
        "outputId": "8701cb2c-3cb2-4cd9-ad29-9ebf3b42ee99",
        "colab": {
          "base_uri": "https://localhost:8080/"
        }
      },
      "outputs": [
        {
          "output_type": "stream",
          "name": "stdout",
          "text": [
            "(1000, 32, 32, 1) (500, 32, 32, 1)\n"
          ]
        }
      ],
      "source": [
        "x_train_list = []\n",
        "x_test_list = []\n",
        "for i, i_ in enumerate(x_train[:1000]):\n",
        "    arr = np.zeros(shape=(32, 32))\n",
        "    arr[:28,:28] = x_train[i]\n",
        "    x_train_list.append(arr)\n",
        "for i, i_ in enumerate(x_test[:500]):\n",
        "    arr = np.zeros(shape=(32, 32))\n",
        "    arr[:28,:28] = x_test[i]\n",
        "    x_test_list.append(arr)\n",
        "\n",
        "x_train1 = np.expand_dims(np.array(x_train_list), axis=-1)\n",
        "x_test1 = np.expand_dims(np.array(x_test_list), axis=-1)\n",
        "print(x_train1.shape, x_test1.shape)"
      ]
    },
    {
      "cell_type": "code",
      "execution_count": 5,
      "metadata": {
        "id": "Xvzy72PlM64n",
        "outputId": "d0f0a07f-250f-4808-8895-f040327f79c8",
        "colab": {
          "base_uri": "https://localhost:8080/"
        }
      },
      "outputs": [
        {
          "output_type": "stream",
          "name": "stdout",
          "text": [
            "(1000, 10) (500, 10)\n"
          ]
        }
      ],
      "source": [
        "y_train_list = []\n",
        "y_test_list = []\n",
        "for i, i_ in enumerate(y_train[:1000]):\n",
        "    zero = [0]*10\n",
        "    zero[i_] = 1\n",
        "    y_train_list.append(zero)\n",
        "\n",
        "for i, i_ in enumerate(y_test[:500]):\n",
        "    zero = [0]*10\n",
        "    zero[i_] = 1\n",
        "    y_test_list.append(zero)\n",
        "\n",
        "y_train1 = np.array(y_train_list)\n",
        "y_test1 = np.array(y_test_list)\n",
        "print(y_train1.shape, y_test1.shape)"
      ]
    },
    {
      "cell_type": "code",
      "execution_count": 6,
      "metadata": {
        "id": "Z_U2eCQPKNp0",
        "outputId": "fd47a128-05d9-461f-b6c6-1cdf24abe023",
        "colab": {
          "base_uri": "https://localhost:8080/",
          "height": 310
        }
      },
      "outputs": [
        {
          "output_type": "display_data",
          "data": {
            "text/plain": [
              "<Figure size 1000x1000 with 3 Axes>"
            ],
            "image/png": "[encoded data removed]"
          },
          "metadata": {}
        }
      ],
      "source": [
        "plt.figure(figsize=(10,10))\n",
        "for i in range(3):\n",
        "    plt.subplot(1,3,i+1)\n",
        "    plt.imshow(x_train1[i][...,0], cmap='gray')\n",
        "    plt.title('Class = {}'.format(y_train[i]))"
      ]
    },
    {
      "cell_type": "markdown",
      "metadata": {
        "id": "bqhgW17uKtdU"
      },
      "source": [
        "### 1.3. 모델 만들기"
      ]
    },
    {
      "cell_type": "markdown",
      "metadata": {
        "id": "n6UJSQiSK1dr"
      },
      "source": [
        "#### **AI 모델을 구성하는 레이어 만들기**\n",
        "\n",
        "AI 모델은 여러 개의 레이어를 쌓아 올려 만듭니다.  \n",
        "가장 대표적인 레이어 구조인 **CONV-BN-ACT-POOL** 구조를 만들어 보겠습니다.\n",
        "\n",
        "먼저 데이터가 들어가는 첫 번째 레이어를 만들어 봅시다."
      ]
    },
    {
      "cell_type": "code",
      "execution_count": 8,
      "metadata": {
        "id": "x9IJsyASKTTq"
      },
      "outputs": [],
      "source": [
        "first_layer = Input(shape=(32, 32, 1))"
      ]
    },
    {
      "cell_type": "markdown",
      "metadata": {
        "id": "oQIZ8FEDK51O"
      },
      "source": [
        "그 다음으로 데이터의 특징을 추출할 Convolution 레이어를 연결하겠습니다."
      ]
    },
    {
      "cell_type": "code",
      "execution_count": 9,
      "metadata": {
        "id": "9Ft6sLtsK859"
      },
      "outputs": [],
      "source": [
        "second_layer = layers.Conv2D(filters=8, kernel_size=(3, 3), activation=None, padding='same')(first_layer)"
      ]
    },
    {
      "cell_type": "markdown",
      "metadata": {
        "id": "vizq1nu8LGlU"
      },
      "source": [
        "다음으로 레이어 중간에서 정규화를 도와줄 Batch Normalization 레이어를 추가하겠습니다.다음으로 레이어 중간에서 정규화를 도와줄 Batch Normalization 레이어를 추가하겠습니다."
      ]
    },
    {
      "cell_type": "code",
      "execution_count": 10,
      "metadata": {
        "id": "WUmnPVdhK-oo"
      },
      "outputs": [],
      "source": [
        "third_layer = layers.BatchNormalization()(second_layer)"
      ]
    },
    {
      "cell_type": "markdown",
      "metadata": {
        "id": "LjZprgalLPSn"
      },
      "source": [
        "Batch Normalization 이후 신호를 변환하여 다음 뉴런으로 전달하는 Activation function 레이어를 추가합니다."
      ]
    },
    {
      "cell_type": "code",
      "execution_count": 11,
      "metadata": {
        "id": "idrmW7DWLMUH"
      },
      "outputs": [],
      "source": [
        "fourth_layer = layers.Activation('relu')(third_layer)"
      ]
    },
    {
      "cell_type": "markdown",
      "metadata": {
        "id": "2yP4a-DALVz7"
      },
      "source": [
        "다음으로 이미지 사이즈를 줄여주는 Pooling 레이어를 연결합니다."
      ]
    },
    {
      "cell_type": "code",
      "execution_count": 12,
      "metadata": {
        "id": "Ce7ptoGMLRbp"
      },
      "outputs": [],
      "source": [
        "fifth_layer = layers.MaxPool2D(strides=(2, 2))(fourth_layer)"
      ]
    },
    {
      "cell_type": "markdown",
      "metadata": {
        "id": "TOPLGDOmLbl3"
      },
      "source": [
        "그 후 모든 뉴런을 일렬로 늘어세우는 Flatten 레이어를 만듭니다."
      ]
    },
    {
      "cell_type": "code",
      "execution_count": 13,
      "metadata": {
        "id": "-qshjYfELY00"
      },
      "outputs": [],
      "source": [
        "sixth_layer = layers.Flatten()(fifth_layer)"
      ]
    },
    {
      "cell_type": "markdown",
      "metadata": {
        "id": "nt4puhZMLi75"
      },
      "source": [
        "일렬로 늘어세운 후 이전 계층의 모든 뉴런을 연결해주는 Fully connected(Dense) 레이어를 연결합니다."
      ]
    },
    {
      "cell_type": "code",
      "execution_count": 14,
      "metadata": {
        "id": "_Au2f0SaLgLw"
      },
      "outputs": [],
      "source": [
        "seventh_layer = layers.Dense(100, activation = 'relu')(sixth_layer)"
      ]
    },
    {
      "cell_type": "markdown",
      "metadata": {
        "id": "0wslnvsGLtXH"
      },
      "source": [
        "Dropout 레이어를 활용해 일부 뉴런들을 무작위로 학습에서 배제하도록 합시다."
      ]
    },
    {
      "cell_type": "code",
      "execution_count": 15,
      "metadata": {
        "id": "sHlH9exdLnXE"
      },
      "outputs": [],
      "source": [
        "eighth_layer = layers.Dropout(0.25)(seventh_layer)"
      ]
    },
    {
      "cell_type": "markdown",
      "metadata": {
        "id": "iKE18CBDLy3y"
      },
      "source": [
        "마지막으로 최종 결과물을 출력해주는 레이어를 만들어 줍니다."
      ]
    },
    {
      "cell_type": "code",
      "execution_count": 16,
      "metadata": {
        "id": "9JBcDxmpLpzF"
      },
      "outputs": [],
      "source": [
        "final_layer =  layers.Dense(10, activation='sigmoid')(eighth_layer)"
      ]
    },
    {
      "cell_type": "markdown",
      "metadata": {
        "id": "mzBKkHcLL8u-"
      },
      "source": [
        "지금까지 만든 레이어를 Model 함수에 넣어 연결하면 모델이 완성됩니다."
      ]
    },
    {
      "cell_type": "code",
      "execution_count": 17,
      "metadata": {
        "id": "Ke96nkx5L1_7",
        "outputId": "e3713ecc-3528-460b-996f-83483aee2634",
        "colab": {
          "base_uri": "https://localhost:8080/"
        }
      },
      "outputs": [
        {
          "output_type": "stream",
          "name": "stdout",
          "text": [
            "Model: \"model\"\n",
            "_________________________________________________________________\n",
            " Layer (type)                Output Shape              Param #   \n",
            "=================================================================\n",
            " input_2 (InputLayer)        [(None, 32, 32, 1)]       0         \n",
            "                                                                 \n",
            " conv2d (Conv2D)             (None, 32, 32, 8)         80        \n",
            "                                                                 \n",
            " batch_normalization (BatchN  (None, 32, 32, 8)        32        \n",
            " ormalization)                                                   \n",
            "                                                                 \n",
            " activation (Activation)     (None, 32, 32, 8)         0         \n",
            "                                                                 \n",
            " max_pooling2d (MaxPooling2D  (None, 16, 16, 8)        0         \n",
            " )                                                               \n",
            "                                                                 \n",
            " flatten (Flatten)           (None, 2048)              0         \n",
            "                                                                 \n",
            " dense (Dense)               (None, 100)               204900    \n",
            "                                                                 \n",
            " dropout (Dropout)           (None, 100)               0         \n",
            "                                                                 \n",
            " dense_1 (Dense)             (None, 10)                1010      \n",
            "                                                                 \n",
            "=================================================================\n",
            "Total params: 206,022\n",
            "Trainable params: 206,006\n",
            "Non-trainable params: 16\n",
            "_________________________________________________________________\n"
          ]
        }
      ],
      "source": [
        "model = Model(first_layer, final_layer)\n",
        "model.summary()"
      ]
    },
    {
      "cell_type": "markdown",
      "metadata": {
        "id": "aYbBVGh7MI2k"
      },
      "source": [
        "### 1.4. 모델 훈련하기"
      ]
    },
    {
      "cell_type": "markdown",
      "metadata": {
        "id": "2RkQLvYpMlV7"
      },
      "source": [
        "신경망 모델의 손실함수와 옵티마이저, 학습률 등의 파라미터를 지정해줍니다.\n",
        "\n",
        "성능은 정확도를 평가할 것입니다."
      ]
    },
    {
      "cell_type": "code",
      "execution_count": 18,
      "metadata": {
        "id": "b9asGMjBL9Un",
        "outputId": "646c37c4-5d96-404f-9302-5159ec7b3878",
        "colab": {
          "base_uri": "https://localhost:8080/"
        }
      },
      "outputs": [
        {
          "output_type": "stream",
          "name": "stderr",
          "text": [
            "WARNING:absl:`lr` is deprecated in Keras optimizer, please use `learning_rate` or use the legacy optimizer, e.g.,tf.keras.optimizers.legacy.Adam.\n"
          ]
        }
      ],
      "source": [
        "model.compile(loss=losses.CategoricalCrossentropy(), optimizer=optimizers.Adam(lr=1e-4), metrics=['accuracy'])"
      ]
    },
    {
      "cell_type": "code",
      "execution_count": 19,
      "metadata": {
        "id": "54u7L5V0MW4D",
        "outputId": "29e4cc9d-378b-4ced-e144-713606acc0c2",
        "colab": {
          "base_uri": "https://localhost:8080/"
        }
      },
      "outputs": [
        {
          "output_type": "stream",
          "name": "stdout",
          "text": [
            "Epoch 1/20\n",
            "32/32 [==============================] - 13s 21ms/step - loss: 1.3793 - accuracy: 0.5950 - val_loss: 0.8326 - val_accuracy: 0.7700\n",
            "Epoch 2/20\n",
            "32/32 [==============================] - 0s 8ms/step - loss: 0.5490 - accuracy: 0.8390 - val_loss: 0.4830 - val_accuracy: 0.8360\n",
            "Epoch 3/20\n",
            "32/32 [==============================] - 0s 7ms/step - loss: 0.3191 - accuracy: 0.9010 - val_loss: 0.3716 - val_accuracy: 0.8940\n",
            "Epoch 4/20\n",
            "32/32 [==============================] - 0s 7ms/step - loss: 0.2269 - accuracy: 0.9350 - val_loss: 0.3557 - val_accuracy: 0.8820\n",
            "Epoch 5/20\n",
            "32/32 [==============================] - 0s 7ms/step - loss: 0.1903 - accuracy: 0.9280 - val_loss: 0.3618 - val_accuracy: 0.8800\n",
            "Epoch 6/20\n",
            "32/32 [==============================] - 0s 6ms/step - loss: 0.1348 - accuracy: 0.9650 - val_loss: 0.3181 - val_accuracy: 0.9020\n",
            "Epoch 7/20\n",
            "32/32 [==============================] - 0s 6ms/step - loss: 0.1243 - accuracy: 0.9670 - val_loss: 0.3450 - val_accuracy: 0.8940\n",
            "Epoch 8/20\n",
            "32/32 [==============================] - 0s 6ms/step - loss: 0.1264 - accuracy: 0.9730 - val_loss: 0.3268 - val_accuracy: 0.8900\n",
            "Epoch 9/20\n",
            "32/32 [==============================] - 0s 7ms/step - loss: 0.0700 - accuracy: 0.9860 - val_loss: 0.2964 - val_accuracy: 0.9020\n",
            "Epoch 10/20\n",
            "32/32 [==============================] - 0s 7ms/step - loss: 0.0611 - accuracy: 0.9840 - val_loss: 0.3165 - val_accuracy: 0.9040\n",
            "Epoch 11/20\n",
            "32/32 [==============================] - 0s 7ms/step - loss: 0.0460 - accuracy: 0.9930 - val_loss: 0.2881 - val_accuracy: 0.9160\n",
            "Epoch 12/20\n",
            "32/32 [==============================] - 0s 6ms/step - loss: 0.0491 - accuracy: 0.9910 - val_loss: 0.3207 - val_accuracy: 0.9060\n",
            "Epoch 13/20\n",
            "32/32 [==============================] - 0s 6ms/step - loss: 0.0333 - accuracy: 0.9950 - val_loss: 0.3051 - val_accuracy: 0.9060\n",
            "Epoch 14/20\n",
            "32/32 [==============================] - 0s 7ms/step - loss: 0.0309 - accuracy: 0.9940 - val_loss: 0.3209 - val_accuracy: 0.9140\n",
            "Epoch 15/20\n",
            "32/32 [==============================] - 0s 6ms/step - loss: 0.0238 - accuracy: 0.9960 - val_loss: 0.3454 - val_accuracy: 0.9140\n",
            "Epoch 16/20\n",
            "32/32 [==============================] - 0s 6ms/step - loss: 0.0234 - accuracy: 0.9960 - val_loss: 0.2886 - val_accuracy: 0.9260\n",
            "Epoch 17/20\n",
            "32/32 [==============================] - 0s 7ms/step - loss: 0.0234 - accuracy: 0.9960 - val_loss: 0.3307 - val_accuracy: 0.9080\n",
            "Epoch 18/20\n",
            "32/32 [==============================] - 0s 6ms/step - loss: 0.0149 - accuracy: 0.9980 - val_loss: 0.3018 - val_accuracy: 0.9240\n",
            "Epoch 19/20\n",
            "32/32 [==============================] - 0s 7ms/step - loss: 0.0154 - accuracy: 0.9970 - val_loss: 0.3249 - val_accuracy: 0.9140\n",
            "Epoch 20/20\n",
            "32/32 [==============================] - 0s 7ms/step - loss: 0.0144 - accuracy: 0.9990 - val_loss: 0.2967 - val_accuracy: 0.9200\n"
          ]
        }
      ],
      "source": [
        "history = model.fit(x_train1, y_train1, epochs=20, batch_size=32,\n",
        "                    validation_data=(x_test1, y_test1), shuffle=True)"
      ]
    },
    {
      "cell_type": "markdown",
      "metadata": {
        "id": "6HsNhn09NhXR"
      },
      "source": [
        "### 1.5. 결과 확인하기"
      ]
    },
    {
      "cell_type": "code",
      "execution_count": 20,
      "metadata": {
        "id": "MB1DGNnlNZUV"
      },
      "outputs": [],
      "source": [
        "acc = history.history['accuracy']\n",
        "val_acc = history.history['val_accuracy']\n",
        "loss = history.history['loss']\n",
        "val_loss = history.history['val_loss']"
      ]
    },
    {
      "cell_type": "code",
      "execution_count": 21,
      "metadata": {
        "id": "9desSnK0NmDx"
      },
      "outputs": [],
      "source": [
        "epochs = range(1,len(acc)+1)"
      ]
    },
    {
      "cell_type": "markdown",
      "metadata": {
        "id": "XZCdmA9zN9z5"
      },
      "source": [
        "정확도와 손실함수 그래프 그리기"
      ]
    },
    {
      "cell_type": "code",
      "execution_count": 22,
      "metadata": {
        "id": "nksI66aLNo_d",
        "outputId": "8dfc9f8b-f884-433c-da42-27d772fd63ad",
        "colab": {
          "base_uri": "https://localhost:8080/",
          "height": 887
        }
      },
      "outputs": [
        {
          "output_type": "display_data",
          "data": {
            "text/plain": [
              "<Figure size 640x480 with 1 Axes>"
            ],
            "image/png": "[encoded data removed]"
          },
          "metadata": {}
        },
        {
          "output_type": "display_data",
          "data": {
            "text/plain": [
              "<Figure size 640x480 with 1 Axes>"
            ],
            "image/png": "[encoded data removed]"
          },
          "metadata": {}
        }
      ],
      "source": [
        "plt.plot(epochs, acc, c='blue', label='Training acc')\n",
        "plt.plot(epochs, val_acc, c='red', label='Validation acc')\n",
        "plt.title('Training and validation accuracy', color='w')\n",
        "plt.legend()\n",
        "\n",
        "plt.figure()\n",
        "\n",
        "plt.plot(epochs, loss, c='blue', label='Training loss')\n",
        "plt.plot(epochs, val_loss, c='red', label='Validation loss')\n",
        "plt.title('Training and validation loss', color='w')\n",
        "plt.legend()\n",
        "\n",
        "plt.show()"
      ]
    },
    {
      "cell_type": "markdown",
      "metadata": {
        "id": "v_KMswpkB-yT"
      },
      "source": [
        "* 학습 결과 추론하기"
      ]
    },
    {
      "cell_type": "code",
      "execution_count": 23,
      "metadata": {
        "id": "uFLW5MRmNtcm",
        "outputId": "8868d845-f80a-44de-9ea2-5a574bfddf57",
        "colab": {
          "base_uri": "https://localhost:8080/",
          "height": 466
        }
      },
      "outputs": [
        {
          "output_type": "stream",
          "name": "stdout",
          "text": [
            "(32, 32, 1)\n"
          ]
        },
        {
          "output_type": "execute_result",
          "data": {
            "text/plain": [
              "<matplotlib.image.AxesImage at 0x7816024fdcc0>"
            ]
          },
          "metadata": {},
          "execution_count": 23
        },
        {
          "output_type": "display_data",
          "data": {
            "text/plain": [
              "<Figure size 640x480 with 1 Axes>"
            ],
            "image/png": "[encoded data removed]"
          },
          "metadata": {}
        }
      ],
      "source": [
        "test1 = x_test1[0]\n",
        "print(test1.shape)\n",
        "plt.imshow(test1[...,0])"
      ]
    },
    {
      "cell_type": "code",
      "execution_count": 24,
      "metadata": {
        "id": "-77kUNwwCGEF",
        "outputId": "f9170171-6024-4903-90c8-33c0caaea403",
        "colab": {
          "base_uri": "https://localhost:8080/"
        }
      },
      "outputs": [
        {
          "output_type": "stream",
          "name": "stdout",
          "text": [
            "4/4 [==============================] - 0s 12ms/step\n"
          ]
        }
      ],
      "source": [
        "testp = x_test1[:100]\n",
        "testg = y_test[:100]\n",
        "scores = model.predict(testp)\n",
        "\n",
        "new_scores = []\n",
        "for score in scores:\n",
        "  max_val = np.max(score)\n",
        "  prob_num = list(score).index(max_val)\n",
        "  new_scores.append(prob_num)"
      ]
    },
    {
      "cell_type": "code",
      "execution_count": 27,
      "metadata": {
        "id": "Ovj6NjIwCKV7",
        "outputId": "d3c694cc-462c-4f2c-c974-619f5f2d80ff",
        "colab": {
          "base_uri": "https://localhost:8080/",
          "height": 484
        }
      },
      "outputs": [
        {
          "output_type": "stream",
          "name": "stdout",
          "text": [
            "label=7, predict=7\n",
            "[0.05202322 0.00977704 0.940822   0.98445815 0.02115192 0.6070934\n",
            " 0.20393117 1.         0.2638847  0.97022927]\n"
          ]
        },
        {
          "output_type": "display_data",
          "data": {
            "text/plain": [
              "<Figure size 640x480 with 1 Axes>"
            ],
            "image/png": "[encoded data removed]"
          },
          "metadata": {}
        }
      ],
      "source": [
        "plt.imshow(testp[0,...,0])\n",
        "print(f'label={testg[0]}, predict={new_scores[0]}')\n",
        "print(scores[0])"
      ]
    },
    {
      "cell_type": "markdown",
      "metadata": {
        "id": "9hLPRD53-k6-"
      },
      "source": [
        "## 2. Classification: VGG"
      ]
    },
    {
      "cell_type": "markdown",
      "metadata": {
        "id": "I8oMRw4jCvug"
      },
      "source": [
        "### 2.1. Data Setting"
      ]
    },
    {
      "cell_type": "code",
      "execution_count": 28,
      "metadata": {
        "id": "jSHZ7fLECS8D"
      },
      "outputs": [],
      "source": [
        "from skimage import morphology\n",
        "from skimage import measure\n",
        "from skimage import exposure\n",
        "from skimage import transform as skit"
      ]
    },
    {
      "cell_type": "code",
      "execution_count": 31,
      "metadata": {
        "id": "Fd7R5lv0CFmG",
        "outputId": "7a986f79-57df-4020-bf03-6b39055b6d40",
        "colab": {
          "base_uri": "https://localhost:8080/"
        }
      },
      "outputs": [
        {
          "output_type": "stream",
          "name": "stdout",
          "text": [
            "(1000, 32, 32, 1) (500, 32, 32, 1)\n"
          ]
        }
      ],
      "source": [
        "x_train_list = []\n",
        "x_test_list = []\n",
        "for i, i_ in enumerate(x_train[:1000]):\n",
        "    x_train_list.append(skit.resize(i_, (32, 32))) # Simple CNN때와 달리 이번에는 resize\n",
        "for i, i_ in enumerate(x_test[:500]):\n",
        "    x_test_list.append(skit.resize(i_, (32, 32)))\n",
        "\n",
        "x_train1 = np.expand_dims(np.array(x_train_list), axis=-1)\n",
        "x_test1 = np.expand_dims(np.array(x_test_list), axis=-1)\n",
        "print(x_train1.shape, x_test1.shape)"
      ]
    },
    {
      "cell_type": "code",
      "execution_count": 32,
      "metadata": {
        "id": "EeK3ZmvECk_V",
        "outputId": "1144845c-67d5-4270-bf37-51c48fae331d",
        "colab": {
          "base_uri": "https://localhost:8080/"
        }
      },
      "outputs": [
        {
          "output_type": "stream",
          "name": "stdout",
          "text": [
            "(1000, 10) (500, 10)\n"
          ]
        }
      ],
      "source": [
        "y_train_list = []\n",
        "y_test_list = []\n",
        "for i, i_ in enumerate(y_train[:1000]):\n",
        "    zero = [0]*10\n",
        "    zero[i_] = 1\n",
        "    y_train_list.append(zero)\n",
        "\n",
        "for i, i_ in enumerate(y_test[:500]):\n",
        "    zero = [0]*10\n",
        "    zero[i_] = 1\n",
        "    y_test_list.append(zero)\n",
        "\n",
        "y_train1 = np.array(y_train_list)\n",
        "y_test1 = np.array(y_test_list)\n",
        "print(y_train1.shape, y_test1.shape)"
      ]
    },
    {
      "cell_type": "code",
      "execution_count": 33,
      "metadata": {
        "id": "ZmggEJhEClUQ",
        "outputId": "3feb9977-f959-4593-f618-057f3a8b00c2",
        "colab": {
          "base_uri": "https://localhost:8080/",
          "height": 310
        }
      },
      "outputs": [
        {
          "output_type": "display_data",
          "data": {
            "text/plain": [
              "<Figure size 1000x1000 with 3 Axes>"
            ],
            "image/png": "[encoded data removed]"
          },
          "metadata": {}
        }
      ],
      "source": [
        "plt.figure(figsize=(10,10))\n",
        "for i in range(3):\n",
        "    plt.subplot(1,3,i+1)\n",
        "    plt.imshow(x_train1[i][...,0], cmap='gray')\n",
        "    plt.title('Class = {}'.format(y_train[i]))"
      ]
    },
    {
      "cell_type": "markdown",
      "metadata": {
        "id": "GpIZIZzWCyqn"
      },
      "source": [
        "### 2.2. Model Build"
      ]
    },
    {
      "cell_type": "markdown",
      "metadata": {
        "id": "EhHqT4dLEE4u"
      },
      "source": [
        "* 2.2.1. VGG code"
      ]
    },
    {
      "cell_type": "code",
      "execution_count": 34,
      "metadata": {
        "id": "yMgL9poaCubZ"
      },
      "outputs": [],
      "source": [
        "def conv_block_2d(lr_conv, lr_num, par_list, bkn):\n",
        "        # parameter\n",
        "        filter_num = par_list[0]\n",
        "        conv_size = par_list[1]\n",
        "        conv_act = par_list[2]\n",
        "        pool_size = par_list[3]\n",
        "        # code\n",
        "        for i in range(lr_num):\n",
        "            lr_conv = layers.Conv2D(filter_num, conv_size, activation=None, padding='same',\n",
        "                                    kernel_initializer='he_normal',\n",
        "                                    name='block{}_conv{}'.format(bkn, i+1))(lr_conv)\n",
        "            lr_conv = layers.BatchNormalization(axis=-1, name='block{}_batchnorm{}'.format(bkn, i+1))(lr_conv)\n",
        "            lr_conv = layers.Activation(conv_act, name='block{}_activ{}'.format(bkn, i+1))(lr_conv)\n",
        "        lr_pool = layers.MaxPooling2D(pool_size=pool_size, name='block{}_pool'.format(bkn, i+1))(lr_conv)\n",
        "        return lr_pool\n",
        "\n",
        "def output_block(lr_dense, block_num, dens_count, act_func, drop_rate):\n",
        "    lr_dense = layers.Flatten(name='flatten_layer')(lr_dense)\n",
        "    for i in range(block_num):\n",
        "        lr_dense = layers.Dense(dens_count[i], kernel_regularizer=None,\n",
        "                                activation=act_func, name='classifier_dense_{}'.format(i+1))(lr_dense)\n",
        "        lr_dense = layers.Dropout(drop_rate, name='classifier_dropout_{}'.format(i+1))(lr_dense)\n",
        "    return lr_dense"
      ]
    },
    {
      "cell_type": "code",
      "execution_count": 35,
      "metadata": {
        "id": "suOXhB3iDS8g"
      },
      "outputs": [],
      "source": [
        "def VGG16_2D(par_dic):\n",
        "    # parameters\n",
        "    input_size = par_dic['input_size']\n",
        "    conv_size = par_dic['conv_size']\n",
        "    conv_act = par_dic['conv_act']\n",
        "    pool_size = par_dic['pool_size']\n",
        "    dens_num = par_dic['dens_num']\n",
        "    dens_count = par_dic['dens_count']\n",
        "    dens_act = par_dic['dens_act']\n",
        "    drop_out = par_dic['drop_out']\n",
        "    output_count = par_dic['output_count']\n",
        "    output_act = par_dic['output_act']\n",
        "\n",
        "    # code block\n",
        "    inputs = Input(shape=(input_size, input_size, 1), name='input_layer')\n",
        "    block1 = conv_block_2d(inputs, 2, [64, conv_size, conv_act, pool_size], 1)\n",
        "    block2 = conv_block_2d(block1, 2, [128, conv_size, conv_act, pool_size], 2)\n",
        "    block3 = conv_block_2d(block2, 3, [256, conv_size, conv_act, pool_size], 3)\n",
        "    block4 = conv_block_2d(block3, 3, [512, conv_size, conv_act, pool_size], 4)\n",
        "    block5 = conv_block_2d(block4, 3, [512, conv_size, conv_act, pool_size], 5)\n",
        "    dens = output_block(block5, dens_num, dens_count, dens_act, drop_out)\n",
        "    outputs = layers.Dense(output_count, activation=output_act, name='output_layer')(dens)\n",
        "    model = Model(inputs, outputs)\n",
        "    return model"
      ]
    },
    {
      "cell_type": "code",
      "execution_count": 36,
      "metadata": {
        "id": "GYHQhdfwDCH5"
      },
      "outputs": [],
      "source": [
        "def VGG19_2D(par_dic):\n",
        "    # parameters\n",
        "    input_size = par_dic['input_size']\n",
        "    conv_size = par_dic['conv_size']\n",
        "    conv_act = par_dic['conv_act']\n",
        "    pool_size = par_dic['pool_size']\n",
        "    dens_num = par_dic['dens_num']\n",
        "    dens_count = par_dic['dens_count']\n",
        "    dens_act = par_dic['dens_act']\n",
        "    drop_out = par_dic['drop_out']\n",
        "    output_count = par_dic['output_count']\n",
        "    output_act = par_dic['output_act']\n",
        "\n",
        "    # code block\n",
        "    inputs = Input(shape=(input_size, input_size, 1))\n",
        "    block1 = conv_block_2d(inputs, 2, [64, conv_size, conv_act, pool_size], 1)\n",
        "    block2 = conv_block_2d(block1, 2, [128, conv_size, conv_act, pool_size], 2)\n",
        "    block3 = conv_block_2d(block2, 4, [256, conv_size, conv_act, pool_size], 3)\n",
        "    block4 = conv_block_2d(block3, 4, [512, conv_size, conv_act, pool_size], 4)\n",
        "    block5 = conv_block_2d(block4, 4, [512, conv_size, conv_act, pool_size], 5)\n",
        "    dens = output_block(block5, dens_num, dens_count, dens_act, drop_out)\n",
        "    outputs = layers.Dense(output_count, activation=output_act)(dens)\n",
        "    model = Model(inputs, outputs)\n",
        "    return model"
      ]
    },
    {
      "cell_type": "markdown",
      "metadata": {
        "id": "BJJrsVXFELCF"
      },
      "source": [
        "* 2.2.2 VGG Build"
      ]
    },
    {
      "cell_type": "code",
      "execution_count": 37,
      "metadata": {
        "id": "fBH0JyXGDSMg"
      },
      "outputs": [],
      "source": [
        "network_param_2d = {'input_size': 32,\n",
        "                     'conv_size': 3,\n",
        "                     'conv_act': 'relu',\n",
        "                     'pool_size': 2,\n",
        "                     'dens_num': 2,\n",
        "                     'dens_count': [1000,500],\n",
        "                     'dens_act': 'relu',\n",
        "                     'drop_out': 0.5,\n",
        "                     'output_count': 10,\n",
        "                     'output_act': 'softmax'}"
      ]
    },
    {
      "cell_type": "code",
      "execution_count": 38,
      "metadata": {
        "id": "oqHmqfgTD-Oz",
        "outputId": "3bee49c2-1502-4074-961b-d108c5f9aa2b",
        "colab": {
          "base_uri": "https://localhost:8080/"
        }
      },
      "outputs": [
        {
          "output_type": "stream",
          "name": "stdout",
          "text": [
            "Model: \"model_1\"\n",
            "_________________________________________________________________\n",
            " Layer (type)                Output Shape              Param #   \n",
            "=================================================================\n",
            " input_layer (InputLayer)    [(None, 32, 32, 1)]       0         \n",
            "                                                                 \n",
            " block1_conv1 (Conv2D)       (None, 32, 32, 64)        640       \n",
            "                                                                 \n",
            " block1_batchnorm1 (BatchNor  (None, 32, 32, 64)       256       \n",
            " malization)                                                     \n",
            "                                                                 \n",
            " block1_activ1 (Activation)  (None, 32, 32, 64)        0         \n",
            "                                                                 \n",
            " block1_conv2 (Conv2D)       (None, 32, 32, 64)        36928     \n",
            "                                                                 \n",
            " block1_batchnorm2 (BatchNor  (None, 32, 32, 64)       256       \n",
            " malization)                                                     \n",
            "                                                                 \n",
            " block1_activ2 (Activation)  (None, 32, 32, 64)        0         \n",
            "                                                                 \n",
            " block1_pool (MaxPooling2D)  (None, 16, 16, 64)        0         \n",
            "                                                                 \n",
            " block2_conv1 (Conv2D)       (None, 16, 16, 128)       73856     \n",
            "                                                                 \n",
            " block2_batchnorm1 (BatchNor  (None, 16, 16, 128)      512       \n",
            " malization)                                                     \n",
            "                                                                 \n",
            " block2_activ1 (Activation)  (None, 16, 16, 128)       0         \n",
            "                                                                 \n",
            " block2_conv2 (Conv2D)       (None, 16, 16, 128)       147584    \n",
            "                                                                 \n",
            " block2_batchnorm2 (BatchNor  (None, 16, 16, 128)      512       \n",
            " malization)                                                     \n",
            "                                                                 \n",
            " block2_activ2 (Activation)  (None, 16, 16, 128)       0         \n",
            "                                                                 \n",
            " block2_pool (MaxPooling2D)  (None, 8, 8, 128)         0         \n",
            "                                                                 \n",
            " block3_conv1 (Conv2D)       (None, 8, 8, 256)         295168    \n",
            "                                                                 \n",
            " block3_batchnorm1 (BatchNor  (None, 8, 8, 256)        1024      \n",
            " malization)                                                     \n",
            "                                                                 \n",
            " block3_activ1 (Activation)  (None, 8, 8, 256)         0         \n",
            "                                                                 \n",
            " block3_conv2 (Conv2D)       (None, 8, 8, 256)         590080    \n",
            "                                                                 \n",
            " block3_batchnorm2 (BatchNor  (None, 8, 8, 256)        1024      \n",
            " malization)                                                     \n",
            "                                                                 \n",
            " block3_activ2 (Activation)  (None, 8, 8, 256)         0         \n",
            "                                                                 \n",
            " block3_conv3 (Conv2D)       (None, 8, 8, 256)         590080    \n",
            "                                                                 \n",
            " block3_batchnorm3 (BatchNor  (None, 8, 8, 256)        1024      \n",
            " malization)                                                     \n",
            "                                                                 \n",
            " block3_activ3 (Activation)  (None, 8, 8, 256)         0         \n",
            "                                                                 \n",
            " block3_pool (MaxPooling2D)  (None, 4, 4, 256)         0         \n",
            "                                                                 \n",
            " block4_conv1 (Conv2D)       (None, 4, 4, 512)         1180160   \n",
            "                                                                 \n",
            " block4_batchnorm1 (BatchNor  (None, 4, 4, 512)        2048      \n",
            " malization)                                                     \n",
            "                                                                 \n",
            " block4_activ1 (Activation)  (None, 4, 4, 512)         0         \n",
            "                                                                 \n",
            " block4_conv2 (Conv2D)       (None, 4, 4, 512)         2359808   \n",
            "                                                                 \n",
            " block4_batchnorm2 (BatchNor  (None, 4, 4, 512)        2048      \n",
            " malization)                                                     \n",
            "                                                                 \n",
            " block4_activ2 (Activation)  (None, 4, 4, 512)         0         \n",
            "                                                                 \n",
            " block4_conv3 (Conv2D)       (None, 4, 4, 512)         2359808   \n",
            "                                                                 \n",
            " block4_batchnorm3 (BatchNor  (None, 4, 4, 512)        2048      \n",
            " malization)                                                     \n",
            "                                                                 \n",
            " block4_activ3 (Activation)  (None, 4, 4, 512)         0         \n",
            "                                                                 \n",
            " block4_pool (MaxPooling2D)  (None, 2, 2, 512)         0         \n",
            "                                                                 \n",
            " block5_conv1 (Conv2D)       (None, 2, 2, 512)         2359808   \n",
            "                                                                 \n",
            " block5_batchnorm1 (BatchNor  (None, 2, 2, 512)        2048      \n",
            " malization)                                                     \n",
            "                                                                 \n",
            " block5_activ1 (Activation)  (None, 2, 2, 512)         0         \n",
            "                                                                 \n",
            " block5_conv2 (Conv2D)       (None, 2, 2, 512)         2359808   \n",
            "                                                                 \n",
            " block5_batchnorm2 (BatchNor  (None, 2, 2, 512)        2048      \n",
            " malization)                                                     \n",
            "                                                                 \n",
            " block5_activ2 (Activation)  (None, 2, 2, 512)         0         \n",
            "                                                                 \n",
            " block5_conv3 (Conv2D)       (None, 2, 2, 512)         2359808   \n",
            "                                                                 \n",
            " block5_batchnorm3 (BatchNor  (None, 2, 2, 512)        2048      \n",
            " malization)                                                     \n",
            "                                                                 \n",
            " block5_activ3 (Activation)  (None, 2, 2, 512)         0         \n",
            "                                                                 \n",
            " block5_pool (MaxPooling2D)  (None, 1, 1, 512)         0         \n",
            "                                                                 \n",
            " flatten_layer (Flatten)     (None, 512)               0         \n",
            "                                                                 \n",
            " classifier_dense_1 (Dense)  (None, 1000)              513000    \n",
            "                                                                 \n",
            " classifier_dropout_1 (Dropo  (None, 1000)             0         \n",
            " ut)                                                             \n",
            "                                                                 \n",
            " classifier_dense_2 (Dense)  (None, 500)               500500    \n",
            "                                                                 \n",
            " classifier_dropout_2 (Dropo  (None, 500)              0         \n",
            " ut)                                                             \n",
            "                                                                 \n",
            " output_layer (Dense)        (None, 10)                5010      \n",
            "                                                                 \n",
            "=================================================================\n",
            "Total params: 15,748,942\n",
            "Trainable params: 15,740,494\n",
            "Non-trainable params: 8,448\n",
            "_________________________________________________________________\n"
          ]
        }
      ],
      "source": [
        "model = VGG16_2D(network_param_2d)\n",
        "model.summary()"
      ]
    },
    {
      "cell_type": "code",
      "execution_count": 39,
      "metadata": {
        "id": "9WsHElLPEBfO"
      },
      "outputs": [],
      "source": [
        "model.compile(loss=losses.CategoricalCrossentropy(), optimizer=optimizers.Adam(learning_rate=1e-4), metrics=['acc'])"
      ]
    },
    {
      "cell_type": "code",
      "execution_count": 40,
      "metadata": {
        "id": "VKhnowo1EZtx",
        "outputId": "63b9e29c-0fe3-4960-acaf-39da77818d7f",
        "colab": {
          "base_uri": "https://localhost:8080/"
        }
      },
      "outputs": [
        {
          "output_type": "stream",
          "name": "stdout",
          "text": [
            "Epoch 1/20\n",
            "32/32 [==============================] - 16s 92ms/step - loss: 2.3302 - acc: 0.2350 - val_loss: 2.2559 - val_acc: 0.1720\n",
            "Epoch 2/20\n",
            "32/32 [==============================] - 1s 35ms/step - loss: 1.2499 - acc: 0.5890 - val_loss: 1.9729 - val_acc: 0.3760\n",
            "Epoch 3/20\n",
            "32/32 [==============================] - 1s 34ms/step - loss: 0.5930 - acc: 0.8140 - val_loss: 2.1506 - val_acc: 0.1880\n",
            "Epoch 4/20\n",
            "32/32 [==============================] - 1s 34ms/step - loss: 0.2550 - acc: 0.9300 - val_loss: 2.7020 - val_acc: 0.1580\n",
            "Epoch 5/20\n",
            "32/32 [==============================] - 1s 35ms/step - loss: 0.1330 - acc: 0.9680 - val_loss: 3.1291 - val_acc: 0.1760\n",
            "Epoch 6/20\n",
            "32/32 [==============================] - 1s 37ms/step - loss: 0.0565 - acc: 0.9920 - val_loss: 2.9961 - val_acc: 0.2020\n",
            "Epoch 7/20\n",
            "32/32 [==============================] - 1s 34ms/step - loss: 0.0254 - acc: 0.9990 - val_loss: 2.7579 - val_acc: 0.2760\n",
            "Epoch 8/20\n",
            "32/32 [==============================] - 1s 34ms/step - loss: 0.0172 - acc: 0.9990 - val_loss: 2.0853 - val_acc: 0.4160\n",
            "Epoch 9/20\n",
            "32/32 [==============================] - 1s 34ms/step - loss: 0.0157 - acc: 0.9970 - val_loss: 1.5910 - val_acc: 0.5620\n",
            "Epoch 10/20\n",
            "32/32 [==============================] - 1s 40ms/step - loss: 0.0147 - acc: 0.9980 - val_loss: 1.5897 - val_acc: 0.5680\n",
            "Epoch 11/20\n",
            "32/32 [==============================] - 1s 37ms/step - loss: 0.0199 - acc: 0.9950 - val_loss: 1.0641 - val_acc: 0.6980\n",
            "Epoch 12/20\n",
            "32/32 [==============================] - 1s 36ms/step - loss: 0.0337 - acc: 0.9920 - val_loss: 0.9210 - val_acc: 0.7160\n",
            "Epoch 13/20\n",
            "32/32 [==============================] - 1s 35ms/step - loss: 0.0784 - acc: 0.9820 - val_loss: 0.2225 - val_acc: 0.9300\n",
            "Epoch 14/20\n",
            "32/32 [==============================] - 1s 35ms/step - loss: 0.0283 - acc: 0.9940 - val_loss: 0.4774 - val_acc: 0.8580\n",
            "Epoch 15/20\n",
            "32/32 [==============================] - 1s 35ms/step - loss: 0.0291 - acc: 0.9900 - val_loss: 0.4619 - val_acc: 0.8640\n",
            "Epoch 16/20\n",
            "32/32 [==============================] - 1s 35ms/step - loss: 0.0276 - acc: 0.9930 - val_loss: 0.2914 - val_acc: 0.9040\n",
            "Epoch 17/20\n",
            "32/32 [==============================] - 1s 34ms/step - loss: 0.0544 - acc: 0.9850 - val_loss: 0.5004 - val_acc: 0.8700\n",
            "Epoch 18/20\n",
            "32/32 [==============================] - 1s 34ms/step - loss: 0.0420 - acc: 0.9920 - val_loss: 0.1580 - val_acc: 0.9440\n",
            "Epoch 19/20\n",
            "32/32 [==============================] - 1s 34ms/step - loss: 0.0197 - acc: 0.9950 - val_loss: 0.2557 - val_acc: 0.9180\n",
            "Epoch 20/20\n",
            "32/32 [==============================] - 1s 35ms/step - loss: 0.0132 - acc: 0.9970 - val_loss: 0.2557 - val_acc: 0.9180\n"
          ]
        }
      ],
      "source": [
        "history = model.fit(x_train1, y_train1, epochs=20, batch_size=32,\n",
        "                    validation_data=(x_test1, y_test1), shuffle=True)"
      ]
    },
    {
      "cell_type": "markdown",
      "metadata": {
        "id": "tet0PzxmFU_U"
      },
      "source": [
        "### 2.3. Model Evaluate"
      ]
    },
    {
      "cell_type": "code",
      "execution_count": 41,
      "metadata": {
        "id": "6vfxwSafEsu_",
        "outputId": "06d67607-0edd-43c2-f20b-38b0186c1301",
        "colab": {
          "base_uri": "https://localhost:8080/",
          "height": 1000
        }
      },
      "outputs": [
        {
          "output_type": "display_data",
          "data": {
            "text/plain": [
              "<Figure size 1000x1000 with 1 Axes>"
            ],
            "image/png": "[encoded data removed]"
          },
          "metadata": {}
        },
        {
          "output_type": "display_data",
          "data": {
            "text/plain": [
              "<Figure size 1000x1000 with 1 Axes>"
            ],
            "image/png": "[encoded data removed]"
          },
          "metadata": {}
        }
      ],
      "source": [
        "acc = history.history['acc']\n",
        "val_acc = history.history['val_acc']\n",
        "loss = history.history['loss']\n",
        "val_loss = history.history['val_loss']\n",
        "epochs = range(len(acc))\n",
        "# Accuracy graph\n",
        "plt.figure(figsize=(10, 10))\n",
        "plt.plot(epochs, acc, 'b', label='Training acc = {}%'.format(np.around(np.max(acc) * 100, decimals=1)))\n",
        "plt.plot(epochs, val_acc, 'r', label='Validation acc = {}%'.format(np.around(np.max(val_acc) * 100, decimals=1)))\n",
        "plt.title('{} Accuracy (Total Epoch = {})'.format('VGG16', len(acc)), fontsize=15, y=1.02)\n",
        "plt.xticks(size=15)\n",
        "plt.yticks(size=15)\n",
        "plt.legend(fontsize=15)\n",
        "plt.show()\n",
        "# Loss graph\n",
        "plt.figure(figsize=(10, 10))\n",
        "plt.plot(epochs, loss, 'b', label='Training loss = {}'.format(np.around(np.min(loss), decimals=3)))\n",
        "plt.plot(epochs, val_loss, 'r', label='Validation loss= {}'.format(np.around(np.min(val_loss), decimals=3)))\n",
        "plt.title('{} Loss (Total Epoch = {})'.format('VGG16', len(loss)), fontsize=15, y=1.02)\n",
        "plt.xticks(size=15)\n",
        "plt.yticks(size=15)\n",
        "plt.legend(fontsize=15)\n",
        "plt.show()"
      ]
    },
    {
      "cell_type": "markdown",
      "metadata": {
        "id": "ZsKsB1J5FQIW"
      },
      "source": [
        "### 2.4. Model Test"
      ]
    },
    {
      "cell_type": "code",
      "execution_count": 42,
      "metadata": {
        "id": "iURQXorTE3Nd",
        "outputId": "1d8d0692-51a8-4c5d-a6a4-a7d07aa7038e",
        "colab": {
          "base_uri": "https://localhost:8080/",
          "height": 466
        }
      },
      "outputs": [
        {
          "output_type": "stream",
          "name": "stdout",
          "text": [
            "(32, 32, 1)\n"
          ]
        },
        {
          "output_type": "execute_result",
          "data": {
            "text/plain": [
              "<matplotlib.image.AxesImage at 0x7815c1746830>"
            ]
          },
          "metadata": {},
          "execution_count": 42
        },
        {
          "output_type": "display_data",
          "data": {
            "text/plain": [
              "<Figure size 640x480 with 1 Axes>"
            ],
            "image/png": "[encoded data removed]"
          },
          "metadata": {}
        }
      ],
      "source": [
        "test1 = x_test1[0]\n",
        "print(test1.shape)\n",
        "plt.imshow(test1[...,0])"
      ]
    },
    {
      "cell_type": "code",
      "execution_count": 43,
      "metadata": {
        "id": "wPRNaZHAE5Ja",
        "outputId": "35fbfd9f-56ea-4f70-e036-4ba26dd78187",
        "colab": {
          "base_uri": "https://localhost:8080/"
        }
      },
      "outputs": [
        {
          "output_type": "stream",
          "name": "stdout",
          "text": [
            "4/4 [==============================] - 1s 149ms/step\n"
          ]
        }
      ],
      "source": [
        "testp = x_test1[:100]\n",
        "testg = y_test[:100]\n",
        "scores = model.predict(testp)\n",
        "\n",
        "new_scores = []\n",
        "for score in scores:\n",
        "  max_val = np.max(score)\n",
        "  prob_num = list(score).index(max_val)\n",
        "  new_scores.append(prob_num)"
      ]
    },
    {
      "cell_type": "code",
      "execution_count": 44,
      "metadata": {
        "id": "5LD2oneiE53X",
        "outputId": "375e6d6d-c81b-4b13-958c-f7d6568a6eb1",
        "colab": {
          "base_uri": "https://localhost:8080/",
          "height": 501
        }
      },
      "outputs": [
        {
          "output_type": "stream",
          "name": "stdout",
          "text": [
            "label=7, predict=7\n",
            "[1.00123614e-07 3.02740119e-07 4.14769517e-08 3.28950662e-08\n",
            " 1.16587550e-07 3.13515365e-08 3.70392583e-09 9.99999166e-01\n",
            " 1.47010928e-08 1.69226226e-07]\n"
          ]
        },
        {
          "output_type": "display_data",
          "data": {
            "text/plain": [
              "<Figure size 640x480 with 1 Axes>"
            ],
            "image/png": "[encoded data removed]"
          },
          "metadata": {}
        }
      ],
      "source": [
        "plt.imshow(testp[0,...,0])\n",
        "print(f'label={testg[0]}, predict={new_scores[0]}')\n",
        "print(scores[0])"
      ]
    },
    {
      "cell_type": "markdown",
      "metadata": {
        "id": "mv2nkq6lFl5w"
      },
      "source": [
        "## 3. Segmentation: Simple FCN"
      ]
    },
    {
      "cell_type": "markdown",
      "source": [
        "### 3.1. Data Loading"
      ],
      "metadata": {
        "id": "W8xZs4JAsOT5"
      }
    },
    {
      "cell_type": "markdown",
      "source": [
        "* Dataset Download"
      ],
      "metadata": {
        "id": "Btz6RNQ0sTzz"
      }
    },
    {
      "cell_type": "code",
      "source": [
        "!wget http://www.robots.ox.ac.uk/~vgg/data/pets/data/images.tar.gz\n",
        "!wget http://www.robots.ox.ac.uk/~vgg/data/pets/data/annotations.tar.gz\n",
        "!tar -xf images.tar.gz\n",
        "!tar -xf annotations.tar.gz"
      ],
      "metadata": {
        "id": "lGublw8TsIF0"
      },
      "execution_count": null,
      "outputs": []
    },
    {
      "cell_type": "markdown",
      "source": [
        "* 데이터 경로 지정"
      ],
      "metadata": {
        "id": "lVRyvtUgshTT"
      }
    },
    {
      "cell_type": "code",
      "source": [
        "input_dir = \"images/\"\n",
        "target_dir = \"annotations/trimaps/\"\n",
        "\n",
        "input_img_paths = sorted(\n",
        "    [os.path.join(input_dir, fname)\n",
        "     for fname in os.listdir(input_dir)\n",
        "     if fname.endswith(\".jpg\")])\n",
        "target_paths = sorted(\n",
        "    [os.path.join(target_dir, fname)\n",
        "     for fname in os.listdir(target_dir)\n",
        "     if fname.endswith(\".png\") and not fname.startswith(\".\")])\n",
        "\n",
        "print(len(input_img_paths), input_img_paths)\n",
        "print(len(target_paths), target_paths)"
      ],
      "metadata": {
        "id": "Dt1HpEdgseL7"
      },
      "execution_count": null,
      "outputs": []
    },
    {
      "cell_type": "markdown",
      "source": [
        "* 이미지 확인"
      ],
      "metadata": {
        "id": "UHz4IX2GtDAL"
      }
    },
    {
      "cell_type": "code",
      "source": [
        "from tensorflow.keras.utils import load_img, img_to_array\n",
        "\n",
        "plt.axis(\"off\")\n",
        "plt.imshow(load_img(input_img_paths[9]))"
      ],
      "metadata": {
        "id": "79Ua_TEhssDM"
      },
      "execution_count": null,
      "outputs": []
    },
    {
      "cell_type": "markdown",
      "source": [
        "* 레이블 확인\n",
        "  * 1(전경), 2(배경), 3(윤곽)"
      ],
      "metadata": {
        "id": "kNadvPqEtG_z"
      }
    },
    {
      "cell_type": "code",
      "source": [
        "def display_target(target_array):\n",
        "    normalized_array = (target_array.astype(\"uint8\") - 1) * 127 # label 값은 1,2,3 -> 0,1,2\n",
        "    plt.axis(\"off\")\n",
        "    plt.imshow(normalized_array[:, :, 0])\n",
        "\n",
        "img = img_to_array(load_img(target_paths[9], color_mode=\"grayscale\"))\n",
        "display_target(img)"
      ],
      "metadata": {
        "id": "ZVb8d3Tws_cM"
      },
      "execution_count": null,
      "outputs": []
    },
    {
      "cell_type": "markdown",
      "source": [
        "### 3.2. Dataset Pre-processing"
      ],
      "metadata": {
        "id": "IjZb4e8-tPG7"
      }
    },
    {
      "cell_type": "code",
      "source": [
        "img_size = (200, 200) # 이미지 사이즈 정규화\n",
        "num_imgs = len(input_img_paths)\n",
        "\n",
        "# 데이터 셔플링\n",
        "random.Random(1337).shuffle(input_img_paths) # 이미지 셔플링\n",
        "random.Random(1337).shuffle(target_paths) # 타겟 셔플링\n",
        "\n",
        "# 이미지를 array로 변환\n",
        "def path_to_input_image(path):\n",
        "    return img_to_array(load_img(path, target_size=img_size))\n",
        "\n",
        "# 레이블 이미지를 마스크(1, 0) 이미지로 변환\n",
        "def path_to_target(path):\n",
        "    img = img_to_array(\n",
        "        load_img(path, target_size=img_size, color_mode=\"grayscale\"))\n",
        "    img = img.astype(\"uint8\") - 1\n",
        "    return img\n",
        "\n",
        "input_imgs = np.zeros((num_imgs,) + img_size + (3,), dtype=\"float32\") # 이미지는 RBG 3채널\n",
        "targets = np.zeros((num_imgs,) + img_size + (1,), dtype=\"uint8\")\n",
        "for i in range(num_imgs):\n",
        "    input_imgs[i] = path_to_input_image(input_img_paths[i])\n",
        "    targets[i] = path_to_target(target_paths[i])\n",
        "\n",
        "# 검증 데이터셋 분할\n",
        "num_val_samples = 1000 # 검증 데이터셋에는 1000건 사용\n",
        "train_input_imgs = input_imgs[:-num_val_samples]\n",
        "train_targets = targets[:-num_val_samples]\n",
        "val_input_imgs = input_imgs[-num_val_samples:]\n",
        "val_targets = targets[-num_val_samples:]"
      ],
      "metadata": {
        "id": "0lcsdXvntJVh"
      },
      "execution_count": null,
      "outputs": []
    },
    {
      "cell_type": "markdown",
      "source": [
        "### 3.3. Model Build"
      ],
      "metadata": {
        "id": "xapLt9QFuHn-"
      }
    },
    {
      "cell_type": "code",
      "source": [
        "def get_model(img_size, num_classes):\n",
        "    inputs = keras.Input(shape=img_size + (3,))\n",
        "    x = layers.Rescaling(1./255)(inputs) # 이미지 정규화 (0~1)\n",
        "\n",
        "    x = layers.Conv2D(64, 3, strides=2, activation=\"relu\", padding=\"same\")(x) # Padding 영향 제거 ('same')\n",
        "    x = layers.Conv2D(64, 3, activation=\"relu\", padding=\"same\")(x)\n",
        "    x = layers.Conv2D(128, 3, strides=2, activation=\"relu\", padding=\"same\")(x)\n",
        "    x = layers.Conv2D(128, 3, activation=\"relu\", padding=\"same\")(x)\n",
        "    x = layers.Conv2D(256, 3, strides=2, padding=\"same\", activation=\"relu\")(x)\n",
        "    x = layers.Conv2D(256, 3, activation=\"relu\", padding=\"same\")(x)\n",
        "\n",
        "    x = layers.Conv2DTranspose(256, 3, activation=\"relu\", padding=\"same\")(x)\n",
        "    x = layers.Conv2DTranspose(256, 3, activation=\"relu\", padding=\"same\", strides=2)(x)\n",
        "    x = layers.Conv2DTranspose(128, 3, activation=\"relu\", padding=\"same\")(x)\n",
        "    x = layers.Conv2DTranspose(128, 3, activation=\"relu\", padding=\"same\", strides=2)(x)\n",
        "    x = layers.Conv2DTranspose(64, 3, activation=\"relu\", padding=\"same\")(x)\n",
        "    x = layers.Conv2DTranspose(64, 3, activation=\"relu\", padding=\"same\", strides=2)(x)\n",
        "\n",
        "    outputs = layers.Conv2D(num_classes, 3, activation=\"softmax\", padding=\"same\")(x) # 최종 클래스 3개\n",
        "\n",
        "    model = keras.Model(inputs, outputs)\n",
        "    return model\n",
        "\n",
        "model = get_model(img_size=img_size, num_classes=3)\n",
        "model.summary()"
      ],
      "metadata": {
        "id": "sz9ITnxct5dW"
      },
      "execution_count": null,
      "outputs": []
    },
    {
      "cell_type": "markdown",
      "source": [
        "### 3.3. Model Training"
      ],
      "metadata": {
        "id": "qFta5bREvcG0"
      }
    },
    {
      "cell_type": "code",
      "source": [
        "model.compile(optimizer=\"rmsprop\", loss=\"sparse_categorical_crossentropy\")\n",
        "\n",
        "callbacks = [\n",
        "    keras.callbacks.ModelCheckpoint(\"oxford_segmentation.keras\",\n",
        "                                    save_best_only=True)\n",
        "]\n",
        "\n",
        "history = model.fit(train_input_imgs, train_targets,\n",
        "                    epochs=50,\n",
        "                    callbacks=callbacks,\n",
        "                    batch_size=64,\n",
        "                    validation_data=(val_input_imgs, val_targets))"
      ],
      "metadata": {
        "id": "DoGFCYCivbF2"
      },
      "execution_count": null,
      "outputs": []
    },
    {
      "cell_type": "markdown",
      "source": [
        "### 3.4. Model Evaluate"
      ],
      "metadata": {
        "id": "-cK8HUOnxMuZ"
      }
    },
    {
      "cell_type": "markdown",
      "source": [
        "* 학습 결과 확인"
      ],
      "metadata": {
        "id": "z8B8nb-5xTRr"
      }
    },
    {
      "cell_type": "code",
      "source": [
        "epochs = range(1, len(history.history[\"loss\"]) + 1)\n",
        "loss = history.history[\"loss\"]\n",
        "val_loss = history.history[\"val_loss\"]\n",
        "plt.figure()\n",
        "plt.plot(epochs, loss, \"bo\", label=\"Training loss\")\n",
        "plt.plot(epochs, val_loss, \"b\", label=\"Validation loss\")\n",
        "plt.title(\"Training and validation loss\")\n",
        "plt.legend()"
      ],
      "metadata": {
        "id": "zfoCeCbDxP69"
      },
      "execution_count": null,
      "outputs": []
    },
    {
      "cell_type": "markdown",
      "source": [
        "* 테스트 데이터"
      ],
      "metadata": {
        "id": "XoVSSXH2xVww"
      }
    },
    {
      "cell_type": "code",
      "source": [
        "from tensorflow.keras.utils import array_to_img\n",
        "\n",
        "# 모델 불러오기\n",
        "model = keras.models.load_model(\"oxford_segmentation.keras\")\n",
        "\n",
        "# Test data predict\n",
        "i = 4\n",
        "test_image = val_input_imgs[i]\n",
        "mask = model.predict(np.expand_dims(test_image, 0))[0]\n",
        "\n",
        "def display_mask(pred):\n",
        "    mask = np.argmax(pred, axis=-1)\n",
        "    mask *= 127\n",
        "    return mask\n",
        "\n",
        "# Result show\n",
        "plt.figure(figsize=(10,8))\n",
        "plt.subplot(121)\n",
        "plt.axis(\"off\")\n",
        "plt.imshow(array_to_img(test_image))\n",
        "plt.title('Image')\n",
        "plt.subplot(122)\n",
        "plt.axis(\"off\")\n",
        "plt.imshow(display_mask(mask))\n",
        "plt.title('mask')"
      ],
      "metadata": {
        "id": "cAXIYzd6xi15"
      },
      "execution_count": null,
      "outputs": []
    },
    {
      "cell_type": "code",
      "source": [],
      "metadata": {
        "id": "QKZV9ZAMyJnp"
      },
      "execution_count": null,
      "outputs": []
    }
  ],
  "metadata": {
    "accelerator": "GPU",
    "colab": {
      "name": "Lecture1_CNN.ipynb",
      "provenance": [],
      "include_colab_link": true
    },
    "kernelspec": {
      "display_name": "Python 3",
      "language": "python",
      "name": "python3"
    },
    "language_info": {
      "codemirror_mode": {
        "name": "ipython",
        "version": 3
      },
      "file_extension": ".py",
      "mimetype": "text/x-python",
      "name": "python",
      "nbconvert_exporter": "python",
      "pygments_lexer": "ipython3",
      "version": "3.8.10"
    },
    "vscode": {
      "interpreter": {
        "hash": "916dbcbb3f70747c44a77c7bcd40155683ae19c65e1c03b4aa3499c5328201f1"
      }
    }
  },
  "nbformat": 4,
  "nbformat_minor": 0
}