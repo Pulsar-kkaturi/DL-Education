{
  "nbformat": 4,
  "nbformat_minor": 0,
  "metadata": {
    "kernelspec": {
      "display_name": "Python 3",
      "language": "python",
      "name": "python3"
    },
    "language_info": {
      "codemirror_mode": {
        "name": "ipython",
        "version": 3
      },
      "file_extension": ".py",
      "mimetype": "text/x-python",
      "name": "python",
      "nbconvert_exporter": "python",
      "pygments_lexer": "ipython3",
      "version": "3.7.6"
    },
    "colab": {
      "name": "preprocessing.ipynb",
      "provenance": [],
      "include_colab_link": true
    },
    "accelerator": "GPU"
  },
  "cells": [
    {
      "cell_type": "markdown",
      "metadata": {
        "id": "view-in-github",
        "colab_type": "text"
      },
      "source": [
        "<a href=\"https://colab.research.google.com/github/Pulsar-kkaturi/DL-Education/blob/master/VisionDL_Lecture/Lecture3_Pre-processing.ipynb\" target=\"_parent\"><img src=\"https://colab.research.google.com/assets/colab-badge.svg\" alt=\"Open In Colab\"/></a>"
      ]
    },
    {
      "cell_type": "markdown",
      "metadata": {
        "id": "FfH-9kUo8h-U"
      },
      "source": [
        "# Image Pre-Processing"
      ]
    },
    {
      "cell_type": "markdown",
      "metadata": {
        "id": "sAtNn7c98h-X"
      },
      "source": [
        "## 1. Environment Setting\n",
        "\n"
      ]
    },
    {
      "cell_type": "code",
      "source": [
        "# 데이터셋을 이 세션으로 불러오기\n",
        "!git clone https://github.com/Pulsar-kkaturi/DL-Education.git"
      ],
      "metadata": {
        "id": "ijhktH0NvH4u"
      },
      "execution_count": null,
      "outputs": []
    },
    {
      "cell_type": "markdown",
      "source": [
        "### 1.1. Library Setting\n",
        "* 파이썬 라이브러리를 불러오자"
      ],
      "metadata": {
        "id": "uqDzDMFevEEa"
      }
    },
    {
      "cell_type": "code",
      "metadata": {
        "id": "F_T8uwlW8lzA"
      },
      "source": [
        "# 의료영상 처리를 위한 라이브러리 설치\n",
        "!pip install simpleitk"
      ],
      "execution_count": null,
      "outputs": []
    },
    {
      "cell_type": "code",
      "metadata": {
        "pycharm": {
          "is_executing": false
        },
        "id": "ub2h-zfC8h-Y"
      },
      "source": [
        "import numpy as np\n",
        "import os\n",
        "import matplotlib\n",
        "from matplotlib import pyplot as plt\n",
        "from matplotlib.ticker import MultipleLocator\n",
        "import SimpleITK as sitk\n",
        "import json\n",
        "import csv\n",
        "import pandas as pd\n",
        "from sklearn import metrics as skmet\n",
        "from skimage import morphology\n",
        "from skimage import measure\n",
        "from skimage import exposure\n",
        "from skimage.transform import rotate\n",
        "from skimage import io as sio\n",
        "from skimage import color as skc\n",
        "import cv2 as cv\n",
        "from keras.preprocessing import image as kimg"
      ],
      "execution_count": null,
      "outputs": []
    },
    {
      "cell_type": "markdown",
      "metadata": {
        "id": "P0GkYGyR8h-h"
      },
      "source": [
        "### 1.2. Data Loading\n",
        "* 전처리 실습에 사용할 'test.dcm' 파일을 불러오자.\n",
        "* 이때 'test.dcm' 파일을 업로드해두지 않았다면 실행 시 에러가 발생할 것이므로 반드시 'test.dcm'을 올리고 실행 시켜야 한다."
      ]
    },
    {
      "cell_type": "code",
      "metadata": {
        "pycharm": {
          "is_executing": false
        },
        "id": "3pY230Py8h-i"
      },
      "source": [
        "test_data = './DL-Education/dataset/test.dcm'\n",
        "image = sitk.ReadImage(test_data)\n",
        "img_arr = sitk.GetArrayFromImage(image)\n",
        "print('# Header Information #')\n",
        "print('Image Size = ', image.GetSize())\n",
        "print('Pixel Spacing = ', image.GetSpacing())\n",
        "print('Image Dimension = ', image.GetDimension())\n",
        "print('Number of Pixel Components = ', image.GetNumberOfComponentsPerPixel())\n",
        "print('Minimum & Maximum pixel value(Min/Max) = {}/{}'.format(np.min(img_arr), np.max(img_arr)))\n",
        "print('Image mean & std = {}, {}'.format(np.mean(img_arr), np.std(img_arr)))\n",
        "\n",
        "plt.figure(figsize=(10,10))\n",
        "plt.imshow(img_arr[0], cmap='gray')"
      ],
      "execution_count": null,
      "outputs": []
    },
    {
      "cell_type": "markdown",
      "metadata": {
        "id": "WQI2p6mM8h-q"
      },
      "source": [
        "## 2. Basic Pre-Processing\n",
        "* 가장 기본적인 전처리들을 알아보자"
      ]
    },
    {
      "cell_type": "markdown",
      "metadata": {
        "id": "fwIPcVg68h-q"
      },
      "source": [
        "### 2.1 Resize\n",
        "* 이미지의 크기를 변화 시키는 모듈"
      ]
    },
    {
      "cell_type": "code",
      "metadata": {
        "id": "WsHm0dxi8h-r"
      },
      "source": [
        "# Resize\n",
        "def resize_array(sitk_image, size,interpolator=sitk.sitkLinear):\n",
        "    original_spacing = sitk_image.GetSpacing()\n",
        "    original_size = sitk_image.GetSize()\n",
        "    new_size = list(original_size)\n",
        "    new_size[0]=size[0]\n",
        "    new_size[1]=size[1]\n",
        "    new_spacing = [(ospc * osz / nsz) for osz, ospc, nsz in\n",
        "                   zip(original_size, original_spacing, new_size)]\n",
        "    sitk_image = sitk.Resample(sitk_image, new_size, sitk.Transform(), interpolator, sitk_image.GetOrigin(), new_spacing,\n",
        "                         sitk_image.GetDirection(), 0, sitk_image.GetPixelID())\n",
        "    return sitk_image\n",
        "\n",
        "resize_img = resize_array(image, [128, 128])\n",
        "print('Original Image Size = ', image.GetSize())\n",
        "print('Processed Image Size = ', resize_img.GetSize())\n",
        "print('Original Pixel Spacing = ', image.GetSpacing())\n",
        "print('Processed Pixel Spacing = ', resize_img.GetSpacing())\n",
        "\n",
        "plt.figure(figsize=(12,5))\n",
        "plt.subplot(1,2,1)\n",
        "plt.imshow(img_arr[0], cmap='gray')\n",
        "plt.subplot(1,2,2)\n",
        "plt.imshow(sitk.GetArrayFromImage(resize_img)[0], cmap='gray')"
      ],
      "execution_count": null,
      "outputs": []
    },
    {
      "cell_type": "markdown",
      "metadata": {
        "id": "WySXnjjy8h-v"
      },
      "source": [
        "### 2.2 Resample\n",
        "* 이미지의 픽셀 간 물리적 거리를 변화시키는 모듈"
      ]
    },
    {
      "cell_type": "code",
      "metadata": {
        "id": "AXLCsUSx8h-v"
      },
      "source": [
        "# Resample\n",
        "def resample_array(sitk_image, spacing, interpolator=sitk.sitkLinear):\n",
        "    original_spacing = sitk_image.GetSpacing()\n",
        "    original_size = sitk_image.GetSize()\n",
        "    new_spacing = [spacing, spacing, original_spacing[2]]\n",
        "    new_size = [int(round(osz * ospc / nspc)) for osz, ospc, nspc in\n",
        "                zip(original_size, original_spacing, new_spacing)]\n",
        "    sitk_image = sitk.Resample(sitk_image, new_size, sitk.Transform(), interpolator, sitk_image.GetOrigin(), new_spacing,\n",
        "                         sitk_image.GetDirection(), 0, sitk_image.GetPixelID())\n",
        "    return sitk_image\n",
        "\n",
        "resample_img = resample_array(image, 0.5)\n",
        "print('Original Pixel Spacing = ', image.GetSpacing())\n",
        "print('Processed Pixel Spacing = ', resample_img.GetSpacing())\n",
        "print('Original Image Size = ', image.GetSize())\n",
        "print('Processed Image Size = ', resample_img.GetSize())\n",
        "\n",
        "plt.figure(figsize=(12,5))\n",
        "plt.subplot(1,2,1)\n",
        "plt.imshow(img_arr[0], cmap='gray')\n",
        "plt.subplot(1,2,2)\n",
        "plt.imshow(sitk.GetArrayFromImage(resample_img)[0], cmap='gray')"
      ],
      "execution_count": null,
      "outputs": []
    },
    {
      "cell_type": "markdown",
      "metadata": {
        "id": "D_OU5zhf8h-z"
      },
      "source": [
        "### 2.3 Min-Max Normalization\n",
        "* 이미지의 픽셀 값들을 0과 1사이의 값으로 바꾸어 정규화시키는 모듈"
      ]
    },
    {
      "cell_type": "code",
      "metadata": {
        "id": "aVPhngTR8h-z"
      },
      "source": [
        "# MinMax Normalization\n",
        "norm_img = (img_arr - np.min(img_arr)) / (np.max(img_arr) - np.min(img_arr))\n",
        "print('Oringinal Image min/max value = {}/{}'.format(np.min(img_arr), np.max(img_arr)))\n",
        "print('Processed Image min/max value = {}/{}'.format(np.min(norm_img), np.max(norm_img)))\n",
        "print('\\nSample Patch Comparison(Origin vs Processed)')\n",
        "print(img_arr[0, 185:190, 275:280])\n",
        "print(norm_img[0, 185:190, 275:280])\n",
        "\n",
        "plt.figure(figsize=(8,8))\n",
        "plt.imshow(norm_img[0], cmap='gray')"
      ],
      "execution_count": null,
      "outputs": []
    },
    {
      "cell_type": "markdown",
      "metadata": {
        "id": "JnbQJbkc8h-2"
      },
      "source": [
        "### 2.4 Z-Score Normalization\n",
        "* Z-score를 이용하여 이미지의 픽셀 값들을 정규화시키는 모듈"
      ]
    },
    {
      "cell_type": "code",
      "metadata": {
        "id": "JhtLS1Wg8h-3"
      },
      "source": [
        "# Z-Score Normalization\n",
        "zsc_img = (img_arr - np.mean(img_arr)) / np.std(img_arr)\n",
        "print('Oringinal Image min/max value = {}/{}'.format(np.min(img_arr), np.max(img_arr)))\n",
        "print('Processed Image min/max value = {}/{}'.format(np.min(zsc_img), np.max(zsc_img)))\n",
        "print('Oringinal Image mean/std value = {}/{}'.format(np.mean(img_arr), np.std(img_arr)))\n",
        "print('Processed Image mean/std value = {}/{}'.format(np.mean(zsc_img), np.std(zsc_img)))\n",
        "print('\\nSample Patch Comparison(Origin vs Processed)')\n",
        "print(img_arr[0, 185:190, 275:280])\n",
        "print(zsc_img[0, 185:190, 275:280])\n",
        "\n",
        "plt.figure(figsize=(8,8))\n",
        "plt.imshow(zsc_img[0], cmap='gray')"
      ],
      "execution_count": null,
      "outputs": []
    },
    {
      "cell_type": "markdown",
      "metadata": {
        "id": "Uzc90mtL8h-7"
      },
      "source": [
        "### 2.5 Gamma Correction\n",
        "* 이미지의 감마 값을 조정하는 모듈"
      ]
    },
    {
      "cell_type": "code",
      "metadata": {
        "id": "jRhOAU2G8h-7"
      },
      "source": [
        "# Gamma Correction\n",
        "gamma_cor = exposure.adjust_gamma(255*norm_img, 0.1)\n",
        "print('Oringinal Image mean/min/max value = {}/{}'.format(np.mean(255*norm_img), np.std(255*norm_img)))\n",
        "print('Processed Image mean/min/max value = {}/{}'.format(np.mean(gamma_cor), np.std(gamma_cor)))\n",
        "\n",
        "plt.figure(figsize=(12,6))\n",
        "plt.subplot(1,2,1)\n",
        "plt.imshow(img_arr[0], cmap='gray')\n",
        "plt.subplot(1,2,2)\n",
        "plt.imshow(gamma_cor[0], cmap='gray')"
      ],
      "execution_count": null,
      "outputs": []
    },
    {
      "cell_type": "markdown",
      "metadata": {
        "id": "t5AGHLN18h--"
      },
      "source": [
        "### 2.6 Adaptive Equalization\n",
        "* 히스토그램 평활화를 수행하는 모듈"
      ]
    },
    {
      "cell_type": "code",
      "metadata": {
        "id": "nbvKjIUC8h-_"
      },
      "source": [
        "# Adaptive Equalization\n",
        "img_norm = (img_arr - np.min(img_arr))/(np.max(img_arr)-np.min(img_arr))\n",
        "img_eqh = exposure.equalize_adapthist(img_norm, clip_limit=0.05)\n",
        "\n",
        "plt.figure(figsize=(12,6))\n",
        "plt.subplot(1,2,1)\n",
        "plt.imshow(img_arr[0], cmap='gray')\n",
        "plt.subplot(1,2,2)\n",
        "plt.imshow(img_eqh[0], cmap='gray')"
      ],
      "execution_count": null,
      "outputs": []
    },
    {
      "cell_type": "markdown",
      "metadata": {
        "id": "pbMzPEeE8h_C"
      },
      "source": [
        "## 3. Hounsfield Unit Lung Area Segmentation\n",
        "* 다양한 영상처리 기법들을 조합하여 폐 CT 영상에서 뼈와 다른 장기들을 제외하고 오직 페영역만 분할해보자."
      ]
    },
    {
      "cell_type": "markdown",
      "metadata": {
        "id": "sFwQxIZY8h_C"
      },
      "source": [
        "### 3.1 Hu Conversion\n",
        "* Hounsfield 값으로 이미지의 픽셀 값들을 변환하자."
      ]
    },
    {
      "cell_type": "code",
      "metadata": {
        "id": "wwqwh7Fa8h_D"
      },
      "source": [
        "itc = image.GetMetaData('0028|1052')\n",
        "slp = image.GetMetaData('0028|1053')\n",
        "print('Rescale Slope (0028|1053) = ', image.GetMetaData('0028|1053'))\n",
        "print('Rescale Intercept (0028|1052) = ', image.GetMetaData('0028|1052'))"
      ],
      "execution_count": null,
      "outputs": []
    },
    {
      "cell_type": "code",
      "metadata": {
        "id": "blJ1Sk9C8h_I"
      },
      "source": [
        "img_arr_hu = (img_arr * float(slp)) + float(itc)\n",
        "print(img_arr.shape, img_arr_hu.shape)\n",
        "print('original = ', np.min(img_arr), np.max(img_arr))\n",
        "print('HU conversion = ', np.min(img_arr_hu), np.max(img_arr_hu))\n",
        "plt.figure(figsize=(8,8))\n",
        "plt.subplot(1,2,1)\n",
        "plt.imshow(img_arr[0], cmap='gray')\n",
        "plt.title('Original', fontsize=15)\n",
        "plt.subplot(1,2,2)\n",
        "plt.imshow(img_arr_hu[0], cmap='gray')\n",
        "plt.title('HU Conversion', fontsize=15)"
      ],
      "execution_count": null,
      "outputs": []
    },
    {
      "cell_type": "markdown",
      "metadata": {
        "id": "fk9rXIDl8h_K"
      },
      "source": [
        "### 3.2 Window Setting\n",
        "* 변화된 Hounsfield 값들을 기준으로 뼈와 같이 지나치게 밝은 부분과 공기와 지방과 같이 지나치게 어두운 부분들은 제외시키는 모듈"
      ]
    },
    {
      "cell_type": "code",
      "metadata": {
        "scrolled": true,
        "id": "9g1_z6iW8h_L"
      },
      "source": [
        "img_arr_win1 = np.where(img_arr_hu < -2000, -2000, img_arr_hu)\n",
        "img_arr_win = np.where(img_arr_win1 > 150, 150, img_arr_win1)\n",
        "\n",
        "plt.figure(figsize=(12,8))\n",
        "plt.subplot(131)\n",
        "plt.imshow(img_arr[0], cmap='gray')\n",
        "plt.title('Original', fontsize=15)\n",
        "plt.subplot(132)\n",
        "plt.imshow(img_arr_hu[0], cmap='gray')\n",
        "plt.title('HU Conversion', fontsize=15)\n",
        "plt.subplot(133)\n",
        "plt.imshow(img_arr_win[0], cmap='gray')\n",
        "plt.title('Window Setting', fontsize=15)"
      ],
      "execution_count": null,
      "outputs": []
    },
    {
      "cell_type": "markdown",
      "metadata": {
        "id": "V5PE_4jt8h_O"
      },
      "source": [
        "### 3.3 Make Mask\n",
        "* Thresholding된 이미지를 기준으로 폐영역만 나타내는 마스크를 만드는 모듈"
      ]
    },
    {
      "cell_type": "code",
      "metadata": {
        "scrolled": true,
        "id": "NNH2MXaS8h_O"
      },
      "source": [
        "# Thresholding\n",
        "img_arr_thres = np.where(img_arr_win < -1200, 1, 0)\n",
        "print(np.min(img_arr_thres),np.max(img_arr_thres))\n",
        "\n",
        "plt.figure(figsize=(8,8))\n",
        "plt.imshow(img_arr_thres[0], cmap='gray')\n",
        "plt.title('Threshold', fontsize=15)"
      ],
      "execution_count": null,
      "outputs": []
    },
    {
      "cell_type": "code",
      "metadata": {
        "id": "hmS8xsJv8h_R"
      },
      "source": [
        "# Erosion\n",
        "eroded = morphology.erosion(img_arr_thres[0], morphology.disk(3))\n",
        "\n",
        "plt.figure(figsize=(8,8))\n",
        "plt.imshow(eroded, cmap='gray')\n",
        "plt.title('Eroded', fontsize=15)"
      ],
      "execution_count": null,
      "outputs": []
    },
    {
      "cell_type": "code",
      "metadata": {
        "scrolled": true,
        "id": "hcH9_hos8h_T"
      },
      "source": [
        "# Dilation\n",
        "dilation = morphology.dilation(eroded,morphology.disk(10))\n",
        "\n",
        "plt.figure(figsize=(8,8))\n",
        "plt.imshow(dilation, cmap='gray')\n",
        "plt.title('Dilation', fontsize=15)"
      ],
      "execution_count": null,
      "outputs": []
    },
    {
      "cell_type": "code",
      "metadata": {
        "id": "bCwa0-GR8h_W"
      },
      "source": [
        "# Closing\n",
        "closing = morphology.closing(dilation, morphology.disk(10))\n",
        "\n",
        "plt.figure(figsize=(8,8))\n",
        "plt.imshow(closing, cmap='gray')\n",
        "plt.title('closing', fontsize=15)"
      ],
      "execution_count": null,
      "outputs": []
    },
    {
      "cell_type": "code",
      "metadata": {
        "id": "RVMPVm3o8h_a"
      },
      "source": [
        "# color label\n",
        "labels = measure.label(closing)\n",
        "show_lab = np.where(labels==0, 1, 0)\n",
        "\n",
        "plt.figure(figsize=(8,8))\n",
        "plt.imshow(labels, cmap='viridis')\n",
        "plt.title('Color Labels', fontsize=15)"
      ],
      "execution_count": null,
      "outputs": []
    },
    {
      "cell_type": "code",
      "metadata": {
        "id": "mW1jjuus8h_d"
      },
      "source": [
        "# find good label\n",
        "print(np.max(labels))\n",
        "row_size= labels.shape[0]\n",
        "col_size = labels.shape[1]\n",
        "regions = measure.regionprops(labels)\n",
        "good_labels = []\n",
        "for prop in regions:\n",
        "    B = prop.bbox\n",
        "    if B[2]-B[0]<row_size*0.9 and B[3]-B[1]<col_size*0.9 and B[0]>row_size*0.1 and B[2]>col_size*0.1:\n",
        "        good_labels.append(prop.label)\n",
        "mask = np.zeros(shape=(row_size,col_size),dtype=np.int8)\n",
        "for N in good_labels:\n",
        "    mask = mask + np.where(labels==N,1,0)\n",
        "mask = morphology.dilation(mask, morphology.disk(5)) #mask = np.where(labels == 0, 1, 0)\n",
        "mask = morphology.closing(mask, morphology.disk(5))\n",
        "mask = morphology.erosion(mask, morphology.disk(10))\n",
        "\n",
        "print(np.min(mask), np.max(mask))\n",
        "plt.figure(figsize=(8,8))\n",
        "plt.imshow(mask, cmap='gray')\n",
        "plt.title('Final Mask', fontsize=15)"
      ],
      "execution_count": null,
      "outputs": []
    },
    {
      "cell_type": "markdown",
      "metadata": {
        "id": "kg3XqTzQ8h_h"
      },
      "source": [
        "### 3.4 Lung Area Segmentation\n",
        "* 만들어진 폐영역 분할 마스크를 가지고 페 CT 영상에서 폐영역만 정확하게 분할하는 모듈"
      ]
    },
    {
      "cell_type": "code",
      "metadata": {
        "scrolled": true,
        "id": "p7749FDw8h_h"
      },
      "source": [
        "# final image\n",
        "img_arr_norm = img_arr_win+2000\n",
        "lung_img = img_arr_norm[0] * mask\n",
        "\n",
        "plt.figure(figsize=(8,8))\n",
        "plt.imshow(lung_img, cmap='gray')\n",
        "plt.title('Final Lung Image', fontsize=15)"
      ],
      "execution_count": null,
      "outputs": []
    },
    {
      "cell_type": "code",
      "metadata": {
        "id": "MgQcpnI_8h_j"
      },
      "source": [
        "# Adaptive Equalization\n",
        "rescale_image = (lung_img - np.mean(lung_img)) / (np.max(lung_img) - np.mean(lung_img))\n",
        "aeh_img = exposure.equalize_adapthist(rescale_image, clip_limit=0.02)\n",
        "\n",
        "plt.figure(figsize=(8,8))\n",
        "plt.imshow(aeh_img, cmap='gray', vmin=-1, vmax=1)\n",
        "plt.title('CLAHE Lung Image', fontsize=15)"
      ],
      "execution_count": null,
      "outputs": []
    },
    {
      "cell_type": "markdown",
      "metadata": {
        "id": "Ijr_1nmv8h_m"
      },
      "source": [
        "## 4. Data Augmentation\n",
        "* 다양한 데이터 증대(Augmentation) 기법들을 살펴보자."
      ]
    },
    {
      "cell_type": "code",
      "metadata": {
        "id": "JvYOXk4w8h_m"
      },
      "source": [
        "img_rot = rotate(img_arr[0], 10)\n",
        "plt.figure(figsize=(8,8))\n",
        "plt.imshow(img_rot, cmap='gray')\n",
        "plt.show()"
      ],
      "execution_count": null,
      "outputs": []
    },
    {
      "cell_type": "code",
      "metadata": {
        "id": "7S7U_qn-8h_p"
      },
      "source": [
        "img_shift = kimg.random_shift(np.array(img_arr), 0.1, 0.1)\n",
        "plt.figure(figsize=(8,8))\n",
        "plt.imshow(img_shift[0], cmap='gray')\n",
        "plt.show()"
      ],
      "execution_count": null,
      "outputs": []
    },
    {
      "cell_type": "code",
      "metadata": {
        "id": "dzMtz63h8h_r"
      },
      "source": [
        "img_hflip = np.fliplr(img_arr[0])\n",
        "plt.figure(figsize=(8,8))\n",
        "plt.imshow(img_hflip, cmap='gray')\n",
        "plt.show()"
      ],
      "execution_count": null,
      "outputs": []
    },
    {
      "cell_type": "code",
      "metadata": {
        "id": "ohJCihVx8h_u"
      },
      "source": [
        "img_vflip = np.flipud(img_arr[0])\n",
        "plt.figure(figsize=(8,8))\n",
        "plt.imshow(img_vflip, cmap='gray')\n",
        "plt.show()"
      ],
      "execution_count": null,
      "outputs": []
    },
    {
      "cell_type": "code",
      "metadata": {
        "id": "kfbzwjMc8h_y"
      },
      "source": [
        "img_shift1 = kimg.random_shift(img_arr, 0.1, 0.1)\n",
        "img_rot1 = rotate(img_shift1[0], 10)\n",
        "img_hflip1 = np.fliplr(img_rot1)\n",
        "img_vflip1 = np.flipud(img_hflip1)\n",
        "plt.figure(figsize=(8,8))\n",
        "plt.imshow(img_vflip1, cmap='gray')\n",
        "plt.show()"
      ],
      "execution_count": null,
      "outputs": []
    },
    {
      "cell_type": "markdown",
      "source": [
        "## 5. Data Simulation"
      ],
      "metadata": {
        "id": "_T4Od4PKZeBt"
      }
    },
    {
      "cell_type": "markdown",
      "source": [
        "* 2차원 행렬 만들기"
      ],
      "metadata": {
        "id": "yNknMX_wZlAE"
      }
    },
    {
      "cell_type": "code",
      "source": [
        "arr = [[0,0,1,0,0], [0,1,2,1,0], [1,2,3,2,1], [0,1,2,1,0], [0,0,1,0,0]]\n",
        "print(arr)"
      ],
      "metadata": {
        "id": "s_pxKdXpXBKN"
      },
      "execution_count": null,
      "outputs": []
    },
    {
      "cell_type": "markdown",
      "source": [
        "* numpy array로 변환"
      ],
      "metadata": {
        "id": "VO9OjOyHZoRg"
      }
    },
    {
      "cell_type": "code",
      "metadata": {
        "id": "eR53aMSS8h_1"
      },
      "source": [
        "narr = np.array(arr)\n",
        "print(narr.shape)\n",
        "print(narr)"
      ],
      "execution_count": null,
      "outputs": []
    },
    {
      "cell_type": "code",
      "source": [
        "plt.imshow(narr, cmap='gray')"
      ],
      "metadata": {
        "id": "ryROGoRGXZDl"
      },
      "execution_count": null,
      "outputs": []
    },
    {
      "cell_type": "markdown",
      "source": [
        "* scikit-image로 이미지 크기 resize\n",
        "\n",
        "(5 x 5) -> (128 x 128)"
      ],
      "metadata": {
        "id": "BnKOuxE9ZrcJ"
      }
    },
    {
      "cell_type": "code",
      "source": [
        "import skimage.transform as skit\n",
        "import skimage.io as skio"
      ],
      "metadata": {
        "id": "dj8qE9K8X0HN"
      },
      "execution_count": null,
      "outputs": []
    },
    {
      "cell_type": "code",
      "source": [
        "rarr = skit.resize(narr, (128, 128))\n",
        "plt.imshow(rarr, cmap='gray')"
      ],
      "metadata": {
        "id": "lDw_J5mtXcl6"
      },
      "execution_count": null,
      "outputs": []
    },
    {
      "cell_type": "code",
      "source": [
        "# 크기에 따른 resize 변화 확인\n",
        "plt.figure(figsize=(12,8))\n",
        "for i in range(6):\n",
        "  plt.subplot(2,3,i+1)\n",
        "  plt.title(f'size = {8*2**i} x {8*2**i}')\n",
        "  plt.imshow(skit.resize(narr, (8*2**i, 8*2**i)), cmap='gray')"
      ],
      "metadata": {
        "id": "5GVtV_8qsWfs"
      },
      "execution_count": null,
      "outputs": []
    },
    {
      "cell_type": "markdown",
      "source": [
        "* 0~255 사이로 pixel value 변환"
      ],
      "metadata": {
        "id": "LCG9yRFgZ-4b"
      }
    },
    {
      "cell_type": "code",
      "source": [
        "print(np.min(rarr), np.max(rarr))\n",
        "marr = (rarr - np.min(rarr))/(np.max(rarr)-np.min(rarr)) * 255\n",
        "marr = marr.astype(np.uint8)\n",
        "print(np.min(marr), np.max(marr))\n",
        "plt.imshow(marr)"
      ],
      "metadata": {
        "id": "cM5GcTHtYwRu"
      },
      "execution_count": null,
      "outputs": []
    },
    {
      "cell_type": "markdown",
      "source": [
        "* 이미지 파일 png 포맷으로 저장하기"
      ],
      "metadata": {
        "id": "dCgV3tN4aMBQ"
      }
    },
    {
      "cell_type": "code",
      "source": [
        "carr = skc.gray2rgba(marr) # png로 저장하기 위해 RGB형식으로 변환\n",
        "sio.imsave('cross.png', carr)"
      ],
      "metadata": {
        "id": "dq4z1WCJYAh-"
      },
      "execution_count": null,
      "outputs": []
    },
    {
      "cell_type": "code",
      "source": [],
      "metadata": {
        "id": "EuiJuMDpYdLK"
      },
      "execution_count": null,
      "outputs": []
    }
  ]
}