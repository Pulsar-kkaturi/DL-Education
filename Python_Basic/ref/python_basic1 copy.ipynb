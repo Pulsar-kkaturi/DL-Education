{
  "cells": [
    {
      "cell_type": "markdown",
      "metadata": {
        "colab_type": "text",
        "id": "view-in-github"
      },
      "source": [
        "<a href=\"https://colab.research.google.com/github/Pulsar-kkaturi/DL-Education/blob/master/Python_Basic/python_basic1.ipynb\" target=\"_parent\"><img src=\"https://colab.research.google.com/assets/colab-badge.svg\" alt=\"Open In Colab\"/></a>"
      ]
    },
    {
      "cell_type": "markdown",
      "metadata": {
        "id": "G9Vmb4Ya6Iu4"
      },
      "source": [
        "# 파이썬 기초문법 1 - 데이터 다루기"
      ]
    },
    {
      "cell_type": "code",
      "execution_count": 15,
      "metadata": {},
      "outputs": [
        {
          "name": "stdout",
          "output_type": "stream",
          "text": [
            "hello world\n"
          ]
        }
      ],
      "source": [
        "print('hello world')"
      ]
    },
    {
      "cell_type": "code",
      "execution_count": 16,
      "metadata": {},
      "outputs": [
        {
          "name": "stdout",
          "output_type": "stream",
          "text": [
            "이거는 나옴ㅋ\n"
          ]
        }
      ],
      "source": [
        "# 이거는 주석이라 안 나옵니다.\n",
        "print('이거는 나옴ㅋ')"
      ]
    },
    {
      "cell_type": "markdown",
      "metadata": {
        "id": "Kvb7RS-S6Iu-"
      },
      "source": [
        "## 1. 사칙연산"
      ]
    },
    {
      "cell_type": "code",
      "execution_count": 17,
      "metadata": {
        "colab": {
          "base_uri": "https://localhost:8080/"
        },
        "id": "AeLWXvop6Iu_",
        "outputId": "6aea833e-dc42-43ed-ed6c-9f735695e005"
      },
      "outputs": [
        {
          "data": {
            "text/plain": [
              "3"
            ]
          },
          "execution_count": 17,
          "metadata": {},
          "output_type": "execute_result"
        }
      ],
      "source": [
        "1 + 2"
      ]
    },
    {
      "cell_type": "code",
      "execution_count": 5,
      "metadata": {},
      "outputs": [
        {
          "data": {
            "text/plain": [
              "2"
            ]
          },
          "execution_count": 5,
          "metadata": {},
          "output_type": "execute_result"
        }
      ],
      "source": [
        "3 - 1"
      ]
    },
    {
      "cell_type": "code",
      "execution_count": 6,
      "metadata": {},
      "outputs": [
        {
          "data": {
            "text/plain": [
              "25"
            ]
          },
          "execution_count": 6,
          "metadata": {},
          "output_type": "execute_result"
        }
      ],
      "source": [
        "5 * 5"
      ]
    },
    {
      "cell_type": "code",
      "execution_count": 7,
      "metadata": {},
      "outputs": [
        {
          "data": {
            "text/plain": [
              "5.0"
            ]
          },
          "execution_count": 7,
          "metadata": {},
          "output_type": "execute_result"
        }
      ],
      "source": [
        "10/2"
      ]
    },
    {
      "cell_type": "markdown",
      "metadata": {
        "id": "3vLBSBQH6IvC"
      },
      "source": [
        "**[사칙연산 기호]**\n",
        "* 더하기: +\n",
        "* 빼기: -\n",
        "* 곱하기: *\n",
        "* 나누기: /"
      ]
    },
    {
      "cell_type": "code",
      "execution_count": 8,
      "metadata": {},
      "outputs": [
        {
          "data": {
            "text/plain": [
              "35298780026349576"
            ]
          },
          "execution_count": 8,
          "metadata": {},
          "output_type": "execute_result"
        }
      ],
      "source": [
        "3142134798 * 11234012"
      ]
    },
    {
      "cell_type": "code",
      "execution_count": 9,
      "metadata": {},
      "outputs": [
        {
          "data": {
            "text/plain": [
              "278.390243902439"
            ]
          },
          "execution_count": 9,
          "metadata": {},
          "output_type": "execute_result"
        }
      ],
      "source": [
        "34242/123"
      ]
    },
    {
      "cell_type": "code",
      "execution_count": 4,
      "metadata": {
        "colab": {
          "base_uri": "https://localhost:8080/"
        },
        "id": "oym_4aMh6IvD",
        "outputId": "57643270-9acf-4f12-dbf8-2cf4e86a053e"
      },
      "outputs": [
        {
          "data": {
            "text/plain": [
              "0.6"
            ]
          },
          "execution_count": 4,
          "metadata": {},
          "output_type": "execute_result"
        }
      ],
      "source": [
        "(1 + 2 * 3 - 4) / 5"
      ]
    },
    {
      "cell_type": "markdown",
      "metadata": {
        "id": "dZvdUWUi6IvD"
      },
      "source": [
        "[제곱은 **로 나타냅니다.]\n",
        "* 제곱: **"
      ]
    },
    {
      "cell_type": "code",
      "execution_count": null,
      "metadata": {
        "colab": {
          "base_uri": "https://localhost:8080/"
        },
        "id": "L08gzVt56IvE",
        "outputId": "6908cb96-3cb0-40d2-8adf-faf9785e715e"
      },
      "outputs": [
        {
          "data": {
            "text/plain": [
              "256"
            ]
          },
          "execution_count": 3,
          "metadata": {},
          "output_type": "execute_result"
        }
      ],
      "source": [
        "2 ** 8"
      ]
    },
    {
      "cell_type": "markdown",
      "metadata": {},
      "source": [
        "**[나누기의 종류]**\n",
        "* 나누기: /\n",
        "* 나눗셈의 몫 구하기: //\n",
        "* 나눗셈의 나머지 구하기: %"
      ]
    },
    {
      "cell_type": "code",
      "execution_count": 10,
      "metadata": {},
      "outputs": [
        {
          "data": {
            "text/plain": [
              "5.5"
            ]
          },
          "execution_count": 10,
          "metadata": {},
          "output_type": "execute_result"
        }
      ],
      "source": [
        "11/2"
      ]
    },
    {
      "cell_type": "code",
      "execution_count": 11,
      "metadata": {},
      "outputs": [
        {
          "data": {
            "text/plain": [
              "5"
            ]
          },
          "execution_count": 11,
          "metadata": {},
          "output_type": "execute_result"
        }
      ],
      "source": [
        "11//2"
      ]
    },
    {
      "cell_type": "code",
      "execution_count": 12,
      "metadata": {},
      "outputs": [
        {
          "data": {
            "text/plain": [
              "1"
            ]
          },
          "execution_count": 12,
          "metadata": {},
          "output_type": "execute_result"
        }
      ],
      "source": [
        "11%2"
      ]
    },
    {
      "cell_type": "markdown",
      "metadata": {
        "id": "-J2CqCqPVcc8"
      },
      "source": [
        "## 2. 변수"
      ]
    },
    {
      "cell_type": "markdown",
      "metadata": {
        "id": "59NfvgeyWtgr"
      },
      "source": [
        "* 알파벳을 사용하여 변수 선언"
      ]
    },
    {
      "cell_type": "code",
      "execution_count": null,
      "metadata": {
        "colab": {
          "base_uri": "https://localhost:8080/"
        },
        "id": "L0G80r3e6IvF",
        "outputId": "692d1f2d-55a5-4973-a001-4c553e9f53ac"
      },
      "outputs": [
        {
          "data": {
            "text/plain": [
              "1.3333333333333333"
            ]
          },
          "execution_count": 4,
          "metadata": {},
          "output_type": "execute_result"
        }
      ],
      "source": [
        "x = 1\n",
        "y = 1/3\n",
        "x + y"
      ]
    },
    {
      "cell_type": "markdown",
      "metadata": {
        "id": "E06ckaWPXA8d"
      },
      "source": [
        "* 변수명에는 알파벳, 숫자 밑줄(_) 등을 사용할 수 있습니다.\n",
        "* 첫글자에는 숫자 사용 금지!"
      ]
    },
    {
      "cell_type": "code",
      "execution_count": null,
      "metadata": {
        "colab": {
          "base_uri": "https://localhost:8080/"
        },
        "id": "wRyJGpO7WzfP",
        "outputId": "f734e06a-2457-4448-dd3d-7fd63cc1a288"
      },
      "outputs": [
        {
          "data": {
            "text/plain": [
              "0.8"
            ]
          },
          "execution_count": 5,
          "metadata": {},
          "output_type": "execute_result"
        }
      ],
      "source": [
        "Data_1 = 1/5\n",
        "Data_2 = 3/5\n",
        "Data_1 + Data_2"
      ]
    },
    {
      "cell_type": "markdown",
      "metadata": {
        "id": "WAZc2o61hZbv"
      },
      "source": [
        "## 3. 자료형"
      ]
    },
    {
      "cell_type": "markdown",
      "metadata": {
        "id": "KzzrP1YuhfSX"
      },
      "source": [
        "**[변수의 자료형]**\n",
        "* int / 정수 / 1,2,3,,,\n",
        "* float / 실수 / 1.1, -1,,,\n",
        "* str / 문자열 / 'hello'\n",
        "* bool / 참과 거짓 / True, False\n",
        "* list / 배열 / \\[1,2,3\\]\n",
        "* tuple / 배열(수정 불가) / (1,2,3)\n",
        "* ndarray / 행렬 / np.array(\\[1,2,3\\])\n"
      ]
    },
    {
      "cell_type": "code",
      "execution_count": 6,
      "metadata": {
        "colab": {
          "base_uri": "https://localhost:8080/"
        },
        "id": "xVXIBtJKhZE1",
        "outputId": "0797d903-ce00-4df5-92bc-afad16499023"
      },
      "outputs": [
        {
          "data": {
            "text/plain": [
              "int"
            ]
          },
          "execution_count": 6,
          "metadata": {},
          "output_type": "execute_result"
        }
      ],
      "source": [
        "# type으로 자료형을 알아볼 수 있다.\n",
        "type(100)"
      ]
    },
    {
      "cell_type": "code",
      "execution_count": 7,
      "metadata": {
        "colab": {
          "base_uri": "https://localhost:8080/"
        },
        "id": "TqWw1LzFXNWr",
        "outputId": "2026cac0-d38e-452f-aa2a-016f5f6798bd"
      },
      "outputs": [
        {
          "data": {
            "text/plain": [
              "float"
            ]
          },
          "execution_count": 7,
          "metadata": {},
          "output_type": "execute_result"
        }
      ],
      "source": [
        "type(100.1)"
      ]
    },
    {
      "cell_type": "code",
      "execution_count": 8,
      "metadata": {
        "colab": {
          "base_uri": "https://localhost:8080/"
        },
        "id": "nRPYi1XsibtC",
        "outputId": "77f34a68-e32c-4573-a30b-7e445a371b51"
      },
      "outputs": [
        {
          "data": {
            "text/plain": [
              "str"
            ]
          },
          "execution_count": 8,
          "metadata": {},
          "output_type": "execute_result"
        }
      ],
      "source": [
        "x = 'learning'\n",
        "type(x)"
      ]
    },
    {
      "cell_type": "markdown",
      "metadata": {
        "id": "uftAH9-KioEE"
      },
      "source": [
        "## 4. print 문"
      ]
    },
    {
      "cell_type": "markdown",
      "metadata": {
        "id": "BxYU_OCWiqzG"
      },
      "source": [
        "* 주피터 노트북이 아닌 일반적인 코딩에서는 print 문을 적어야만 출력이 된다."
      ]
    },
    {
      "cell_type": "code",
      "execution_count": 10,
      "metadata": {
        "colab": {
          "base_uri": "https://localhost:8080/"
        },
        "id": "ooTkmBfdilXR",
        "outputId": "24252a8c-931c-4638-ef35-4854f9f90b34"
      },
      "outputs": [
        {
          "data": {
            "text/plain": [
              "0.6666666666666666"
            ]
          },
          "execution_count": 10,
          "metadata": {},
          "output_type": "execute_result"
        }
      ],
      "source": [
        "# print 문을 사용하지 않으면, 가장 마지막 열만 출력된다.\n",
        "x = 1/3\n",
        "x\n",
        "y = 2/3\n",
        "y"
      ]
    },
    {
      "cell_type": "code",
      "execution_count": 11,
      "metadata": {
        "colab": {
          "base_uri": "https://localhost:8080/"
        },
        "id": "yTl9jzOSi3q7",
        "outputId": "a2e3d702-50a9-42fc-e82b-23e4e843f212"
      },
      "outputs": [
        {
          "name": "stdout",
          "output_type": "stream",
          "text": [
            "0.3333333333333333\n",
            "0.6666666666666666\n"
          ]
        }
      ],
      "source": [
        "# 출력하고 싶은 변수가 있다면 반드시 모두 print 문으로 실행\n",
        "x = 1/3\n",
        "print(x)\n",
        "y = 2/3\n",
        "print(y)"
      ]
    },
    {
      "cell_type": "code",
      "execution_count": 12,
      "metadata": {
        "colab": {
          "base_uri": "https://localhost:8080/"
        },
        "id": "lAdTTta-jESj",
        "outputId": "7b3834c2-b840-4787-bc1c-d8eb4ee4067f"
      },
      "outputs": [
        {
          "name": "stdout",
          "output_type": "stream",
          "text": [
            "x =  0.3333333333333333\n"
          ]
        }
      ],
      "source": [
        "# 문자열을 숫자와 함께 출력하고 싶을 때\n",
        "print('x = ', str(x))"
      ]
    },
    {
      "cell_type": "code",
      "execution_count": 15,
      "metadata": {
        "colab": {
          "base_uri": "https://localhost:8080/"
        },
        "id": "M1UhLtSHjPnV",
        "outputId": "bdf84cf2-f713-4b22-d691-f5b2549986d6"
      },
      "outputs": [
        {
          "name": "stdout",
          "output_type": "stream",
          "text": [
            "weight = 0.3333333333333333 kg\n"
          ]
        }
      ],
      "source": [
        "# 문자열을 숫자와 함께 출력하고 싶을 때\n",
        "print('weight = {} kg'.format(x))"
      ]
    },
    {
      "cell_type": "code",
      "execution_count": 16,
      "metadata": {
        "colab": {
          "base_uri": "https://localhost:8080/"
        },
        "id": "4xfAUfjZjZkD",
        "outputId": "28c92a37-b92c-46e2-a30b-d5301aaf3518"
      },
      "outputs": [
        {
          "name": "stdout",
          "output_type": "stream",
          "text": [
            "x = 0.3333333333333333, y = 0.6666666666666666\n"
          ]
        }
      ],
      "source": [
        "# 여러 문자열을 동시에 출력하고 싶을 때\n",
        "print('x = {}, y = {}'.format(x, y))"
      ]
    },
    {
      "cell_type": "markdown",
      "metadata": {
        "id": "YjJPu4XgjmQC"
      },
      "source": [
        "## 5. List"
      ]
    },
    {
      "cell_type": "markdown",
      "metadata": {
        "id": "VoSAxnHGj4ev"
      },
      "source": [
        "* 여러 데이터를 하나의 단위로 묶어서 표현하고 싶을때는 대괄호 \\[, \\]로 묶어줍니다."
      ]
    },
    {
      "cell_type": "code",
      "execution_count": 17,
      "metadata": {
        "colab": {
          "base_uri": "https://localhost:8080/"
        },
        "id": "b2du6d2jjkpd",
        "outputId": "c39c8687-bea5-44b0-a1f6-18502b91ecea"
      },
      "outputs": [
        {
          "name": "stdout",
          "output_type": "stream",
          "text": [
            "[1, 2, 3, 4, 5]\n"
          ]
        }
      ],
      "source": [
        "x = [1, 2, 3, 4, 5]\n",
        "print(x)"
      ]
    },
    {
      "cell_type": "code",
      "execution_count": 18,
      "metadata": {
        "colab": {
          "base_uri": "https://localhost:8080/"
        },
        "id": "yuH_Tg7QkL4W",
        "outputId": "d9e0255f-343d-456f-c8fc-b9bc9b1005e2"
      },
      "outputs": [
        {
          "name": "stdout",
          "output_type": "stream",
          "text": [
            "1 3\n"
          ]
        }
      ],
      "source": [
        "# 리스트 안에서 특정 요소만 뽑고 싶을 때\n",
        "print(x[0], x[2])"
      ]
    },
    {
      "cell_type": "code",
      "execution_count": 19,
      "metadata": {
        "colab": {
          "base_uri": "https://localhost:8080/"
        },
        "id": "aQJNnmLnkS8v",
        "outputId": "79db9c53-119b-4b56-c7ed-e675b317331f"
      },
      "outputs": [
        {
          "name": "stdout",
          "output_type": "stream",
          "text": [
            "<class 'list'>\n",
            "<class 'int'>\n"
          ]
        }
      ],
      "source": [
        "# 리스트의 자료형 확인\n",
        "print(type(x))\n",
        "print(type(x[0]))"
      ]
    },
    {
      "cell_type": "code",
      "execution_count": 22,
      "metadata": {
        "colab": {
          "base_uri": "https://localhost:8080/"
        },
        "id": "49uQ_950keJW",
        "outputId": "3a0abffd-8544-4120-ad75-747a47c30ec1"
      },
      "outputs": [
        {
          "name": "stdout",
          "output_type": "stream",
          "text": [
            "[[1, 2, 3], [4, 5, 6]]\n",
            "2\n"
          ]
        }
      ],
      "source": [
        "# 2차원 배열의 리스트\n",
        "a = [[1,2,3], [4,5,6]]\n",
        "print(a)\n",
        "print(a[0][1])"
      ]
    },
    {
      "cell_type": "code",
      "execution_count": 24,
      "metadata": {
        "colab": {
          "base_uri": "https://localhost:8080/"
        },
        "id": "BGKs5bxJkmr7",
        "outputId": "178084f3-423b-4782-8445-332377e30575"
      },
      "outputs": [
        {
          "name": "stdout",
          "output_type": "stream",
          "text": [
            "[1, 1, 3, 100, 6]\n"
          ]
        }
      ],
      "source": [
        "# 리스트 내에 요소 수정\n",
        "x = [1,1,3,4,6]\n",
        "x[3] = 100\n",
        "print(x)"
      ]
    },
    {
      "cell_type": "code",
      "execution_count": 25,
      "metadata": {
        "colab": {
          "base_uri": "https://localhost:8080/"
        },
        "id": "L-7GKcdflAYJ",
        "outputId": "9e230fc2-4ae1-47c5-eac1-644318584594"
      },
      "outputs": [
        {
          "data": {
            "text/plain": [
              "5"
            ]
          },
          "execution_count": 25,
          "metadata": {},
          "output_type": "execute_result"
        }
      ],
      "source": [
        "# 리스트의 길이\n",
        "len(x)"
      ]
    },
    {
      "cell_type": "code",
      "execution_count": 26,
      "metadata": {
        "colab": {
          "base_uri": "https://localhost:8080/"
        },
        "id": "fMplc5ATlIuX",
        "outputId": "ae4db757-0729-43f8-b9d7-6d46c73277f7"
      },
      "outputs": [
        {
          "name": "stdout",
          "output_type": "stream",
          "text": [
            "5 6 7 8 9\n"
          ]
        }
      ],
      "source": [
        "# 연속된 정수의 배열 만들기\n",
        "y = range(5, 10)\n",
        "print(y[0], y[1], y[2], y[3], y[4])"
      ]
    },
    {
      "cell_type": "markdown",
      "metadata": {
        "id": "-jTmwqp2lVnW"
      },
      "source": [
        "## 6. Tuple"
      ]
    },
    {
      "cell_type": "markdown",
      "metadata": {
        "id": "HjxG9cfTlapd"
      },
      "source": [
        "* 튜플은 리스트와 달리 요소 수정이 불가능합니다!"
      ]
    },
    {
      "cell_type": "code",
      "execution_count": 28,
      "metadata": {
        "colab": {
          "base_uri": "https://localhost:8080/"
        },
        "id": "jL7lidQAlS3W",
        "outputId": "e509df1d-cf16-47a0-ea00-1a7b7825d17f"
      },
      "outputs": [
        {
          "name": "stdout",
          "output_type": "stream",
          "text": [
            "(1, 2, 3)\n"
          ]
        },
        {
          "data": {
            "text/plain": [
              "tuple"
            ]
          },
          "execution_count": 28,
          "metadata": {},
          "output_type": "execute_result"
        }
      ],
      "source": [
        "a = (1, 2, 3)\n",
        "print(a)\n",
        "type(a)"
      ]
    },
    {
      "cell_type": "code",
      "execution_count": null,
      "metadata": {
        "id": "CwHrJk7hlfqO"
      },
      "outputs": [],
      "source": []
    }
  ],
  "metadata": {
    "colab": {
      "include_colab_link": true,
      "name": "python_basic1.ipynb",
      "provenance": []
    },
    "interpreter": {
      "hash": "23f9346fbce5fd1ea3aa77c4e5ac78421a3bb77361f42496a3017c0adb6888d7"
    },
    "kernelspec": {
      "display_name": "Python 3.8.10 64-bit ('py38': conda)",
      "name": "python3"
    },
    "language_info": {
      "codemirror_mode": {
        "name": "ipython",
        "version": 3
      },
      "file_extension": ".py",
      "mimetype": "text/x-python",
      "name": "python",
      "nbconvert_exporter": "python",
      "pygments_lexer": "ipython3",
      "version": "3.8.10"
    },
    "orig_nbformat": 4
  },
  "nbformat": 4,
  "nbformat_minor": 0
}
