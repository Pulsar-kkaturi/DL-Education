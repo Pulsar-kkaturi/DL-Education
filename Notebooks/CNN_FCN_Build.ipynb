{
  "cells": [
    {
      "cell_type": "markdown",
      "metadata": {
        "id": "view-in-github",
        "colab_type": "text"
      },
      "source": [
        "<a href=\"https://colab.research.google.com/github/Pulsar-kkaturi/DL-Education/blob/master/Notebooks/CNN_FCN_Build.ipynb\" target=\"_parent\"><img src=\"https://colab.research.google.com/assets/colab-badge.svg\" alt=\"Open In Colab\"/></a>"
      ]
    },
    {
      "cell_type": "code",
      "execution_count": null,
      "metadata": {
        "id": "T7xiiLh3lEmE"
      },
      "outputs": [],
      "source": [
        "!git clone https://github.com/Pulsar-kkaturi/DL-Education.git"
      ]
    },
    {
      "cell_type": "markdown",
      "metadata": {
        "id": "OjvF0HUNnvTH"
      },
      "source": [
        "# 모듈 불러오기"
      ]
    },
    {
      "cell_type": "code",
      "execution_count": null,
      "metadata": {
        "id": "9iOGC0u4lMQJ"
      },
      "outputs": [],
      "source": [
        "from keras.models import Model\n",
        "from keras.layers import *\n",
        "from keras.optimizers import Adam\n",
        "from keras.regularizers import l2\n",
        "from keras.preprocessing.image import ImageDataGenerator\n",
        "from keras.callbacks import LearningRateScheduler, ModelCheckpoint\n",
        "from sklearn.preprocessing import scale\n",
        "from sklearn.model_selection import train_test_split\n",
        "import keras.backend as K\n",
        "import os\n",
        "import numpy as np\n",
        "import cv2\n",
        "import matplotlib.pyplot as plt\n",
        "import glob"
      ]
    },
    {
      "cell_type": "markdown",
      "metadata": {
        "id": "Y7QIJgl2nyeb"
      },
      "source": [
        "# **경로 설정하기**"
      ]
    },
    {
      "cell_type": "code",
      "execution_count": null,
      "metadata": {
        "id": "8M-douaJlUS8"
      },
      "outputs": [],
      "source": [
        "BASE_PATH = r'./DL-Education/dataset/lung_cancer'\n",
        "IMG_DATA_PATH = os.path.join(BASE_PATH, '2d_images')\n",
        "MASK_DATA_PATH = os.path.join(BASE_PATH, '2d_masks')"
      ]
    },
    {
      "cell_type": "code",
      "execution_count": null,
      "metadata": {
        "id": "YICRZvPwlg77"
      },
      "outputs": [],
      "source": [
        "IMG_DATA_PATH"
      ]
    },
    {
      "cell_type": "markdown",
      "metadata": {
        "id": "SJW0SS1gn18x"
      },
      "source": [
        "# **하이퍼 파라미터**\n",
        "하이퍼 파라미터를 이용해 인공지능 모델을 조정합니다.  \n",
        "주로 사용하는 하이퍼 파라미터는 다음과 같습니다."
      ]
    },
    {
      "cell_type": "code",
      "execution_count": null,
      "metadata": {
        "id": "FXS5b1skljMY"
      },
      "outputs": [],
      "source": [
        "IMG_HEIGHT, IMG_WIDTH = (96, 96) # 이미지 사이즈\n",
        "EPOCHS =                       # 훈련 횟수\n",
        "BATCH_SIZE = 10                   # 한번에 입력할 데이터 개수 \n",
        "INIT_FILTERS = 32                # 모델 채널 크기\n",
        "LEARNING_RATE = 2e-4             # 학습률\n",
        "DECAY_RATE = 0.9                 # 학습률 감소 비율 \n",
        "ACTIVATION_FN = 'relu'            # 활성함수 ex: relu, elu, sigmoid\n",
        "DROP_RATE = 0.25                 # 드롭아웃 비율\n",
        "VAL_RATIO = 0.2                  # 검증 데이터 비율"
      ]
    },
    {
      "cell_type": "markdown",
      "metadata": {
        "id": "y02-GBpMn5HR"
      },
      "source": [
        "# **데이터 불러오기**\n",
        "\n",
        "이미지와 레이블 데이터를 불러옵니다.  \n",
        "glob.glob 함수를 이용해 경로에 있는 파일들을 검색할 수 있습니다."
      ]
    },
    {
      "cell_type": "code",
      "execution_count": null,
      "metadata": {
        "id": "lVp84MFFlnA9"
      },
      "outputs": [],
      "source": [
        "img_path = sorted(glob.glob(os.path.join(IMG_DATA_PATH, '*.tif')))\n",
        "mask_path = sorted(glob.glob(os.path.join(MASK_DATA_PATH, '*.tif')))"
      ]
    },
    {
      "cell_type": "code",
      "execution_count": null,
      "metadata": {
        "id": "4MnUHIemlpGP"
      },
      "outputs": [],
      "source": [
        "print(len(img_path), img_path)"
      ]
    },
    {
      "cell_type": "code",
      "execution_count": null,
      "metadata": {
        "id": "58wRxFDslrUq"
      },
      "outputs": [],
      "source": [
        "print(len(mask_path), mask_path)"
      ]
    },
    {
      "cell_type": "markdown",
      "metadata": {
        "id": "cCi0ocSdoAfS"
      },
      "source": [
        "모아놓은 파일들을 다음 함수를 이용해 불러옵니다."
      ]
    },
    {
      "cell_type": "code",
      "execution_count": null,
      "metadata": {
        "id": "PmMRtfgBluFQ"
      },
      "outputs": [],
      "source": [
        "def load_and_resize_png1(path, img_height, img_width):\n",
        "    img = cv2.imread(path, cv2.IMREAD_UNCHANGED)\n",
        "    img = cv2.resize(img, dsize=(img_height, img_width), interpolation=cv2.INTER_AREA)\n",
        "    return img\n",
        "\n",
        "def load_and_resize_png2(path, img_height, img_width):\n",
        "    img = cv2.imread(path, cv2.IMREAD_UNCHANGED).astype(np.float32) / 255.\n",
        "    img = cv2.resize(img, dsize=(img_height, img_width), interpolation=cv2.INTER_NEAREST)\n",
        "    return img\n",
        "\n",
        "def load_and_resize_nii(path, img_height, img_width):\n",
        "    img = nb.load(path).get_data()\n",
        "    img = np.transpose(np.squeeze(img), (1, 0))\n",
        "    img = cv2.resize(img, dsize=(img_height, img_width), interpolation=cv2.INTER_AREA).astype(np.uint8)\n",
        "    return img"
      ]
    },
    {
      "cell_type": "markdown",
      "metadata": {
        "id": "yIqgli0noHxy"
      },
      "source": [
        "불러온 이미지의 형태는 다음과 같이 (50, 96, 96) 입니다.  \n",
        "***50*** 장의 세로 ***96***, 가로 ***96*** 의 이미지를 불러왔다는 의미입니다."
      ]
    },
    {
      "cell_type": "code",
      "execution_count": null,
      "metadata": {
        "id": "D3_kF58VmKn-"
      },
      "outputs": [],
      "source": [
        "imgs = np.stack([load_and_resize_png1(i_path, IMG_HEIGHT, IMG_WIDTH) for i_path in img_path])\n",
        "print(imgs.shape)\n",
        "masks = np.stack([load_and_resize_png2(m_path, IMG_HEIGHT, IMG_WIDTH) for m_path in mask_path])\n",
        "print(masks.shape)"
      ]
    },
    {
      "cell_type": "markdown",
      "metadata": {
        "id": "1G1ic6cRoQfP"
      },
      "source": [
        "이미지를 직접 확인해볼까요?  \n",
        "\n",
        "**왼쪽 이미지**는 우리가 AI 모델에 넣을 **인풋 이미지**고,  \n",
        "**오른쪽 이미지**는 AI 모델을 학습시킬 때 필요한 정답, 즉 **레이블 이미지**입니다.\n",
        "\n",
        "레이블 이미지와 같이 우리는 폐 영역을 분리해내는 AI 모델을 만들어 보겠습니다."
      ]
    },
    {
      "cell_type": "code",
      "execution_count": null,
      "metadata": {
        "id": "PrLalx5rmM3w"
      },
      "outputs": [],
      "source": [
        "fig, ax = plt.subplots(5, 2, figsize=(10, 20))\n",
        "for i in range(5):\n",
        "    ax[i,0].imshow(imgs[i], cmap='gray')\n",
        "    ax[i,1].imshow(masks[i], cmap='gray')\n",
        "plt.show()"
      ]
    },
    {
      "cell_type": "markdown",
      "metadata": {
        "id": "-F-s0rP6oT5p"
      },
      "source": [
        "마스크 데이터도 살펴볼까요?"
      ]
    },
    {
      "cell_type": "code",
      "execution_count": null,
      "metadata": {
        "id": "l6oircG_mQ4L"
      },
      "outputs": [],
      "source": [
        "masks[4, 40:60, 0:20]"
      ]
    },
    {
      "cell_type": "markdown",
      "metadata": {
        "id": "OUFJDQWUoW9G"
      },
      "source": [
        "# **데이터 전처리**\n",
        "\n",
        "AI 모델을 만들기 이전에 모델 학습에 도움을 줄 데이터 전처리를 살펴보겠습니다.  \n",
        "이 과정을 통해 **AI 모델이 받아들이기 쉬운 형태로 데이터를 가공** 하여 학습 성능을 올릴 수 있습니다.  \n",
        "\n",
        "\n",
        "먼저, 위에서 본 이미지 데이터를 컴퓨터가 실제로 인식하는 숫자 데이터로 확인해보겠습니다. "
      ]
    },
    {
      "cell_type": "code",
      "execution_count": null,
      "metadata": {
        "id": "nt6AD76HmT7G"
      },
      "outputs": [],
      "source": [
        "imgs[0]"
      ]
    },
    {
      "cell_type": "markdown",
      "metadata": {
        "id": "A7uAWWuFofFY"
      },
      "source": [
        "범위가 넓고 단위가 큰 숫자들을 정규화하여 학습 성능을 높여봅시다.  \n",
        "가장 기본적인 정규화 방법으로 고등학교 때 배운 **Z-score** 를 사용할 수 있습니다."
      ]
    },
    {
      "cell_type": "code",
      "execution_count": null,
      "metadata": {
        "id": "oSQ8iZLBmV0k"
      },
      "outputs": [],
      "source": [
        "n_imgs = len(imgs)\n",
        "imgs = np.reshape(imgs, (n_imgs, -1))\n",
        "imgs_t = np.transpose(imgs, (1,0))\n",
        "imgs_t_norm = (imgs_t - np.mean(imgs_t, axis=0)) / np.std(imgs_t, axis=0)\n",
        "imgs = np.transpose(imgs_t_norm, (1,0))\n",
        "imgs = np.reshape(imgs, (n_imgs, IMG_HEIGHT, IMG_WIDTH))"
      ]
    },
    {
      "cell_type": "markdown",
      "metadata": {
        "id": "zgzNRvd9oiNV"
      },
      "source": [
        "다시 값을 확인해 봅시다."
      ]
    },
    {
      "cell_type": "code",
      "execution_count": null,
      "metadata": {
        "id": "jKvfcVwkmYWf"
      },
      "outputs": [],
      "source": [
        "imgs[0]"
      ]
    },
    {
      "cell_type": "markdown",
      "metadata": {
        "id": "unNU1T3bolAh"
      },
      "source": [
        "그 후 AI 모델에 넣을 수 있는 형태로 이미지 형태를 변형해 보겠습니다. "
      ]
    },
    {
      "cell_type": "code",
      "execution_count": null,
      "metadata": {
        "id": "ajgPoY4emakS"
      },
      "outputs": [],
      "source": [
        "print('변경 전 형태: ', np.shape(imgs))\n",
        "imgs = imgs[:,:,:,np.newaxis]\n",
        "masks = masks[:,:,:,np.newaxis]\n",
        "print('변경 후 형태: ', np.shape(imgs))"
      ]
    },
    {
      "cell_type": "markdown",
      "metadata": {
        "id": "vlQaiNKdooiq"
      },
      "source": [
        "마지막으로, 데이터를 학습용 데이터와 검증용 데이터로 나누어 봅시다.  \n",
        "**학습용 데이터**는 실제로 **모델 학습에 사용** 되는 데이터이고,  \n",
        "**검증용 데이터**는 학습에 사용하지 않고 학습이 잘 이뤄지는 지 **성능 확인하는 용도**로 사용합니다."
      ]
    },
    {
      "cell_type": "code",
      "execution_count": null,
      "metadata": {
        "id": "W9-S3pVCmchE"
      },
      "outputs": [],
      "source": [
        "imgs_train, imgs_val, masks_train, masks_val = train_test_split(imgs, masks, test_size=VAL_RATIO)\n",
        "print('훈련 데이터 개수: ', len(imgs_train))\n",
        "print('검증 데이터 개수: ', len(imgs_val))"
      ]
    },
    {
      "cell_type": "markdown",
      "metadata": {
        "id": "FFX3MwK6orvW"
      },
      "source": [
        "# **AI 모델을 구성하는 레이어 만들기**\n",
        "\n",
        "AI 모델은 여러 개의 레이어를 쌓아 올려 만듭니다.  \n",
        "가장 대표적인 레이어 구조인 **CONV-BN-ACT-POOL** 구조를 만들어 보겠습니다.\n",
        "\n",
        "먼저 데이터가 들어가는 첫 번째 레이어를 만들어 봅시다."
      ]
    },
    {
      "cell_type": "code",
      "execution_count": null,
      "metadata": {
        "id": "-ToZiJr8mes5"
      },
      "outputs": [],
      "source": [
        "layer1 = Input(shape=imgs_train.shape[1:])"
      ]
    },
    {
      "cell_type": "markdown",
      "metadata": {
        "id": "BKwGrrTFounl"
      },
      "source": [
        "그 다음으로 데이터의 특징을 추출할 Convolution 레이어를 연결하겠습니다."
      ]
    },
    {
      "cell_type": "code",
      "execution_count": null,
      "metadata": {
        "id": "XBADVK5rmgjX"
      },
      "outputs": [],
      "source": [
        "layer2 = Conv2D(filters=8, kernel_size=(3, 3), activation=None, padding='same')(layer1)"
      ]
    },
    {
      "cell_type": "markdown",
      "metadata": {
        "id": "tt4HnY0wowpJ"
      },
      "source": [
        "다음으로 레이어 중간에서 정규화를 도와줄 Batch Normalization 레이어를 추가하겠습니다."
      ]
    },
    {
      "cell_type": "code",
      "execution_count": null,
      "metadata": {
        "id": "dPmNP1X-miYN"
      },
      "outputs": [],
      "source": [
        "layer3 = BatchNormalization()(layer2)"
      ]
    },
    {
      "cell_type": "markdown",
      "metadata": {
        "id": "idEPDmt4oy7n"
      },
      "source": [
        "Batch Normalization 이후 신호를 변환하여 다음 뉴런으로 전달하는 Activation function 레이어를 추가합니다."
      ]
    },
    {
      "cell_type": "code",
      "execution_count": null,
      "metadata": {
        "id": "lv8c4xI6mkXl"
      },
      "outputs": [],
      "source": [
        "layer4 = Activation('relu')(layer3) #### concat용"
      ]
    },
    {
      "cell_type": "markdown",
      "metadata": {
        "id": "aystWT0zo3Qn"
      },
      "source": [
        "이미지 사이즈를 줄여주는 Pooling 레이어를 연결합니다."
      ]
    },
    {
      "cell_type": "code",
      "execution_count": null,
      "metadata": {
        "id": "-7dq7LP-mmQ_"
      },
      "outputs": [],
      "source": [
        "layer5 = MaxPool2D(strides=(2, 2))(layer4)"
      ]
    },
    {
      "cell_type": "markdown",
      "metadata": {
        "id": "JKk0OGAwo7ZX"
      },
      "source": [
        "Conv Block을 한번만 더 반복합시다."
      ]
    },
    {
      "cell_type": "code",
      "execution_count": null,
      "metadata": {
        "id": "ngzop9xkmoIb"
      },
      "outputs": [],
      "source": [
        "layer6 = Conv2D(filters=16, kernel_size=(3, 3), activation=None, padding='same')(layer5)"
      ]
    },
    {
      "cell_type": "code",
      "execution_count": null,
      "metadata": {
        "id": "Ms0-kCN3mqAz"
      },
      "outputs": [],
      "source": [
        "layer7 = BatchNormalization()(layer6)"
      ]
    },
    {
      "cell_type": "code",
      "execution_count": null,
      "metadata": {
        "id": "AFVX6VK-mrp4"
      },
      "outputs": [],
      "source": [
        "layer8 = Activation('relu')(layer7)"
      ]
    },
    {
      "cell_type": "code",
      "source": [
        "layer9 = MaxPool2D(strides=(2, 2))(layer8)"
      ],
      "metadata": {
        "id": "egEGCbj7Hny2"
      },
      "execution_count": null,
      "outputs": []
    },
    {
      "cell_type": "markdown",
      "source": [
        "다시 Conv-BN-ACT 레이어를 연결합니다."
      ],
      "metadata": {
        "id": "aQbWB7xmHupw"
      }
    },
    {
      "cell_type": "code",
      "source": [
        "layer10 = Conv2D(filters=16, kernel_size=(3, 3), activation=None, padding='same')(layer9)\n",
        "layer11 = BatchNormalization()(layer10)\n",
        "layer12 = Activation('relu')(layer11)"
      ],
      "metadata": {
        "id": "DQU0BfcyH4OK"
      },
      "execution_count": null,
      "outputs": []
    },
    {
      "cell_type": "markdown",
      "metadata": {
        "id": "8rY5o8SAo9te"
      },
      "source": [
        "이번에는 이미지 사이즈를 키워주는 Upsampling 레이어를 연결합니다."
      ]
    },
    {
      "cell_type": "code",
      "execution_count": null,
      "metadata": {
        "id": "8yuVO1tCmtCB"
      },
      "outputs": [],
      "source": [
        "layer13 = UpSampling2D(size=(2, 2))(layer12)"
      ]
    },
    {
      "cell_type": "markdown",
      "source": [
        "Conv block 반복 후 Upsampling 반복"
      ],
      "metadata": {
        "id": "tipQkQzZKPW-"
      }
    },
    {
      "cell_type": "code",
      "source": [
        "layer14 = Conv2D(filters=32, kernel_size=(3, 3), activation=None, padding='same')(layer13) \n",
        "layer15 = BatchNormalization()(layer14)\n",
        "layer16 = Activation('relu')(layer15)\n",
        "layer17 = UpSampling2D(size=(2, 2))(layer16)"
      ],
      "metadata": {
        "id": "vIbTSvIUKQYF"
      },
      "execution_count": null,
      "outputs": []
    },
    {
      "cell_type": "markdown",
      "metadata": {
        "id": "LhyjsILXpCJ8"
      },
      "source": [
        "마지막으로 아웃풋 레이어를 연결합니다."
      ]
    },
    {
      "cell_type": "code",
      "execution_count": null,
      "metadata": {
        "id": "R532G9fmmwXx"
      },
      "outputs": [],
      "source": [
        "layer18 = Conv2D(filters=1, kernel_size=(1, 1), activation='sigmoid')(layer17)"
      ]
    },
    {
      "cell_type": "markdown",
      "metadata": {
        "id": "sVra-BwjpEVB"
      },
      "source": [
        "지금까지 만든 레이어를 Model 함수에 넣어 연결하면 모델이 완성됩니다."
      ]
    },
    {
      "cell_type": "code",
      "execution_count": null,
      "metadata": {
        "id": "Wp196gSbmx8J"
      },
      "outputs": [],
      "source": [
        "model = Model(layer1, layer18)\n",
        "model.summary()"
      ]
    },
    {
      "cell_type": "markdown",
      "metadata": {
        "id": "CvLb3sdapULC"
      },
      "source": [
        "# AI 모델 옵션 설정하기\n",
        "\n",
        "AI 모델을 만든 후 여러가지 훈련 옵션을 설정할 수 있습니다.  \n",
        "학습률(Learning_rate) 과 손실함수(Loss function), 정확도 기준(Dice_score) 등을 설정해 봅시다.\n",
        "\n",
        "먼저 정확도 기준으로 Dice score 를 살펴봅시다.  "
      ]
    },
    {
      "cell_type": "code",
      "execution_count": null,
      "metadata": {
        "id": "vKBvh3_Fm-t7"
      },
      "outputs": [],
      "source": [
        " def dice_score(y_true, y_pred):\n",
        "    y_true_f = K.flatten(y_true)\n",
        "    y_pred_f = K.flatten(y_pred)\n",
        "    intersection = K.sum(y_true_f * y_pred_f)\n",
        "    return (2. * intersection + K.epsilon()) / (K.sum(y_true_f) + K.sum(y_pred_f) + K.epsilon())"
      ]
    },
    {
      "cell_type": "code",
      "source": [
        " def dice_loss(y_true, y_pred):\n",
        "    y_true_f = K.flatten(y_true)\n",
        "    y_pred_f = K.flatten(y_pred)\n",
        "    intersection = K.sum(y_true_f * y_pred_f)\n",
        "    return -(2. * intersection + K.epsilon()) / (K.sum(y_true_f) + K.sum(y_pred_f) + K.epsilon())"
      ],
      "metadata": {
        "id": "0OD8s2eqIbeD"
      },
      "execution_count": null,
      "outputs": []
    },
    {
      "cell_type": "markdown",
      "metadata": {
        "id": "5x-6Bb7spXCT"
      },
      "source": [
        "옵션은 complie 을 통해 설정할 수 있습니다.  \n",
        "모델의 값을 학습시키는 **Optimizer** 는 **Adam** 을 사용하고,  \n",
        "정답 레이블과 예측값 사이의 차이를 계산하는 **손실 함수**는 **Cross entropy** 를 사용했습니다.   \n",
        "마지막으로 **정확도 판단 기준**으로는 위에서 만든 **Dice score** 를 사용합니다. "
      ]
    },
    {
      "cell_type": "code",
      "execution_count": null,
      "metadata": {
        "id": "h4hirMCUnALn"
      },
      "outputs": [],
      "source": [
        "model.compile(optimizer=Adam(learning_rate=1e-4), loss=dice_loss, metrics=[dice_score])"
      ]
    },
    {
      "cell_type": "markdown",
      "metadata": {
        "id": "MSoGUOq5pbq6"
      },
      "source": [
        "# AI 모델 훈련하기\n",
        "\n",
        "이렇게 준비한 AI 모델을 fit 함수를 이용해 훈련시킬 수 있습니다. "
      ]
    },
    {
      "cell_type": "code",
      "execution_count": null,
      "metadata": {
        "id": "SWwUbcKXnEMi"
      },
      "outputs": [],
      "source": [
        "history = model.fit(imgs_train, masks_train,\n",
        "                    batch_size=10,\n",
        "                    epochs=50,\n",
        "                    validation_data=(imgs_val, masks_val),\n",
        "                    shuffle=True)"
      ]
    },
    {
      "cell_type": "markdown",
      "metadata": {
        "id": "8YQvG9h4pd9P"
      },
      "source": [
        "# 훈련 결과 확인하기\n",
        "\n",
        "훈련 결과를 한 눈에 확인할 수 있는 그래프를 만들어 보겠습니다.\n",
        "\n",
        "먼저 그래프의 y축에 사용할 값들을 history 항목에서 추출해 봅시다."
      ]
    },
    {
      "cell_type": "code",
      "execution_count": null,
      "metadata": {
        "id": "FuQGwvnnnF0F"
      },
      "outputs": [],
      "source": [
        "dice_score = history.history['dice_score']\n",
        "val_dice_score = history.history['val_dice_score']\n",
        "loss = history.history['loss']\n",
        "val_loss = history.history['val_loss']"
      ]
    },
    {
      "cell_type": "markdown",
      "metadata": {
        "id": "pOEZsdPophFU"
      },
      "source": [
        "다음으로 그래프의 x축 값으로 사용할 epoch 을 뽑아 보겠습니다."
      ]
    },
    {
      "cell_type": "code",
      "execution_count": null,
      "metadata": {
        "id": "vphq1o1knIEH"
      },
      "outputs": [],
      "source": [
        "epochs = range(len(dice_score))"
      ]
    },
    {
      "cell_type": "markdown",
      "metadata": {
        "id": "X0BK6IpXpjNe"
      },
      "source": [
        "각 값들을 확인해볼까요?"
      ]
    },
    {
      "cell_type": "code",
      "execution_count": null,
      "metadata": {
        "id": "9Z4-FwhRnJxa"
      },
      "outputs": [],
      "source": [
        "print(loss)\n",
        "print(val_loss)\n",
        "print(dice_score)\n",
        "print(val_dice_score)"
      ]
    },
    {
      "cell_type": "markdown",
      "metadata": {
        "id": "S6hSDdDlpm7u"
      },
      "source": [
        "이 값들을 이용해 그래프를 만들어 보겠습니다.  \n",
        "\n",
        "먼저 정확도 그래프를 그려볼까요?"
      ]
    },
    {
      "cell_type": "code",
      "execution_count": null,
      "metadata": {
        "id": "Qmb24gPinTHX"
      },
      "outputs": [],
      "source": [
        "plt.plot(epochs, dice_score, 'b', color='blue', label='Training score')\n",
        "plt.plot(epochs, val_dice_score, 'b', color='red', label='Validation score')\n",
        "plt.title('Training and validation score')\n",
        "plt.legend()\n",
        "plt.show()"
      ]
    },
    {
      "cell_type": "markdown",
      "metadata": {
        "id": "g2EX8CnyppyE"
      },
      "source": [
        "다음으로 손실 그래프를 살펴보겠습니다."
      ]
    },
    {
      "cell_type": "code",
      "execution_count": null,
      "metadata": {
        "id": "KahGmzBPnU0E"
      },
      "outputs": [],
      "source": [
        "plt.plot(epochs, loss, 'b', color='blue', label='Training loss')\n",
        "plt.plot(epochs, val_loss, 'b', color='red', label='Validation loss')\n",
        "plt.title('Training and validation loss')\n",
        "plt.legend()\n",
        "plt.show()"
      ]
    },
    {
      "cell_type": "markdown",
      "metadata": {
        "id": "7qUXcUmQpsFQ"
      },
      "source": [
        "# 이미지로 결과 확인하기\n",
        "\n",
        "마지막으로 AI 모델이 실제로 폐 영역을 잘 분리하는지 이미지로 결과를 확인해 보겠습니다. "
      ]
    },
    {
      "cell_type": "code",
      "execution_count": null,
      "metadata": {
        "id": "NDMyQ1ljnWS-"
      },
      "outputs": [],
      "source": [
        "fix, ax = plt.subplots(5, 3, figsize=(10,20))\n",
        "for i in range(5):\n",
        "    pred = model.predict(imgs_train[i][np.newaxis, :, : ,:])\n",
        "    mask = (pred >= 0.5).astype(np.uint8)\n",
        "    ax[i, 0].imshow(imgs_train[i, :, :, 0], cmap='gray')\n",
        "    ax[i, 1].imshow(masks_train[i, :, :, 0], cmap='gray')\n",
        "    ax[i, 2].imshow(mask[0, :, :, 0], cmap='gray')\n",
        "plt.show()"
      ]
    },
    {
      "cell_type": "code",
      "execution_count": null,
      "metadata": {
        "id": "XlDLkQbrnYEE"
      },
      "outputs": [],
      "source": []
    }
  ],
  "metadata": {
    "accelerator": "GPU",
    "colab": {
      "name": "Lecture2_FCN.ipynb",
      "provenance": [],
      "include_colab_link": true
    },
    "kernelspec": {
      "display_name": "Python 3",
      "language": "python",
      "name": "python3"
    },
    "language_info": {
      "name": "python",
      "version": "3.8.10 (default, Nov 14 2022, 12:59:47) \n[GCC 9.4.0]"
    },
    "vscode": {
      "interpreter": {
        "hash": "e7370f93d1d0cde622a1f8e1c04877d8463912d04d973331ad4851f04de6915a"
      }
    }
  },
  "nbformat": 4,
  "nbformat_minor": 0
}