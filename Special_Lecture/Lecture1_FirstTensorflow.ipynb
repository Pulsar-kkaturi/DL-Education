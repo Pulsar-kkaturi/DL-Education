{
  "cells": [
    {
      "cell_type": "markdown",
      "metadata": {
        "colab_type": "text",
        "id": "view-in-github"
      },
      "source": [
        "<a href=\"https://colab.research.google.com/github/Pulsar-kkaturi/DL-Education/blob/master/Special_Lecture/Lecture1_FirstTensorflow.ipynb\" target=\"_parent\"><img src=\"https://colab.research.google.com/assets/colab-badge.svg\" alt=\"Open In Colab\"/></a>"
      ]
    },
    {
      "cell_type": "markdown",
      "metadata": {
        "id": "jgXl6O_KoKA2"
      },
      "source": [
        "# Lesson 1. 인공지능 개념\n",
        "*Ref. https://github.com/gilbutITbook/080315"
      ]
    },
    {
      "cell_type": "markdown",
      "metadata": {
        "id": "IaUieSo4oKA7"
      },
      "source": [
        "## 1-1. 딥러닝 맛보기"
      ]
    },
    {
      "cell_type": "markdown",
      "metadata": {
        "id": "OKnjaGAFoKA8"
      },
      "source": [
        "### 1. 데이터 만들기"
      ]
    },
    {
      "cell_type": "code",
      "execution_count": null,
      "metadata": {
        "id": "Ke9IhVRGoKA9"
      },
      "outputs": [],
      "source": [
        "# 라이브러리 불러오기\n",
        "from tensorflow.keras.datasets import mnist\n",
        "from tensorflow import keras\n",
        "from tensorflow.keras import layers\n",
        "from matplotlib import pyplot as plt"
      ]
    },
    {
      "cell_type": "code",
      "execution_count": null,
      "metadata": {
        "id": "pey3YG--oKA-"
      },
      "outputs": [],
      "source": [
        "# MNIST 불러오기\n",
        "(train_images, train_labels), (test_images, test_labels) = mnist.load_data()"
      ]
    },
    {
      "cell_type": "code",
      "execution_count": null,
      "metadata": {
        "id": "qXAFwdmYoKA_"
      },
      "outputs": [],
      "source": [
        "# Train 데이터 확인\n",
        "print('이미지 크기 = ', train_images.shape)\n",
        "print('레이블 길이 = ', len(train_labels))"
      ]
    },
    {
      "cell_type": "code",
      "execution_count": null,
      "metadata": {
        "id": "2yvPYaLqoKBA"
      },
      "outputs": [],
      "source": [
        "# Train 데이터 샘플\n",
        "plt.figure(figsize=(5,5))\n",
        "plt.imshow(train_images[0])\n",
        "plt.title(train_labels[0])"
      ]
    },
    {
      "cell_type": "code",
      "execution_count": null,
      "metadata": {
        "id": "XONfER5ooKBB"
      },
      "outputs": [],
      "source": [
        "# Test Data 확인\n",
        "print('이미지 크기 = ', test_images.shape)\n",
        "print('레이블 길이 = ', len(test_labels))\n",
        "plt.figure(figsize=(5,5))\n",
        "plt.imshow(test_images[0])\n",
        "plt.title(test_labels[0])"
      ]
    },
    {
      "cell_type": "markdown",
      "metadata": {
        "id": "0O87e4aqo6G3"
      },
      "source": [
        "### 2. 데이터 전처리"
      ]
    },
    {
      "cell_type": "code",
      "execution_count": null,
      "metadata": {
        "id": "s-x1F61Xos5h"
      },
      "outputs": [],
      "source": [
        "# 데이터 형태 변형 (2차원 -> 1차원 배열)\n",
        "train_images = train_images.reshape((60000, 28 * 28))\n",
        "train_images = train_images.astype(\"float32\") / 255\n",
        "test_images = test_images.reshape((10000, 28 * 28))\n",
        "test_images = test_images.astype(\"float32\") / 255"
      ]
    },
    {
      "cell_type": "code",
      "execution_count": null,
      "metadata": {
        "id": "vxiqNMsgpBPH"
      },
      "outputs": [],
      "source": [
        "print(train_images.shape)\n",
        "print(test_images.shape)"
      ]
    },
    {
      "cell_type": "markdown",
      "metadata": {
        "id": "4mBSvhc6pQow"
      },
      "source": [
        "### 3. 모델 만들기"
      ]
    },
    {
      "cell_type": "code",
      "execution_count": null,
      "metadata": {
        "id": "uuv0rzs-pEc4"
      },
      "outputs": [],
      "source": [
        "# 신경망 구조\n",
        "model = keras.Sequential([\n",
        "    layers.Dense(512, activation=\"relu\"), \n",
        "    layers.Dense(10, activation=\"softmax\")\n",
        "    ])"
      ]
    },
    {
      "cell_type": "code",
      "execution_count": null,
      "metadata": {
        "id": "2mY0ayGrpnc-"
      },
      "outputs": [],
      "source": [
        "# 컴파일 단계\n",
        "model.compile(optimizer=\"rmsprop\",\n",
        "              loss=\"sparse_categorical_crossentropy\",\n",
        "              metrics=[\"accuracy\"])"
      ]
    },
    {
      "cell_type": "markdown",
      "metadata": {
        "id": "4VLRcp-DpssA"
      },
      "source": [
        "### 4. 모델 훈련하기"
      ]
    },
    {
      "cell_type": "code",
      "execution_count": null,
      "metadata": {
        "id": "37Zgj3SUprr1"
      },
      "outputs": [],
      "source": [
        "model.fit(train_images, train_labels, epochs=5, batch_size=128)"
      ]
    },
    {
      "cell_type": "markdown",
      "metadata": {
        "id": "Kh68mIeIqHbe"
      },
      "source": [
        "### 5. 결과 분석"
      ]
    },
    {
      "cell_type": "code",
      "execution_count": null,
      "metadata": {
        "id": "ZG_u9-2tpx5T"
      },
      "outputs": [],
      "source": [
        "# 모델을 사용해 예측 만들기\n",
        "test_digits = test_images[0:10] # 10개 데이터셋만 추출\n",
        "predictions = model.predict(test_digits)\n",
        "predictions[0]"
      ]
    },
    {
      "cell_type": "code",
      "execution_count": null,
      "metadata": {
        "id": "TU8u4knGqUVx"
      },
      "outputs": [],
      "source": [
        "print(\"예측값 = \", predictions[0].argmax())\n",
        "print(\"예측값의 신뢰도 = \", predictions[0][7])\n",
        "print(\"정답 = \", test_labels[0])"
      ]
    },
    {
      "cell_type": "code",
      "execution_count": null,
      "metadata": {
        "id": "MQZ5qTMuqvd5"
      },
      "outputs": [],
      "source": [
        "# 테스트 데이터셋에서 모델 성능\n",
        "test_loss, test_acc = model.evaluate(test_images, test_labels)\n",
        "print(f\"테스트 정확도: {test_acc}\")"
      ]
    },
    {
      "cell_type": "code",
      "execution_count": null,
      "metadata": {},
      "outputs": [],
      "source": []
    }
  ],
  "metadata": {
    "colab": {
      "include_colab_link": true,
      "provenance": []
    },
    "kernelspec": {
      "display_name": "tf",
      "language": "python",
      "name": "python3"
    },
    "language_info": {
      "codemirror_mode": {
        "name": "ipython",
        "version": 3
      },
      "file_extension": ".py",
      "mimetype": "text/x-python",
      "name": "python",
      "nbconvert_exporter": "python",
      "pygments_lexer": "ipython3",
      "version": "3.8.10"
    },
    "orig_nbformat": 4,
    "vscode": {
      "interpreter": {
        "hash": "b0af3eb2ed491b0fa6e61d0ce5acead9934742291b2d6a5ad5dd3fd884e105d8"
      }
    }
  },
  "nbformat": 4,
  "nbformat_minor": 0
}
