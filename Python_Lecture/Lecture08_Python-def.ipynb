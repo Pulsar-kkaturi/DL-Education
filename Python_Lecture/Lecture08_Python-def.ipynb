{
  "cells": [
    {
      "cell_type": "markdown",
      "metadata": {
        "id": "view-in-github",
        "colab_type": "text"
      },
      "source": [
        "<a href=\"https://colab.research.google.com/github/Pulsar-kkaturi/DL-Education/blob/master/Python_Lecture/Lecture08_Python-def.ipynb\" target=\"_parent\"><img src=\"https://colab.research.google.com/assets/colab-badge.svg\" alt=\"Open In Colab\"/></a>"
      ]
    },
    {
      "cell_type": "markdown",
      "metadata": {
        "id": "kyHUvXi_YbKa"
      },
      "source": [
        "# Lecture 8. 함수"
      ]
    },
    {
      "cell_type": "markdown",
      "source": [
        "## 8.1. 함수의 구조"
      ],
      "metadata": {
        "id": "YJ6Ke8WEZCwr"
      }
    },
    {
      "cell_type": "code",
      "execution_count": 2,
      "metadata": {
        "id": "auQjGt_qYbKc",
        "outputId": "4f6fc3ea-e190-4f37-e723-086256d1da04",
        "colab": {
          "base_uri": "https://localhost:8080/"
        }
      },
      "outputs": [
        {
          "output_type": "stream",
          "name": "stdout",
          "text": [
            "215735859758881\n"
          ]
        }
      ],
      "source": [
        "a = 212312425234236\n",
        "b = 3423434524645\n",
        "print(a+b)"
      ]
    },
    {
      "cell_type": "code",
      "source": [
        "def add(a, b):\n",
        "  return a+b"
      ],
      "metadata": {
        "id": "kEKjo8WtZZU7"
      },
      "execution_count": 6,
      "outputs": []
    },
    {
      "cell_type": "code",
      "source": [
        "print(add(12, 5))\n",
        "print(add(13123, 12341))"
      ],
      "metadata": {
        "id": "2Y69Ej9oZlHr",
        "outputId": "0620c885-5428-4a39-ce96-07e7ea87852a",
        "colab": {
          "base_uri": "https://localhost:8080/"
        }
      },
      "execution_count": 7,
      "outputs": [
        {
          "output_type": "stream",
          "name": "stdout",
          "text": [
            "17\n",
            "25464\n"
          ]
        }
      ]
    },
    {
      "cell_type": "code",
      "source": [
        "def 함수명(변수1, 변수2):\n",
        "  수행할 코드\n",
        "  return 반환할 값"
      ],
      "metadata": {
        "id": "4S7cmv2_aCuI"
      },
      "execution_count": null,
      "outputs": []
    },
    {
      "cell_type": "markdown",
      "source": [],
      "metadata": {
        "id": "O2oCBLOzaCIK"
      }
    },
    {
      "cell_type": "markdown",
      "source": [
        "## 8.2. 함수의 형태\n",
        "* 일반적인 함수(입력값과 반환값이 있는 함수)\n",
        "* 입력값이 없는 함수\n",
        "* 반환값이 없는 함수\n",
        "* 입력값도 반환값도 없는 함수"
      ],
      "metadata": {
        "id": "guuOHK2FZzNj"
      }
    },
    {
      "cell_type": "code",
      "source": [
        "def multiple(a, b):\n",
        "  return a*b\n",
        "\n",
        "multiple(3, 3)"
      ],
      "metadata": {
        "id": "9L2Jgt0sZsQc",
        "outputId": "e0e804f9-49ef-494e-f2c2-233d1af8c9e2",
        "colab": {
          "base_uri": "https://localhost:8080/"
        }
      },
      "execution_count": 18,
      "outputs": [
        {
          "output_type": "execute_result",
          "data": {
            "text/plain": [
              "9"
            ]
          },
          "metadata": {},
          "execution_count": 18
        }
      ]
    },
    {
      "cell_type": "code",
      "source": [
        "def intro():\n",
        "  return 'hello, my name is 정종훈'\n",
        "print(intro())"
      ],
      "metadata": {
        "id": "DkM7iaKxa1DS",
        "outputId": "b9d74042-3527-4627-aa0c-e05f9e76f6aa",
        "colab": {
          "base_uri": "https://localhost:8080/"
        }
      },
      "execution_count": 19,
      "outputs": [
        {
          "output_type": "stream",
          "name": "stdout",
          "text": [
            "hello, my name is 정종훈\n"
          ]
        }
      ]
    },
    {
      "cell_type": "code",
      "source": [
        "def multiple1(a, b):\n",
        "  print(a*b)\n",
        "\n",
        "multiple(3, 3)"
      ],
      "metadata": {
        "id": "KwJ7jUqjbDAq",
        "outputId": "895ae5f3-d48d-4518-b87e-71b1cbf358ea",
        "colab": {
          "base_uri": "https://localhost:8080/"
        }
      },
      "execution_count": 20,
      "outputs": [
        {
          "output_type": "execute_result",
          "data": {
            "text/plain": [
              "9"
            ]
          },
          "metadata": {},
          "execution_count": 20
        }
      ]
    },
    {
      "cell_type": "code",
      "source": [
        "def intro1():\n",
        "  print('hello, my name is 정종훈')\n",
        "\n",
        "intro()"
      ],
      "metadata": {
        "id": "-iMbaiCKaeTj",
        "outputId": "b42b6d05-eb38-4707-b0fd-eb93b0d00e54",
        "colab": {
          "base_uri": "https://localhost:8080/",
          "height": 36
        }
      },
      "execution_count": 21,
      "outputs": [
        {
          "output_type": "execute_result",
          "data": {
            "text/plain": [
              "'hello, my name is 정종훈'"
            ],
            "application/vnd.google.colaboratory.intrinsic+json": {
              "type": "string"
            }
          },
          "metadata": {},
          "execution_count": 21
        }
      ]
    },
    {
      "cell_type": "markdown",
      "source": [
        "* 반환값이 있고 없고의 차이"
      ],
      "metadata": {
        "id": "fsnLjIFWiEZK"
      }
    },
    {
      "cell_type": "code",
      "source": [
        "def add1(a, b):\n",
        "  print(a+b)\n",
        "\n",
        "def add2(a, b):\n",
        "  return a+b # 반환을 해야만 함수의 결과값을 다른 연산에도 사용할 수 있다."
      ],
      "metadata": {
        "id": "4yNUJtE8iMSG"
      },
      "execution_count": 73,
      "outputs": []
    },
    {
      "cell_type": "code",
      "source": [
        "a = 1\n",
        "b = 1\n",
        "#print(f\"{a} + {b} = {add1(a,b)}\")\n",
        "print(f\"{a} + {b} = {add2(a,b)}\")"
      ],
      "metadata": {
        "id": "nErXs7ITknbD",
        "outputId": "edb530f0-1adc-41ea-b693-2ea877655e2d",
        "colab": {
          "base_uri": "https://localhost:8080/"
        }
      },
      "execution_count": 77,
      "outputs": [
        {
          "output_type": "stream",
          "name": "stdout",
          "text": [
            "1 + 1 = 2\n"
          ]
        }
      ]
    },
    {
      "cell_type": "markdown",
      "source": [
        "y = 2 X (a + b)"
      ],
      "metadata": {
        "id": "6K5NweCaln5q"
      }
    },
    {
      "cell_type": "code",
      "source": [
        "a = 2\n",
        "b = 1\n",
        "print(2*(add2(2, 1)))"
      ],
      "metadata": {
        "id": "VkZXIIRhljuK",
        "outputId": "94d39728-e3fe-4048-a0a2-393943adabc0",
        "colab": {
          "base_uri": "https://localhost:8080/"
        }
      },
      "execution_count": 80,
      "outputs": [
        {
          "output_type": "stream",
          "name": "stdout",
          "text": [
            "6\n"
          ]
        }
      ]
    },
    {
      "cell_type": "code",
      "source": [
        "c = add2(2, 1)\n",
        "print(2*c)"
      ],
      "metadata": {
        "id": "kToPsS0klOd5",
        "outputId": "d5d2cad5-9ca2-4242-c1ba-7de008ce587a",
        "colab": {
          "base_uri": "https://localhost:8080/"
        }
      },
      "execution_count": 81,
      "outputs": [
        {
          "output_type": "stream",
          "name": "stdout",
          "text": [
            "6\n"
          ]
        }
      ]
    },
    {
      "cell_type": "markdown",
      "source": [
        "* 반환값을 2개 이상 받을 수 있다."
      ],
      "metadata": {
        "id": "Fmd33GbNmMtq"
      }
    },
    {
      "cell_type": "code",
      "source": [
        "a = 3\n",
        "b = 1\n",
        "print(f'숫자각 각각 {a}, {b}일때, 더한 결과는 {a+b}이고, 뺀 결과는 {a-b}이다.')"
      ],
      "metadata": {
        "id": "T-XwJqsLmQPq",
        "outputId": "30c4e4d7-9efa-48ef-c4fa-fbb97beccaaf",
        "colab": {
          "base_uri": "https://localhost:8080/"
        }
      },
      "execution_count": 82,
      "outputs": [
        {
          "output_type": "stream",
          "name": "stdout",
          "text": [
            "숫자각 각각 3, 1일때, 더한 결과는 4이고, 뺀 결과는 2이다.\n"
          ]
        }
      ]
    },
    {
      "cell_type": "code",
      "source": [
        "def result(a, b):\n",
        "  sum_result = a + b\n",
        "  sub_result = a - b\n",
        "  return sum_result, sub_result"
      ],
      "metadata": {
        "id": "Z3Gy2tk3mh-S"
      },
      "execution_count": 84,
      "outputs": []
    },
    {
      "cell_type": "code",
      "source": [
        "c, d = result(3, 1)\n",
        "print(f'숫자각 각각 {a}, {b}일때, 더한 결과는 {c}이고, 뺀 결과는 {d}이다.')"
      ],
      "metadata": {
        "id": "NhBwPQ_zmvVy",
        "outputId": "d072bae1-6631-4d91-8ceb-204b40c64e59",
        "colab": {
          "base_uri": "https://localhost:8080/"
        }
      },
      "execution_count": 85,
      "outputs": [
        {
          "output_type": "stream",
          "name": "stdout",
          "text": [
            "숫자각 각각 3, 1일때, 더한 결과는 4이고, 뺀 결과는 2이다.\n"
          ]
        }
      ]
    },
    {
      "cell_type": "markdown",
      "source": [
        "## 8.3. 함수의 응용"
      ],
      "metadata": {
        "id": "OHWZy5Leh9Ui"
      }
    },
    {
      "cell_type": "code",
      "source": [
        "for i in range(2, 10):\n",
        "  for j in range(1, 10):\n",
        "    print(multiple(i, j))\n"
      ],
      "metadata": {
        "id": "aB3DnYGQavri",
        "outputId": "7e865b16-c0c5-464f-9367-f807f8391905",
        "colab": {
          "base_uri": "https://localhost:8080/"
        }
      },
      "execution_count": 22,
      "outputs": [
        {
          "output_type": "stream",
          "name": "stdout",
          "text": [
            "2\n",
            "4\n",
            "6\n",
            "8\n",
            "10\n",
            "12\n",
            "14\n",
            "16\n",
            "18\n",
            "3\n",
            "6\n",
            "9\n",
            "12\n",
            "15\n",
            "18\n",
            "21\n",
            "24\n",
            "27\n",
            "4\n",
            "8\n",
            "12\n",
            "16\n",
            "20\n",
            "24\n",
            "28\n",
            "32\n",
            "36\n",
            "5\n",
            "10\n",
            "15\n",
            "20\n",
            "25\n",
            "30\n",
            "35\n",
            "40\n",
            "45\n",
            "6\n",
            "12\n",
            "18\n",
            "24\n",
            "30\n",
            "36\n",
            "42\n",
            "48\n",
            "54\n",
            "7\n",
            "14\n",
            "21\n",
            "28\n",
            "35\n",
            "42\n",
            "49\n",
            "56\n",
            "63\n",
            "8\n",
            "16\n",
            "24\n",
            "32\n",
            "40\n",
            "48\n",
            "56\n",
            "64\n",
            "72\n",
            "9\n",
            "18\n",
            "27\n",
            "36\n",
            "45\n",
            "54\n",
            "63\n",
            "72\n",
            "81\n"
          ]
        }
      ]
    },
    {
      "cell_type": "code",
      "source": [
        "cls = {'20231111': '정종훈', '20231112': '박시온', '20231113': '김규연'}\n",
        "\n",
        "def information(num):\n",
        "  print(f'{cls[num]} 학생의 학번은 {num}이다.')\n",
        "\n",
        "for key in cls.keys():\n",
        "  information(key)"
      ],
      "metadata": {
        "id": "d3_z1haebrek",
        "outputId": "b877bf75-1b07-42fc-ee5e-f7ae8faa8b46",
        "colab": {
          "base_uri": "https://localhost:8080/"
        }
      },
      "execution_count": 27,
      "outputs": [
        {
          "output_type": "stream",
          "name": "stdout",
          "text": [
            "정종훈 학생의 학번은 20231111이다.\n",
            "박시온 학생의 학번은 20231112이다.\n",
            "김규연 학생의 학번은 20231113이다.\n"
          ]
        }
      ]
    },
    {
      "cell_type": "code",
      "source": [
        "cls = {'20231111': '장종훈', '20231112': '박시온', '20231113': '김규연'}\n",
        "\n",
        "for key in cls.keys():\n",
        "  information(key)"
      ],
      "metadata": {
        "id": "8Egvmh40dKji",
        "outputId": "1d6e4717-1b23-4363-b70f-d7820fa08a44",
        "colab": {
          "base_uri": "https://localhost:8080/"
        }
      },
      "execution_count": 28,
      "outputs": [
        {
          "output_type": "stream",
          "name": "stdout",
          "text": [
            "장종훈 학생의 학번은 20231111이다.\n",
            "박시온 학생의 학번은 20231112이다.\n",
            "김규연 학생의 학번은 20231113이다.\n"
          ]
        }
      ]
    },
    {
      "cell_type": "code",
      "source": [
        "a = 10\n",
        "b = 20"
      ],
      "metadata": {
        "id": "8q1ICyFbdXlq"
      },
      "execution_count": 29,
      "outputs": []
    },
    {
      "cell_type": "code",
      "source": [
        "a + b"
      ],
      "metadata": {
        "id": "yB5hcTEpdZ5q",
        "outputId": "02d5a0cd-34ba-45d5-d750-181837baebb8",
        "colab": {
          "base_uri": "https://localhost:8080/"
        }
      },
      "execution_count": 30,
      "outputs": [
        {
          "output_type": "execute_result",
          "data": {
            "text/plain": [
              "30"
            ]
          },
          "metadata": {},
          "execution_count": 30
        }
      ]
    },
    {
      "cell_type": "code",
      "source": [
        "a - b"
      ],
      "metadata": {
        "id": "xDKhmuGddZV6",
        "outputId": "ab9d7c97-ac5a-4b28-a1ee-afae3fc0df00",
        "colab": {
          "base_uri": "https://localhost:8080/"
        }
      },
      "execution_count": 31,
      "outputs": [
        {
          "output_type": "execute_result",
          "data": {
            "text/plain": [
              "-10"
            ]
          },
          "metadata": {},
          "execution_count": 31
        }
      ]
    },
    {
      "cell_type": "code",
      "source": [
        "def operation(a, b, mode):\n",
        "  if mode == '+':\n",
        "    return a + b\n",
        "  elif mode == '-':\n",
        "    return a - b\n",
        "  elif mode == 'x':\n",
        "    return a * b\n",
        "  elif mode == '/':\n",
        "    return a/b\n",
        "  elif mode == '^':\n",
        "    return a**b\n",
        "  elif mode == 'a':\n",
        "    return a**2 + b\n",
        "  else:\n",
        "    return '올바른 모드를 입력하시오.'"
      ],
      "metadata": {
        "id": "PQcaXDYpdbny"
      },
      "execution_count": 45,
      "outputs": []
    },
    {
      "cell_type": "code",
      "source": [
        "operation(20, 30, 'a')"
      ],
      "metadata": {
        "id": "FZ3zYd4jd1jD",
        "outputId": "ae20df9c-f585-4bfc-a5b1-c2f81feece8b",
        "colab": {
          "base_uri": "https://localhost:8080/"
        }
      },
      "execution_count": 46,
      "outputs": [
        {
          "output_type": "execute_result",
          "data": {
            "text/plain": [
              "430"
            ]
          },
          "metadata": {},
          "execution_count": 46
        }
      ]
    },
    {
      "cell_type": "code",
      "source": [
        "def operation(a, b, mode='+'): # 매개변수 기본값 지정\n",
        "  if mode == '+':\n",
        "    return a + b\n",
        "  elif mode == '-':\n",
        "    return a - b\n",
        "  elif mode == 'x':\n",
        "    return a * b\n",
        "  elif mode == '/':\n",
        "    return a/b\n",
        "  elif mode == '^':\n",
        "    return a**b\n",
        "  elif mode == 'a':\n",
        "    return a**2 + b\n",
        "  else:\n",
        "    return '올바른 모드를 입력하시오.'"
      ],
      "metadata": {
        "id": "SDrFSwJreJ4L"
      },
      "execution_count": 50,
      "outputs": []
    },
    {
      "cell_type": "code",
      "source": [
        "print(operation(20, 30))\n",
        "print(operation(30, 20, mode='-'))"
      ],
      "metadata": {
        "id": "AtN03Dvfe337",
        "outputId": "19937f14-d6ac-4c71-c3cc-92e1f81fbeef",
        "colab": {
          "base_uri": "https://localhost:8080/"
        }
      },
      "execution_count": 49,
      "outputs": [
        {
          "output_type": "stream",
          "name": "stdout",
          "text": [
            "50\n",
            "10\n"
          ]
        }
      ]
    },
    {
      "cell_type": "code",
      "source": [
        "def coffee_print(coffee, money):\n",
        "  while money:\n",
        "    money = money - 2500\n",
        "    print(f'돈을 받았으니 커피를 줍니다!(현금 = {money})')\n",
        "    coffee = coffee - 1\n",
        "    print(f'남은 커피의 양은 {coffee}잔 입니다.')\n",
        "    if coffee == 0:\n",
        "      print('오늘 커피가 다 떨어졌습니다ㅠㅠ')\n",
        "      break"
      ],
      "metadata": {
        "id": "4DnGHaxkfgfy"
      },
      "execution_count": 54,
      "outputs": []
    },
    {
      "cell_type": "code",
      "source": [
        "coffee_print(100, 50000)"
      ],
      "metadata": {
        "id": "M0bqEjNFfvE6",
        "outputId": "da809034-e2e7-48b9-c39c-34d9a4594127",
        "colab": {
          "base_uri": "https://localhost:8080/"
        }
      },
      "execution_count": 55,
      "outputs": [
        {
          "output_type": "stream",
          "name": "stdout",
          "text": [
            "돈을 받았으니 커피를 줍니다!(현금 = 47500)\n",
            "남은 커피의 양은 99잔 입니다.\n",
            "돈을 받았으니 커피를 줍니다!(현금 = 45000)\n",
            "남은 커피의 양은 98잔 입니다.\n",
            "돈을 받았으니 커피를 줍니다!(현금 = 42500)\n",
            "남은 커피의 양은 97잔 입니다.\n",
            "돈을 받았으니 커피를 줍니다!(현금 = 40000)\n",
            "남은 커피의 양은 96잔 입니다.\n",
            "돈을 받았으니 커피를 줍니다!(현금 = 37500)\n",
            "남은 커피의 양은 95잔 입니다.\n",
            "돈을 받았으니 커피를 줍니다!(현금 = 35000)\n",
            "남은 커피의 양은 94잔 입니다.\n",
            "돈을 받았으니 커피를 줍니다!(현금 = 32500)\n",
            "남은 커피의 양은 93잔 입니다.\n",
            "돈을 받았으니 커피를 줍니다!(현금 = 30000)\n",
            "남은 커피의 양은 92잔 입니다.\n",
            "돈을 받았으니 커피를 줍니다!(현금 = 27500)\n",
            "남은 커피의 양은 91잔 입니다.\n",
            "돈을 받았으니 커피를 줍니다!(현금 = 25000)\n",
            "남은 커피의 양은 90잔 입니다.\n",
            "돈을 받았으니 커피를 줍니다!(현금 = 22500)\n",
            "남은 커피의 양은 89잔 입니다.\n",
            "돈을 받았으니 커피를 줍니다!(현금 = 20000)\n",
            "남은 커피의 양은 88잔 입니다.\n",
            "돈을 받았으니 커피를 줍니다!(현금 = 17500)\n",
            "남은 커피의 양은 87잔 입니다.\n",
            "돈을 받았으니 커피를 줍니다!(현금 = 15000)\n",
            "남은 커피의 양은 86잔 입니다.\n",
            "돈을 받았으니 커피를 줍니다!(현금 = 12500)\n",
            "남은 커피의 양은 85잔 입니다.\n",
            "돈을 받았으니 커피를 줍니다!(현금 = 10000)\n",
            "남은 커피의 양은 84잔 입니다.\n",
            "돈을 받았으니 커피를 줍니다!(현금 = 7500)\n",
            "남은 커피의 양은 83잔 입니다.\n",
            "돈을 받았으니 커피를 줍니다!(현금 = 5000)\n",
            "남은 커피의 양은 82잔 입니다.\n",
            "돈을 받았으니 커피를 줍니다!(현금 = 2500)\n",
            "남은 커피의 양은 81잔 입니다.\n",
            "돈을 받았으니 커피를 줍니다!(현금 = 0)\n",
            "남은 커피의 양은 80잔 입니다.\n"
          ]
        }
      ]
    },
    {
      "cell_type": "code",
      "source": [
        "def gugu(num):\n",
        "  for j in range(1, 10):\n",
        "    print(f'{num} X {j} = {num*j}')"
      ],
      "metadata": {
        "id": "PkeXEHfTgDpp"
      },
      "execution_count": 61,
      "outputs": []
    },
    {
      "cell_type": "code",
      "source": [
        "gugu(3)"
      ],
      "metadata": {
        "id": "48NNe6htgeF0",
        "outputId": "602c7a42-733b-47a8-8e8e-9ba89018ec24",
        "colab": {
          "base_uri": "https://localhost:8080/"
        }
      },
      "execution_count": 63,
      "outputs": [
        {
          "output_type": "stream",
          "name": "stdout",
          "text": [
            "3 X 1 = 3\n",
            "3 X 2 = 6\n",
            "3 X 3 = 9\n",
            "3 X 4 = 12\n",
            "3 X 5 = 15\n",
            "3 X 6 = 18\n",
            "3 X 7 = 21\n",
            "3 X 8 = 24\n",
            "3 X 9 = 27\n"
          ]
        }
      ]
    },
    {
      "cell_type": "code",
      "source": [
        "for e in range(2,10,2):\n",
        "  gugu(e)"
      ],
      "metadata": {
        "id": "c-uVYVOkgkAS",
        "outputId": "c1165008-40bf-49ce-942f-0409091281f0",
        "colab": {
          "base_uri": "https://localhost:8080/"
        }
      },
      "execution_count": 65,
      "outputs": [
        {
          "output_type": "stream",
          "name": "stdout",
          "text": [
            "2 X 1 = 2\n",
            "2 X 2 = 4\n",
            "2 X 3 = 6\n",
            "2 X 4 = 8\n",
            "2 X 5 = 10\n",
            "2 X 6 = 12\n",
            "2 X 7 = 14\n",
            "2 X 8 = 16\n",
            "2 X 9 = 18\n",
            "4 X 1 = 4\n",
            "4 X 2 = 8\n",
            "4 X 3 = 12\n",
            "4 X 4 = 16\n",
            "4 X 5 = 20\n",
            "4 X 6 = 24\n",
            "4 X 7 = 28\n",
            "4 X 8 = 32\n",
            "4 X 9 = 36\n",
            "6 X 1 = 6\n",
            "6 X 2 = 12\n",
            "6 X 3 = 18\n",
            "6 X 4 = 24\n",
            "6 X 5 = 30\n",
            "6 X 6 = 36\n",
            "6 X 7 = 42\n",
            "6 X 8 = 48\n",
            "6 X 9 = 54\n",
            "8 X 1 = 8\n",
            "8 X 2 = 16\n",
            "8 X 3 = 24\n",
            "8 X 4 = 32\n",
            "8 X 5 = 40\n",
            "8 X 6 = 48\n",
            "8 X 7 = 56\n",
            "8 X 8 = 64\n",
            "8 X 9 = 72\n"
          ]
        }
      ]
    },
    {
      "cell_type": "markdown",
      "source": [
        "## Quiz.\n",
        "\n",
        "아래의 결과에서 2번째 줄 아래를 함수로 바꿔보시오.\n",
        "(for문 아래를 함수로 변경)"
      ],
      "metadata": {
        "id": "tMtn8F1MnEeB"
      }
    },
    {
      "cell_type": "code",
      "source": [
        "# 예제 결과 입니다.\n",
        "scores = [72, 80, 99, 55, 61, 11, 12, 54]\n",
        "for i in range(len(scores)):\n",
        "  if scores[i] >= 70:\n",
        "    result = '합격'\n",
        "  else:\n",
        "    result = '불합격'\n",
        "  print(f'{i+1}번째 학생의 점수는 {scores[i]}점입니다.')"
      ],
      "metadata": {
        "id": "AUmxc5fIgt5i",
        "outputId": "615704b4-e31c-4f17-b756-205d4bbd9a11",
        "colab": {
          "base_uri": "https://localhost:8080/"
        }
      },
      "execution_count": 87,
      "outputs": [
        {
          "output_type": "stream",
          "name": "stdout",
          "text": [
            "1번째 학생의 점수는 72점입니다.\n",
            "2번째 학생의 점수는 80점입니다.\n",
            "3번째 학생의 점수는 99점입니다.\n",
            "4번째 학생의 점수는 55점입니다.\n",
            "5번째 학생의 점수는 61점입니다.\n",
            "6번째 학생의 점수는 11점입니다.\n",
            "7번째 학생의 점수는 12점입니다.\n",
            "8번째 학생의 점수는 54점입니다.\n"
          ]
        }
      ]
    },
    {
      "cell_type": "code",
      "source": [
        "def quiz_func(num): # 함수 아래를 채워주세요.\n",
        "  if num >= 70:\n",
        "    return '합격'\n",
        "  else:\n",
        "    return '불합격'"
      ],
      "metadata": {
        "id": "M2ibhdOOnZji"
      },
      "execution_count": 91,
      "outputs": []
    },
    {
      "cell_type": "code",
      "source": [
        "scores = [72, 80, 99, 55, 61, 11, 12, 54]\n",
        "for i in range(len(scores)):\n",
        "  print(f'{i+1}번째 학생의 점수는 {quiz_func(scores[i])}입니다.')"
      ],
      "metadata": {
        "id": "jUa5jyKinXVK",
        "outputId": "307133df-a7b5-4dac-f9a2-a8136f62c947",
        "colab": {
          "base_uri": "https://localhost:8080/"
        }
      },
      "execution_count": 93,
      "outputs": [
        {
          "output_type": "stream",
          "name": "stdout",
          "text": [
            "1번째 학생의 점수는 합격입니다.\n",
            "2번째 학생의 점수는 합격입니다.\n",
            "3번째 학생의 점수는 합격입니다.\n",
            "4번째 학생의 점수는 불합격입니다.\n",
            "5번째 학생의 점수는 불합격입니다.\n",
            "6번째 학생의 점수는 불합격입니다.\n",
            "7번째 학생의 점수는 불합격입니다.\n",
            "8번째 학생의 점수는 불합격입니다.\n"
          ]
        }
      ]
    }
  ],
  "metadata": {
    "language_info": {
      "name": "python"
    },
    "orig_nbformat": 4,
    "colab": {
      "provenance": [],
      "include_colab_link": true
    },
    "kernelspec": {
      "name": "python3",
      "display_name": "Python 3"
    }
  },
  "nbformat": 4,
  "nbformat_minor": 0
}