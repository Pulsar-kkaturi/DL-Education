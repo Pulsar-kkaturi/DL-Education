{
  "cells": [
    {
      "cell_type": "markdown",
      "metadata": {
        "colab_type": "text",
        "id": "view-in-github"
      },
      "source": [
        "<a href=\"https://colab.research.google.com/github/Pulsar-kkaturi/DL-Education/blob/master/Python_Basic/python_basic2.ipynb\" target=\"_parent\"><img src=\"https://colab.research.google.com/assets/colab-badge.svg\" alt=\"Open In Colab\"/></a>"
      ]
    },
    {
      "cell_type": "markdown",
      "metadata": {
        "id": "7fgKy8EztZYZ"
      },
      "source": [
        "# 파이썬 기초문법 2 - 데이터 다루기"
      ]
    },
    {
      "cell_type": "markdown",
      "metadata": {
        "id": "cWsFFPwyxUge"
      },
      "source": [
        "## 1. 문자열"
      ]
    },
    {
      "cell_type": "markdown",
      "metadata": {},
      "source": [
        "**파이썬에서는 텍스트를 다루는 자료형으로 '문자열(string)'을 사용하며, 문자열 자료형 안에 내장된 문자열 메소드(특정 자료형이 갖고 있는 함수)를 사용하여 텍스트를 다룬다.**\n",
        "* 문자열 데이터는 작은 따옴표 (') 또는 큰 따옴표 (\")의 쌍으로 텍스트틀 감싸서 표현한다.\n",
        "* 여러 줄로 이루어진 문자열은 따옴표(''' or \"\"\") 3개의 쌍으로 텍스트를 감싸서 표현한다."
      ]
    },
    {
      "cell_type": "code",
      "execution_count": 1,
      "metadata": {},
      "outputs": [],
      "source": [
        "a = 'hello world'   # type(a) = 'string'\n",
        "b = \"\"\" 펄서까투리의\n",
        "세줄요약\n",
        "블로그\"\"\"   # type(b) = 'string'"
      ]
    },
    {
      "cell_type": "code",
      "execution_count": 2,
      "metadata": {},
      "outputs": [
        {
          "name": "stdout",
          "output_type": "stream",
          "text": [
            "hello world\n"
          ]
        }
      ],
      "source": [
        "print(a)"
      ]
    },
    {
      "cell_type": "code",
      "execution_count": 3,
      "metadata": {},
      "outputs": [
        {
          "name": "stdout",
          "output_type": "stream",
          "text": [
            " 펄서까투리의\n",
            "세줄요약\n",
            "블로그\n"
          ]
        }
      ],
      "source": [
        "print(b)"
      ]
    },
    {
      "cell_type": "code",
      "execution_count": 4,
      "metadata": {},
      "outputs": [
        {
          "name": "stdout",
          "output_type": "stream",
          "text": [
            "<class 'str'> <class 'str'>\n"
          ]
        }
      ],
      "source": [
        "print(type(a), type(b))"
      ]
    },
    {
      "cell_type": "markdown",
      "metadata": {},
      "source": [
        "* 메소드: 특정 자료형이 가지고 있는 함수로 자료형 뒤에 .을 붙이고 바로 사용 가능하다."
      ]
    },
    {
      "cell_type": "code",
      "execution_count": 5,
      "metadata": {},
      "outputs": [],
      "source": [
        "a = 'hello, pulsar, kkaturi'\n",
        "\n",
        "b = a.split(',')\n",
        "# [output]: b = ['hello', ' pular', ' kkaturi']\n",
        "\n",
        "c = 'my name is {}. I am {} years old'.format('pulsar-kkaturi', 29)\n",
        "# [output]: a = 'my name is pulsar-kkaturi. I am 29 years old'"
      ]
    },
    {
      "cell_type": "code",
      "execution_count": 6,
      "metadata": {},
      "outputs": [
        {
          "name": "stdout",
          "output_type": "stream",
          "text": [
            "hello, pulsar, kkaturi\n",
            "['hello', ' pulsar', ' kkaturi']\n",
            "my name is pulsar-kkaturi. I am 29 years old\n"
          ]
        }
      ],
      "source": [
        "print(a)\n",
        "print(b)\n",
        "print(c)"
      ]
    },
    {
      "cell_type": "markdown",
      "metadata": {},
      "source": [
        "![fig1](./fig/basic2_fig1.png)"
      ]
    },
    {
      "cell_type": "markdown",
      "metadata": {},
      "source": [
        "* 내장 함수 input()을 사용하면 문자열 자료형으로 데이터를 받아들임으로 연산을 위해서는 수 데이터로 바꿔줘야 한다."
      ]
    },
    {
      "cell_type": "code",
      "execution_count": 8,
      "metadata": {},
      "outputs": [
        {
          "name": "stdout",
          "output_type": "stream",
          "text": [
            "'hello!'\n"
          ]
        }
      ],
      "source": [
        "print(input())"
      ]
    },
    {
      "cell_type": "code",
      "execution_count": 10,
      "metadata": {},
      "outputs": [
        {
          "ename": "TypeError",
          "evalue": "can't multiply sequence by non-int of type 'str'",
          "output_type": "error",
          "traceback": [
            "\u001b[0;31m---------------------------------------------------------------------------\u001b[0m",
            "\u001b[0;31mTypeError\u001b[0m                                 Traceback (most recent call last)",
            "\u001b[0;32m<ipython-input-10-783b47446ebe>\u001b[0m in \u001b[0;36m<module>\u001b[0;34m\u001b[0m\n\u001b[1;32m      2\u001b[0m \u001b[0ma\u001b[0m \u001b[0;34m=\u001b[0m \u001b[0minput\u001b[0m\u001b[0;34m(\u001b[0m\u001b[0;34m)\u001b[0m\u001b[0;34m\u001b[0m\u001b[0;34m\u001b[0m\u001b[0m\n\u001b[1;32m      3\u001b[0m \u001b[0mb\u001b[0m \u001b[0;34m=\u001b[0m \u001b[0minput\u001b[0m\u001b[0;34m(\u001b[0m\u001b[0;34m)\u001b[0m\u001b[0;34m\u001b[0m\u001b[0;34m\u001b[0m\u001b[0m\n\u001b[0;32m----> 4\u001b[0;31m \u001b[0mresult\u001b[0m \u001b[0;34m=\u001b[0m \u001b[0ma\u001b[0m \u001b[0;34m*\u001b[0m \u001b[0mb\u001b[0m \u001b[0;31m# 문자열은 곱할 수 없기에 에러 발생\u001b[0m\u001b[0;34m\u001b[0m\u001b[0;34m\u001b[0m\u001b[0m\n\u001b[0m\u001b[1;32m      5\u001b[0m \u001b[0mprint\u001b[0m\u001b[0;34m(\u001b[0m\u001b[0;34m'result = '\u001b[0m\u001b[0;34m,\u001b[0m \u001b[0mresult\u001b[0m\u001b[0;34m)\u001b[0m\u001b[0;34m\u001b[0m\u001b[0;34m\u001b[0m\u001b[0m\n",
            "\u001b[0;31mTypeError\u001b[0m: can't multiply sequence by non-int of type 'str'"
          ]
        }
      ],
      "source": [
        "# 문자열은 곱할 수 없기에 에러 발생\n",
        "a = input()\n",
        "b = input()\n",
        "result = a * b # 문자열은 곱할 수 없기에 에러 발생\n",
        "print('result = ', result)"
      ]
    },
    {
      "cell_type": "code",
      "execution_count": 11,
      "metadata": {},
      "outputs": [
        {
          "name": "stdout",
          "output_type": "stream",
          "text": [
            "result =  2\n"
          ]
        }
      ],
      "source": [
        "# 문자열은 곱할 수 없기에 에러 발생\n",
        "a = input()\n",
        "b = input()\n",
        "result = int(a) * int(b) # int() 함수를 사용하여 문자열을 정수로 바꿔줘서 연산 가능\n",
        "print('result = ', result)"
      ]
    },
    {
      "cell_type": "markdown",
      "metadata": {},
      "source": [
        "## 2. List"
      ]
    },
    {
      "cell_type": "markdown",
      "metadata": {},
      "source": [
        "* 리스트(List): 데이터의 목록을 다루는 자료형, 대괄호 []를 사용하여 만든다."
      ]
    },
    {
      "cell_type": "code",
      "execution_count": 35,
      "metadata": {},
      "outputs": [
        {
          "name": "stdout",
          "output_type": "stream",
          "text": [
            "[1, 2, 3, 4, 5]\n",
            "a type =  <class 'list'>\n"
          ]
        }
      ],
      "source": [
        "a = [1, 2, 3, 4, 5]\n",
        "print(a)\n",
        "print('a type = ', type(a))"
      ]
    },
    {
      "cell_type": "code",
      "execution_count": 22,
      "metadata": {},
      "outputs": [
        {
          "name": "stdout",
          "output_type": "stream",
          "text": [
            "[1, 2, 3]\n"
          ]
        }
      ],
      "source": [
        "# 슬라이싱\n",
        "b = a[0:3]\n",
        "print(b)"
      ]
    },
    {
      "cell_type": "code",
      "execution_count": 24,
      "metadata": {},
      "outputs": [
        {
          "name": "stdout",
          "output_type": "stream",
          "text": [
            "3\n"
          ]
        }
      ],
      "source": [
        "# 데이터 참조\n",
        "print(a[2])"
      ]
    },
    {
      "cell_type": "code",
      "execution_count": 20,
      "metadata": {},
      "outputs": [
        {
          "name": "stdout",
          "output_type": "stream",
          "text": [
            "[1, 2, 5, 4, 5]\n"
          ]
        }
      ],
      "source": [
        "# 데이터 변경\n",
        "a[2] = 5\n",
        "print(a)"
      ]
    },
    {
      "cell_type": "code",
      "execution_count": 25,
      "metadata": {},
      "outputs": [
        {
          "name": "stdout",
          "output_type": "stream",
          "text": [
            "x + y =  [1, 2, 3, 4, 5]\n"
          ]
        }
      ],
      "source": [
        "# 리스트 더하기\n",
        "x = [1, 2, 3]\n",
        "y = [4, 5]\n",
        "print('x + y = ', x+y)"
      ]
    },
    {
      "cell_type": "code",
      "execution_count": 26,
      "metadata": {},
      "outputs": [
        {
          "name": "stdout",
          "output_type": "stream",
          "text": [
            "5\n"
          ]
        }
      ],
      "source": [
        "# 리스트의 길이를 구하는 함수 len()\n",
        "print(len(a))"
      ]
    },
    {
      "cell_type": "markdown",
      "metadata": {},
      "source": [
        "* 리스트 메소드"
      ]
    },
    {
      "cell_type": "code",
      "execution_count": 28,
      "metadata": {},
      "outputs": [
        {
          "name": "stdout",
          "output_type": "stream",
          "text": [
            "[1, 2, 3, 4]\n"
          ]
        }
      ],
      "source": [
        "# append() : 리스트 끝에 새 요소를 추가\n",
        "a = [1, 2, 3]\n",
        "a.append(4)\n",
        "print(a)"
      ]
    },
    {
      "cell_type": "code",
      "execution_count": 29,
      "metadata": {},
      "outputs": [
        {
          "name": "stdout",
          "output_type": "stream",
          "text": [
            "[1, 2, 3, 5, 6]\n"
          ]
        }
      ],
      "source": [
        "# extend() : 기존 리스트에 다른 리스트를 이어붙임\n",
        "a = [1, 2, 3]\n",
        "a.extend([5, 6])\n",
        "print(a)"
      ]
    },
    {
      "cell_type": "code",
      "execution_count": 30,
      "metadata": {},
      "outputs": [
        {
          "name": "stdout",
          "output_type": "stream",
          "text": [
            "[1, 1, 2, 3]\n"
          ]
        }
      ],
      "source": [
        "# insert(a, b) : 리스트 내의 a 위치에 새 요소 b를 삽입\n",
        "a = [1, 2, 3]\n",
        "a.insert(0,1)\n",
        "print(a)"
      ]
    },
    {
      "cell_type": "code",
      "execution_count": 31,
      "metadata": {},
      "outputs": [
        {
          "name": "stdout",
          "output_type": "stream",
          "text": [
            "[1, 3]\n"
          ]
        }
      ],
      "source": [
        "# remove() : 매개변수로 입력한 데이터를 찾아 첫번째 요소를 제거\n",
        "a = [1, 2, 3]\n",
        "a.remove(2)\n",
        "print(a)"
      ]
    },
    {
      "cell_type": "code",
      "execution_count": 33,
      "metadata": {},
      "outputs": [
        {
          "name": "stdout",
          "output_type": "stream",
          "text": [
            "[1, 2]\n",
            "[1, 3]\n"
          ]
        }
      ],
      "source": [
        "# pop() : 리스트의 마지막 요소를 제거하거나 매개변수로 index 값을 입력하면 해당 index의 요소가 삭제\n",
        "a = [1, 2, 3]\n",
        "a.pop()\n",
        "print(a)\n",
        "a = [1, 2, 3]\n",
        "a.pop(1) \n",
        "print(a)"
      ]
    },
    {
      "cell_type": "code",
      "execution_count": 34,
      "metadata": {},
      "outputs": [
        {
          "name": "stdout",
          "output_type": "stream",
          "text": [
            "[1, 4, 5, 7]\n",
            "[7, 5, 4, 1]\n"
          ]
        }
      ],
      "source": [
        "# sort() : 리스트 내의 요소를 정렬 (reverse = True -> 역순 정렬)\n",
        "a = [4, 5, 1, 7]\n",
        "a.sort()\n",
        "print(a)\n",
        "a.sort(reverse = True) \n",
        "print(a)"
      ]
    },
    {
      "cell_type": "markdown",
      "metadata": {},
      "source": [
        "## 3. Tuple"
      ]
    },
    {
      "cell_type": "markdown",
      "metadata": {},
      "source": [
        "* 튜플(Tuple): 리스트와 같이 목록이나 변경이 불가능한 자료형, 괄호 ()를 이용해 만든다."
      ]
    },
    {
      "cell_type": "code",
      "execution_count": 38,
      "metadata": {},
      "outputs": [
        {
          "name": "stdout",
          "output_type": "stream",
          "text": [
            "(1, 2, 3)\n",
            "a type =  (1, 2, 3)\n"
          ]
        }
      ],
      "source": [
        "a = (1, 2, 3)\n",
        "print(a)\n",
        "print('a type = ', a)"
      ]
    },
    {
      "cell_type": "code",
      "execution_count": 40,
      "metadata": {},
      "outputs": [
        {
          "name": "stdout",
          "output_type": "stream",
          "text": [
            "(1, 2, 3, 4, 5, 6)\n"
          ]
        }
      ],
      "source": [
        "# 튜플 간의 결합\n",
        "b = a + (4, 5, 6)\n",
        "print(b)"
      ]
    },
    {
      "cell_type": "code",
      "execution_count": 43,
      "metadata": {},
      "outputs": [
        {
          "name": "stdout",
          "output_type": "stream",
          "text": [
            "2\n"
          ]
        }
      ],
      "source": [
        "# 튜플에서 데이터 참조는 가능하나 변경은 불가능\n",
        "print(a[1])\n"
      ]
    },
    {
      "cell_type": "code",
      "execution_count": 44,
      "metadata": {},
      "outputs": [
        {
          "ename": "TypeError",
          "evalue": "'tuple' object does not support item assignment",
          "output_type": "error",
          "traceback": [
            "\u001b[0;31m---------------------------------------------------------------------------\u001b[0m",
            "\u001b[0;31mTypeError\u001b[0m                                 Traceback (most recent call last)",
            "\u001b[0;32m<ipython-input-44-7dad42866d23>\u001b[0m in \u001b[0;36m<module>\u001b[0;34m\u001b[0m\n\u001b[1;32m      1\u001b[0m \u001b[0;31m# 튜플에서 데이터 참조는 가능하나 변경은 불가능\u001b[0m\u001b[0;34m\u001b[0m\u001b[0;34m\u001b[0m\u001b[0;34m\u001b[0m\u001b[0m\n\u001b[0;32m----> 2\u001b[0;31m \u001b[0ma\u001b[0m\u001b[0;34m[\u001b[0m\u001b[0;36m1\u001b[0m\u001b[0;34m]\u001b[0m \u001b[0;34m=\u001b[0m \u001b[0;36m1\u001b[0m\u001b[0;34m\u001b[0m\u001b[0;34m\u001b[0m\u001b[0m\n\u001b[0m",
            "\u001b[0;31mTypeError\u001b[0m: 'tuple' object does not support item assignment"
          ]
        }
      ],
      "source": [
        "# 튜플에서 데이터 참조는 가능하나 변경은 불가능\n",
        "a[1] = 1"
      ]
    },
    {
      "cell_type": "code",
      "execution_count": 45,
      "metadata": {},
      "outputs": [
        {
          "name": "stdout",
          "output_type": "stream",
          "text": [
            "3\n"
          ]
        }
      ],
      "source": [
        "# 튜플의 길이 재기\n",
        "print(len(a))"
      ]
    },
    {
      "cell_type": "markdown",
      "metadata": {},
      "source": [
        "* 튜플 패킹(Tuple Packing): 여러가지 데이터를 튜플로 묶는 것\n",
        "\n",
        "* 튜플 언패킹(Tuple Unpacking): 튜플의 각 요소를 여러 개의 변수에 할당하는 것"
      ]
    },
    {
      "cell_type": "code",
      "execution_count": 46,
      "metadata": {},
      "outputs": [
        {
          "name": "stdout",
          "output_type": "stream",
          "text": [
            "(1, 2, 3)\n"
          ]
        }
      ],
      "source": [
        "# Tuple Packing\n",
        "a = 1, 2, 3\n",
        "print(a)"
      ]
    },
    {
      "cell_type": "code",
      "execution_count": 48,
      "metadata": {},
      "outputs": [
        {
          "name": "stdout",
          "output_type": "stream",
          "text": [
            "one =  1\n",
            "two =  2\n",
            "three =  3\n"
          ]
        }
      ],
      "source": [
        "# Tuple Unpacking\n",
        "one, two, three = a\n",
        "print('one = ', one)\n",
        "print('two = ', two)\n",
        "print('three = ', three)"
      ]
    },
    {
      "cell_type": "markdown",
      "metadata": {},
      "source": [
        "* 튜플 메소드"
      ]
    },
    {
      "cell_type": "code",
      "execution_count": 54,
      "metadata": {},
      "outputs": [
        {
          "name": "stdout",
          "output_type": "stream",
          "text": [
            "1\n"
          ]
        }
      ],
      "source": [
        "# Index\n",
        "b = (1,3,2,4,5)\n",
        "print(b.index(3))\n"
      ]
    },
    {
      "cell_type": "code",
      "execution_count": 56,
      "metadata": {},
      "outputs": [
        {
          "name": "stdout",
          "output_type": "stream",
          "text": [
            "3\n"
          ]
        }
      ],
      "source": [
        "# 요소 카운팅\n",
        "b = (10, 10, 20, 10, 30)\n",
        "print(b.count(10)) "
      ]
    },
    {
      "cell_type": "markdown",
      "metadata": {},
      "source": [
        "## 4. Dictionaty"
      ]
    },
    {
      "cell_type": "markdown",
      "metadata": {},
      "source": [
        "* 딕셔너리(Dictionary): 키(Key) & 값(Value)의 쌍으로 구성된 자료 구조, 중괄호 {}를 사용하여 만든다."
      ]
    },
    {
      "cell_type": "code",
      "execution_count": 57,
      "metadata": {},
      "outputs": [
        {
          "data": {
            "text/plain": [
              "'프로그래밍 언어'"
            ]
          },
          "execution_count": 57,
          "metadata": {},
          "output_type": "execute_result"
        }
      ],
      "source": [
        "dic = {'apple': '한국말로 사과', 'python': '프로그래밍 언어', 'pulsar': '중성자별'}\n",
        "dic['python']"
      ]
    },
    {
      "cell_type": "code",
      "execution_count": 58,
      "metadata": {},
      "outputs": [
        {
          "name": "stdout",
          "output_type": "stream",
          "text": [
            "Keys =  dict_keys(['apple', 'python', 'pulsar'])\n",
            "Values =  dict_values(['한국말로 사과', '프로그래밍 언어', '중성자별'])\n",
            "Key & Value =  dict_items([('apple', '한국말로 사과'), ('python', '프로그래밍 언어'), ('pulsar', '중성자별')])\n"
          ]
        }
      ],
      "source": [
        "# 딕셔너리 메소드\n",
        "print('Keys = ', dic.keys())\n",
        "print('Values = ', dic.values())\n",
        "\n",
        "print('Key & Value = ', dic.items())\n"
      ]
    },
    {
      "cell_type": "markdown",
      "metadata": {},
      "source": [
        "## 5. 데이터 읽기"
      ]
    },
    {
      "cell_type": "code",
      "execution_count": 72,
      "metadata": {},
      "outputs": [],
      "source": [
        "import os\n",
        "import skimage \n",
        "from skimage import io as skio\n",
        "from matplotlib import pyplot as plt\n",
        "import pandas as pd"
      ]
    },
    {
      "cell_type": "markdown",
      "metadata": {},
      "source": [
        "* 영상"
      ]
    },
    {
      "cell_type": "code",
      "execution_count": 70,
      "metadata": {},
      "outputs": [
        {
          "name": "stdout",
          "output_type": "stream",
          "text": [
            "['fig_sample1.jpg', 'curriculum.csv']\n"
          ]
        }
      ],
      "source": [
        "# Sample 파일 위치 확인\n",
        "print(os.listdir('./sample'))"
      ]
    },
    {
      "cell_type": "code",
      "execution_count": 71,
      "metadata": {},
      "outputs": [
        {
          "data": {
            "text/plain": [
              "<matplotlib.image.AxesImage at 0x7f8b20ae0130>"
            ]
          },
          "execution_count": 71,
          "metadata": {},
          "output_type": "execute_result"
        },
        {
          "data": {
            "image/png": "[encoded data removed]",
            "text/plain": [
              "<Figure size 432x288 with 1 Axes>"
            ]
          },
          "metadata": {
            "needs_background": "light"
          },
          "output_type": "display_data"
        }
      ],
      "source": [
        "# 영상 파일 읽기\n",
        "img = skio.imread('./sample/fig_sample1.jpg')\n",
        "plt.imshow(img)"
      ]
    },
    {
      "cell_type": "markdown",
      "metadata": {},
      "source": [
        "* 테이블"
      ]
    },
    {
      "cell_type": "code",
      "execution_count": 78,
      "metadata": {},
      "outputs": [
        {
          "name": "stdout",
          "output_type": "stream",
          "text": [
            "     #     Date            강의                 실습              프로젝트\n",
            "0    1  03월 08일   Orientation                NaN               NaN\n",
            "1    2  03월 22일       인공지능 개념   파이썬 기초: 코딩 환경 구성               NaN\n",
            "2    3  03월 29일     기계 학습의 이해      파이썬 기초: 기초 연산               NaN\n",
            "3    4  04월 05일   의료 데이터 처리방법    파이썬 기초: 데이터 다루기               NaN\n",
            "4    5  04월 12일   의료 데이터 증대기법     파이썬 기초: 반복과 제어               NaN\n",
            "5    6  04월 19일       딥러닝의 이해      파이썬 기초: 함수 사용               NaN\n",
            "6   중간  04월 26일          필기시험                NaN               NaN\n",
            "7    7  05월 03일     영상 분석 딥러닝  데이터 분석: 데이터 분석 기초  프로젝트 소개: 의료 인공지능\n",
            "8    8  05월 10일    자연어 분석 딥러닝    데이터 분석: 데이터 시각화         프로젝트 조 구성\n",
            "9    9  05월 17일     딥러닝 결과 분석   데이터 분석: 인구 공공데이터          프로젝트 1주차\n",
            "10  10  05월 24일    의료 인공지능 검증   데이터 분석: 대중교통 데이터          프로젝트 2주차\n",
            "11  11  05월 31일   의료 인공지능 솔루션         파이썬 코딩 테스트          프로젝트 3주차\n",
            "12  12  06월 07일  의료 인공지능 최신동향                NaN          프로젝트 4주차\n",
            "13  13  06월 14일    기말 프로젝트 발표                NaN               NaN\n",
            "14  기말  06월 21일           NaN                NaN               NaN\n"
          ]
        }
      ],
      "source": [
        "tab = pd.read_csv('./sample/curriculum.csv')\n",
        "print(tab)"
      ]
    },
    {
      "cell_type": "code",
      "execution_count": 76,
      "metadata": {},
      "outputs": [
        {
          "data": {
            "text/plain": [
              "0      Orientation\n",
              "1          인공지능 개념\n",
              "2        기계 학습의 이해\n",
              "3      의료 데이터 처리방법\n",
              "4      의료 데이터 증대기법\n",
              "5          딥러닝의 이해\n",
              "6             필기시험\n",
              "7        영상 분석 딥러닝\n",
              "8       자연어 분석 딥러닝\n",
              "9        딥러닝 결과 분석\n",
              "10      의료 인공지능 검증\n",
              "11     의료 인공지능 솔루션\n",
              "12    의료 인공지능 최신동향\n",
              "13      기말 프로젝트 발표\n",
              "14             NaN\n",
              "Name: 강의, dtype: object"
            ]
          },
          "execution_count": 76,
          "metadata": {},
          "output_type": "execute_result"
        }
      ],
      "source": [
        "tab['강의']"
      ]
    },
    {
      "cell_type": "code",
      "execution_count": null,
      "metadata": {},
      "outputs": [],
      "source": []
    }
  ],
  "metadata": {
    "colab": {
      "include_colab_link": true,
      "name": "python_basic2.ipynb",
      "provenance": []
    },
    "kernelspec": {
      "display_name": "Python 3",
      "name": "python3"
    },
    "language_info": {
      "codemirror_mode": {
        "name": "ipython",
        "version": 3
      },
      "file_extension": ".py",
      "mimetype": "text/x-python",
      "name": "python",
      "nbconvert_exporter": "python",
      "pygments_lexer": "ipython3",
      "version": "3.8.10"
    },
    "orig_nbformat": 4
  },
  "nbformat": 4,
  "nbformat_minor": 0
}
