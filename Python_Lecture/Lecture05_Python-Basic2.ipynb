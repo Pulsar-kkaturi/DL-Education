{
  "cells": [
    {
      "cell_type": "markdown",
      "metadata": {
        "id": "view-in-github",
        "colab_type": "text"
      },
      "source": [
        "<a href=\"https://colab.research.google.com/github/Pulsar-kkaturi/DL-Education/blob/master/Python_Lecture/Lecture05_Python-Basic2.ipynb\" target=\"_parent\"><img src=\"https://colab.research.google.com/assets/colab-badge.svg\" alt=\"Open In Colab\"/></a>"
      ]
    },
    {
      "cell_type": "markdown",
      "metadata": {
        "id": "c4gtWdziKasH"
      },
      "source": [
        "# Lecture 5. 파이썬 프로그래밍 기초 2. 자료형: 리스트, 튜플, 딕셔너리"
      ]
    },
    {
      "cell_type": "markdown",
      "metadata": {
        "id": "xC_sfwFCKasI"
      },
      "source": [
        "## 1. 리스트"
      ]
    },
    {
      "cell_type": "code",
      "source": [
        "a = [1,2,3,4]\n",
        "b = ['a', 'b', 'c']\n",
        "c = [1,2,'a','b']\n",
        "d = [1,2,[1,2,3]]\n",
        "print(a)\n",
        "print(b)\n",
        "print(c)\n",
        "print(d)"
      ],
      "metadata": {
        "id": "BQeY3fneM1ws",
        "outputId": "56d9697d-f9b3-4967-f437-a87f2a50b24f",
        "colab": {
          "base_uri": "https://localhost:8080/"
        }
      },
      "execution_count": null,
      "outputs": [
        {
          "output_type": "stream",
          "name": "stdout",
          "text": [
            "[1, 2, 3, 4]\n",
            "['a', 'b', 'c']\n",
            "[1, 2, 'a', 'b']\n",
            "[1, 2, [1, 2, 3]]\n"
          ]
        }
      ]
    },
    {
      "cell_type": "markdown",
      "source": [
        "### 1.1. 인덱싱과 슬라이싱"
      ],
      "metadata": {
        "id": "-rXIFDNGNk50"
      }
    },
    {
      "cell_type": "code",
      "source": [
        "a = [1,2,3]\n",
        "print(a)"
      ],
      "metadata": {
        "id": "dSEayjjeNoYT",
        "outputId": "a6d96ea6-1754-4007-f98a-d9b7a2cddcaa",
        "colab": {
          "base_uri": "https://localhost:8080/"
        }
      },
      "execution_count": null,
      "outputs": [
        {
          "output_type": "stream",
          "name": "stdout",
          "text": [
            "[1, 2, 3]\n"
          ]
        }
      ]
    },
    {
      "cell_type": "code",
      "source": [
        "print(a[1])"
      ],
      "metadata": {
        "id": "IK0sDKxYN1Zs",
        "outputId": "05e6034e-616e-4512-d7ef-fe15407679ac",
        "colab": {
          "base_uri": "https://localhost:8080/"
        }
      },
      "execution_count": null,
      "outputs": [
        {
          "output_type": "stream",
          "name": "stdout",
          "text": [
            "2\n"
          ]
        }
      ]
    },
    {
      "cell_type": "code",
      "source": [
        "print(a[-1])"
      ],
      "metadata": {
        "id": "EwviNjcKObR8",
        "outputId": "2332788e-b74a-44bf-b458-17507acfa654",
        "colab": {
          "base_uri": "https://localhost:8080/"
        }
      },
      "execution_count": null,
      "outputs": [
        {
          "output_type": "stream",
          "name": "stdout",
          "text": [
            "3\n"
          ]
        }
      ]
    },
    {
      "cell_type": "code",
      "source": [
        "print(a[5]) # 범위를 벗어나는 인덱스를 넣으면 에러 발생"
      ],
      "metadata": {
        "id": "a4wUCN7wOlf8",
        "outputId": "2deda480-5ecc-4ace-d877-beabb339f39c",
        "colab": {
          "base_uri": "https://localhost:8080/",
          "height": 171
        }
      },
      "execution_count": null,
      "outputs": [
        {
          "output_type": "error",
          "ename": "IndexError",
          "evalue": "ignored",
          "traceback": [
            "\u001b[0;31m---------------------------------------------------------------------------\u001b[0m",
            "\u001b[0;31mIndexError\u001b[0m                                Traceback (most recent call last)",
            "\u001b[0;32m<ipython-input-9-8f63bedb8ed0>\u001b[0m in \u001b[0;36m<cell line: 1>\u001b[0;34m()\u001b[0m\n\u001b[0;32m----> 1\u001b[0;31m \u001b[0mprint\u001b[0m\u001b[0;34m(\u001b[0m\u001b[0ma\u001b[0m\u001b[0;34m[\u001b[0m\u001b[0;36m5\u001b[0m\u001b[0;34m]\u001b[0m\u001b[0;34m)\u001b[0m\u001b[0;34m\u001b[0m\u001b[0;34m\u001b[0m\u001b[0m\n\u001b[0m",
            "\u001b[0;31mIndexError\u001b[0m: list index out of range"
          ]
        }
      ]
    },
    {
      "cell_type": "code",
      "source": [
        "a = [[1,2],[3,4]]\n",
        "print(a[0])\n",
        "print(a[0][1])"
      ],
      "metadata": {
        "id": "RsZMK40wOnuM",
        "outputId": "2e0da86d-e776-41a8-ce87-86f3f8d6ca9c",
        "colab": {
          "base_uri": "https://localhost:8080/"
        }
      },
      "execution_count": null,
      "outputs": [
        {
          "output_type": "stream",
          "name": "stdout",
          "text": [
            "[1, 2]\n",
            "2\n"
          ]
        }
      ]
    },
    {
      "cell_type": "code",
      "source": [
        "# 슬라이싱\n",
        "a = [1,2,3,4,5]\n",
        "print(a[1:4])\n",
        "print(a[:3])\n",
        "print(a[-3:])"
      ],
      "metadata": {
        "id": "fk0Oyfa0PhrR",
        "outputId": "f6e6ceea-e5ed-49a1-e839-42356560736d",
        "colab": {
          "base_uri": "https://localhost:8080/"
        }
      },
      "execution_count": null,
      "outputs": [
        {
          "output_type": "stream",
          "name": "stdout",
          "text": [
            "[2, 3, 4]\n",
            "[1, 2, 3]\n",
            "[3, 4, 5]\n"
          ]
        }
      ]
    },
    {
      "cell_type": "markdown",
      "source": [
        "### 1.2. 리스트 연산하기\n",
        "* 리스트 더하기\n",
        "* 리스트 곱하기 (반복)\n",
        "* 리스트 길이 구하기"
      ],
      "metadata": {
        "id": "oB2Rs_d4P4ac"
      }
    },
    {
      "cell_type": "code",
      "source": [
        "a = [1,2,3]\n",
        "b = [4,5,6]\n",
        "c = a + b\n",
        "d = b + a\n",
        "print(c)\n",
        "print(d)"
      ],
      "metadata": {
        "id": "-ib_SjDLP6u8",
        "outputId": "cc037f9e-019a-46d6-da0e-2e5e89495f2a",
        "colab": {
          "base_uri": "https://localhost:8080/"
        }
      },
      "execution_count": null,
      "outputs": [
        {
          "output_type": "stream",
          "name": "stdout",
          "text": [
            "[1, 2, 3, 4, 5, 6]\n",
            "[4, 5, 6, 1, 2, 3]\n"
          ]
        }
      ]
    },
    {
      "cell_type": "code",
      "source": [
        "e = a * 3\n",
        "print(e)"
      ],
      "metadata": {
        "id": "EhCMDuYEQOis",
        "outputId": "2adc5d03-fdb7-4e9d-df80-4c04f25f81c5",
        "colab": {
          "base_uri": "https://localhost:8080/"
        }
      },
      "execution_count": null,
      "outputs": [
        {
          "output_type": "stream",
          "name": "stdout",
          "text": [
            "[1, 2, 3, 1, 2, 3, 1, 2, 3]\n"
          ]
        }
      ]
    },
    {
      "cell_type": "code",
      "source": [
        "print(len(a))\n",
        "print(len(c))\n",
        "print(len(e))"
      ],
      "metadata": {
        "id": "O1LsvOmxQplT",
        "outputId": "2c5d2535-5762-4bec-fbbd-bd6024d51a41",
        "colab": {
          "base_uri": "https://localhost:8080/"
        }
      },
      "execution_count": null,
      "outputs": [
        {
          "output_type": "stream",
          "name": "stdout",
          "text": [
            "3\n",
            "6\n",
            "9\n"
          ]
        }
      ]
    },
    {
      "cell_type": "code",
      "source": [
        "a = ['ㅜㅜ'] * 100\n",
        "print(a)\n",
        "print(len(a))"
      ],
      "metadata": {
        "id": "zEgOjmeRQcND",
        "outputId": "3e901911-cd1f-43f2-fee4-4e1d6e970f11",
        "colab": {
          "base_uri": "https://localhost:8080/"
        }
      },
      "execution_count": null,
      "outputs": [
        {
          "output_type": "stream",
          "name": "stdout",
          "text": [
            "['ㅜㅜ', 'ㅜㅜ', 'ㅜㅜ', 'ㅜㅜ', 'ㅜㅜ', 'ㅜㅜ', 'ㅜㅜ', 'ㅜㅜ', 'ㅜㅜ', 'ㅜㅜ', 'ㅜㅜ', 'ㅜㅜ', 'ㅜㅜ', 'ㅜㅜ', 'ㅜㅜ', 'ㅜㅜ', 'ㅜㅜ', 'ㅜㅜ', 'ㅜㅜ', 'ㅜㅜ', 'ㅜㅜ', 'ㅜㅜ', 'ㅜㅜ', 'ㅜㅜ', 'ㅜㅜ', 'ㅜㅜ', 'ㅜㅜ', 'ㅜㅜ', 'ㅜㅜ', 'ㅜㅜ', 'ㅜㅜ', 'ㅜㅜ', 'ㅜㅜ', 'ㅜㅜ', 'ㅜㅜ', 'ㅜㅜ', 'ㅜㅜ', 'ㅜㅜ', 'ㅜㅜ', 'ㅜㅜ', 'ㅜㅜ', 'ㅜㅜ', 'ㅜㅜ', 'ㅜㅜ', 'ㅜㅜ', 'ㅜㅜ', 'ㅜㅜ', 'ㅜㅜ', 'ㅜㅜ', 'ㅜㅜ', 'ㅜㅜ', 'ㅜㅜ', 'ㅜㅜ', 'ㅜㅜ', 'ㅜㅜ', 'ㅜㅜ', 'ㅜㅜ', 'ㅜㅜ', 'ㅜㅜ', 'ㅜㅜ', 'ㅜㅜ', 'ㅜㅜ', 'ㅜㅜ', 'ㅜㅜ', 'ㅜㅜ', 'ㅜㅜ', 'ㅜㅜ', 'ㅜㅜ', 'ㅜㅜ', 'ㅜㅜ', 'ㅜㅜ', 'ㅜㅜ', 'ㅜㅜ', 'ㅜㅜ', 'ㅜㅜ', 'ㅜㅜ', 'ㅜㅜ', 'ㅜㅜ', 'ㅜㅜ', 'ㅜㅜ', 'ㅜㅜ', 'ㅜㅜ', 'ㅜㅜ', 'ㅜㅜ', 'ㅜㅜ', 'ㅜㅜ', 'ㅜㅜ', 'ㅜㅜ', 'ㅜㅜ', 'ㅜㅜ', 'ㅜㅜ', 'ㅜㅜ', 'ㅜㅜ', 'ㅜㅜ', 'ㅜㅜ', 'ㅜㅜ', 'ㅜㅜ', 'ㅜㅜ', 'ㅜㅜ', 'ㅜㅜ']\n",
            "100\n"
          ]
        }
      ]
    },
    {
      "cell_type": "markdown",
      "source": [
        "### 1.3. 리스트의 수정과 삭제"
      ],
      "metadata": {
        "id": "NeHQ0wD7RFVE"
      }
    },
    {
      "cell_type": "code",
      "source": [
        " a = [1,2,3]\n",
        " print(a)"
      ],
      "metadata": {
        "id": "Za2w5tU9RJeo",
        "outputId": "e9537b42-b632-4048-ceac-41965756d72c",
        "colab": {
          "base_uri": "https://localhost:8080/"
        }
      },
      "execution_count": null,
      "outputs": [
        {
          "output_type": "stream",
          "name": "stdout",
          "text": [
            "[1, 2, 3]\n"
          ]
        }
      ]
    },
    {
      "cell_type": "code",
      "source": [
        "print(a[1])\n",
        "a[1] = 4 # 원하는 요소만 불러와서 변경 가능\n",
        "print(a)"
      ],
      "metadata": {
        "id": "f83ee9UZRXIT",
        "outputId": "4ac55828-3c72-47df-cbd7-5a87668f2624",
        "colab": {
          "base_uri": "https://localhost:8080/"
        }
      },
      "execution_count": null,
      "outputs": [
        {
          "output_type": "stream",
          "name": "stdout",
          "text": [
            "4\n",
            "[1, 4, 3]\n"
          ]
        }
      ]
    },
    {
      "cell_type": "code",
      "source": [
        "a = [1,4,3]\n",
        "print(a)"
      ],
      "metadata": {
        "id": "Lg5bYGT3RRho",
        "outputId": "38c57144-cfa6-43fa-d279-f887161d2ddc",
        "colab": {
          "base_uri": "https://localhost:8080/"
        }
      },
      "execution_count": null,
      "outputs": [
        {
          "output_type": "stream",
          "name": "stdout",
          "text": [
            "[1, 4, 3]\n"
          ]
        }
      ]
    },
    {
      "cell_type": "code",
      "source": [
        "a = ['ㅜㅜ'] * 100\n",
        "a[55] = '^^'\n",
        "print(a)"
      ],
      "metadata": {
        "id": "H-i3rPbURn-E",
        "outputId": "4242e2a0-8398-48b4-d70a-95f2a92ad6be",
        "colab": {
          "base_uri": "https://localhost:8080/"
        }
      },
      "execution_count": null,
      "outputs": [
        {
          "output_type": "stream",
          "name": "stdout",
          "text": [
            "['ㅜㅜ', 'ㅜㅜ', 'ㅜㅜ', 'ㅜㅜ', 'ㅜㅜ', 'ㅜㅜ', 'ㅜㅜ', 'ㅜㅜ', 'ㅜㅜ', 'ㅜㅜ', 'ㅜㅜ', 'ㅜㅜ', 'ㅜㅜ', 'ㅜㅜ', 'ㅜㅜ', 'ㅜㅜ', 'ㅜㅜ', 'ㅜㅜ', 'ㅜㅜ', 'ㅜㅜ', 'ㅜㅜ', 'ㅜㅜ', 'ㅜㅜ', 'ㅜㅜ', 'ㅜㅜ', 'ㅜㅜ', 'ㅜㅜ', 'ㅜㅜ', 'ㅜㅜ', 'ㅜㅜ', 'ㅜㅜ', 'ㅜㅜ', 'ㅜㅜ', 'ㅜㅜ', 'ㅜㅜ', 'ㅜㅜ', 'ㅜㅜ', 'ㅜㅜ', 'ㅜㅜ', 'ㅜㅜ', 'ㅜㅜ', 'ㅜㅜ', 'ㅜㅜ', 'ㅜㅜ', 'ㅜㅜ', 'ㅜㅜ', 'ㅜㅜ', 'ㅜㅜ', 'ㅜㅜ', 'ㅜㅜ', 'ㅜㅜ', 'ㅜㅜ', 'ㅜㅜ', 'ㅜㅜ', 'ㅜㅜ', '^^', 'ㅜㅜ', 'ㅜㅜ', 'ㅜㅜ', 'ㅜㅜ', 'ㅜㅜ', 'ㅜㅜ', 'ㅜㅜ', 'ㅜㅜ', 'ㅜㅜ', 'ㅜㅜ', 'ㅜㅜ', 'ㅜㅜ', 'ㅜㅜ', 'ㅜㅜ', 'ㅜㅜ', 'ㅜㅜ', 'ㅜㅜ', 'ㅜㅜ', 'ㅜㅜ', 'ㅜㅜ', 'ㅜㅜ', 'ㅜㅜ', 'ㅜㅜ', 'ㅜㅜ', 'ㅜㅜ', 'ㅜㅜ', 'ㅜㅜ', 'ㅜㅜ', 'ㅜㅜ', 'ㅜㅜ', 'ㅜㅜ', 'ㅜㅜ', 'ㅜㅜ', 'ㅜㅜ', 'ㅜㅜ', 'ㅜㅜ', 'ㅜㅜ', 'ㅜㅜ', 'ㅜㅜ', 'ㅜㅜ', 'ㅜㅜ', 'ㅜㅜ', 'ㅜㅜ', 'ㅜㅜ']\n"
          ]
        }
      ]
    },
    {
      "cell_type": "code",
      "source": [
        "a = [1,2,3,4,5]\n",
        "del a[3]\n",
        "print(a)"
      ],
      "metadata": {
        "id": "mk-BLcDbR0Lr",
        "outputId": "7fb93fe6-3f2c-402b-86ff-22a9d3f7ca16",
        "colab": {
          "base_uri": "https://localhost:8080/"
        }
      },
      "execution_count": null,
      "outputs": [
        {
          "output_type": "stream",
          "name": "stdout",
          "text": [
            "[1, 2, 3, 5]\n"
          ]
        }
      ]
    },
    {
      "cell_type": "markdown",
      "source": [
        "### 1.4. 리스트 관련 함수들\n",
        "* 리스트에 요소 추가(append)\n",
        "* 리스트 정렬(sort)\n",
        "* 리스트 뒤집기(reverse)\n",
        "* 인덱스 반환(index)\n",
        "* 리스트에 요소 삽입(insert)\n",
        "* 리스트 요소 제거(remove)\n",
        "* 리스트 요소 끄집어내기(pop)\n",
        "* 리스트에 포함된 요소 x의 개수 세기(count)\n",
        "* 리스트 확장(extend)"
      ],
      "metadata": {
        "id": "3bT_5hdeSGez"
      }
    },
    {
      "cell_type": "code",
      "source": [
        "# 리스트 추가하기\n",
        "a = [1,2,3]\n",
        "print(a)\n",
        "a.append(4)\n",
        "print(a)\n",
        "a.append(5)\n",
        "print(a)\n",
        "a.append([6,7,8,9]) # 리스트를 추가하면 요소로 리스트가 추가된다!\n",
        "print(a)"
      ],
      "metadata": {
        "id": "QRclIdfwSGLj",
        "outputId": "1a72d805-208f-43ce-da78-d17841221a3a",
        "colab": {
          "base_uri": "https://localhost:8080/"
        }
      },
      "execution_count": null,
      "outputs": [
        {
          "output_type": "stream",
          "name": "stdout",
          "text": [
            "[1, 2, 3]\n",
            "[1, 2, 3, 4]\n",
            "[1, 2, 3, 4, 5]\n",
            "[1, 2, 3, 4, 5, [6, 7, 8, 9]]\n"
          ]
        }
      ]
    },
    {
      "cell_type": "code",
      "source": [
        "a = [5,7,1,4]\n",
        "print(a)\n",
        "a.sort() # 정렬 선언\n",
        "print(a)"
      ],
      "metadata": {
        "id": "S_vl3gkHS0Cy",
        "outputId": "32fa2cdd-e1f4-475c-ae55-ef4520ce412a",
        "colab": {
          "base_uri": "https://localhost:8080/"
        }
      },
      "execution_count": null,
      "outputs": [
        {
          "output_type": "stream",
          "name": "stdout",
          "text": [
            "[5, 7, 1, 4]\n",
            "[1, 4, 5, 7]\n"
          ]
        }
      ]
    },
    {
      "cell_type": "code",
      "source": [
        "a = [5,7,1,4]\n",
        "print(a)\n",
        "a.reverse()\n",
        "print(a)"
      ],
      "metadata": {
        "id": "yvCgVMefTXn6",
        "outputId": "be38e6c9-ff43-4dd1-c053-954db86def88",
        "colab": {
          "base_uri": "https://localhost:8080/"
        }
      },
      "execution_count": null,
      "outputs": [
        {
          "output_type": "stream",
          "name": "stdout",
          "text": [
            "[5, 7, 1, 4]\n",
            "[4, 1, 7, 5]\n"
          ]
        }
      ]
    },
    {
      "cell_type": "code",
      "source": [
        "a = [5,7,1,4]\n",
        "print(a)\n",
        "a.sort() # 정렬 후\n",
        "a.reverse() # 뒤집기\n",
        "print(a)"
      ],
      "metadata": {
        "id": "tuUVKxlBTgc7",
        "outputId": "407e632e-c756-4faa-b9f4-855389bd1d2f",
        "colab": {
          "base_uri": "https://localhost:8080/"
        }
      },
      "execution_count": null,
      "outputs": [
        {
          "output_type": "stream",
          "name": "stdout",
          "text": [
            "[5, 7, 1, 4]\n",
            "[7, 5, 4, 1]\n"
          ]
        }
      ]
    },
    {
      "cell_type": "code",
      "source": [
        "a = [5,7,1,4]\n",
        "print(a)\n",
        "b = sorted(a) # 정렬된 새로운 리스트 선언\n",
        "print(b)"
      ],
      "metadata": {
        "id": "64fJu5tRTIzb",
        "outputId": "1287ba99-f4a7-4373-9576-14fda34bc236",
        "colab": {
          "base_uri": "https://localhost:8080/"
        }
      },
      "execution_count": null,
      "outputs": [
        {
          "output_type": "stream",
          "name": "stdout",
          "text": [
            "[5, 7, 1, 4]\n",
            "[1, 4, 5, 7]\n"
          ]
        }
      ]
    },
    {
      "cell_type": "code",
      "source": [
        "a = [5,7,1,4]\n",
        "print(a)\n",
        "b = sorted(a, reverse=True) # 역정렬된 새로운 리스트 선언\n",
        "print(b)"
      ],
      "metadata": {
        "id": "g24gJUs8Trfc",
        "outputId": "e52f43a4-50d3-4fc2-c182-9fe1bf74cca6",
        "colab": {
          "base_uri": "https://localhost:8080/"
        }
      },
      "execution_count": null,
      "outputs": [
        {
          "output_type": "stream",
          "name": "stdout",
          "text": [
            "[5, 7, 1, 4]\n",
            "[7, 5, 4, 1]\n"
          ]
        }
      ]
    },
    {
      "cell_type": "code",
      "source": [
        "a = [1,4,5,7]\n",
        "print(a.index(5))"
      ],
      "metadata": {
        "id": "LOBPSuuMSlnb",
        "outputId": "af7af333-520d-41a1-990a-c009750bb8e9",
        "colab": {
          "base_uri": "https://localhost:8080/"
        }
      },
      "execution_count": null,
      "outputs": [
        {
          "output_type": "stream",
          "name": "stdout",
          "text": [
            "2\n"
          ]
        }
      ]
    },
    {
      "cell_type": "code",
      "source": [
        "a = ['ㅜㅜ'] * 100\n",
        "a[55] = '^^'\n",
        "print(a)\n",
        "print(a.index('^^'))\n",
        "print(a.index('ㅜㅜ'))"
      ],
      "metadata": {
        "id": "JeqHrukCT_Vr",
        "outputId": "1aec74b9-799c-4ed9-f31e-3f4cb309be84",
        "colab": {
          "base_uri": "https://localhost:8080/"
        }
      },
      "execution_count": null,
      "outputs": [
        {
          "output_type": "stream",
          "name": "stdout",
          "text": [
            "['ㅜㅜ', 'ㅜㅜ', 'ㅜㅜ', 'ㅜㅜ', 'ㅜㅜ', 'ㅜㅜ', 'ㅜㅜ', 'ㅜㅜ', 'ㅜㅜ', 'ㅜㅜ', 'ㅜㅜ', 'ㅜㅜ', 'ㅜㅜ', 'ㅜㅜ', 'ㅜㅜ', 'ㅜㅜ', 'ㅜㅜ', 'ㅜㅜ', 'ㅜㅜ', 'ㅜㅜ', 'ㅜㅜ', 'ㅜㅜ', 'ㅜㅜ', 'ㅜㅜ', 'ㅜㅜ', 'ㅜㅜ', 'ㅜㅜ', 'ㅜㅜ', 'ㅜㅜ', 'ㅜㅜ', 'ㅜㅜ', 'ㅜㅜ', 'ㅜㅜ', 'ㅜㅜ', 'ㅜㅜ', 'ㅜㅜ', 'ㅜㅜ', 'ㅜㅜ', 'ㅜㅜ', 'ㅜㅜ', 'ㅜㅜ', 'ㅜㅜ', 'ㅜㅜ', 'ㅜㅜ', 'ㅜㅜ', 'ㅜㅜ', 'ㅜㅜ', 'ㅜㅜ', 'ㅜㅜ', 'ㅜㅜ', 'ㅜㅜ', 'ㅜㅜ', 'ㅜㅜ', 'ㅜㅜ', 'ㅜㅜ', '^^', 'ㅜㅜ', 'ㅜㅜ', 'ㅜㅜ', 'ㅜㅜ', 'ㅜㅜ', 'ㅜㅜ', 'ㅜㅜ', 'ㅜㅜ', 'ㅜㅜ', 'ㅜㅜ', 'ㅜㅜ', 'ㅜㅜ', 'ㅜㅜ', 'ㅜㅜ', 'ㅜㅜ', 'ㅜㅜ', 'ㅜㅜ', 'ㅜㅜ', 'ㅜㅜ', 'ㅜㅜ', 'ㅜㅜ', 'ㅜㅜ', 'ㅜㅜ', 'ㅜㅜ', 'ㅜㅜ', 'ㅜㅜ', 'ㅜㅜ', 'ㅜㅜ', 'ㅜㅜ', 'ㅜㅜ', 'ㅜㅜ', 'ㅜㅜ', 'ㅜㅜ', 'ㅜㅜ', 'ㅜㅜ', 'ㅜㅜ', 'ㅜㅜ', 'ㅜㅜ', 'ㅜㅜ', 'ㅜㅜ', 'ㅜㅜ', 'ㅜㅜ', 'ㅜㅜ', 'ㅜㅜ']\n",
            "55\n",
            "0\n"
          ]
        }
      ]
    },
    {
      "cell_type": "code",
      "source": [
        "print(a.index('ㅠㅠ'))"
      ],
      "metadata": {
        "id": "CjjQlrqkUMc7",
        "outputId": "ad9c1711-d911-41a9-d6d6-7a24cb93ec47",
        "colab": {
          "base_uri": "https://localhost:8080/",
          "height": 171
        }
      },
      "execution_count": null,
      "outputs": [
        {
          "output_type": "error",
          "ename": "ValueError",
          "evalue": "ignored",
          "traceback": [
            "\u001b[0;31m---------------------------------------------------------------------------\u001b[0m",
            "\u001b[0;31mValueError\u001b[0m                                Traceback (most recent call last)",
            "\u001b[0;32m<ipython-input-68-4dcc4206d575>\u001b[0m in \u001b[0;36m<cell line: 1>\u001b[0;34m()\u001b[0m\n\u001b[0;32m----> 1\u001b[0;31m \u001b[0mprint\u001b[0m\u001b[0;34m(\u001b[0m\u001b[0ma\u001b[0m\u001b[0;34m.\u001b[0m\u001b[0mindex\u001b[0m\u001b[0;34m(\u001b[0m\u001b[0;34m'ㅠㅠ'\u001b[0m\u001b[0;34m)\u001b[0m\u001b[0;34m)\u001b[0m\u001b[0;34m\u001b[0m\u001b[0;34m\u001b[0m\u001b[0m\n\u001b[0m",
            "\u001b[0;31mValueError\u001b[0m: 'ㅠㅠ' is not in list"
          ]
        }
      ]
    },
    {
      "cell_type": "code",
      "source": [
        "a = [1, 4, 5, 7]\n",
        "a.remove(4) # 삭제하고 싶은 실제 요소의 값을 적어줘야함\n",
        "print(a)"
      ],
      "metadata": {
        "id": "bahvrEzVUdHb",
        "outputId": "55ef319b-3469-4b9d-f8aa-d0991c87fd6e",
        "colab": {
          "base_uri": "https://localhost:8080/"
        }
      },
      "execution_count": null,
      "outputs": [
        {
          "output_type": "stream",
          "name": "stdout",
          "text": [
            "[1, 5, 7]\n"
          ]
        }
      ]
    },
    {
      "cell_type": "code",
      "source": [
        "a = [1, 4, 5, 7]\n",
        "a.pop() # pop은 그냥 적으면 무조건 마지막 요소를 날림\n",
        "print(a)"
      ],
      "metadata": {
        "id": "7RHTqHyuUmfj",
        "outputId": "863ffa6f-c109-4a68-9046-0a90d4c92bb8",
        "colab": {
          "base_uri": "https://localhost:8080/"
        }
      },
      "execution_count": null,
      "outputs": [
        {
          "output_type": "stream",
          "name": "stdout",
          "text": [
            "[1, 4, 5]\n"
          ]
        }
      ]
    },
    {
      "cell_type": "code",
      "source": [
        "a = [1, 4, 5, 7]\n",
        "a.pop(3) # 삭제하고 싶은 인덱스 값\n",
        "print(a)"
      ],
      "metadata": {
        "id": "jQKwu36BUuGT",
        "outputId": "d39398ad-c7c5-4058-c5a6-3b43d4cda812",
        "colab": {
          "base_uri": "https://localhost:8080/"
        }
      },
      "execution_count": null,
      "outputs": [
        {
          "output_type": "stream",
          "name": "stdout",
          "text": [
            "[1, 4, 5]\n"
          ]
        }
      ]
    },
    {
      "cell_type": "code",
      "source": [
        "a = ['ㅜㅜ'] * 100\n",
        "a[55] = '^^'\n",
        "print(a)\n",
        "a.remove('^^')\n",
        "print(a)"
      ],
      "metadata": {
        "id": "gNRAxl2JU4SS",
        "outputId": "b384c867-d9a4-4b3b-8dd7-5e23407852db",
        "colab": {
          "base_uri": "https://localhost:8080/"
        }
      },
      "execution_count": null,
      "outputs": [
        {
          "output_type": "stream",
          "name": "stdout",
          "text": [
            "['ㅜㅜ', 'ㅜㅜ', 'ㅜㅜ', 'ㅜㅜ', 'ㅜㅜ', 'ㅜㅜ', 'ㅜㅜ', 'ㅜㅜ', 'ㅜㅜ', 'ㅜㅜ', 'ㅜㅜ', 'ㅜㅜ', 'ㅜㅜ', 'ㅜㅜ', 'ㅜㅜ', 'ㅜㅜ', 'ㅜㅜ', 'ㅜㅜ', 'ㅜㅜ', 'ㅜㅜ', 'ㅜㅜ', 'ㅜㅜ', 'ㅜㅜ', 'ㅜㅜ', 'ㅜㅜ', 'ㅜㅜ', 'ㅜㅜ', 'ㅜㅜ', 'ㅜㅜ', 'ㅜㅜ', 'ㅜㅜ', 'ㅜㅜ', 'ㅜㅜ', 'ㅜㅜ', 'ㅜㅜ', 'ㅜㅜ', 'ㅜㅜ', 'ㅜㅜ', 'ㅜㅜ', 'ㅜㅜ', 'ㅜㅜ', 'ㅜㅜ', 'ㅜㅜ', 'ㅜㅜ', 'ㅜㅜ', 'ㅜㅜ', 'ㅜㅜ', 'ㅜㅜ', 'ㅜㅜ', 'ㅜㅜ', 'ㅜㅜ', 'ㅜㅜ', 'ㅜㅜ', 'ㅜㅜ', 'ㅜㅜ', '^^', 'ㅜㅜ', 'ㅜㅜ', 'ㅜㅜ', 'ㅜㅜ', 'ㅜㅜ', 'ㅜㅜ', 'ㅜㅜ', 'ㅜㅜ', 'ㅜㅜ', 'ㅜㅜ', 'ㅜㅜ', 'ㅜㅜ', 'ㅜㅜ', 'ㅜㅜ', 'ㅜㅜ', 'ㅜㅜ', 'ㅜㅜ', 'ㅜㅜ', 'ㅜㅜ', 'ㅜㅜ', 'ㅜㅜ', 'ㅜㅜ', 'ㅜㅜ', 'ㅜㅜ', 'ㅜㅜ', 'ㅜㅜ', 'ㅜㅜ', 'ㅜㅜ', 'ㅜㅜ', 'ㅜㅜ', 'ㅜㅜ', 'ㅜㅜ', 'ㅜㅜ', 'ㅜㅜ', 'ㅜㅜ', 'ㅜㅜ', 'ㅜㅜ', 'ㅜㅜ', 'ㅜㅜ', 'ㅜㅜ', 'ㅜㅜ', 'ㅜㅜ', 'ㅜㅜ', 'ㅜㅜ']\n",
            "['ㅜㅜ', 'ㅜㅜ', 'ㅜㅜ', 'ㅜㅜ', 'ㅜㅜ', 'ㅜㅜ', 'ㅜㅜ', 'ㅜㅜ', 'ㅜㅜ', 'ㅜㅜ', 'ㅜㅜ', 'ㅜㅜ', 'ㅜㅜ', 'ㅜㅜ', 'ㅜㅜ', 'ㅜㅜ', 'ㅜㅜ', 'ㅜㅜ', 'ㅜㅜ', 'ㅜㅜ', 'ㅜㅜ', 'ㅜㅜ', 'ㅜㅜ', 'ㅜㅜ', 'ㅜㅜ', 'ㅜㅜ', 'ㅜㅜ', 'ㅜㅜ', 'ㅜㅜ', 'ㅜㅜ', 'ㅜㅜ', 'ㅜㅜ', 'ㅜㅜ', 'ㅜㅜ', 'ㅜㅜ', 'ㅜㅜ', 'ㅜㅜ', 'ㅜㅜ', 'ㅜㅜ', 'ㅜㅜ', 'ㅜㅜ', 'ㅜㅜ', 'ㅜㅜ', 'ㅜㅜ', 'ㅜㅜ', 'ㅜㅜ', 'ㅜㅜ', 'ㅜㅜ', 'ㅜㅜ', 'ㅜㅜ', 'ㅜㅜ', 'ㅜㅜ', 'ㅜㅜ', 'ㅜㅜ', 'ㅜㅜ', 'ㅜㅜ', 'ㅜㅜ', 'ㅜㅜ', 'ㅜㅜ', 'ㅜㅜ', 'ㅜㅜ', 'ㅜㅜ', 'ㅜㅜ', 'ㅜㅜ', 'ㅜㅜ', 'ㅜㅜ', 'ㅜㅜ', 'ㅜㅜ', 'ㅜㅜ', 'ㅜㅜ', 'ㅜㅜ', 'ㅜㅜ', 'ㅜㅜ', 'ㅜㅜ', 'ㅜㅜ', 'ㅜㅜ', 'ㅜㅜ', 'ㅜㅜ', 'ㅜㅜ', 'ㅜㅜ', 'ㅜㅜ', 'ㅜㅜ', 'ㅜㅜ', 'ㅜㅜ', 'ㅜㅜ', 'ㅜㅜ', 'ㅜㅜ', 'ㅜㅜ', 'ㅜㅜ', 'ㅜㅜ', 'ㅜㅜ', 'ㅜㅜ', 'ㅜㅜ', 'ㅜㅜ', 'ㅜㅜ', 'ㅜㅜ', 'ㅜㅜ', 'ㅜㅜ', 'ㅜㅜ']\n"
          ]
        }
      ]
    },
    {
      "cell_type": "code",
      "source": [
        "print(a.count('ㅜㅜ')) # 원하는 요소의 숫자를 세어줌"
      ],
      "metadata": {
        "id": "jmdce9U2VGS7",
        "outputId": "f1379de6-1595-4812-e7b0-2b28ce54e886",
        "colab": {
          "base_uri": "https://localhost:8080/"
        }
      },
      "execution_count": null,
      "outputs": [
        {
          "output_type": "stream",
          "name": "stdout",
          "text": [
            "99\n"
          ]
        }
      ]
    },
    {
      "cell_type": "code",
      "source": [
        "a = [1,2,3]\n",
        "a.extend([4,5,6]) # 리스트 더하기와 동일함\n",
        "print(a)"
      ],
      "metadata": {
        "id": "kPuztplzVSBy",
        "outputId": "c418e22c-128f-44f4-87b9-3b1d937cc5ae",
        "colab": {
          "base_uri": "https://localhost:8080/"
        }
      },
      "execution_count": null,
      "outputs": [
        {
          "output_type": "stream",
          "name": "stdout",
          "text": [
            "[1, 2, 3, 4, 5, 6]\n"
          ]
        }
      ]
    },
    {
      "cell_type": "markdown",
      "source": [
        "### Quiz. \n",
        "\n",
        "a = [1,2,3,9,4,5,6] 일때, 요소값 9를 삭제하고, 역순으로 정렬하여 출력하시오.\n",
        "\n",
        "모범답안: [6,5,4,3,2,1]"
      ],
      "metadata": {
        "id": "bpZp0jQlVdSg"
      }
    },
    {
      "cell_type": "code",
      "source": [
        "a = [1,2,3,9,4,5,6]\n",
        "\n",
        "a.remove(9)\n",
        "a.sort()\n",
        "a.reverse()\n",
        "print(a)"
      ],
      "metadata": {
        "id": "XXURxsurQ5QN",
        "outputId": "e762b6af-3d67-49bd-894b-fda22cbdeebe",
        "colab": {
          "base_uri": "https://localhost:8080/"
        }
      },
      "execution_count": 12,
      "outputs": [
        {
          "output_type": "stream",
          "name": "stdout",
          "text": [
            "[6, 5, 4, 3, 2, 1]\n"
          ]
        }
      ]
    },
    {
      "cell_type": "code",
      "source": [
        "a = [1,2,3,9,4,5,6]\n",
        "\n",
        "del a[3]\n",
        "print(sorted(a, reverse=True))"
      ],
      "metadata": {
        "id": "tiJCY67BRjLj",
        "outputId": "07f49d60-2a65-4a12-9910-280df167f462",
        "colab": {
          "base_uri": "https://localhost:8080/"
        }
      },
      "execution_count": 13,
      "outputs": [
        {
          "output_type": "stream",
          "name": "stdout",
          "text": [
            "[6, 5, 4, 3, 2, 1]\n"
          ]
        }
      ]
    },
    {
      "cell_type": "markdown",
      "source": [
        "## 2. 튜플"
      ],
      "metadata": {
        "id": "Vy3NhxAsKiGV"
      }
    },
    {
      "cell_type": "markdown",
      "source": [
        "### 2.1. 튜플 만들기"
      ],
      "metadata": {
        "id": "vxrN9wedOW1b"
      }
    },
    {
      "cell_type": "code",
      "source": [
        "a = ()\n",
        "b = (1)\n",
        "c = (1,2,3)\n",
        "d = (1, 2, 'a', 'b')\n",
        "e = (1,2,(3,4,5))\n",
        "print(a,b,c,d,e)"
      ],
      "metadata": {
        "id": "WbcTLvIbOxfz",
        "outputId": "fe143935-a17e-4f79-f10f-d9fbbcddad82",
        "colab": {
          "base_uri": "https://localhost:8080/"
        }
      },
      "execution_count": 1,
      "outputs": [
        {
          "output_type": "stream",
          "name": "stdout",
          "text": [
            "() 1 (1, 2, 3) (1, 2, 'a', 'b') (1, 2, (3, 4, 5))\n"
          ]
        }
      ]
    },
    {
      "cell_type": "code",
      "source": [
        "# 튜플은 수정 및 삭제 등 요소값 변경이 불가능하다.\n",
        "a = (1, 2, 5, 3)\n",
        "print(a[2])\n",
        "del a[2]"
      ],
      "metadata": {
        "id": "5bjEUtGOPCw7",
        "outputId": "bed997c2-e81c-4062-d454-085ee808a446",
        "colab": {
          "base_uri": "https://localhost:8080/",
          "height": 224
        }
      },
      "execution_count": 3,
      "outputs": [
        {
          "output_type": "stream",
          "name": "stdout",
          "text": [
            "5\n"
          ]
        },
        {
          "output_type": "error",
          "ename": "TypeError",
          "evalue": "ignored",
          "traceback": [
            "\u001b[0;31m---------------------------------------------------------------------------\u001b[0m",
            "\u001b[0;31mTypeError\u001b[0m                                 Traceback (most recent call last)",
            "\u001b[0;32m<ipython-input-3-b7cd813fe418>\u001b[0m in \u001b[0;36m<cell line: 4>\u001b[0;34m()\u001b[0m\n\u001b[1;32m      2\u001b[0m \u001b[0ma\u001b[0m \u001b[0;34m=\u001b[0m \u001b[0;34m(\u001b[0m\u001b[0;36m1\u001b[0m\u001b[0;34m,\u001b[0m \u001b[0;36m2\u001b[0m\u001b[0;34m,\u001b[0m \u001b[0;36m5\u001b[0m\u001b[0;34m,\u001b[0m \u001b[0;36m3\u001b[0m\u001b[0;34m)\u001b[0m\u001b[0;34m\u001b[0m\u001b[0;34m\u001b[0m\u001b[0m\n\u001b[1;32m      3\u001b[0m \u001b[0mprint\u001b[0m\u001b[0;34m(\u001b[0m\u001b[0ma\u001b[0m\u001b[0;34m[\u001b[0m\u001b[0;36m2\u001b[0m\u001b[0;34m]\u001b[0m\u001b[0;34m)\u001b[0m\u001b[0;34m\u001b[0m\u001b[0;34m\u001b[0m\u001b[0m\n\u001b[0;32m----> 4\u001b[0;31m \u001b[0;32mdel\u001b[0m \u001b[0ma\u001b[0m\u001b[0;34m[\u001b[0m\u001b[0;36m2\u001b[0m\u001b[0;34m]\u001b[0m\u001b[0;34m\u001b[0m\u001b[0;34m\u001b[0m\u001b[0m\n\u001b[0m",
            "\u001b[0;31mTypeError\u001b[0m: 'tuple' object doesn't support item deletion"
          ]
        }
      ]
    },
    {
      "cell_type": "code",
      "source": [
        "a[2] = 4"
      ],
      "metadata": {
        "id": "b4-zqjjHPWNK",
        "outputId": "2c74ac9f-c3f2-4177-bfad-2cdd7d137071",
        "colab": {
          "base_uri": "https://localhost:8080/",
          "height": 171
        }
      },
      "execution_count": 4,
      "outputs": [
        {
          "output_type": "error",
          "ename": "TypeError",
          "evalue": "ignored",
          "traceback": [
            "\u001b[0;31m---------------------------------------------------------------------------\u001b[0m",
            "\u001b[0;31mTypeError\u001b[0m                                 Traceback (most recent call last)",
            "\u001b[0;32m<ipython-input-4-fdddcd2211ce>\u001b[0m in \u001b[0;36m<cell line: 1>\u001b[0;34m()\u001b[0m\n\u001b[0;32m----> 1\u001b[0;31m \u001b[0ma\u001b[0m\u001b[0;34m[\u001b[0m\u001b[0;36m2\u001b[0m\u001b[0;34m]\u001b[0m \u001b[0;34m=\u001b[0m \u001b[0;36m4\u001b[0m\u001b[0;34m\u001b[0m\u001b[0;34m\u001b[0m\u001b[0m\n\u001b[0m",
            "\u001b[0;31mTypeError\u001b[0m: 'tuple' object does not support item assignment"
          ]
        }
      ]
    },
    {
      "cell_type": "markdown",
      "source": [
        "### 2.2. 튜플 다루기"
      ],
      "metadata": {
        "id": "CFPZwjacPe0a"
      }
    },
    {
      "cell_type": "code",
      "source": [
        "t = (1,2,3,4,5)"
      ],
      "metadata": {
        "id": "lu4mXyugPqMB"
      },
      "execution_count": 5,
      "outputs": []
    },
    {
      "cell_type": "code",
      "source": [
        "# 튜플 인덱싱\n",
        "print(t[0], t[2])"
      ],
      "metadata": {
        "id": "4CC1aCx5P0YB",
        "outputId": "ea842a2f-918a-4bfd-b8b0-1db98f8a7709",
        "colab": {
          "base_uri": "https://localhost:8080/"
        }
      },
      "execution_count": 6,
      "outputs": [
        {
          "output_type": "stream",
          "name": "stdout",
          "text": [
            "1 3\n"
          ]
        }
      ]
    },
    {
      "cell_type": "code",
      "source": [
        "# 튜플 슬라이싱\n",
        "print(t[1:4])"
      ],
      "metadata": {
        "id": "rvT6frtBP6vr",
        "outputId": "ac13bee6-8188-4b2e-ce51-8a63bddd91e2",
        "colab": {
          "base_uri": "https://localhost:8080/"
        }
      },
      "execution_count": 7,
      "outputs": [
        {
          "output_type": "stream",
          "name": "stdout",
          "text": [
            "(2, 3, 4)\n"
          ]
        }
      ]
    },
    {
      "cell_type": "code",
      "source": [
        "# 튜플 더하기\n",
        "a = (1,2)\n",
        "b = (3,4)\n",
        "print(a+b)"
      ],
      "metadata": {
        "id": "yuq_wRQvQDgK",
        "outputId": "6928b38a-5a93-4a33-e094-ea98aba0ce4b",
        "colab": {
          "base_uri": "https://localhost:8080/"
        }
      },
      "execution_count": 8,
      "outputs": [
        {
          "output_type": "stream",
          "name": "stdout",
          "text": [
            "(1, 2, 3, 4)\n"
          ]
        }
      ]
    },
    {
      "cell_type": "code",
      "source": [
        "# 튜플 곱하기\n",
        "a = (1,2,3) * 10\n",
        "print(a)"
      ],
      "metadata": {
        "id": "D9iwlqjvQJ-K",
        "outputId": "a405c5cf-a6b3-42e7-b7a4-09426a1bf6cd",
        "colab": {
          "base_uri": "https://localhost:8080/"
        }
      },
      "execution_count": 9,
      "outputs": [
        {
          "output_type": "stream",
          "name": "stdout",
          "text": [
            "(1, 2, 3, 1, 2, 3, 1, 2, 3, 1, 2, 3, 1, 2, 3, 1, 2, 3, 1, 2, 3, 1, 2, 3, 1, 2, 3, 1, 2, 3)\n"
          ]
        }
      ]
    },
    {
      "cell_type": "code",
      "source": [
        "print(len(t))\n",
        "print(len(a))"
      ],
      "metadata": {
        "id": "DiX3_t9KQSBa",
        "outputId": "bf12b3e1-b9b3-47e4-ca92-2340514492c4",
        "colab": {
          "base_uri": "https://localhost:8080/"
        }
      },
      "execution_count": 11,
      "outputs": [
        {
          "output_type": "stream",
          "name": "stdout",
          "text": [
            "5\n",
            "30\n"
          ]
        }
      ]
    },
    {
      "cell_type": "markdown",
      "source": [
        "## 3. 딕셔너리"
      ],
      "metadata": {
        "id": "OxvcvhHsKj0l"
      }
    },
    {
      "cell_type": "markdown",
      "source": [
        "### 3.1. 딕셔너리의 정의"
      ],
      "metadata": {
        "id": "FqdcBvu1Ujl6"
      }
    },
    {
      "cell_type": "code",
      "source": [
        "a = {'name' : '정종훈', 'number': 2022048, 'birth' : 19910612}\n",
        "print(a['birth'])\n",
        "print(a['name'])\n",
        "b = {0: 'a', 1: 'b', 2: 'c'}\n",
        "c = ['a', 'b', 'c']\n",
        "print(b[0])\n",
        "print(c[0])"
      ],
      "metadata": {
        "id": "uAZAZxpuKhhG",
        "outputId": "5f7e2fc4-43c6-481f-a1d4-20102896d122",
        "colab": {
          "base_uri": "https://localhost:8080/"
        }
      },
      "execution_count": 19,
      "outputs": [
        {
          "output_type": "stream",
          "name": "stdout",
          "text": [
            "19910612\n",
            "정종훈\n",
            "a\n",
            "a\n"
          ]
        }
      ]
    },
    {
      "cell_type": "code",
      "source": [
        "a = {'정종훈': [2022048, 19910612], '김철수': [2022049, 19900405]}\n",
        "print(a['정종훈']) \n",
        "print(a['김철수'])"
      ],
      "metadata": {
        "id": "2lMBfOD8VBFT",
        "outputId": "ee6c4da0-9981-4874-8146-9e0095a8a78d",
        "colab": {
          "base_uri": "https://localhost:8080/"
        }
      },
      "execution_count": 20,
      "outputs": [
        {
          "output_type": "stream",
          "name": "stdout",
          "text": [
            "[2022048, 19910612]\n",
            "[2022049, 19900405]\n"
          ]
        }
      ]
    },
    {
      "cell_type": "code",
      "source": [
        "a = {'정종훈': {'num': 2022048, 'birth': 19910612}, '김철수': {'num': 2022049, 'birth': 19900405}}\n",
        "print(a['정종훈']['num'])\n",
        "print(a['김철수']['birth'])"
      ],
      "metadata": {
        "id": "tC8SfYZsWs06",
        "outputId": "7f306727-5c41-490c-e43d-f54fedd162d4",
        "colab": {
          "base_uri": "https://localhost:8080/"
        }
      },
      "execution_count": 25,
      "outputs": [
        {
          "output_type": "stream",
          "name": "stdout",
          "text": [
            "2022048\n",
            "19900405\n"
          ]
        }
      ]
    },
    {
      "cell_type": "markdown",
      "source": [
        "### 3.2. 딕셔너리 값 추가 및 삭제"
      ],
      "metadata": {
        "id": "G8hB0R0dV2ky"
      }
    },
    {
      "cell_type": "code",
      "source": [
        "a = {'name' : '정종훈', 'number': 2022048, 'birth' : 19910612}\n",
        "a['sex'] = 'male'\n",
        "print(a)"
      ],
      "metadata": {
        "id": "Lhce4YkGVtk9",
        "outputId": "ee50e606-0d91-48f3-9d90-213e18e787d4",
        "colab": {
          "base_uri": "https://localhost:8080/"
        }
      },
      "execution_count": 22,
      "outputs": [
        {
          "output_type": "stream",
          "name": "stdout",
          "text": [
            "{'name': '정종훈', 'number': 2022048, 'birth': 19910612, 'sex': 'male'}\n"
          ]
        }
      ]
    },
    {
      "cell_type": "code",
      "source": [
        "del a['birth']\n",
        "print(a)"
      ],
      "metadata": {
        "id": "x6xwiy9mWGO7",
        "outputId": "4e75ba60-6787-4e67-9226-fd815fe3671a",
        "colab": {
          "base_uri": "https://localhost:8080/"
        }
      },
      "execution_count": 23,
      "outputs": [
        {
          "output_type": "stream",
          "name": "stdout",
          "text": [
            "{'name': '정종훈', 'number': 2022048, 'sex': 'male'}\n"
          ]
        }
      ]
    },
    {
      "cell_type": "markdown",
      "source": [
        "### 3.3. 딕셔너리 관련 함수들"
      ],
      "metadata": {
        "id": "MxX0Tca8XXDK"
      }
    },
    {
      "cell_type": "code",
      "source": [
        "a = {'name' : '정종훈', 'number': 2022048, 'birth' : 19910612}\n",
        "# key만 출력\n",
        "print(a.keys())\n",
        "print(list(a.keys()))"
      ],
      "metadata": {
        "id": "htyKa9A3WSpp",
        "outputId": "82160c08-f06d-4e93-86c6-6e8a9e7de6a8",
        "colab": {
          "base_uri": "https://localhost:8080/"
        }
      },
      "execution_count": 27,
      "outputs": [
        {
          "output_type": "stream",
          "name": "stdout",
          "text": [
            "dict_keys(['name', 'number', 'birth'])\n",
            "['name', 'number', 'birth']\n"
          ]
        }
      ]
    },
    {
      "cell_type": "code",
      "source": [
        "# value만 출력\n",
        "print(a.values())\n",
        "print(list(a.values()))"
      ],
      "metadata": {
        "id": "lMX4C8BpXenL",
        "outputId": "83cd0adf-2b55-4cdf-fd06-0e61f701d2ed",
        "colab": {
          "base_uri": "https://localhost:8080/"
        }
      },
      "execution_count": 29,
      "outputs": [
        {
          "output_type": "stream",
          "name": "stdout",
          "text": [
            "dict_values(['정종훈', 2022048, 19910612])\n",
            "['정종훈', 2022048, 19910612]\n"
          ]
        }
      ]
    },
    {
      "cell_type": "code",
      "source": [
        "# key와 value를 동시에 보고 싶을때\n",
        "print(a.items())\n",
        "print(a)"
      ],
      "metadata": {
        "id": "1yuKnHKEXmsq",
        "outputId": "c525b8df-0153-4994-f367-f24c5150bc8a",
        "colab": {
          "base_uri": "https://localhost:8080/"
        }
      },
      "execution_count": 31,
      "outputs": [
        {
          "output_type": "stream",
          "name": "stdout",
          "text": [
            "dict_items([('name', '정종훈'), ('number', 2022048), ('birth', 19910612)])\n",
            "{'name': '정종훈', 'number': 2022048, 'birth': 19910612}\n"
          ]
        }
      ]
    },
    {
      "cell_type": "code",
      "source": [
        "# 딕셔너리 지우기\n",
        "a.clear() \n",
        "print(a)"
      ],
      "metadata": {
        "id": "p4puFQiaXy3z",
        "outputId": "a610980b-8317-483a-b65b-7f145399d64d",
        "colab": {
          "base_uri": "https://localhost:8080/"
        }
      },
      "execution_count": 32,
      "outputs": [
        {
          "output_type": "stream",
          "name": "stdout",
          "text": [
            "{}\n"
          ]
        }
      ]
    },
    {
      "cell_type": "code",
      "source": [
        "# 딕셔너리 인덱싱\n",
        "a = {'name' : '정종훈', 'number': 2022048, 'birth' : 19910612}\n",
        "print(a['name'])\n",
        "print(a.get('name'))"
      ],
      "metadata": {
        "id": "FDFxHk6BX6iS",
        "outputId": "eedcd047-d471-40e0-b32c-1f8ed21cd574",
        "colab": {
          "base_uri": "https://localhost:8080/"
        }
      },
      "execution_count": 33,
      "outputs": [
        {
          "output_type": "stream",
          "name": "stdout",
          "text": [
            "정종훈\n",
            "정종훈\n"
          ]
        }
      ]
    },
    {
      "cell_type": "code",
      "source": [
        "# 딕셔너리 안에 key 존재 여부 확인\n",
        "print('name' in a)\n",
        "print('weight' in a)"
      ],
      "metadata": {
        "id": "0lyGWwmIYPzT",
        "outputId": "1332d01b-dd80-4bec-e15a-0de216b9cd3e",
        "colab": {
          "base_uri": "https://localhost:8080/"
        }
      },
      "execution_count": 37,
      "outputs": [
        {
          "output_type": "stream",
          "name": "stdout",
          "text": [
            "True\n",
            "False\n"
          ]
        }
      ]
    },
    {
      "cell_type": "markdown",
      "source": [
        "### Quiz. \n",
        "여러분의 이름과 학번을 딕셔너리로 만들고, 아래의 코드를 수정하여 출력하시오.\n",
        "\n",
        "(* 힌트: 문자열 포매팅 참고)\n",
        "\n",
        "모범답안. 저는 보건의료행정과 2023111222 정종훈입니다."
      ],
      "metadata": {
        "id": "Q4DPcxmPYviT"
      }
    },
    {
      "cell_type": "code",
      "source": [
        "a = {'name': '정종훈', 'num': '2022048'}\n",
        "print(f\"저는 보건의료행정과 {a['num']} {a['name']}입니다.\")\n",
        "print(\"저는 보건의료행정과 {} {}입니다.\".format(a['num'], a['name']))"
      ],
      "metadata": {
        "id": "S1FHK0YWYYPy",
        "outputId": "15ab1a7a-e32e-478a-dccf-28bca336189f",
        "colab": {
          "base_uri": "https://localhost:8080/"
        }
      },
      "execution_count": 40,
      "outputs": [
        {
          "output_type": "stream",
          "name": "stdout",
          "text": [
            "저는 보건의료행정과 2022048 정종훈입니다.\n",
            "저는 보건의료행정과 2022048 정종훈입니다.\n"
          ]
        }
      ]
    },
    {
      "cell_type": "markdown",
      "source": [
        "# ETC"
      ],
      "metadata": {
        "id": "XG9G3ov5bsjS"
      }
    },
    {
      "cell_type": "code",
      "source": [
        "# 집합 자료형 (중복 제거)\n",
        "a = [1,1,1,2,3,3,4]\n",
        "print(a)\n",
        "print(set(a))\n",
        "b = 'hello'\n",
        "print(b)\n",
        "print(set(b))"
      ],
      "metadata": {
        "id": "YHUBhpSibQaS",
        "outputId": "c6667200-bc14-42a9-cc4d-900b7095af59",
        "colab": {
          "base_uri": "https://localhost:8080/"
        }
      },
      "execution_count": 44,
      "outputs": [
        {
          "output_type": "stream",
          "name": "stdout",
          "text": [
            "[1, 1, 1, 2, 3, 3, 4]\n",
            "{1, 2, 3, 4}\n",
            "hello\n",
            "{'l', 'o', 'e', 'h'}\n"
          ]
        }
      ]
    },
    {
      "cell_type": "code",
      "source": [
        "# bool 자료형 (참 또는 거짓이 저장)\n",
        "a = 10\n",
        "print(a)\n",
        "print(a > 5)\n",
        "print(a < 5)"
      ],
      "metadata": {
        "id": "aTG6BdE2bzIb",
        "outputId": "e85b046f-3bf1-4a70-c95d-9802cb888962",
        "colab": {
          "base_uri": "https://localhost:8080/"
        }
      },
      "execution_count": 47,
      "outputs": [
        {
          "output_type": "stream",
          "name": "stdout",
          "text": [
            "10\n",
            "True\n",
            "False\n"
          ]
        }
      ]
    },
    {
      "cell_type": "code",
      "source": [],
      "metadata": {
        "id": "NQGC5zh0cL1D"
      },
      "execution_count": null,
      "outputs": []
    }
  ],
  "metadata": {
    "language_info": {
      "name": "python"
    },
    "orig_nbformat": 4,
    "colab": {
      "provenance": [],
      "include_colab_link": true
    },
    "kernelspec": {
      "name": "python3",
      "display_name": "Python 3"
    },
    "gpuClass": "standard"
  },
  "nbformat": 4,
  "nbformat_minor": 0
}