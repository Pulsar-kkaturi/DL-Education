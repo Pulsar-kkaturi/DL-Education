{
  "cells": [
    {
      "cell_type": "markdown",
      "metadata": {
        "id": "view-in-github",
        "colab_type": "text"
      },
      "source": [
        "<a href=\"https://colab.research.google.com/github/Pulsar-kkaturi/DL-Education/blob/master/Python_Lecture/Lecture04_Python-Basic1.ipynb\" target=\"_parent\"><img src=\"https://colab.research.google.com/assets/colab-badge.svg\" alt=\"Open In Colab\"/></a>"
      ]
    },
    {
      "cell_type": "markdown",
      "metadata": {
        "id": "Kk6y9-eT9UtZ"
      },
      "source": [
        "# Lecture 4. 파이썬 프로그래밍 기초 1. 자료형: 숫자와 문자"
      ]
    },
    {
      "cell_type": "markdown",
      "metadata": {
        "id": "uxMnBSBf9Uta"
      },
      "source": [
        "## 1. 숫자형"
      ]
    },
    {
      "cell_type": "markdown",
      "source": [
        "### 1.1. 자료형 (정수)"
      ],
      "metadata": {
        "id": "rMmMiX52-XDz"
      }
    },
    {
      "cell_type": "code",
      "source": [
        "a = 10\n",
        "b = 3"
      ],
      "metadata": {
        "id": "CnblCfcT-c9t"
      },
      "execution_count": null,
      "outputs": []
    },
    {
      "cell_type": "code",
      "source": [
        "a + b"
      ],
      "metadata": {
        "colab": {
          "base_uri": "https://localhost:8080/"
        },
        "id": "XcJbH5Ht-m2s",
        "outputId": "bf50ac8f-519f-4d3c-caad-a5998ce3036f"
      },
      "execution_count": null,
      "outputs": [
        {
          "output_type": "execute_result",
          "data": {
            "text/plain": [
              "13"
            ]
          },
          "metadata": {},
          "execution_count": 9
        }
      ]
    },
    {
      "cell_type": "code",
      "source": [
        "a * b"
      ],
      "metadata": {
        "colab": {
          "base_uri": "https://localhost:8080/"
        },
        "id": "pT6nPMcc-qSs",
        "outputId": "52784f23-1dbb-4fb1-857e-3e34fec69fe8"
      },
      "execution_count": null,
      "outputs": [
        {
          "output_type": "execute_result",
          "data": {
            "text/plain": [
              "30"
            ]
          },
          "metadata": {},
          "execution_count": 14
        }
      ]
    },
    {
      "cell_type": "code",
      "source": [
        "a - b"
      ],
      "metadata": {
        "colab": {
          "base_uri": "https://localhost:8080/"
        },
        "id": "QgJUcyAM-rKd",
        "outputId": "fb042a25-ae9a-4547-97b9-08cd50a4aec5"
      },
      "execution_count": null,
      "outputs": [
        {
          "output_type": "execute_result",
          "data": {
            "text/plain": [
              "7"
            ]
          },
          "metadata": {},
          "execution_count": 15
        }
      ]
    },
    {
      "cell_type": "code",
      "source": [
        "a / b"
      ],
      "metadata": {
        "colab": {
          "base_uri": "https://localhost:8080/"
        },
        "id": "7fyBPgmt-y4l",
        "outputId": "eccca1e4-7537-41ce-efd6-91bb1cf212c1"
      },
      "execution_count": null,
      "outputs": [
        {
          "output_type": "execute_result",
          "data": {
            "text/plain": [
              "3.3333333333333335"
            ]
          },
          "metadata": {},
          "execution_count": 16
        }
      ]
    },
    {
      "cell_type": "markdown",
      "source": [
        "### 1.2. 자료형 (실수)"
      ],
      "metadata": {
        "id": "9OX_2QFT_CTK"
      }
    },
    {
      "cell_type": "code",
      "source": [
        "a = 1.2\n",
        "b = -3.45"
      ],
      "metadata": {
        "id": "UQi-3put-0R1"
      },
      "execution_count": null,
      "outputs": []
    },
    {
      "cell_type": "code",
      "source": [
        "a + b"
      ],
      "metadata": {
        "colab": {
          "base_uri": "https://localhost:8080/"
        },
        "id": "evGABmXY_RIb",
        "outputId": "4979f8b0-9ba2-4f4c-cb5b-f43037957b36"
      },
      "execution_count": null,
      "outputs": [
        {
          "output_type": "execute_result",
          "data": {
            "text/plain": [
              "-2.25"
            ]
          },
          "metadata": {},
          "execution_count": 25
        }
      ]
    },
    {
      "cell_type": "code",
      "source": [
        "a - b"
      ],
      "metadata": {
        "colab": {
          "base_uri": "https://localhost:8080/"
        },
        "id": "whifRJ56_VHV",
        "outputId": "0f756ccc-dcb1-4ba0-bb6b-c826d220e54f"
      },
      "execution_count": null,
      "outputs": [
        {
          "output_type": "execute_result",
          "data": {
            "text/plain": [
              "4.65"
            ]
          },
          "metadata": {},
          "execution_count": 26
        }
      ]
    },
    {
      "cell_type": "code",
      "source": [
        "a * b"
      ],
      "metadata": {
        "colab": {
          "base_uri": "https://localhost:8080/"
        },
        "id": "2XVGEaSl_Wdl",
        "outputId": "5417aeb8-fa29-4893-ee4d-8749ca1bad84"
      },
      "execution_count": null,
      "outputs": [
        {
          "output_type": "execute_result",
          "data": {
            "text/plain": [
              "-4.14"
            ]
          },
          "metadata": {},
          "execution_count": 27
        }
      ]
    },
    {
      "cell_type": "code",
      "source": [
        "a/b"
      ],
      "metadata": {
        "colab": {
          "base_uri": "https://localhost:8080/"
        },
        "id": "y3LPPizM_XyF",
        "outputId": "96c422b2-a923-4905-e4f4-6c11a26f4dd4"
      },
      "execution_count": null,
      "outputs": [
        {
          "output_type": "execute_result",
          "data": {
            "text/plain": [
              "-0.34782608695652173"
            ]
          },
          "metadata": {},
          "execution_count": 28
        }
      ]
    },
    {
      "cell_type": "code",
      "source": [
        "c = 3.456e20"
      ],
      "metadata": {
        "id": "i7ekKg38_Zel"
      },
      "execution_count": null,
      "outputs": []
    },
    {
      "cell_type": "code",
      "source": [
        "c"
      ],
      "metadata": {
        "colab": {
          "base_uri": "https://localhost:8080/"
        },
        "id": "F10P_mlO_iFU",
        "outputId": "f9caa345-510d-410a-9103-76e69670188d"
      },
      "execution_count": null,
      "outputs": [
        {
          "output_type": "execute_result",
          "data": {
            "text/plain": [
              "3.456e+20"
            ]
          },
          "metadata": {},
          "execution_count": 31
        }
      ]
    },
    {
      "cell_type": "markdown",
      "source": [
        "### 1.3. 사칙연산"
      ],
      "metadata": {
        "id": "RS73M4r1ABrr"
      }
    },
    {
      "cell_type": "markdown",
      "source": [
        "* 더하기: +\n",
        "* 빼기: -\n",
        "* 곱하기: *\n",
        "* 제곱: **\n",
        "* 나누기: /\n",
        "* 몫 나눗셈: //\n",
        "* 나머지 나눗셈: %"
      ],
      "metadata": {
        "id": "6DF_Wv70AUYI"
      }
    },
    {
      "cell_type": "code",
      "source": [
        "a = 2\n",
        "b = 3"
      ],
      "metadata": {
        "id": "o3dSkblZAEzU"
      },
      "execution_count": null,
      "outputs": []
    },
    {
      "cell_type": "code",
      "source": [
        "a ** b"
      ],
      "metadata": {
        "colab": {
          "base_uri": "https://localhost:8080/"
        },
        "id": "G4GEmBlMAKA1",
        "outputId": "07437a00-7abb-4e22-b3c1-345a17337440"
      },
      "execution_count": null,
      "outputs": [
        {
          "output_type": "execute_result",
          "data": {
            "text/plain": [
              "8"
            ]
          },
          "metadata": {},
          "execution_count": 36
        }
      ]
    },
    {
      "cell_type": "code",
      "source": [
        "a = 5\n",
        "b = 3\n",
        "a/b"
      ],
      "metadata": {
        "colab": {
          "base_uri": "https://localhost:8080/"
        },
        "id": "2gI6MjEgAhYL",
        "outputId": "3e159c0d-e31c-4477-9549-a95e0eabd30d"
      },
      "execution_count": null,
      "outputs": [
        {
          "output_type": "execute_result",
          "data": {
            "text/plain": [
              "1.6666666666666667"
            ]
          },
          "metadata": {},
          "execution_count": 43
        }
      ]
    },
    {
      "cell_type": "code",
      "source": [
        "a//b"
      ],
      "metadata": {
        "colab": {
          "base_uri": "https://localhost:8080/"
        },
        "id": "OpBK-n5fAqAV",
        "outputId": "bb1a7a80-e37b-4499-e08d-1e63276d16ef"
      },
      "execution_count": null,
      "outputs": [
        {
          "output_type": "execute_result",
          "data": {
            "text/plain": [
              "1"
            ]
          },
          "metadata": {},
          "execution_count": 44
        }
      ]
    },
    {
      "cell_type": "code",
      "source": [
        "a%b"
      ],
      "metadata": {
        "colab": {
          "base_uri": "https://localhost:8080/"
        },
        "id": "z-XmtaIHAvAN",
        "outputId": "a6860a0e-79ef-4082-d218-cfbb6aa322a3"
      },
      "execution_count": null,
      "outputs": [
        {
          "output_type": "execute_result",
          "data": {
            "text/plain": [
              "2"
            ]
          },
          "metadata": {},
          "execution_count": 45
        }
      ]
    },
    {
      "cell_type": "markdown",
      "source": [
        "### Quiz. \n",
        "x = 17일때,\n",
        "\n",
        "3X<sup>3</sup>-5X<sup>2</sup>+11X+1 \n",
        "의 값을 구하시오."
      ],
      "metadata": {
        "id": "Y68tUSESBy_U"
      }
    },
    {
      "cell_type": "code",
      "source": [
        "x = 17\n",
        "3*x**3-5*x**2+11*x+1"
      ],
      "metadata": {
        "colab": {
          "base_uri": "https://localhost:8080/"
        },
        "id": "so1qkfUXCvPt",
        "outputId": "51b0d76e-af3f-4558-b28d-a41a2921373b"
      },
      "execution_count": null,
      "outputs": [
        {
          "output_type": "execute_result",
          "data": {
            "text/plain": [
              "13482"
            ]
          },
          "metadata": {},
          "execution_count": 49
        }
      ]
    },
    {
      "cell_type": "markdown",
      "source": [
        "## 2. 문자열"
      ],
      "metadata": {
        "id": "9WqP5SUKF4ON"
      }
    },
    {
      "cell_type": "markdown",
      "source": [
        "### 2.1. 문자열 만들기"
      ],
      "metadata": {
        "id": "7PVZqTNUJWmW"
      }
    },
    {
      "cell_type": "code",
      "source": [
        "# 주석 처리\n",
        "print(\"파이썬\")\n",
        "print('한국 축구 화이팅!')"
      ],
      "metadata": {
        "id": "vL5VisLbGqHO",
        "outputId": "9dd16d2f-715c-4c0c-93b8-770115c876a1",
        "colab": {
          "base_uri": "https://localhost:8080/"
        }
      },
      "execution_count": null,
      "outputs": [
        {
          "output_type": "stream",
          "name": "stdout",
          "text": [
            "파이썬\n",
            "한국 축구 화이팅!\n"
          ]
        }
      ]
    },
    {
      "cell_type": "code",
      "source": [
        "a = 112412341234\n",
        "b = '연성대학교 보건의료행정과'\n",
        "print(a, b)"
      ],
      "metadata": {
        "id": "LjrI2ndMGXzN",
        "outputId": "3e7bbb11-0b86-4b35-c5b7-a673746e7337",
        "colab": {
          "base_uri": "https://localhost:8080/"
        }
      },
      "execution_count": null,
      "outputs": [
        {
          "output_type": "stream",
          "name": "stdout",
          "text": [
            "112412341234 연성대학교 보건의료행정과\n"
          ]
        }
      ]
    },
    {
      "cell_type": "code",
      "source": [
        "news = \"\"\" \n",
        "위르겐 클린스만 감독이 28일 오후 8시 서울월드컵경기자에서 열리는 우루과이와의 친선경기에 앞서 베스트11을 공개했다.\n",
        "\n",
        "클린스만 감독은 24일 콜롬비아와의 데뷔전에서 2대2로 비겼다. 우루과이전의 화두는 첫 승이다.\n",
        "\n",
        "원톱에는 황의조(서울)가 포진하는 가운데 2선에는 이강인 손흥민(토트넘) 이재성(마인츠)이 선다. 수비형 미드필더에는 황인범(올림피아코스)과 정우영(알 사드)이 짝을 이룬다.\n",
        "\"\"\" # 문단을 문자열로 만들고 싶을때는 따옴표를 세번 쓰자\n",
        "print(news)"
      ],
      "metadata": {
        "id": "T_syDQQTF99F",
        "outputId": "380f224d-0507-41c0-fc4c-f6a0f5030a3f",
        "colab": {
          "base_uri": "https://localhost:8080/"
        }
      },
      "execution_count": null,
      "outputs": [
        {
          "output_type": "stream",
          "name": "stdout",
          "text": [
            " \n",
            "위르겐 클린스만 감독이 28일 오후 8시 서울월드컵경기자에서 열리는 우루과이와의 친선경기에 앞서 베스트11을 공개했다.\n",
            "\n",
            "클린스만 감독은 24일 콜롬비아와의 데뷔전에서 2대2로 비겼다. 우루과이전의 화두는 첫 승이다.\n",
            "\n",
            "원톱에는 황의조(서울)가 포진하는 가운데 2선에는 이강인 손흥민(토트넘) 이재성(마인츠)이 선다. 수비형 미드필더에는 황인범(올림피아코스)과 정우영(알 사드)이 짝을 이룬다.\n",
            "\n"
          ]
        }
      ]
    },
    {
      "cell_type": "markdown",
      "source": [
        "학생들이 말했다. \"빨리 끝내고 축구 보여주세요\""
      ],
      "metadata": {
        "id": "59jJBJfVHlGe"
      }
    },
    {
      "cell_type": "code",
      "source": [
        "student = '학생들이 말했다. \\n \"빨리 끝내고 축구 보여주세요\"'\n",
        "print(student)"
      ],
      "metadata": {
        "id": "Ja2_Z3FGGTue",
        "outputId": "389a7547-727e-4ad3-acd1-32bd53a95d08",
        "colab": {
          "base_uri": "https://localhost:8080/"
        }
      },
      "execution_count": null,
      "outputs": [
        {
          "output_type": "stream",
          "name": "stdout",
          "text": [
            "학생들이 말했다. \n",
            " \"빨리 끝내고 축구 보여주세요\"\n"
          ]
        }
      ]
    },
    {
      "cell_type": "code",
      "source": [
        "student = '학생들이 말했다. \\'빨리 끝내고 축구 봐요\\''\n",
        "print(student)"
      ],
      "metadata": {
        "id": "n8GjrKDJH2_1",
        "outputId": "f0a5d8b9-a92f-41a3-bb30-ccf726a42a86",
        "colab": {
          "base_uri": "https://localhost:8080/"
        }
      },
      "execution_count": null,
      "outputs": [
        {
          "output_type": "stream",
          "name": "stdout",
          "text": [
            "학생들이 말했다. '빨리 끝내고 축구 봐요'\n"
          ]
        }
      ]
    },
    {
      "cell_type": "markdown",
      "source": [
        "### 2.2. 문자열 연산하기"
      ],
      "metadata": {
        "id": "hxuJtXoxJTR_"
      }
    },
    {
      "cell_type": "code",
      "source": [
        "# 문자열 더하기\n",
        "a = \"연성대학교\"\n",
        "b = \"보건의료행정과\"\n",
        "c = \" \"\n",
        "print(a+c+b)"
      ],
      "metadata": {
        "id": "YNsbgthyIUr_",
        "outputId": "e8db351b-acf1-4f4d-dbed-28e6e79ef6ab",
        "colab": {
          "base_uri": "https://localhost:8080/"
        }
      },
      "execution_count": null,
      "outputs": [
        {
          "output_type": "stream",
          "name": "stdout",
          "text": [
            "연성대학교 보건의료행정과\n"
          ]
        }
      ]
    },
    {
      "cell_type": "code",
      "source": [
        "# 문자열 곱하기\n",
        "a = \"!!\"\n",
        "print(\"댕댕이 너무 귀여워\", a*3000)"
      ],
      "metadata": {
        "id": "ldIotba_KFx5",
        "outputId": "fa2e2b60-ff05-40eb-eb44-9c8cdafe9ff8",
        "colab": {
          "base_uri": "https://localhost:8080/"
        }
      },
      "execution_count": null,
      "outputs": [
        {
          "output_type": "stream",
          "name": "stdout",
          "text": [
            "댕댕이 너무 귀여워 !!!!!!!!!!!!!!!!!!!!!!!!!!!!!!!!!!!!!!!!!!!!!!!!!!!!!!!!!!!!!!!!!!!!!!!!!!!!!!!!!!!!!!!!!!!!!!!!!!!!!!!!!!!!!!!!!!!!!!!!!!!!!!!!!!!!!!!!!!!!!!!!!!!!!!!!!!!!!!!!!!!!!!!!!!!!!!!!!!!!!!!!!!!!!!!!!!!!!!!!!!!!!!!!!!!!!!!!!!!!!!!!!!!!!!!!!!!!!!!!!!!!!!!!!!!!!!!!!!!!!!!!!!!!!!!!!!!!!!!!!!!!!!!!!!!!!!!!!!!!!!!!!!!!!!!!!!!!!!!!!!!!!!!!!!!!!!!!!!!!!!!!!!!!!!!!!!!!!!!!!!!!!!!!!!!!!!!!!!!!!!!!!!!!!!!!!!!!!!!!!!!!!!!!!!!!!!!!!!!!!!!!!!!!!!!!!!!!!!!!!!!!!!!!!!!!!!!!!!!!!!!!!!!!!!!!!!!!!!!!!!!!!!!!!!!!!!!!!!!!!!!!!!!!!!!!!!!!!!!!!!!!!!!!!!!!!!!!!!!!!!!!!!!!!!!!!!!!!!!!!!!!!!!!!!!!!!!!!!!!!!!!!!!!!!!!!!!!!!!!!!!!!!!!!!!!!!!!!!!!!!!!!!!!!!!!!!!!!!!!!!!!!!!!!!!!!!!!!!!!!!!!!!!!!!!!!!!!!!!!!!!!!!!!!!!!!!!!!!!!!!!!!!!!!!!!!!!!!!!!!!!!!!!!!!!!!!!!!!!!!!!!!!!!!!!!!!!!!!!!!!!!!!!!!!!!!!!!!!!!!!!!!!!!!!!!!!!!!!!!!!!!!!!!!!!!!!!!!!!!!!!!!!!!!!!!!!!!!!!!!!!!!!!!!!!!!!!!!!!!!!!!!!!!!!!!!!!!!!!!!!!!!!!!!!!!!!!!!!!!!!!!!!!!!!!!!!!!!!!!!!!!!!!!!!!!!!!!!!!!!!!!!!!!!!!!!!!!!!!!!!!!!!!!!!!!!!!!!!!!!!!!!!!!!!!!!!!!!!!!!!!!!!!!!!!!!!!!!!!!!!!!!!!!!!!!!!!!!!!!!!!!!!!!!!!!!!!!!!!!!!!!!!!!!!!!!!!!!!!!!!!!!!!!!!!!!!!!!!!!!!!!!!!!!!!!!!!!!!!!!!!!!!!!!!!!!!!!!!!!!!!!!!!!!!!!!!!!!!!!!!!!!!!!!!!!!!!!!!!!!!!!!!!!!!!!!!!!!!!!!!!!!!!!!!!!!!!!!!!!!!!!!!!!!!!!!!!!!!!!!!!!!!!!!!!!!!!!!!!!!!!!!!!!!!!!!!!!!!!!!!!!!!!!!!!!!!!!!!!!!!!!!!!!!!!!!!!!!!!!!!!!!!!!!!!!!!!!!!!!!!!!!!!!!!!!!!!!!!!!!!!!!!!!!!!!!!!!!!!!!!!!!!!!!!!!!!!!!!!!!!!!!!!!!!!!!!!!!!!!!!!!!!!!!!!!!!!!!!!!!!!!!!!!!!!!!!!!!!!!!!!!!!!!!!!!!!!!!!!!!!!!!!!!!!!!!!!!!!!!!!!!!!!!!!!!!!!!!!!!!!!!!!!!!!!!!!!!!!!!!!!!!!!!!!!!!!!!!!!!!!!!!!!!!!!!!!!!!!!!!!!!!!!!!!!!!!!!!!!!!!!!!!!!!!!!!!!!!!!!!!!!!!!!!!!!!!!!!!!!!!!!!!!!!!!!!!!!!!!!!!!!!!!!!!!!!!!!!!!!!!!!!!!!!!!!!!!!!!!!!!!!!!!!!!!!!!!!!!!!!!!!!!!!!!!!!!!!!!!!!!!!!!!!!!!!!!!!!!!!!!!!!!!!!!!!!!!!!!!!!!!!!!!!!!!!!!!!!!!!!!!!!!!!!!!!!!!!!!!!!!!!!!!!!!!!!!!!!!!!!!!!!!!!!!!!!!!!!!!!!!!!!!!!!!!!!!!!!!!!!!!!!!!!!!!!!!!!!!!!!!!!!!!!!!!!!!!!!!!!!!!!!!!!!!!!!!!!!!!!!!!!!!!!!!!!!!!!!!!!!!!!!!!!!!!!!!!!!!!!!!!!!!!!!!!!!!!!!!!!!!!!!!!!!!!!!!!!!!!!!!!!!!!!!!!!!!!!!!!!!!!!!!!!!!!!!!!!!!!!!!!!!!!!!!!!!!!!!!!!!!!!!!!!!!!!!!!!!!!!!!!!!!!!!!!!!!!!!!!!!!!!!!!!!!!!!!!!!!!!!!!!!!!!!!!!!!!!!!!!!!!!!!!!!!!!!!!!!!!!!!!!!!!!!!!!!!!!!!!!!!!!!!!!!!!!!!!!!!!!!!!!!!!!!!!!!!!!!!!!!!!!!!!!!!!!!!!!!!!!!!!!!!!!!!!!!!!!!!!!!!!!!!!!!!!!!!!!!!!!!!!!!!!!!!!!!!!!!!!!!!!!!!!!!!!!!!!!!!!!!!!!!!!!!!!!!!!!!!!!!!!!!!!!!!!!!!!!!!!!!!!!!!!!!!!!!!!!!!!!!!!!!!!!!!!!!!!!!!!!!!!!!!!!!!!!!!!!!!!!!!!!!!!!!!!!!!!!!!!!!!!!!!!!!!!!!!!!!!!!!!!!!!!!!!!!!!!!!!!!!!!!!!!!!!!!!!!!!!!!!!!!!!!!!!!!!!!!!!!!!!!!!!!!!!!!!!!!!!!!!!!!!!!!!!!!!!!!!!!!!!!!!!!!!!!!!!!!!!!!!!!!!!!!!!!!!!!!!!!!!!!!!!!!!!!!!!!!!!!!!!!!!!!!!!!!!!!!!!!!!!!!!!!!!!!!!!!!!!!!!!!!!!!!!!!!!!!!!!!!!!!!!!!!!!!!!!!!!!!!!!!!!!!!!!!!!!!!!!!!!!!!!!!!!!!!!!!!!!!!!!!!!!!!!!!!!!!!!!!!!!!!!!!!!!!!!!!!!!!!!!!!!!!!!!!!!!!!!!!!!!!!!!!!!!!!!!!!!!!!!!!!!!!!!!!!!!!!!!!!!!!!!!!!!!!!!!!!!!!!!!!!!!!!!!!!!!!!!!!!!!!!!!!!!!!!!!!!!!!!!!!!!!!!!!!!!!!!!!!!!!!!!!!!!!!!!!!!!!!!!!!!!!!!!!!!!!!!!!!!!!!!!!!!!!!!!!!!!!!!!!!!!!!!!!!!!!!!!!!!!!!!!!!!!!!!!!!!!!!!!!!!!!!!!!!!!!!!!!!!!!!!!!!!!!!!!!!!!!!!!!!!!!!!!!!!!!!!!!!!!!!!!!!!!!!!!!!!!!!!!!!!!!!!!!!!!!!!!!!!!!!!!!!!!!!!!!!!!!!!!!!!!!!!!!!!!!!!!!!!!!!!!!!!!!!!!!!!!!!!!!!!!!!!!!!!!!!!!!!!!!!!!!!!!!!!!!!!!!!!!!!!!!!!!!!!!!!!!!!!!!!!!!!!!!!!!!!!!!!!!!!!!!!!!!!!!!!!!!!!!!!!!!!!!!!!!!!!!!!!!!!!!!!!!!!!!!!!!!!!!!!!!!!!!!!!!!!!!!!!!!!!!!!!!!!!!!!!!!!!!!!!!!!!!!!!!!!!!!!!!!!!!!!!!!!!!!!!!!!!!!!!!!!!!!!!!!!!!!!!!!!!!!!!!!!!!!!!!!!!!!!!!!!!!!!!!!!!!!!!!!!!!!!!!!!!!!!!!!!!!!!!!!!!!!!!!!!!!!!!!!!!!!!!!!!!!!!!!!!!!!!!!!!!!!!!!!!!!!!!!!!!!!!!!!!!!!!!!!!!!!!!!!!!!!!!!!!!!!!!!!!!!!!!!!!!!!!!!!!!!!!!!!!!!!!!!!!!!!!!!!!!!!!!!!!!!!!!!!!!!!!!!!!!!!!!!!!!!!!!!!!!!!!!!!!!!!!!!!!!!!!!!!!!!!!!!!!!!!!!!!!!!!!!!!!!!!!!!!!!!!!!!!!!!!!!!!!!!!!!!!!!!!!!!!!!!!!!!!!!!!!!!!!!!!!!!!!!!!!!!!!!!!!!!!!!!!!!!!!!!!!!!!!!!!!!!!!!!!!!!!!!!!!!!!!!!!!!!!!!!!!!!!!!!!!!!!!!!!!!!!!!!!!!!!!!!!!!!!!!!!!!!!!!!!!!!!!!!!!!!!!!!!!!!!!!!!!!!!!!!!!!!!!!!!!!!!!!!!!!!!!!!!!!!!!!!!!!!!!!!!!!!!!!!!!!!!!!!!!!!!!!!!!!!!!!!!!!!!!!!!!!!!!!!!!!!!!!!!!!!!!!!!!!!!!!!!!!!!!!!!!!!!!!!!!!!!!!!!!!!!!!!!!!!!!!!!!!!!!!!!!!!!!!!!!!!!!!!!!!!!!!!!!!!!!!!!!!!!!!!!!!!!!!!!!!!!!!!!!!!!!!!!!!!!!!!!!!!!!!!!!!!!!!!!!!!!!!!!!!!!!!!!!!!!!!!!!!!!!!!!!!!!!!!!!!!!!!!!!!!!!!!!!!!!!!!!!!!!!!!!!!!!!!!!!!!!!!!!!!!!!!!!!!!!!!!!!!!!!!!!!!!!!!!!!!!!!!!!!!!!!!!!!!!!!!!!!!!!!!!!!!!!!!!!!!!!!!!!!!!!!!!!!!!!!!!!!!!!!!!!!!!!!!!!!!!!!!!!!!!!!!!!!!!!!!!!!!!!!!!!!!!!!!!!!!!!!!!!!!!!!!!!!!!!!!!!!!!!!!!!!!!!!!!!!!!!!!!!!!!!!!!!!!!!!!!!!!!!!!!!!!!!!!!!!!!!!!!!!!!!!!!!!!!!!!!!!!!!!!!!!!!!!!!!!!!!!!!!!!!!!!!!!!!!!!!!!!!!!!!!!!!!!!!!!!!!!!!!!!!!!!!!!!!!!!!!!!!!!!!!!!!!!!!!!!!!!!!!!!!!!!!!!!!!!!!!!!!!!!!!!!!!!!!!!!!!!!!!!!!!!!!!!!!!!!!!!!!!!!!!!!!!!!!!!!!!!!!!!!!!!!!!!!!!!!!!!!!!!!!!!!!!!!!!!!!!!!!!!!!!!!!!!!!!!!!!!!!!!!!!!!!!!!!!!!!!!!!!!!!!!!!!!!!!!!!!!!!!!!!!!!!!!!!!!!!!!!!!!!!!!!!!!!!!!!!!!!!!!!!!!!!!!!!!!!!!!!!!!!!!!!!!!!!!!!!!!!!!!!!!!!!!!!!!!!!!!!!!!!!!!!!!!!!!!!!!!!!!!!!!!!!!!!!!!!!!!!!!!!!!!!!!!!!!!!!!!!!!!!!!!!!!!!!!!!!!!!!!!!!!!!!!!!!!!!!!!!!!!!!!!!!!!!!!!!!!!!!!!!!!!!!!!!!!!!!!!!!!!!!!!!!!!!!!!!!!!!!!!!!!!!!!!!!!!!!!!!!!!!!!!!!!!!!!!!!!!!!!!!!!!!!!!!!!!!!!!!!!!!!!!!!!!!!!!!!!!!!!!!!!!!!!!!!!!!!!!!!!!!!!!!!!!!!!!!!!!!!!!!!!!!!!!!!!!!!!!!!!!!!!!!!!!!!!!!!!!!!!!!!!!!!!!!!!!!!!!!!!!!!!!!!!!!!!!!!!!!!!!!!!!!!!!!!!!!!!!!!!!!!!!!!!!!!!!!!!!!!!!!!!!!!!!!!!!!!!!!!!!!!!!!!!!!!!!!!!!!!!!!!!!!!!!!!!!!!!!!!!!!!!!!!!!!!!!!!!!!!!!!!!!!!!!!!!!!!!!!!!!!!!!!!!!!!!!!!!!!!!!!!!!!!!!!!!!!!!!!!!!!!!!!!!!!!!!!!!!!!!!!!!!!!!!!!!!!!!!!!!!!!!!!!!!!!!!!!!!!!!!!!!!!!!!!!!!!!!!!!!!!!!!!!!!!!!!!!!!!!!!!!!!!!!!!!!!!!!!!!!!!!!!!!!!!!!!!!!!!!!!!!!!!!!!!!!!!!!!!!!!!!!!!!!!!!!!!!!!!!!!!!!!!!!!!!!!!!!!!!!!!!!!!!!!!!!!!!!!!!!!!!!!!!!!!!!!!!!!!!!!!!!!!!!!!!!!!!!!!!!!!!!!!!!!!!!!!!!!!!!!!!!!!!!!!!!!!!!!!!!!!!!!!!!!!!!!!!!!!!!!!!!!!!!!!!!!!!!!!!!!!!!!!!!!!!!!!!!!!!!!!!!!!!!!!!!!!!!!!!!!!!!!!!!!!!!!!!!!!!!!!!!!!!!!!!!!!!!!!!!!!!!!!!!!!!!!!!!!!!!!!!!!!!!!!!!!!!!!!!!!!!!!!!!!!!!!!!!!!!!!!!!!!!!!!!!!!!!!!!!!!!!!!!!!!!!!!!!!!!!!!!!!!!!!!!!!!!!!!!!!!\n"
          ]
        }
      ]
    },
    {
      "cell_type": "code",
      "source": [
        "print(\"=\" * 50)\n",
        "print(\"My Program\")\n",
        "print(\"=\" * 50)"
      ],
      "metadata": {
        "id": "26WMDWzEKp5H",
        "outputId": "01dc7886-b366-407e-c2c2-41f77d514d41",
        "colab": {
          "base_uri": "https://localhost:8080/"
        }
      },
      "execution_count": null,
      "outputs": [
        {
          "output_type": "stream",
          "name": "stdout",
          "text": [
            "==================================================\n",
            "My Program\n",
            "==================================================\n"
          ]
        }
      ]
    },
    {
      "cell_type": "code",
      "source": [
        "# 문자열 길이 구하기\n",
        "a = \"안녕하세요\"\n",
        "print(len(a))\n",
        "print(len(news))"
      ],
      "metadata": {
        "id": "DF9riTt_KxjP",
        "outputId": "93b65c68-e7b8-48d6-c36e-ba4bcc1b92de",
        "colab": {
          "base_uri": "https://localhost:8080/"
        }
      },
      "execution_count": null,
      "outputs": [
        {
          "output_type": "stream",
          "name": "stdout",
          "text": [
            "5\n",
            "223\n"
          ]
        }
      ]
    },
    {
      "cell_type": "markdown",
      "source": [
        "### 2.3. 문자열의 인덱싱과 슬라이싱"
      ],
      "metadata": {
        "id": "o2H07Gv0EIvN"
      }
    },
    {
      "cell_type": "code",
      "source": [
        "a = \"Life is too short, You need Python\"\n",
        "print(a)"
      ],
      "metadata": {
        "id": "2O_08fc-EOb8",
        "outputId": "d3c1af2d-b071-4ee6-c57a-57282fefddef",
        "colab": {
          "base_uri": "https://localhost:8080/"
        }
      },
      "execution_count": null,
      "outputs": [
        {
          "output_type": "stream",
          "name": "stdout",
          "text": [
            "Life is too short, You need Python\n"
          ]
        }
      ]
    },
    {
      "cell_type": "code",
      "source": [
        "# 문자열 인덱싱\n",
        "print(a[3])\n",
        "print(a[4])"
      ],
      "metadata": {
        "id": "aUDsBTcGGrOF",
        "outputId": "99970350-dfbb-4a5e-fd22-7e83113aadec",
        "colab": {
          "base_uri": "https://localhost:8080/"
        }
      },
      "execution_count": null,
      "outputs": [
        {
          "output_type": "stream",
          "name": "stdout",
          "text": [
            "Life is too short, You need Python\n",
            "e\n",
            " \n"
          ]
        }
      ]
    },
    {
      "cell_type": "code",
      "source": [
        "# 문자열 인덱싱 (역순)\n",
        "print(a[-1], a[-6])\n"
      ],
      "metadata": {
        "id": "feCkKQmuG0Bl",
        "outputId": "bbf4f2f5-0b57-442d-9af8-553cbf751007",
        "colab": {
          "base_uri": "https://localhost:8080/"
        }
      },
      "execution_count": null,
      "outputs": [
        {
          "output_type": "stream",
          "name": "stdout",
          "text": [
            "n P\n"
          ]
        }
      ]
    },
    {
      "cell_type": "code",
      "source": [
        "# 문자열 슬라이싱 \n",
        "print(a[:4]) # 0은 생략 가능!\n",
        "print(a[5:7])"
      ],
      "metadata": {
        "id": "vD2IGNxlHBDs",
        "outputId": "f3203e76-63a7-4063-c5cf-e9e04f824d77",
        "colab": {
          "base_uri": "https://localhost:8080/"
        }
      },
      "execution_count": null,
      "outputs": [
        {
          "output_type": "stream",
          "name": "stdout",
          "text": [
            "Life\n",
            "is\n"
          ]
        }
      ]
    },
    {
      "cell_type": "code",
      "source": [
        "# 문자열 슬라이싱 (역순)\n",
        "print(a[-6:])\n",
        "print(a[-11:-7])"
      ],
      "metadata": {
        "id": "MJ3nlIsTHg2z",
        "outputId": "d2b67832-bfeb-42a5-df69-cfdf51f69b33",
        "colab": {
          "base_uri": "https://localhost:8080/"
        }
      },
      "execution_count": null,
      "outputs": [
        {
          "output_type": "stream",
          "name": "stdout",
          "text": [
            "Python\n",
            "need\n"
          ]
        }
      ]
    },
    {
      "cell_type": "code",
      "source": [
        "print(a)\n",
        "print(a[:])"
      ],
      "metadata": {
        "id": "x1VyXv_6Hwpo",
        "outputId": "34e3ad06-62e3-4391-a6f7-69bcda61e493",
        "colab": {
          "base_uri": "https://localhost:8080/"
        }
      },
      "execution_count": null,
      "outputs": [
        {
          "output_type": "stream",
          "name": "stdout",
          "text": [
            "Life is too short, You need Python\n",
            "Life is too short, You need Python\n"
          ]
        }
      ]
    },
    {
      "cell_type": "code",
      "source": [
        "# 슬라이싱으로 문자열 나누기\n",
        "a = \"2023111222손흥민\"\n",
        "number = a[:10]\n",
        "name = a[-3:]\n",
        "print(number)\n",
        "print(name)"
      ],
      "metadata": {
        "id": "pCsTt7igILYj",
        "outputId": "16723618-c77f-4977-ac42-c1d7846c4e61",
        "colab": {
          "base_uri": "https://localhost:8080/"
        }
      },
      "execution_count": null,
      "outputs": [
        {
          "output_type": "stream",
          "name": "stdout",
          "text": [
            "2023111222\n",
            "손흥민\n"
          ]
        }
      ]
    },
    {
      "cell_type": "code",
      "source": [
        "# 슬라이싱으로 문자열 나누기2\n",
        "a = \"2023111222손흥민\"\n",
        "입학연도 = a[:4]\n",
        "학과코드 = a[4:7]\n",
        "학생코드 = a[-6:-3]\n",
        "학생이름 = a[-3:]\n",
        "print(입학연도, 학과코드, 학생코드, 학생이름)\n"
      ],
      "metadata": {
        "id": "OKZzgkUlIjNM",
        "outputId": "9173f3a8-2e82-4565-c128-d97592157e43",
        "colab": {
          "base_uri": "https://localhost:8080/"
        }
      },
      "execution_count": null,
      "outputs": [
        {
          "output_type": "stream",
          "name": "stdout",
          "text": [
            "2023 111 222 손흥민\n"
          ]
        }
      ]
    },
    {
      "cell_type": "code",
      "source": [
        "# 문자열 수정\n",
        "a = \"2023111222손흥미\"\n",
        "print(a[-1])\n",
        "a[-1] = '민'\n",
        "print(a)"
      ],
      "metadata": {
        "id": "-P4FWFQEI127",
        "outputId": "6ec730c5-947b-453b-e75a-477989c39156",
        "colab": {
          "base_uri": "https://localhost:8080/",
          "height": 248
        }
      },
      "execution_count": null,
      "outputs": [
        {
          "output_type": "stream",
          "name": "stdout",
          "text": [
            "미\n"
          ]
        },
        {
          "output_type": "error",
          "ename": "TypeError",
          "evalue": "ignored",
          "traceback": [
            "\u001b[0;31m---------------------------------------------------------------------------\u001b[0m",
            "\u001b[0;31mTypeError\u001b[0m                                 Traceback (most recent call last)",
            "\u001b[0;32m<ipython-input-34-5dcefb78e8a8>\u001b[0m in \u001b[0;36m<cell line: 4>\u001b[0;34m()\u001b[0m\n\u001b[1;32m      2\u001b[0m \u001b[0ma\u001b[0m \u001b[0;34m=\u001b[0m \u001b[0;34m\"2023111222손흥미\"\u001b[0m\u001b[0;34m\u001b[0m\u001b[0;34m\u001b[0m\u001b[0m\n\u001b[1;32m      3\u001b[0m \u001b[0mprint\u001b[0m\u001b[0;34m(\u001b[0m\u001b[0ma\u001b[0m\u001b[0;34m[\u001b[0m\u001b[0;34m-\u001b[0m\u001b[0;36m1\u001b[0m\u001b[0;34m]\u001b[0m\u001b[0;34m)\u001b[0m\u001b[0;34m\u001b[0m\u001b[0;34m\u001b[0m\u001b[0m\n\u001b[0;32m----> 4\u001b[0;31m \u001b[0ma\u001b[0m\u001b[0;34m[\u001b[0m\u001b[0;34m-\u001b[0m\u001b[0;36m1\u001b[0m\u001b[0;34m]\u001b[0m \u001b[0;34m=\u001b[0m \u001b[0;34m'민'\u001b[0m\u001b[0;34m\u001b[0m\u001b[0;34m\u001b[0m\u001b[0m\n\u001b[0m\u001b[1;32m      5\u001b[0m \u001b[0mprint\u001b[0m\u001b[0;34m(\u001b[0m\u001b[0ma\u001b[0m\u001b[0;34m)\u001b[0m\u001b[0;34m\u001b[0m\u001b[0;34m\u001b[0m\u001b[0m\n",
            "\u001b[0;31mTypeError\u001b[0m: 'str' object does not support item assignment"
          ]
        }
      ]
    },
    {
      "cell_type": "markdown",
      "source": [
        "### 2.4. 문자열 포매팅"
      ],
      "metadata": {
        "id": "GDpXE9rOKY0I"
      }
    },
    {
      "cell_type": "markdown",
      "source": [
        "**포맷 코드**\n",
        "* %d: 정수 삽입 (1, 11, 524. ...)\n",
        "* %s: 문자열 삽입 ('hello', \"안녕하세요\", ...)\n",
        "* %f: 실수 삽입 (0.12, -5.14, ...)"
      ],
      "metadata": {
        "id": "Ju0zAi0TNThB"
      }
    },
    {
      "cell_type": "code",
      "source": [
        "a = '우리반 총 인원 수는 25명 입니다.'\n",
        "print(a)"
      ],
      "metadata": {
        "id": "jD3-QS0PKfHQ",
        "outputId": "f9a52832-a650-4871-b4cc-e132cb4ff7c9",
        "colab": {
          "base_uri": "https://localhost:8080/"
        }
      },
      "execution_count": null,
      "outputs": [
        {
          "output_type": "stream",
          "name": "stdout",
          "text": [
            "우리반 총 인원 수는 25명 입니다.\n"
          ]
        }
      ]
    },
    {
      "cell_type": "code",
      "source": [
        "a = '우리반 총 인원 수는 %d명 입니다.' % 25\n",
        "print(a)"
      ],
      "metadata": {
        "id": "nsXGpVIVN9m5",
        "outputId": "1022fd73-a601-4fd9-b203-15098db78948",
        "colab": {
          "base_uri": "https://localhost:8080/"
        }
      },
      "execution_count": null,
      "outputs": [
        {
          "output_type": "stream",
          "name": "stdout",
          "text": [
            "우리반 총 인원 수는 25명 입니다.\n"
          ]
        }
      ]
    },
    {
      "cell_type": "code",
      "source": [
        "a = '%d년도 보건의료행정과 %d학년 총 인원 수는 %d명 입니다.' %(2023, 4, 25)\n",
        "print(a)"
      ],
      "metadata": {
        "id": "NNUxBou0OO_Y",
        "outputId": "18f69078-e0c4-4501-be47-45068e079afb",
        "colab": {
          "base_uri": "https://localhost:8080/"
        }
      },
      "execution_count": null,
      "outputs": [
        {
          "output_type": "stream",
          "name": "stdout",
          "text": [
            "2023년도 보건의료행정과 4학년 총 인원 수는 25명 입니다.\n"
          ]
        }
      ]
    },
    {
      "cell_type": "code",
      "source": [
        "year = 2023\n",
        "grade = 4\n",
        "number = 25\n",
        "a = '%d년도 보건의료행정과 %d학년 총 인원 수는 %d명 입니다.' %(year, grade, number)\n",
        "print(a)"
      ],
      "metadata": {
        "id": "jxRqM16lOfJI",
        "outputId": "c75d139d-f85a-4213-b6c7-ff069a7b2f9e",
        "colab": {
          "base_uri": "https://localhost:8080/"
        }
      },
      "execution_count": null,
      "outputs": [
        {
          "output_type": "stream",
          "name": "stdout",
          "text": [
            "2023년도 보건의료행정과 4학년 총 인원 수는 25명 입니다.\n"
          ]
        }
      ]
    },
    {
      "cell_type": "code",
      "source": [
        "year = 2023\n",
        "grade = 4\n",
        "number = 25\n",
        "prof = '정종훈'\n",
        "score = 4.1\n",
        "a = '%d년도 보건의료행정과 %d학년 총 인원 수는 %d명 입니다. (교수: %s, 평균학점: %0.2f)' %(year, grade, number, prof, score)\n",
        "print(a)"
      ],
      "metadata": {
        "id": "QbepGN_fOwG3",
        "outputId": "ed4b499c-98e1-47bf-94e8-4c16ffd177cd",
        "colab": {
          "base_uri": "https://localhost:8080/"
        }
      },
      "execution_count": null,
      "outputs": [
        {
          "output_type": "stream",
          "name": "stdout",
          "text": [
            "2023년도 보건의료행정과 4학년 총 인원 수는 25명 입니다. (교수: 정종훈, 평균학점: 4.10)\n"
          ]
        }
      ]
    },
    {
      "cell_type": "markdown",
      "source": [
        "**format 함수 사용**\n",
        "* \"{}문자열\".format(변수)\n",
        "* f\"{변수}문자열\""
      ],
      "metadata": {
        "id": "B6GlZA64PYvo"
      }
    },
    {
      "cell_type": "code",
      "source": [
        "year = 2023\n",
        "grade = 4\n",
        "number = 25\n",
        "prof = '정종훈'\n",
        "score = 4.1123124\n",
        "a = '{}년도 보건의료행정과 {}학년 총 인원 수는 {}명 입니다. (교수: {}, 평균학점: {})'.format(year, grade, number, prof, round(score, 2))\n",
        "print(a)"
      ],
      "metadata": {
        "id": "pz_T3mloPe-i",
        "outputId": "b1a56347-1ce0-446f-bb31-e20c2084493e",
        "colab": {
          "base_uri": "https://localhost:8080/"
        }
      },
      "execution_count": null,
      "outputs": [
        {
          "output_type": "stream",
          "name": "stdout",
          "text": [
            "2023년도 보건의료행정과 4학년 총 인원 수는 25명 입니다. (교수: 정종훈, 평균학점: 4.11)\n"
          ]
        }
      ]
    },
    {
      "cell_type": "code",
      "source": [
        "year = 2023\n",
        "grade = 4\n",
        "number = 25\n",
        "prof = '정종훈'\n",
        "score = 4.1123124\n",
        "a = f'{year}년도 보건의료행정과 {grade}학년 총 인원 수는 {number}명 입니다. (교수: {prof}, 평균학점: {round(score, 3)})'\n",
        "print(a)"
      ],
      "metadata": {
        "id": "EaHzMvuHP9U2",
        "outputId": "5326b64b-cfea-45ed-d5f8-592ba12c3d20",
        "colab": {
          "base_uri": "https://localhost:8080/"
        }
      },
      "execution_count": null,
      "outputs": [
        {
          "output_type": "stream",
          "name": "stdout",
          "text": [
            "2023년도 보건의료행정과 4학년 총 인원 수는 25명 입니다. (교수: 정종훈, 평균학점: 4.112)\n"
          ]
        }
      ]
    },
    {
      "cell_type": "markdown",
      "source": [
        "### Quiz. a, b 변수만 입력해서, 아래의 문장을 출력하시오.\n",
        "\n",
        "a = 7\n",
        "\n",
        "b = 8\n",
        "\n",
        "\"7 X 8 = 56\""
      ],
      "metadata": {
        "id": "I_Ccrs_6QakI"
      }
    },
    {
      "cell_type": "code",
      "source": [
        "a = 7\n",
        "b = 8\n",
        "print('')\n",
        "print('7 X 8 = 56') # 정답으로 인정 X"
      ],
      "metadata": {
        "id": "t_Mz8eFhQrAw",
        "outputId": "1b4bef13-8df5-4ec4-ff72-2a3d96d4a439",
        "colab": {
          "base_uri": "https://localhost:8080/"
        }
      },
      "execution_count": null,
      "outputs": [
        {
          "output_type": "stream",
          "name": "stdout",
          "text": [
            "\n",
            "7 X 8 = 56\n"
          ]
        }
      ]
    },
    {
      "cell_type": "code",
      "source": [
        "# 정답\n",
        "a = 7\n",
        "b = 8\n",
        "print('%d X %d = %d' %(a, b, a*b))\n",
        "print('{} X {} = {}'.format(a, b, a*b))\n",
        "print(f'{a} X {b} = {a*b}')"
      ],
      "metadata": {
        "id": "XZy9-M1YSgJf",
        "outputId": "05df73d2-4b0b-4854-938f-98ac976dac51",
        "colab": {
          "base_uri": "https://localhost:8080/"
        }
      },
      "execution_count": null,
      "outputs": [
        {
          "output_type": "stream",
          "name": "stdout",
          "text": [
            "7 X 8 = 56\n",
            "7 X 8 = 56\n",
            "7 X 8 = 56\n"
          ]
        }
      ]
    },
    {
      "cell_type": "code",
      "source": [
        "# 정답\n",
        "a = 7\n",
        "b = 8\n",
        "c = 56\n",
        "print('%d X %d = %d' %(a, b, c))"
      ],
      "metadata": {
        "id": "35RkiAAlTOrP",
        "outputId": "731b3b6b-10a8-4e8d-f748-4e7c7bcbb7c6",
        "colab": {
          "base_uri": "https://localhost:8080/"
        }
      },
      "execution_count": null,
      "outputs": [
        {
          "output_type": "stream",
          "name": "stdout",
          "text": [
            "7 X 8 = 56\n"
          ]
        }
      ]
    },
    {
      "cell_type": "markdown",
      "source": [
        "### 2.5. 문자열 관련 함수\n",
        "* 문자 개수 새기: count()"
      ],
      "metadata": {
        "id": "WSkF5vr_KbQY"
      }
    },
    {
      "cell_type": "code",
      "source": [
        "a = 'hello'\n",
        "print(a.count('l'))"
      ],
      "metadata": {
        "id": "pbqZFYWrJu9r"
      },
      "execution_count": null,
      "outputs": []
    },
    {
      "cell_type": "code",
      "source": [],
      "metadata": {
        "id": "ZiSMKnQoF_ak"
      },
      "execution_count": null,
      "outputs": []
    }
  ],
  "metadata": {
    "language_info": {
      "name": "python"
    },
    "orig_nbformat": 4,
    "colab": {
      "provenance": [],
      "include_colab_link": true
    },
    "kernelspec": {
      "name": "python3",
      "display_name": "Python 3"
    },
    "gpuClass": "standard"
  },
  "nbformat": 4,
  "nbformat_minor": 0
}