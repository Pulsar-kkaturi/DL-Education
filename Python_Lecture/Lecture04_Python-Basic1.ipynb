{
  "cells": [
    {
      "cell_type": "markdown",
      "metadata": {
        "id": "view-in-github",
        "colab_type": "text"
      },
      "source": [
        "<a href=\"https://colab.research.google.com/github/Pulsar-kkaturi/DL-Education/blob/master/Python_Lecture/Lecture04_Python-Basic1.ipynb\" target=\"_parent\"><img src=\"https://colab.research.google.com/assets/colab-badge.svg\" alt=\"Open In Colab\"/></a>"
      ]
    },
    {
      "cell_type": "markdown",
      "metadata": {
        "id": "Kk6y9-eT9UtZ"
      },
      "source": [
        "# Lecture 4. 파이썬 프로그래밍 기초 1. 자료형: 숫자와 문자"
      ]
    },
    {
      "cell_type": "markdown",
      "metadata": {
        "id": "uxMnBSBf9Uta"
      },
      "source": [
        "## 1. 숫자형"
      ]
    },
    {
      "cell_type": "markdown",
      "source": [
        "### 1.1. 자료형 (정수)"
      ],
      "metadata": {
        "id": "rMmMiX52-XDz"
      }
    },
    {
      "cell_type": "code",
      "source": [
        "a = 10\n",
        "b = 3"
      ],
      "metadata": {
        "id": "CnblCfcT-c9t"
      },
      "execution_count": null,
      "outputs": []
    },
    {
      "cell_type": "code",
      "source": [
        "a + b"
      ],
      "metadata": {
        "id": "XcJbH5Ht-m2s"
      },
      "execution_count": null,
      "outputs": []
    },
    {
      "cell_type": "code",
      "source": [
        "a * b"
      ],
      "metadata": {
        "id": "pT6nPMcc-qSs"
      },
      "execution_count": null,
      "outputs": []
    },
    {
      "cell_type": "code",
      "source": [
        "a - b"
      ],
      "metadata": {
        "id": "QgJUcyAM-rKd"
      },
      "execution_count": null,
      "outputs": []
    },
    {
      "cell_type": "code",
      "source": [
        "a / b"
      ],
      "metadata": {
        "id": "7fyBPgmt-y4l"
      },
      "execution_count": null,
      "outputs": []
    },
    {
      "cell_type": "markdown",
      "source": [
        "### 1.2. 자료형 (실수)"
      ],
      "metadata": {
        "id": "9OX_2QFT_CTK"
      }
    },
    {
      "cell_type": "code",
      "source": [
        "a = 1.2\n",
        "b = -3.45"
      ],
      "metadata": {
        "id": "UQi-3put-0R1"
      },
      "execution_count": null,
      "outputs": []
    },
    {
      "cell_type": "code",
      "source": [
        "a + b"
      ],
      "metadata": {
        "id": "evGABmXY_RIb"
      },
      "execution_count": null,
      "outputs": []
    },
    {
      "cell_type": "code",
      "source": [
        "a - b"
      ],
      "metadata": {
        "id": "whifRJ56_VHV"
      },
      "execution_count": null,
      "outputs": []
    },
    {
      "cell_type": "code",
      "source": [
        "a * b"
      ],
      "metadata": {
        "id": "2XVGEaSl_Wdl"
      },
      "execution_count": null,
      "outputs": []
    },
    {
      "cell_type": "code",
      "source": [
        "a/b"
      ],
      "metadata": {
        "id": "y3LPPizM_XyF"
      },
      "execution_count": null,
      "outputs": []
    },
    {
      "cell_type": "code",
      "source": [
        "c = 3.456e20"
      ],
      "metadata": {
        "id": "i7ekKg38_Zel"
      },
      "execution_count": null,
      "outputs": []
    },
    {
      "cell_type": "code",
      "source": [
        "c"
      ],
      "metadata": {
        "id": "F10P_mlO_iFU"
      },
      "execution_count": null,
      "outputs": []
    },
    {
      "cell_type": "markdown",
      "source": [
        "### 1.3. 사칙연산"
      ],
      "metadata": {
        "id": "RS73M4r1ABrr"
      }
    },
    {
      "cell_type": "markdown",
      "source": [
        "* 더하기: +\n",
        "* 빼기: -\n",
        "* 곱하기: *\n",
        "* 제곱: **\n",
        "* 나누기: /\n",
        "* 몫 나눗셈: //\n",
        "* 나머지 나눗셈: %"
      ],
      "metadata": {
        "id": "6DF_Wv70AUYI"
      }
    },
    {
      "cell_type": "code",
      "source": [
        "a = 2\n",
        "b = 3"
      ],
      "metadata": {
        "id": "o3dSkblZAEzU"
      },
      "execution_count": null,
      "outputs": []
    },
    {
      "cell_type": "code",
      "source": [
        "a ** b"
      ],
      "metadata": {
        "id": "G4GEmBlMAKA1"
      },
      "execution_count": null,
      "outputs": []
    },
    {
      "cell_type": "code",
      "source": [
        "a = 5\n",
        "b = 3\n",
        "a/b"
      ],
      "metadata": {
        "id": "2gI6MjEgAhYL"
      },
      "execution_count": null,
      "outputs": []
    },
    {
      "cell_type": "code",
      "source": [
        "a//b"
      ],
      "metadata": {
        "id": "OpBK-n5fAqAV"
      },
      "execution_count": null,
      "outputs": []
    },
    {
      "cell_type": "code",
      "source": [
        "a%b"
      ],
      "metadata": {
        "id": "z-XmtaIHAvAN"
      },
      "execution_count": null,
      "outputs": []
    },
    {
      "cell_type": "markdown",
      "source": [
        "### Quiz. \n",
        "x = 17일때,\n",
        "\n",
        "3X<sup>3</sup>-5X<sup>2</sup>+11X+1 \n",
        "의 값을 구하시오."
      ],
      "metadata": {
        "id": "Y68tUSESBy_U"
      }
    },
    {
      "cell_type": "code",
      "source": [
        "x = 17\n",
        "3*x**3-5*x**2+11*x+1"
      ],
      "metadata": {
        "id": "so1qkfUXCvPt"
      },
      "execution_count": null,
      "outputs": []
    },
    {
      "cell_type": "markdown",
      "source": [
        "## 2. 문자열"
      ],
      "metadata": {
        "id": "9WqP5SUKF4ON"
      }
    },
    {
      "cell_type": "markdown",
      "source": [
        "### 2.1. 문자열 만들기"
      ],
      "metadata": {
        "id": "7PVZqTNUJWmW"
      }
    },
    {
      "cell_type": "code",
      "source": [
        "# 주석 처리\n",
        "print(\"파이썬\")\n",
        "print('한국 축구 화이팅!')"
      ],
      "metadata": {
        "id": "vL5VisLbGqHO"
      },
      "execution_count": null,
      "outputs": []
    },
    {
      "cell_type": "code",
      "source": [
        "a = 112412341234\n",
        "b = '연성대학교 보건의료행정과'\n",
        "print(a, b)"
      ],
      "metadata": {
        "id": "LjrI2ndMGXzN"
      },
      "execution_count": null,
      "outputs": []
    },
    {
      "cell_type": "code",
      "source": [
        "news = \"\"\" \n",
        "위르겐 클린스만 감독이 28일 오후 8시 서울월드컵경기자에서 열리는 우루과이와의 친선경기에 앞서 베스트11을 공개했다.\n",
        "\n",
        "클린스만 감독은 24일 콜롬비아와의 데뷔전에서 2대2로 비겼다. 우루과이전의 화두는 첫 승이다.\n",
        "\n",
        "원톱에는 황의조(서울)가 포진하는 가운데 2선에는 이강인 손흥민(토트넘) 이재성(마인츠)이 선다. 수비형 미드필더에는 황인범(올림피아코스)과 정우영(알 사드)이 짝을 이룬다.\n",
        "\"\"\" # 문단을 문자열로 만들고 싶을때는 따옴표를 세번 쓰자\n",
        "print(news)"
      ],
      "metadata": {
        "id": "T_syDQQTF99F"
      },
      "execution_count": null,
      "outputs": []
    },
    {
      "cell_type": "markdown",
      "source": [
        "학생들이 말했다. \"빨리 끝내고 축구 보여주세요\""
      ],
      "metadata": {
        "id": "59jJBJfVHlGe"
      }
    },
    {
      "cell_type": "code",
      "source": [
        "student = '학생들이 말했다. \\n \"빨리 끝내고 축구 보여주세요\"'\n",
        "print(student)"
      ],
      "metadata": {
        "id": "Ja2_Z3FGGTue"
      },
      "execution_count": null,
      "outputs": []
    },
    {
      "cell_type": "code",
      "source": [
        "student = '학생들이 말했다. \\'빨리 끝내고 축구 봐요\\''\n",
        "print(student)"
      ],
      "metadata": {
        "id": "n8GjrKDJH2_1"
      },
      "execution_count": null,
      "outputs": []
    },
    {
      "cell_type": "markdown",
      "source": [
        "### 2.2. 문자열 연산하기"
      ],
      "metadata": {
        "id": "hxuJtXoxJTR_"
      }
    },
    {
      "cell_type": "code",
      "source": [
        "# 문자열 더하기\n",
        "a = \"연성대학교\"\n",
        "b = \"보건의료행정과\"\n",
        "c = \" \"\n",
        "print(a+c+b)"
      ],
      "metadata": {
        "id": "YNsbgthyIUr_"
      },
      "execution_count": null,
      "outputs": []
    },
    {
      "cell_type": "code",
      "source": [
        "# 문자열 곱하기\n",
        "a = \"!!\"\n",
        "print(\"댕댕이 너무 귀여워\", a*3000)"
      ],
      "metadata": {
        "id": "ldIotba_KFx5"
      },
      "execution_count": null,
      "outputs": []
    },
    {
      "cell_type": "code",
      "source": [
        "print(\"=\" * 50)\n",
        "print(\"My Program\")\n",
        "print(\"=\" * 50)"
      ],
      "metadata": {
        "id": "26WMDWzEKp5H"
      },
      "execution_count": null,
      "outputs": []
    },
    {
      "cell_type": "code",
      "source": [
        "# 문자열 길이 구하기\n",
        "a = \"안녕하세요\"\n",
        "print(len(a))\n",
        "print(len(news))"
      ],
      "metadata": {
        "id": "DF9riTt_KxjP"
      },
      "execution_count": null,
      "outputs": []
    },
    {
      "cell_type": "markdown",
      "source": [
        "### 2.3. 문자열의 인덱싱과 슬라이싱"
      ],
      "metadata": {
        "id": "o2H07Gv0EIvN"
      }
    },
    {
      "cell_type": "code",
      "source": [
        "a = \"Life is too short, You need Python\"\n",
        "print(a)"
      ],
      "metadata": {
        "id": "2O_08fc-EOb8"
      },
      "execution_count": null,
      "outputs": []
    },
    {
      "cell_type": "code",
      "source": [
        "# 문자열 인덱싱\n",
        "print(a[3])\n",
        "print(a[4])"
      ],
      "metadata": {
        "id": "aUDsBTcGGrOF"
      },
      "execution_count": null,
      "outputs": []
    },
    {
      "cell_type": "code",
      "source": [
        "# 문자열 인덱싱 (역순)\n",
        "print(a[-1], a[-6])\n"
      ],
      "metadata": {
        "id": "feCkKQmuG0Bl"
      },
      "execution_count": null,
      "outputs": []
    },
    {
      "cell_type": "code",
      "source": [
        "# 문자열 슬라이싱 \n",
        "print(a[:4]) # 0은 생략 가능!\n",
        "print(a[5:7])"
      ],
      "metadata": {
        "id": "vD2IGNxlHBDs"
      },
      "execution_count": null,
      "outputs": []
    },
    {
      "cell_type": "code",
      "source": [
        "# 문자열 슬라이싱 (역순)\n",
        "print(a[-6:])\n",
        "print(a[-11:-7])"
      ],
      "metadata": {
        "id": "MJ3nlIsTHg2z"
      },
      "execution_count": null,
      "outputs": []
    },
    {
      "cell_type": "code",
      "source": [
        "print(a)\n",
        "print(a[:])"
      ],
      "metadata": {
        "id": "x1VyXv_6Hwpo"
      },
      "execution_count": null,
      "outputs": []
    },
    {
      "cell_type": "code",
      "source": [
        "# 슬라이싱으로 문자열 나누기\n",
        "a = \"2023111222손흥민\"\n",
        "number = a[:10]\n",
        "name = a[-3:]\n",
        "print(number)\n",
        "print(name)"
      ],
      "metadata": {
        "id": "pCsTt7igILYj"
      },
      "execution_count": null,
      "outputs": []
    },
    {
      "cell_type": "code",
      "source": [
        "# 슬라이싱으로 문자열 나누기2\n",
        "a = \"2023111222손흥민\"\n",
        "입학연도 = a[:4]\n",
        "학과코드 = a[4:7]\n",
        "학생코드 = a[-6:-3]\n",
        "학생이름 = a[-3:]\n",
        "print(입학연도, 학과코드, 학생코드, 학생이름)\n"
      ],
      "metadata": {
        "id": "OKZzgkUlIjNM"
      },
      "execution_count": null,
      "outputs": []
    },
    {
      "cell_type": "code",
      "source": [
        "# 문자열 수정\n",
        "a = \"2023111222손흥미\"\n",
        "print(a[-1])\n",
        "a[-1] = '민'\n",
        "print(a)"
      ],
      "metadata": {
        "id": "-P4FWFQEI127"
      },
      "execution_count": null,
      "outputs": []
    },
    {
      "cell_type": "markdown",
      "source": [
        "### 2.4. 문자열 포매팅"
      ],
      "metadata": {
        "id": "GDpXE9rOKY0I"
      }
    },
    {
      "cell_type": "markdown",
      "source": [
        "**포맷 코드**\n",
        "* %d: 정수 삽입 (1, 11, 524. ...)\n",
        "* %s: 문자열 삽입 ('hello', \"안녕하세요\", ...)\n",
        "* %f: 실수 삽입 (0.12, -5.14, ...)"
      ],
      "metadata": {
        "id": "Ju0zAi0TNThB"
      }
    },
    {
      "cell_type": "code",
      "source": [
        "a = '우리반 총 인원 수는 25명 입니다.'\n",
        "print(a)"
      ],
      "metadata": {
        "id": "jD3-QS0PKfHQ"
      },
      "execution_count": null,
      "outputs": []
    },
    {
      "cell_type": "code",
      "source": [
        "a = '우리반 총 인원 수는 %d명 입니다.' % 25\n",
        "print(a)"
      ],
      "metadata": {
        "id": "nsXGpVIVN9m5"
      },
      "execution_count": null,
      "outputs": []
    },
    {
      "cell_type": "code",
      "source": [
        "a = '%d년도 보건의료행정과 %d학년 총 인원 수는 %d명 입니다.' %(2023, 4, 25)\n",
        "print(a)"
      ],
      "metadata": {
        "id": "NNUxBou0OO_Y"
      },
      "execution_count": null,
      "outputs": []
    },
    {
      "cell_type": "code",
      "source": [
        "year = 2023\n",
        "grade = 4\n",
        "number = 25\n",
        "a = '%d년도 보건의료행정과 %d학년 총 인원 수는 %d명 입니다.' %(year, grade, number)\n",
        "print(a)"
      ],
      "metadata": {
        "id": "jxRqM16lOfJI"
      },
      "execution_count": null,
      "outputs": []
    },
    {
      "cell_type": "code",
      "source": [
        "year = 2023\n",
        "grade = 4\n",
        "number = 25\n",
        "prof = '정종훈'\n",
        "score = 4.1\n",
        "a = '%d년도 보건의료행정과 %d학년 총 인원 수는 %d명 입니다. (교수: %s, 평균학점: %0.2f)' %(year, grade, number, prof, score)\n",
        "print(a)"
      ],
      "metadata": {
        "id": "QbepGN_fOwG3"
      },
      "execution_count": null,
      "outputs": []
    },
    {
      "cell_type": "markdown",
      "source": [
        "**format 함수 사용**\n",
        "* \"{}문자열\".format(변수)\n",
        "* f\"{변수}문자열\""
      ],
      "metadata": {
        "id": "B6GlZA64PYvo"
      }
    },
    {
      "cell_type": "code",
      "source": [
        "year = 2023\n",
        "grade = 4\n",
        "number = 25\n",
        "prof = '정종훈'\n",
        "score = 4.1123124\n",
        "a = '{}년도 보건의료행정과 {}학년 총 인원 수는 {}명 입니다. (교수: {}, 평균학점: {})'.format(year, grade, number, prof, round(score, 2))\n",
        "print(a)"
      ],
      "metadata": {
        "id": "pz_T3mloPe-i"
      },
      "execution_count": null,
      "outputs": []
    },
    {
      "cell_type": "code",
      "source": [
        "year = 2023\n",
        "grade = 4\n",
        "number = 25\n",
        "prof = '정종훈'\n",
        "score = 4.1123124\n",
        "a = f'{year}년도 보건의료행정과 {grade}학년 총 인원 수는 {number}명 입니다. (교수: {prof}, 평균학점: {round(score, 3)})'\n",
        "print(a)"
      ],
      "metadata": {
        "id": "EaHzMvuHP9U2"
      },
      "execution_count": null,
      "outputs": []
    },
    {
      "cell_type": "markdown",
      "source": [
        "### Quiz. a, b 변수만 입력해서, 아래의 문장을 출력하시오.\n",
        "\n",
        "a = 7\n",
        "\n",
        "b = 8\n",
        "\n",
        "\"7 X 8 = 56\""
      ],
      "metadata": {
        "id": "I_Ccrs_6QakI"
      }
    },
    {
      "cell_type": "code",
      "source": [
        "a = 7\n",
        "b = 8\n",
        "print('')\n",
        "print('7 X 8 = 56') # 정답으로 인정 X"
      ],
      "metadata": {
        "id": "t_Mz8eFhQrAw"
      },
      "execution_count": null,
      "outputs": []
    },
    {
      "cell_type": "code",
      "source": [
        "# 정답\n",
        "a = 7\n",
        "b = 8\n",
        "print('%d X %d = %d' %(a, b, a*b))\n",
        "print('{} X {} = {}'.format(a, b, a*b))\n",
        "print(f'{a} X {b} = {a*b}')"
      ],
      "metadata": {
        "id": "XZy9-M1YSgJf"
      },
      "execution_count": null,
      "outputs": []
    },
    {
      "cell_type": "code",
      "source": [
        "# 정답\n",
        "a = 7\n",
        "b = 8\n",
        "c = 56\n",
        "print('%d X %d = %d' %(a, b, c))"
      ],
      "metadata": {
        "id": "35RkiAAlTOrP"
      },
      "execution_count": null,
      "outputs": []
    },
    {
      "cell_type": "markdown",
      "source": [
        "### 2.5. 문자열 관련 함수\n",
        "* 문자 개수 세기: count()\n",
        "* 위치 알려주기: find(), index()\n",
        "* 문자열 삽입: join()\n",
        "* 문자열 나누기: split()\n",
        "* 문자열 교체하기: replace()"
      ],
      "metadata": {
        "id": "WSkF5vr_KbQY"
      }
    },
    {
      "cell_type": "code",
      "source": [
        "a = 'hello, my name is tom'\n",
        "print(a.count('l'))\n",
        "print(a.count('H'))\n",
        "print(a.count(' '))"
      ],
      "metadata": {
        "id": "pbqZFYWrJu9r"
      },
      "execution_count": null,
      "outputs": []
    },
    {
      "cell_type": "code",
      "source": [
        "a = 'hello, my name is tom'\n",
        "print(a.find('y'))\n",
        "print(a.index('y'))"
      ],
      "metadata": {
        "id": "bg1M1zjLG8aT"
      },
      "execution_count": null,
      "outputs": []
    },
    {
      "cell_type": "code",
      "source": [
        "# 중복된 글자가 있는 경우에는 제일 앞에 글자의 위치만 알려준다!\n",
        "a = 'hello, my name is tom'\n",
        "print(a.find('m'))\n",
        "print(a.index('m'))\n",
        "print(a.count('m'))"
      ],
      "metadata": {
        "id": "sEWY1TKQHe4v"
      },
      "execution_count": null,
      "outputs": []
    },
    {
      "cell_type": "code",
      "source": [
        "a = 'abcd'\n",
        "b = ','\n",
        "print(b.join(a))\n",
        "print(','.join('abcd'))"
      ],
      "metadata": {
        "id": "HLHcGMiTHqW_"
      },
      "execution_count": null,
      "outputs": []
    },
    {
      "cell_type": "code",
      "source": [
        "print(', '.join(['hello', 'my name is tom']))"
      ],
      "metadata": {
        "id": "Z3fSknaFIUfW"
      },
      "execution_count": null,
      "outputs": []
    },
    {
      "cell_type": "code",
      "source": [
        "a = 'hello, my name is tom'\n",
        "print(a.split(','))\n",
        "print(a.split(' '))"
      ],
      "metadata": {
        "id": "enlCMnAxImu0"
      },
      "execution_count": null,
      "outputs": []
    },
    {
      "cell_type": "code",
      "source": [
        "a = 'hello, my name is tom'\n",
        "print(a.replace('tom', 'brad'))"
      ],
      "metadata": {
        "id": "cGiSoUARI_uO"
      },
      "execution_count": null,
      "outputs": []
    },
    {
      "cell_type": "code",
      "source": [],
      "metadata": {
        "id": "Lx6K3ySYJuTG"
      },
      "execution_count": null,
      "outputs": []
    }
  ],
  "metadata": {
    "language_info": {
      "name": "python"
    },
    "orig_nbformat": 4,
    "colab": {
      "provenance": [],
      "include_colab_link": true
    },
    "kernelspec": {
      "name": "python3",
      "display_name": "Python 3"
    },
    "gpuClass": "standard"
  },
  "nbformat": 4,
  "nbformat_minor": 0
}