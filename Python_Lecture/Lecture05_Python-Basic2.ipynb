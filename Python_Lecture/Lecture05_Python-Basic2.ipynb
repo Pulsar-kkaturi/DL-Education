{
  "cells": [
    {
      "cell_type": "markdown",
      "metadata": {
        "id": "view-in-github",
        "colab_type": "text"
      },
      "source": [
        "<a href=\"https://colab.research.google.com/github/Pulsar-kkaturi/DL-Education/blob/master/Python_Lecture/Lecture05_Python-Basic2.ipynb\" target=\"_parent\"><img src=\"https://colab.research.google.com/assets/colab-badge.svg\" alt=\"Open In Colab\"/></a>"
      ]
    },
    {
      "cell_type": "markdown",
      "metadata": {
        "id": "c4gtWdziKasH"
      },
      "source": [
        "# Lecture 5. 파이썬 프로그래밍 기초 2. 자료형: 리스트, 튜플, 딕셔너리"
      ]
    },
    {
      "cell_type": "markdown",
      "metadata": {
        "id": "xC_sfwFCKasI"
      },
      "source": [
        "## 1. 리스트"
      ]
    },
    {
      "cell_type": "code",
      "source": [
        "a = [1,2,3,4]\n",
        "b = ['a', 'b', 'c']\n",
        "c = [1,2,'a','b']\n",
        "d = [1,2,[1,2,3]]\n",
        "print(a)\n",
        "print(b)\n",
        "print(c)\n",
        "print(d)"
      ],
      "metadata": {
        "id": "BQeY3fneM1ws",
        "outputId": "56d9697d-f9b3-4967-f437-a87f2a50b24f",
        "colab": {
          "base_uri": "https://localhost:8080/"
        }
      },
      "execution_count": 1,
      "outputs": [
        {
          "output_type": "stream",
          "name": "stdout",
          "text": [
            "[1, 2, 3, 4]\n",
            "['a', 'b', 'c']\n",
            "[1, 2, 'a', 'b']\n",
            "[1, 2, [1, 2, 3]]\n"
          ]
        }
      ]
    },
    {
      "cell_type": "markdown",
      "source": [
        "### 1.1. 인덱싱과 슬라이싱"
      ],
      "metadata": {
        "id": "-rXIFDNGNk50"
      }
    },
    {
      "cell_type": "code",
      "source": [
        "a = [1,2,3]\n",
        "print(a)"
      ],
      "metadata": {
        "id": "dSEayjjeNoYT",
        "outputId": "a6d96ea6-1754-4007-f98a-d9b7a2cddcaa",
        "colab": {
          "base_uri": "https://localhost:8080/"
        }
      },
      "execution_count": 2,
      "outputs": [
        {
          "output_type": "stream",
          "name": "stdout",
          "text": [
            "[1, 2, 3]\n"
          ]
        }
      ]
    },
    {
      "cell_type": "code",
      "source": [
        "print(a[1])"
      ],
      "metadata": {
        "id": "IK0sDKxYN1Zs",
        "outputId": "05e6034e-616e-4512-d7ef-fe15407679ac",
        "colab": {
          "base_uri": "https://localhost:8080/"
        }
      },
      "execution_count": 7,
      "outputs": [
        {
          "output_type": "stream",
          "name": "stdout",
          "text": [
            "2\n"
          ]
        }
      ]
    },
    {
      "cell_type": "code",
      "source": [
        "print(a[-1])"
      ],
      "metadata": {
        "id": "EwviNjcKObR8",
        "outputId": "2332788e-b74a-44bf-b458-17507acfa654",
        "colab": {
          "base_uri": "https://localhost:8080/"
        }
      },
      "execution_count": 8,
      "outputs": [
        {
          "output_type": "stream",
          "name": "stdout",
          "text": [
            "3\n"
          ]
        }
      ]
    },
    {
      "cell_type": "code",
      "source": [
        "print(a[5]) # 범위를 벗어나는 인덱스를 넣으면 에러 발생"
      ],
      "metadata": {
        "id": "a4wUCN7wOlf8",
        "outputId": "2deda480-5ecc-4ace-d877-beabb339f39c",
        "colab": {
          "base_uri": "https://localhost:8080/",
          "height": 171
        }
      },
      "execution_count": 9,
      "outputs": [
        {
          "output_type": "error",
          "ename": "IndexError",
          "evalue": "ignored",
          "traceback": [
            "\u001b[0;31m---------------------------------------------------------------------------\u001b[0m",
            "\u001b[0;31mIndexError\u001b[0m                                Traceback (most recent call last)",
            "\u001b[0;32m<ipython-input-9-8f63bedb8ed0>\u001b[0m in \u001b[0;36m<cell line: 1>\u001b[0;34m()\u001b[0m\n\u001b[0;32m----> 1\u001b[0;31m \u001b[0mprint\u001b[0m\u001b[0;34m(\u001b[0m\u001b[0ma\u001b[0m\u001b[0;34m[\u001b[0m\u001b[0;36m5\u001b[0m\u001b[0;34m]\u001b[0m\u001b[0;34m)\u001b[0m\u001b[0;34m\u001b[0m\u001b[0;34m\u001b[0m\u001b[0m\n\u001b[0m",
            "\u001b[0;31mIndexError\u001b[0m: list index out of range"
          ]
        }
      ]
    },
    {
      "cell_type": "code",
      "source": [
        "a = [[1,2],[3,4]]\n",
        "print(a[0])\n",
        "print(a[0][1])"
      ],
      "metadata": {
        "id": "RsZMK40wOnuM",
        "outputId": "2e0da86d-e776-41a8-ce87-86f3f8d6ca9c",
        "colab": {
          "base_uri": "https://localhost:8080/"
        }
      },
      "execution_count": 11,
      "outputs": [
        {
          "output_type": "stream",
          "name": "stdout",
          "text": [
            "[1, 2]\n",
            "2\n"
          ]
        }
      ]
    },
    {
      "cell_type": "code",
      "source": [
        "# 슬라이싱\n",
        "a = [1,2,3,4,5]\n",
        "print(a[1:4])\n",
        "print(a[:3])\n",
        "print(a[-3:])"
      ],
      "metadata": {
        "id": "fk0Oyfa0PhrR",
        "outputId": "f6e6ceea-e5ed-49a1-e839-42356560736d",
        "colab": {
          "base_uri": "https://localhost:8080/"
        }
      },
      "execution_count": 19,
      "outputs": [
        {
          "output_type": "stream",
          "name": "stdout",
          "text": [
            "[2, 3, 4]\n",
            "[1, 2, 3]\n",
            "[3, 4, 5]\n"
          ]
        }
      ]
    },
    {
      "cell_type": "markdown",
      "source": [
        "### 1.2. 리스트 연산하기\n",
        "* 리스트 더하기\n",
        "* 리스트 곱하기 (반복)\n",
        "* 리스트 길이 구하기"
      ],
      "metadata": {
        "id": "oB2Rs_d4P4ac"
      }
    },
    {
      "cell_type": "code",
      "source": [
        "a = [1,2,3]\n",
        "b = [4,5,6]\n",
        "c = a + b\n",
        "d = b + a\n",
        "print(c)\n",
        "print(d)"
      ],
      "metadata": {
        "id": "-ib_SjDLP6u8",
        "outputId": "cc037f9e-019a-46d6-da0e-2e5e89495f2a",
        "colab": {
          "base_uri": "https://localhost:8080/"
        }
      },
      "execution_count": 30,
      "outputs": [
        {
          "output_type": "stream",
          "name": "stdout",
          "text": [
            "[1, 2, 3, 4, 5, 6]\n",
            "[4, 5, 6, 1, 2, 3]\n"
          ]
        }
      ]
    },
    {
      "cell_type": "code",
      "source": [
        "e = a * 3\n",
        "print(e)"
      ],
      "metadata": {
        "id": "EhCMDuYEQOis",
        "outputId": "2adc5d03-fdb7-4e9d-df80-4c04f25f81c5",
        "colab": {
          "base_uri": "https://localhost:8080/"
        }
      },
      "execution_count": 32,
      "outputs": [
        {
          "output_type": "stream",
          "name": "stdout",
          "text": [
            "[1, 2, 3, 1, 2, 3, 1, 2, 3]\n"
          ]
        }
      ]
    },
    {
      "cell_type": "code",
      "source": [
        "print(len(a))\n",
        "print(len(c))\n",
        "print(len(e))"
      ],
      "metadata": {
        "id": "O1LsvOmxQplT",
        "outputId": "2c5d2535-5762-4bec-fbbd-bd6024d51a41",
        "colab": {
          "base_uri": "https://localhost:8080/"
        }
      },
      "execution_count": 33,
      "outputs": [
        {
          "output_type": "stream",
          "name": "stdout",
          "text": [
            "3\n",
            "6\n",
            "9\n"
          ]
        }
      ]
    },
    {
      "cell_type": "code",
      "source": [
        "a = ['ㅜㅜ'] * 100\n",
        "print(a)\n",
        "print(len(a))"
      ],
      "metadata": {
        "id": "zEgOjmeRQcND",
        "outputId": "3e901911-cd1f-43f2-fee4-4e1d6e970f11",
        "colab": {
          "base_uri": "https://localhost:8080/"
        }
      },
      "execution_count": 34,
      "outputs": [
        {
          "output_type": "stream",
          "name": "stdout",
          "text": [
            "['ㅜㅜ', 'ㅜㅜ', 'ㅜㅜ', 'ㅜㅜ', 'ㅜㅜ', 'ㅜㅜ', 'ㅜㅜ', 'ㅜㅜ', 'ㅜㅜ', 'ㅜㅜ', 'ㅜㅜ', 'ㅜㅜ', 'ㅜㅜ', 'ㅜㅜ', 'ㅜㅜ', 'ㅜㅜ', 'ㅜㅜ', 'ㅜㅜ', 'ㅜㅜ', 'ㅜㅜ', 'ㅜㅜ', 'ㅜㅜ', 'ㅜㅜ', 'ㅜㅜ', 'ㅜㅜ', 'ㅜㅜ', 'ㅜㅜ', 'ㅜㅜ', 'ㅜㅜ', 'ㅜㅜ', 'ㅜㅜ', 'ㅜㅜ', 'ㅜㅜ', 'ㅜㅜ', 'ㅜㅜ', 'ㅜㅜ', 'ㅜㅜ', 'ㅜㅜ', 'ㅜㅜ', 'ㅜㅜ', 'ㅜㅜ', 'ㅜㅜ', 'ㅜㅜ', 'ㅜㅜ', 'ㅜㅜ', 'ㅜㅜ', 'ㅜㅜ', 'ㅜㅜ', 'ㅜㅜ', 'ㅜㅜ', 'ㅜㅜ', 'ㅜㅜ', 'ㅜㅜ', 'ㅜㅜ', 'ㅜㅜ', 'ㅜㅜ', 'ㅜㅜ', 'ㅜㅜ', 'ㅜㅜ', 'ㅜㅜ', 'ㅜㅜ', 'ㅜㅜ', 'ㅜㅜ', 'ㅜㅜ', 'ㅜㅜ', 'ㅜㅜ', 'ㅜㅜ', 'ㅜㅜ', 'ㅜㅜ', 'ㅜㅜ', 'ㅜㅜ', 'ㅜㅜ', 'ㅜㅜ', 'ㅜㅜ', 'ㅜㅜ', 'ㅜㅜ', 'ㅜㅜ', 'ㅜㅜ', 'ㅜㅜ', 'ㅜㅜ', 'ㅜㅜ', 'ㅜㅜ', 'ㅜㅜ', 'ㅜㅜ', 'ㅜㅜ', 'ㅜㅜ', 'ㅜㅜ', 'ㅜㅜ', 'ㅜㅜ', 'ㅜㅜ', 'ㅜㅜ', 'ㅜㅜ', 'ㅜㅜ', 'ㅜㅜ', 'ㅜㅜ', 'ㅜㅜ', 'ㅜㅜ', 'ㅜㅜ', 'ㅜㅜ', 'ㅜㅜ']\n",
            "100\n"
          ]
        }
      ]
    },
    {
      "cell_type": "markdown",
      "source": [
        "### 1.3. 리스트의 수정과 삭제"
      ],
      "metadata": {
        "id": "NeHQ0wD7RFVE"
      }
    },
    {
      "cell_type": "code",
      "source": [
        " a = [1,2,3]\n",
        " print(a)"
      ],
      "metadata": {
        "id": "Za2w5tU9RJeo",
        "outputId": "e9537b42-b632-4048-ceac-41965756d72c",
        "colab": {
          "base_uri": "https://localhost:8080/"
        }
      },
      "execution_count": 38,
      "outputs": [
        {
          "output_type": "stream",
          "name": "stdout",
          "text": [
            "[1, 2, 3]\n"
          ]
        }
      ]
    },
    {
      "cell_type": "code",
      "source": [
        "print(a[1])\n",
        "a[1] = 4 # 원하는 요소만 불러와서 변경 가능\n",
        "print(a)"
      ],
      "metadata": {
        "id": "f83ee9UZRXIT",
        "outputId": "4ac55828-3c72-47df-cbd7-5a87668f2624",
        "colab": {
          "base_uri": "https://localhost:8080/"
        }
      },
      "execution_count": 41,
      "outputs": [
        {
          "output_type": "stream",
          "name": "stdout",
          "text": [
            "4\n",
            "[1, 4, 3]\n"
          ]
        }
      ]
    },
    {
      "cell_type": "code",
      "source": [
        "a = [1,4,3]\n",
        "print(a)"
      ],
      "metadata": {
        "id": "Lg5bYGT3RRho",
        "outputId": "38c57144-cfa6-43fa-d279-f887161d2ddc",
        "colab": {
          "base_uri": "https://localhost:8080/"
        }
      },
      "execution_count": 36,
      "outputs": [
        {
          "output_type": "stream",
          "name": "stdout",
          "text": [
            "[1, 4, 3]\n"
          ]
        }
      ]
    },
    {
      "cell_type": "code",
      "source": [
        "a = ['ㅜㅜ'] * 100\n",
        "a[55] = '^^'\n",
        "print(a)"
      ],
      "metadata": {
        "id": "H-i3rPbURn-E",
        "outputId": "4242e2a0-8398-48b4-d70a-95f2a92ad6be",
        "colab": {
          "base_uri": "https://localhost:8080/"
        }
      },
      "execution_count": 42,
      "outputs": [
        {
          "output_type": "stream",
          "name": "stdout",
          "text": [
            "['ㅜㅜ', 'ㅜㅜ', 'ㅜㅜ', 'ㅜㅜ', 'ㅜㅜ', 'ㅜㅜ', 'ㅜㅜ', 'ㅜㅜ', 'ㅜㅜ', 'ㅜㅜ', 'ㅜㅜ', 'ㅜㅜ', 'ㅜㅜ', 'ㅜㅜ', 'ㅜㅜ', 'ㅜㅜ', 'ㅜㅜ', 'ㅜㅜ', 'ㅜㅜ', 'ㅜㅜ', 'ㅜㅜ', 'ㅜㅜ', 'ㅜㅜ', 'ㅜㅜ', 'ㅜㅜ', 'ㅜㅜ', 'ㅜㅜ', 'ㅜㅜ', 'ㅜㅜ', 'ㅜㅜ', 'ㅜㅜ', 'ㅜㅜ', 'ㅜㅜ', 'ㅜㅜ', 'ㅜㅜ', 'ㅜㅜ', 'ㅜㅜ', 'ㅜㅜ', 'ㅜㅜ', 'ㅜㅜ', 'ㅜㅜ', 'ㅜㅜ', 'ㅜㅜ', 'ㅜㅜ', 'ㅜㅜ', 'ㅜㅜ', 'ㅜㅜ', 'ㅜㅜ', 'ㅜㅜ', 'ㅜㅜ', 'ㅜㅜ', 'ㅜㅜ', 'ㅜㅜ', 'ㅜㅜ', 'ㅜㅜ', '^^', 'ㅜㅜ', 'ㅜㅜ', 'ㅜㅜ', 'ㅜㅜ', 'ㅜㅜ', 'ㅜㅜ', 'ㅜㅜ', 'ㅜㅜ', 'ㅜㅜ', 'ㅜㅜ', 'ㅜㅜ', 'ㅜㅜ', 'ㅜㅜ', 'ㅜㅜ', 'ㅜㅜ', 'ㅜㅜ', 'ㅜㅜ', 'ㅜㅜ', 'ㅜㅜ', 'ㅜㅜ', 'ㅜㅜ', 'ㅜㅜ', 'ㅜㅜ', 'ㅜㅜ', 'ㅜㅜ', 'ㅜㅜ', 'ㅜㅜ', 'ㅜㅜ', 'ㅜㅜ', 'ㅜㅜ', 'ㅜㅜ', 'ㅜㅜ', 'ㅜㅜ', 'ㅜㅜ', 'ㅜㅜ', 'ㅜㅜ', 'ㅜㅜ', 'ㅜㅜ', 'ㅜㅜ', 'ㅜㅜ', 'ㅜㅜ', 'ㅜㅜ', 'ㅜㅜ', 'ㅜㅜ']\n"
          ]
        }
      ]
    },
    {
      "cell_type": "code",
      "source": [
        "a = [1,2,3,4,5]\n",
        "del a[3]\n",
        "print(a)"
      ],
      "metadata": {
        "id": "mk-BLcDbR0Lr",
        "outputId": "7fb93fe6-3f2c-402b-86ff-22a9d3f7ca16",
        "colab": {
          "base_uri": "https://localhost:8080/"
        }
      },
      "execution_count": 43,
      "outputs": [
        {
          "output_type": "stream",
          "name": "stdout",
          "text": [
            "[1, 2, 3, 5]\n"
          ]
        }
      ]
    },
    {
      "cell_type": "markdown",
      "source": [
        "### 1.4. 리스트 관련 함수들\n",
        "* 리스트에 요소 추가(append)\n",
        "* 리스트 정렬(sort)\n",
        "* 리스트 뒤집기(reverse)\n",
        "* 인덱스 반환(index)\n",
        "* 리스트에 요소 삽입(insert)\n",
        "* 리스트 요소 제거(remove)\n",
        "* 리스트 요소 끄집어내기(pop)\n",
        "* 리스트에 포함된 요소 x의 개수 세기(count)\n",
        "* 리스트 확장(extend)"
      ],
      "metadata": {
        "id": "3bT_5hdeSGez"
      }
    },
    {
      "cell_type": "code",
      "source": [
        "# 리스트 추가하기\n",
        "a = [1,2,3]\n",
        "print(a)\n",
        "a.append(4)\n",
        "print(a)\n",
        "a.append(5)\n",
        "print(a)\n",
        "a.append([6,7,8,9]) # 리스트를 추가하면 요소로 리스트가 추가된다!\n",
        "print(a)"
      ],
      "metadata": {
        "id": "QRclIdfwSGLj",
        "outputId": "1a72d805-208f-43ce-da78-d17841221a3a",
        "colab": {
          "base_uri": "https://localhost:8080/"
        }
      },
      "execution_count": 51,
      "outputs": [
        {
          "output_type": "stream",
          "name": "stdout",
          "text": [
            "[1, 2, 3]\n",
            "[1, 2, 3, 4]\n",
            "[1, 2, 3, 4, 5]\n",
            "[1, 2, 3, 4, 5, [6, 7, 8, 9]]\n"
          ]
        }
      ]
    },
    {
      "cell_type": "code",
      "source": [
        "a = [5,7,1,4]\n",
        "print(a)\n",
        "a.sort() # 정렬 선언\n",
        "print(a)"
      ],
      "metadata": {
        "id": "S_vl3gkHS0Cy",
        "outputId": "32fa2cdd-e1f4-475c-ae55-ef4520ce412a",
        "colab": {
          "base_uri": "https://localhost:8080/"
        }
      },
      "execution_count": 56,
      "outputs": [
        {
          "output_type": "stream",
          "name": "stdout",
          "text": [
            "[5, 7, 1, 4]\n",
            "[1, 4, 5, 7]\n"
          ]
        }
      ]
    },
    {
      "cell_type": "code",
      "source": [
        "a = [5,7,1,4]\n",
        "print(a)\n",
        "a.reverse()\n",
        "print(a)"
      ],
      "metadata": {
        "id": "yvCgVMefTXn6",
        "outputId": "be38e6c9-ff43-4dd1-c053-954db86def88",
        "colab": {
          "base_uri": "https://localhost:8080/"
        }
      },
      "execution_count": 60,
      "outputs": [
        {
          "output_type": "stream",
          "name": "stdout",
          "text": [
            "[5, 7, 1, 4]\n",
            "[4, 1, 7, 5]\n"
          ]
        }
      ]
    },
    {
      "cell_type": "code",
      "source": [
        "a = [5,7,1,4]\n",
        "print(a)\n",
        "a.sort() # 정렬 후\n",
        "a.reverse() # 뒤집기\n",
        "print(a)"
      ],
      "metadata": {
        "id": "tuUVKxlBTgc7",
        "outputId": "407e632e-c756-4faa-b9f4-855389bd1d2f",
        "colab": {
          "base_uri": "https://localhost:8080/"
        }
      },
      "execution_count": 61,
      "outputs": [
        {
          "output_type": "stream",
          "name": "stdout",
          "text": [
            "[5, 7, 1, 4]\n",
            "[7, 5, 4, 1]\n"
          ]
        }
      ]
    },
    {
      "cell_type": "code",
      "source": [
        "a = [5,7,1,4]\n",
        "print(a)\n",
        "b = sorted(a) # 정렬된 새로운 리스트 선언\n",
        "print(b)"
      ],
      "metadata": {
        "id": "64fJu5tRTIzb",
        "outputId": "1287ba99-f4a7-4373-9576-14fda34bc236",
        "colab": {
          "base_uri": "https://localhost:8080/"
        }
      },
      "execution_count": 59,
      "outputs": [
        {
          "output_type": "stream",
          "name": "stdout",
          "text": [
            "[5, 7, 1, 4]\n",
            "[1, 4, 5, 7]\n"
          ]
        }
      ]
    },
    {
      "cell_type": "code",
      "source": [
        "a = [5,7,1,4]\n",
        "print(a)\n",
        "b = sorted(a, reverse=True) # 역정렬된 새로운 리스트 선언\n",
        "print(b)"
      ],
      "metadata": {
        "id": "g24gJUs8Trfc",
        "outputId": "e52f43a4-50d3-4fc2-c182-9fe1bf74cca6",
        "colab": {
          "base_uri": "https://localhost:8080/"
        }
      },
      "execution_count": 62,
      "outputs": [
        {
          "output_type": "stream",
          "name": "stdout",
          "text": [
            "[5, 7, 1, 4]\n",
            "[7, 5, 4, 1]\n"
          ]
        }
      ]
    },
    {
      "cell_type": "code",
      "source": [
        "a = [1,4,5,7]\n",
        "print(a.index(5))"
      ],
      "metadata": {
        "id": "LOBPSuuMSlnb",
        "outputId": "af7af333-520d-41a1-990a-c009750bb8e9",
        "colab": {
          "base_uri": "https://localhost:8080/"
        }
      },
      "execution_count": 63,
      "outputs": [
        {
          "output_type": "stream",
          "name": "stdout",
          "text": [
            "2\n"
          ]
        }
      ]
    },
    {
      "cell_type": "code",
      "source": [
        "a = ['ㅜㅜ'] * 100\n",
        "a[55] = '^^'\n",
        "print(a)\n",
        "print(a.index('^^'))\n",
        "print(a.index('ㅜㅜ'))"
      ],
      "metadata": {
        "id": "JeqHrukCT_Vr",
        "outputId": "1aec74b9-799c-4ed9-f31e-3f4cb309be84",
        "colab": {
          "base_uri": "https://localhost:8080/"
        }
      },
      "execution_count": 67,
      "outputs": [
        {
          "output_type": "stream",
          "name": "stdout",
          "text": [
            "['ㅜㅜ', 'ㅜㅜ', 'ㅜㅜ', 'ㅜㅜ', 'ㅜㅜ', 'ㅜㅜ', 'ㅜㅜ', 'ㅜㅜ', 'ㅜㅜ', 'ㅜㅜ', 'ㅜㅜ', 'ㅜㅜ', 'ㅜㅜ', 'ㅜㅜ', 'ㅜㅜ', 'ㅜㅜ', 'ㅜㅜ', 'ㅜㅜ', 'ㅜㅜ', 'ㅜㅜ', 'ㅜㅜ', 'ㅜㅜ', 'ㅜㅜ', 'ㅜㅜ', 'ㅜㅜ', 'ㅜㅜ', 'ㅜㅜ', 'ㅜㅜ', 'ㅜㅜ', 'ㅜㅜ', 'ㅜㅜ', 'ㅜㅜ', 'ㅜㅜ', 'ㅜㅜ', 'ㅜㅜ', 'ㅜㅜ', 'ㅜㅜ', 'ㅜㅜ', 'ㅜㅜ', 'ㅜㅜ', 'ㅜㅜ', 'ㅜㅜ', 'ㅜㅜ', 'ㅜㅜ', 'ㅜㅜ', 'ㅜㅜ', 'ㅜㅜ', 'ㅜㅜ', 'ㅜㅜ', 'ㅜㅜ', 'ㅜㅜ', 'ㅜㅜ', 'ㅜㅜ', 'ㅜㅜ', 'ㅜㅜ', '^^', 'ㅜㅜ', 'ㅜㅜ', 'ㅜㅜ', 'ㅜㅜ', 'ㅜㅜ', 'ㅜㅜ', 'ㅜㅜ', 'ㅜㅜ', 'ㅜㅜ', 'ㅜㅜ', 'ㅜㅜ', 'ㅜㅜ', 'ㅜㅜ', 'ㅜㅜ', 'ㅜㅜ', 'ㅜㅜ', 'ㅜㅜ', 'ㅜㅜ', 'ㅜㅜ', 'ㅜㅜ', 'ㅜㅜ', 'ㅜㅜ', 'ㅜㅜ', 'ㅜㅜ', 'ㅜㅜ', 'ㅜㅜ', 'ㅜㅜ', 'ㅜㅜ', 'ㅜㅜ', 'ㅜㅜ', 'ㅜㅜ', 'ㅜㅜ', 'ㅜㅜ', 'ㅜㅜ', 'ㅜㅜ', 'ㅜㅜ', 'ㅜㅜ', 'ㅜㅜ', 'ㅜㅜ', 'ㅜㅜ', 'ㅜㅜ', 'ㅜㅜ', 'ㅜㅜ', 'ㅜㅜ']\n",
            "55\n",
            "0\n"
          ]
        }
      ]
    },
    {
      "cell_type": "code",
      "source": [
        "print(a.index('ㅠㅠ'))"
      ],
      "metadata": {
        "id": "CjjQlrqkUMc7",
        "outputId": "ad9c1711-d911-41a9-d6d6-7a24cb93ec47",
        "colab": {
          "base_uri": "https://localhost:8080/",
          "height": 171
        }
      },
      "execution_count": 68,
      "outputs": [
        {
          "output_type": "error",
          "ename": "ValueError",
          "evalue": "ignored",
          "traceback": [
            "\u001b[0;31m---------------------------------------------------------------------------\u001b[0m",
            "\u001b[0;31mValueError\u001b[0m                                Traceback (most recent call last)",
            "\u001b[0;32m<ipython-input-68-4dcc4206d575>\u001b[0m in \u001b[0;36m<cell line: 1>\u001b[0;34m()\u001b[0m\n\u001b[0;32m----> 1\u001b[0;31m \u001b[0mprint\u001b[0m\u001b[0;34m(\u001b[0m\u001b[0ma\u001b[0m\u001b[0;34m.\u001b[0m\u001b[0mindex\u001b[0m\u001b[0;34m(\u001b[0m\u001b[0;34m'ㅠㅠ'\u001b[0m\u001b[0;34m)\u001b[0m\u001b[0;34m)\u001b[0m\u001b[0;34m\u001b[0m\u001b[0;34m\u001b[0m\u001b[0m\n\u001b[0m",
            "\u001b[0;31mValueError\u001b[0m: 'ㅠㅠ' is not in list"
          ]
        }
      ]
    },
    {
      "cell_type": "code",
      "source": [
        "a = [1, 4, 5, 7]\n",
        "a.remove(4) # 삭제하고 싶은 실제 요소의 값을 적어줘야함\n",
        "print(a)"
      ],
      "metadata": {
        "id": "bahvrEzVUdHb",
        "outputId": "55ef319b-3469-4b9d-f8aa-d0991c87fd6e",
        "colab": {
          "base_uri": "https://localhost:8080/"
        }
      },
      "execution_count": 69,
      "outputs": [
        {
          "output_type": "stream",
          "name": "stdout",
          "text": [
            "[1, 5, 7]\n"
          ]
        }
      ]
    },
    {
      "cell_type": "code",
      "source": [
        "a = [1, 4, 5, 7]\n",
        "a.pop() # pop은 그냥 적으면 무조건 마지막 요소를 날림\n",
        "print(a)"
      ],
      "metadata": {
        "id": "7RHTqHyuUmfj",
        "outputId": "863ffa6f-c109-4a68-9046-0a90d4c92bb8",
        "colab": {
          "base_uri": "https://localhost:8080/"
        }
      },
      "execution_count": 71,
      "outputs": [
        {
          "output_type": "stream",
          "name": "stdout",
          "text": [
            "[1, 4, 5]\n"
          ]
        }
      ]
    },
    {
      "cell_type": "code",
      "source": [
        "a = [1, 4, 5, 7]\n",
        "a.pop(3) # 삭제하고 싶은 인덱스 값\n",
        "print(a)"
      ],
      "metadata": {
        "id": "jQKwu36BUuGT",
        "outputId": "d39398ad-c7c5-4058-c5a6-3b43d4cda812",
        "colab": {
          "base_uri": "https://localhost:8080/"
        }
      },
      "execution_count": 73,
      "outputs": [
        {
          "output_type": "stream",
          "name": "stdout",
          "text": [
            "[1, 4, 5]\n"
          ]
        }
      ]
    },
    {
      "cell_type": "code",
      "source": [
        "a = ['ㅜㅜ'] * 100\n",
        "a[55] = '^^'\n",
        "print(a)\n",
        "a.remove('^^')\n",
        "print(a)"
      ],
      "metadata": {
        "id": "gNRAxl2JU4SS",
        "outputId": "b384c867-d9a4-4b3b-8dd7-5e23407852db",
        "colab": {
          "base_uri": "https://localhost:8080/"
        }
      },
      "execution_count": 74,
      "outputs": [
        {
          "output_type": "stream",
          "name": "stdout",
          "text": [
            "['ㅜㅜ', 'ㅜㅜ', 'ㅜㅜ', 'ㅜㅜ', 'ㅜㅜ', 'ㅜㅜ', 'ㅜㅜ', 'ㅜㅜ', 'ㅜㅜ', 'ㅜㅜ', 'ㅜㅜ', 'ㅜㅜ', 'ㅜㅜ', 'ㅜㅜ', 'ㅜㅜ', 'ㅜㅜ', 'ㅜㅜ', 'ㅜㅜ', 'ㅜㅜ', 'ㅜㅜ', 'ㅜㅜ', 'ㅜㅜ', 'ㅜㅜ', 'ㅜㅜ', 'ㅜㅜ', 'ㅜㅜ', 'ㅜㅜ', 'ㅜㅜ', 'ㅜㅜ', 'ㅜㅜ', 'ㅜㅜ', 'ㅜㅜ', 'ㅜㅜ', 'ㅜㅜ', 'ㅜㅜ', 'ㅜㅜ', 'ㅜㅜ', 'ㅜㅜ', 'ㅜㅜ', 'ㅜㅜ', 'ㅜㅜ', 'ㅜㅜ', 'ㅜㅜ', 'ㅜㅜ', 'ㅜㅜ', 'ㅜㅜ', 'ㅜㅜ', 'ㅜㅜ', 'ㅜㅜ', 'ㅜㅜ', 'ㅜㅜ', 'ㅜㅜ', 'ㅜㅜ', 'ㅜㅜ', 'ㅜㅜ', '^^', 'ㅜㅜ', 'ㅜㅜ', 'ㅜㅜ', 'ㅜㅜ', 'ㅜㅜ', 'ㅜㅜ', 'ㅜㅜ', 'ㅜㅜ', 'ㅜㅜ', 'ㅜㅜ', 'ㅜㅜ', 'ㅜㅜ', 'ㅜㅜ', 'ㅜㅜ', 'ㅜㅜ', 'ㅜㅜ', 'ㅜㅜ', 'ㅜㅜ', 'ㅜㅜ', 'ㅜㅜ', 'ㅜㅜ', 'ㅜㅜ', 'ㅜㅜ', 'ㅜㅜ', 'ㅜㅜ', 'ㅜㅜ', 'ㅜㅜ', 'ㅜㅜ', 'ㅜㅜ', 'ㅜㅜ', 'ㅜㅜ', 'ㅜㅜ', 'ㅜㅜ', 'ㅜㅜ', 'ㅜㅜ', 'ㅜㅜ', 'ㅜㅜ', 'ㅜㅜ', 'ㅜㅜ', 'ㅜㅜ', 'ㅜㅜ', 'ㅜㅜ', 'ㅜㅜ', 'ㅜㅜ']\n",
            "['ㅜㅜ', 'ㅜㅜ', 'ㅜㅜ', 'ㅜㅜ', 'ㅜㅜ', 'ㅜㅜ', 'ㅜㅜ', 'ㅜㅜ', 'ㅜㅜ', 'ㅜㅜ', 'ㅜㅜ', 'ㅜㅜ', 'ㅜㅜ', 'ㅜㅜ', 'ㅜㅜ', 'ㅜㅜ', 'ㅜㅜ', 'ㅜㅜ', 'ㅜㅜ', 'ㅜㅜ', 'ㅜㅜ', 'ㅜㅜ', 'ㅜㅜ', 'ㅜㅜ', 'ㅜㅜ', 'ㅜㅜ', 'ㅜㅜ', 'ㅜㅜ', 'ㅜㅜ', 'ㅜㅜ', 'ㅜㅜ', 'ㅜㅜ', 'ㅜㅜ', 'ㅜㅜ', 'ㅜㅜ', 'ㅜㅜ', 'ㅜㅜ', 'ㅜㅜ', 'ㅜㅜ', 'ㅜㅜ', 'ㅜㅜ', 'ㅜㅜ', 'ㅜㅜ', 'ㅜㅜ', 'ㅜㅜ', 'ㅜㅜ', 'ㅜㅜ', 'ㅜㅜ', 'ㅜㅜ', 'ㅜㅜ', 'ㅜㅜ', 'ㅜㅜ', 'ㅜㅜ', 'ㅜㅜ', 'ㅜㅜ', 'ㅜㅜ', 'ㅜㅜ', 'ㅜㅜ', 'ㅜㅜ', 'ㅜㅜ', 'ㅜㅜ', 'ㅜㅜ', 'ㅜㅜ', 'ㅜㅜ', 'ㅜㅜ', 'ㅜㅜ', 'ㅜㅜ', 'ㅜㅜ', 'ㅜㅜ', 'ㅜㅜ', 'ㅜㅜ', 'ㅜㅜ', 'ㅜㅜ', 'ㅜㅜ', 'ㅜㅜ', 'ㅜㅜ', 'ㅜㅜ', 'ㅜㅜ', 'ㅜㅜ', 'ㅜㅜ', 'ㅜㅜ', 'ㅜㅜ', 'ㅜㅜ', 'ㅜㅜ', 'ㅜㅜ', 'ㅜㅜ', 'ㅜㅜ', 'ㅜㅜ', 'ㅜㅜ', 'ㅜㅜ', 'ㅜㅜ', 'ㅜㅜ', 'ㅜㅜ', 'ㅜㅜ', 'ㅜㅜ', 'ㅜㅜ', 'ㅜㅜ', 'ㅜㅜ', 'ㅜㅜ']\n"
          ]
        }
      ]
    },
    {
      "cell_type": "code",
      "source": [
        "print(a.count('ㅜㅜ')) # 원하는 요소의 숫자를 세어줌"
      ],
      "metadata": {
        "id": "jmdce9U2VGS7",
        "outputId": "f1379de6-1595-4812-e7b0-2b28ce54e886",
        "colab": {
          "base_uri": "https://localhost:8080/"
        }
      },
      "execution_count": 77,
      "outputs": [
        {
          "output_type": "stream",
          "name": "stdout",
          "text": [
            "99\n"
          ]
        }
      ]
    },
    {
      "cell_type": "code",
      "source": [
        "a = [1,2,3]\n",
        "a.extend([4,5,6]) # 리스트 더하기와 동일함\n",
        "print(a)"
      ],
      "metadata": {
        "id": "kPuztplzVSBy",
        "outputId": "c418e22c-128f-44f4-87b9-3b1d937cc5ae",
        "colab": {
          "base_uri": "https://localhost:8080/"
        }
      },
      "execution_count": 78,
      "outputs": [
        {
          "output_type": "stream",
          "name": "stdout",
          "text": [
            "[1, 2, 3, 4, 5, 6]\n"
          ]
        }
      ]
    },
    {
      "cell_type": "markdown",
      "source": [],
      "metadata": {
        "id": "bpZp0jQlVdSg"
      }
    },
    {
      "cell_type": "markdown",
      "source": [
        "## 2. 튜플"
      ],
      "metadata": {
        "id": "Vy3NhxAsKiGV"
      }
    },
    {
      "cell_type": "markdown",
      "source": [
        "## 3. 딕셔너리"
      ],
      "metadata": {
        "id": "OxvcvhHsKj0l"
      }
    },
    {
      "cell_type": "code",
      "source": [],
      "metadata": {
        "id": "uAZAZxpuKhhG"
      },
      "execution_count": null,
      "outputs": []
    }
  ],
  "metadata": {
    "language_info": {
      "name": "python"
    },
    "orig_nbformat": 4,
    "colab": {
      "provenance": [],
      "include_colab_link": true
    },
    "kernelspec": {
      "name": "python3",
      "display_name": "Python 3"
    },
    "gpuClass": "standard"
  },
  "nbformat": 4,
  "nbformat_minor": 0
}