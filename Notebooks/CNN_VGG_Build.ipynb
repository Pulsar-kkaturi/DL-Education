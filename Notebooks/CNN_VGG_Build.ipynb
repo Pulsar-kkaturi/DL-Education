{
  "nbformat": 4,
  "nbformat_minor": 0,
  "metadata": {
    "kernelspec": {
      "display_name": "Python 3",
      "language": "python",
      "name": "python3"
    },
    "language_info": {
      "codemirror_mode": {
        "name": "ipython",
        "version": 3
      },
      "file_extension": ".py",
      "mimetype": "text/x-python",
      "name": "python",
      "nbconvert_exporter": "python",
      "pygments_lexer": "ipython3",
      "version": "3.7.6"
    },
    "colab": {
      "name": "CNN_VGG_Build.ipynb",
      "provenance": [],
      "toc_visible": true,
      "include_colab_link": true
    },
    "accelerator": "GPU"
  },
  "cells": [
    {
      "cell_type": "markdown",
      "metadata": {
        "id": "view-in-github",
        "colab_type": "text"
      },
      "source": [
        "<a href=\"https://colab.research.google.com/github/Pulsar-kkaturi/Deepnoid-Education/blob/master/notebooks/CNN_VGG_Build.ipynb\" target=\"_parent\"><img src=\"https://colab.research.google.com/assets/colab-badge.svg\" alt=\"Open In Colab\"/></a>"
      ]
    },
    {
      "cell_type": "markdown",
      "metadata": {
        "id": "3fsLexN5mWmf"
      },
      "source": [
        "# NEURAL NETWORK BUILD"
      ]
    },
    {
      "cell_type": "markdown",
      "metadata": {
        "id": "cJ-lxCOpmWmj"
      },
      "source": [
        "# 1. LIbrary Import"
      ]
    },
    {
      "cell_type": "code",
      "metadata": {
        "id": "PMUn1R-5mWmj"
      },
      "source": [
        "import os\n",
        "import numpy as np\n",
        "import matplotlib\n",
        "from matplotlib import pyplot as plt\n",
        "from matplotlib.ticker import MultipleLocator\n",
        "import pandas as pd\n",
        "import csv\n",
        "import shutil\n",
        "import json\n",
        "from sklearn import metrics as skmet\n",
        "from skimage import morphology\n",
        "from skimage import measure\n",
        "from skimage import exposure\n",
        "\n",
        "### Tensorflow 2.0 ###\n",
        "import tensorflow as tf\n",
        "from tensorflow import keras\n",
        "from tensorflow.keras.models import Sequential, Model\n",
        "from tensorflow.keras import Input\n",
        "from tensorflow.keras import layers\n",
        "from tensorflow.keras import models\n",
        "from tensorflow.keras.preprocessing import image\n",
        "from tensorflow.keras.preprocessing.image import ImageDataGenerator\n",
        "from tensorflow.keras import losses\n",
        "from tensorflow.keras import optimizers\n",
        "from tensorflow.keras import metrics\n",
        "from tensorflow.keras import regularizers\n",
        "from tensorflow.keras import utils\n",
        "from tensorflow.keras.callbacks import ModelCheckpoint, LearningRateScheduler\n",
        "from tensorflow.keras import backend as K"
      ],
      "execution_count": 1,
      "outputs": []
    },
    {
      "cell_type": "markdown",
      "metadata": {
        "id": "eyxOHppVmWmk"
      },
      "source": [
        "# 2. Module Fuction"
      ]
    },
    {
      "cell_type": "markdown",
      "metadata": {
        "id": "w9nTwrpImWmk"
      },
      "source": [
        "##2.1. keras application VGG16"
      ]
    },
    {
      "cell_type": "code",
      "metadata": {
        "colab": {
          "base_uri": "https://localhost:8080/"
        },
        "id": "Jw7cnbF6mWmk",
        "outputId": "44c1af9d-75cb-4618-c24a-fb2a8329b824"
      },
      "source": [
        "from tensorflow.keras.applications import VGG16\n",
        "model = VGG16(weights='imagenet', include_top=False, input_shape=(32, 32, 3))\n",
        "model.summary()"
      ],
      "execution_count": 2,
      "outputs": [
        {
          "output_type": "stream",
          "text": [
            "Downloading data from https://storage.googleapis.com/tensorflow/keras-applications/vgg16/vgg16_weights_tf_dim_ordering_tf_kernels_notop.h5\n",
            "58892288/58889256 [==============================] - 1s 0us/step\n",
            "Model: \"vgg16\"\n",
            "_________________________________________________________________\n",
            "Layer (type)                 Output Shape              Param #   \n",
            "=================================================================\n",
            "input_1 (InputLayer)         [(None, 32, 32, 3)]       0         \n",
            "_________________________________________________________________\n",
            "block1_conv1 (Conv2D)        (None, 32, 32, 64)        1792      \n",
            "_________________________________________________________________\n",
            "block1_conv2 (Conv2D)        (None, 32, 32, 64)        36928     \n",
            "_________________________________________________________________\n",
            "block1_pool (MaxPooling2D)   (None, 16, 16, 64)        0         \n",
            "_________________________________________________________________\n",
            "block2_conv1 (Conv2D)        (None, 16, 16, 128)       73856     \n",
            "_________________________________________________________________\n",
            "block2_conv2 (Conv2D)        (None, 16, 16, 128)       147584    \n",
            "_________________________________________________________________\n",
            "block2_pool (MaxPooling2D)   (None, 8, 8, 128)         0         \n",
            "_________________________________________________________________\n",
            "block3_conv1 (Conv2D)        (None, 8, 8, 256)         295168    \n",
            "_________________________________________________________________\n",
            "block3_conv2 (Conv2D)        (None, 8, 8, 256)         590080    \n",
            "_________________________________________________________________\n",
            "block3_conv3 (Conv2D)        (None, 8, 8, 256)         590080    \n",
            "_________________________________________________________________\n",
            "block3_pool (MaxPooling2D)   (None, 4, 4, 256)         0         \n",
            "_________________________________________________________________\n",
            "block4_conv1 (Conv2D)        (None, 4, 4, 512)         1180160   \n",
            "_________________________________________________________________\n",
            "block4_conv2 (Conv2D)        (None, 4, 4, 512)         2359808   \n",
            "_________________________________________________________________\n",
            "block4_conv3 (Conv2D)        (None, 4, 4, 512)         2359808   \n",
            "_________________________________________________________________\n",
            "block4_pool (MaxPooling2D)   (None, 2, 2, 512)         0         \n",
            "_________________________________________________________________\n",
            "block5_conv1 (Conv2D)        (None, 2, 2, 512)         2359808   \n",
            "_________________________________________________________________\n",
            "block5_conv2 (Conv2D)        (None, 2, 2, 512)         2359808   \n",
            "_________________________________________________________________\n",
            "block5_conv3 (Conv2D)        (None, 2, 2, 512)         2359808   \n",
            "_________________________________________________________________\n",
            "block5_pool (MaxPooling2D)   (None, 1, 1, 512)         0         \n",
            "=================================================================\n",
            "Total params: 14,714,688\n",
            "Trainable params: 14,714,688\n",
            "Non-trainable params: 0\n",
            "_________________________________________________________________\n"
          ],
          "name": "stdout"
        }
      ]
    },
    {
      "cell_type": "markdown",
      "metadata": {
        "id": "5JQNlRBPmWml"
      },
      "source": [
        "## 2.2. Conv Block & Output Block Define "
      ]
    },
    {
      "cell_type": "code",
      "metadata": {
        "id": "8PsFuh3pmWml"
      },
      "source": [
        "def conv_block_2d(lr_conv, lr_num, par_list, bkn):\n",
        "        # parameter\n",
        "        filter_num = par_list[0]\n",
        "        conv_size = par_list[1]\n",
        "        conv_act = par_list[2]\n",
        "        pool_size = par_list[3]\n",
        "        # code\n",
        "        for i in range(lr_num):\n",
        "            lr_conv = layers.Conv2D(filter_num, conv_size, activation=None, padding='same', \n",
        "                                    kernel_initializer='he_normal',\n",
        "                                    name='block{}_conv{}'.format(bkn, i+1))(lr_conv)\n",
        "            lr_conv = layers.BatchNormalization(axis=-1, name='block{}_batchnorm{}'.format(bkn, i+1))(lr_conv)\n",
        "            lr_conv = layers.Activation(conv_act, name='block{}_activ{}'.format(bkn, i+1))(lr_conv)\n",
        "        lr_pool = layers.MaxPooling2D(pool_size=pool_size, name='block{}_pool'.format(bkn, i+1))(lr_conv)\n",
        "        return lr_pool\n",
        "\n",
        "def conv_block_3d(lr_conv, lr_num, par_list, bkn):\n",
        "        # parameter\n",
        "        filter_num = par_list[0]\n",
        "        conv_size = par_list[1]\n",
        "        conv_act = par_list[2]\n",
        "        pool_size = par_list[3]\n",
        "        # code\n",
        "        for i in range(lr_num):\n",
        "            lr_conv = layers.Conv3D(filter_num, conv_size, activation=None, padding='same', \n",
        "                                    kernel_initializer='he_normal',\n",
        "                                    name='block{}_conv{}'.format(bkn, i+1))(lr_conv)\n",
        "            lr_conv = layers.BatchNormalization(axis=-1, name='block{}_batchnorm{}'.format(bkn, i+1))(lr_conv)\n",
        "            lr_conv = layers.Activation(conv_act, name='block{}_activ{}'.format(bkn, i+1))(lr_conv)\n",
        "        lr_pool = layers.MaxPooling3D(pool_size=pool_size, name='block{}_pool'.format(bkn, i+1))(lr_conv)\n",
        "        return lr_pool\n",
        "\n",
        "def output_block(lr_dense, block_num, dens_count, act_func, drop_rate):\n",
        "    lr_dense = layers.Flatten(name='flatten_layer')(lr_dense)\n",
        "    for i in range(block_num):\n",
        "        lr_dense = layers.Dense(dens_count[i], kernel_regularizer=None,\n",
        "                                activation=act_func, name='classifier_dense_{}'.format(i+1))(lr_dense)\n",
        "        lr_dense = layers.Dropout(drop_rate, name='classifier_dropout_{}'.format(i+1))(lr_dense)\n",
        "    return lr_dense"
      ],
      "execution_count": 3,
      "outputs": []
    },
    {
      "cell_type": "markdown",
      "metadata": {
        "id": "H7PO44Q0GSW1"
      },
      "source": [
        "## 2.3. VGG16 Build(2D & 3D)"
      ]
    },
    {
      "cell_type": "code",
      "metadata": {
        "id": "8nkrFK5jmWmm"
      },
      "source": [
        "def VGG16_2D(par_dic):\n",
        "    # parameters\n",
        "    input_size = par_dic['input_size']\n",
        "    conv_size = par_dic['conv_size']\n",
        "    conv_act = par_dic['conv_act']\n",
        "    pool_size = par_dic['pool_size']\n",
        "    dens_num = par_dic['dens_num']\n",
        "    dens_count = par_dic['dens_count']\n",
        "    dens_act = par_dic['dens_act']\n",
        "    drop_out = par_dic['drop_out']\n",
        "    output_count = par_dic['output_count']\n",
        "    output_act = par_dic['output_act']\n",
        "\n",
        "    # code block\n",
        "    inputs = Input(shape=(input_size, input_size, 1), name='input_layer')\n",
        "    block1 = conv_block_2d(inputs, 2, [64, conv_size, conv_act, pool_size])\n",
        "    block2 = conv_block_2d(block1, 2, [128, conv_size, conv_act, pool_size])\n",
        "    block3 = conv_block_2d(block2, 3, [256, conv_size, conv_act, pool_size])\n",
        "    block4 = conv_block_2d(block3, 3, [512, conv_size, conv_act, pool_size])\n",
        "    block5 = conv_block_2d(block4, 3, [512, conv_size, conv_act, pool_size])\n",
        "    dens = output_block(block5, dens_num, dens_count, dens_act, drop_out)\n",
        "    outputs = layers.Dense(output_count, activation=output_act, name='output_layer')(dens)\n",
        "    model = Model(inputs, outputs)\n",
        "    return model"
      ],
      "execution_count": 4,
      "outputs": []
    },
    {
      "cell_type": "code",
      "metadata": {
        "id": "VEPu_HilGAJk"
      },
      "source": [
        "def VGG16_3D(par_dic):\r\n",
        "    # parameters\r\n",
        "    input_size = par_dic['input_size']\r\n",
        "    conv_size = par_dic['conv_size']\r\n",
        "    conv_act = par_dic['conv_act']\r\n",
        "    pool_size = par_dic['pool_size']\r\n",
        "    dens_num = par_dic['dens_num']\r\n",
        "    dens_count = par_dic['dens_count']\r\n",
        "    dens_act = par_dic['dens_act']\r\n",
        "    drop_out = par_dic['drop_out']\r\n",
        "    output_count = par_dic['output_count']\r\n",
        "    output_act = par_dic['output_act']\r\n",
        "\r\n",
        "    # code block\r\n",
        "    inputs = Input(shape=(input_size, input_size, input_size, 1), name='input_layer')\r\n",
        "    block1 = conv_block_3d(inputs, 2, [64, conv_size, conv_act, pool_size])\r\n",
        "    block2 = conv_block_3d(block1, 2, [128, conv_size, conv_act, pool_size])\r\n",
        "    block3 = conv_block_3d(block2, 3, [256, conv_size, conv_act, pool_size])\r\n",
        "    block4 = conv_block_3d(block3, 3, [512, conv_size, conv_act, pool_size])\r\n",
        "    block5 = conv_block_3d(block4, 3, [512, conv_size, conv_act, pool_size])\r\n",
        "    dens = output_block(block5, dens_num, dens_count, dens_act, drop_out)\r\n",
        "    outputs = layers.Dense(output_count, activation=output_act, name='output_layer')(dens)\r\n",
        "    model = Model(inputs, outputs)\r\n",
        "    return model"
      ],
      "execution_count": 18,
      "outputs": []
    },
    {
      "cell_type": "markdown",
      "metadata": {
        "id": "iq-aWq23GnYP"
      },
      "source": [
        "## 2.4. VGG19 Build (2D & 3D)"
      ]
    },
    {
      "cell_type": "code",
      "metadata": {
        "id": "sOi3RDaomWmm"
      },
      "source": [
        "def VGG19_2D(par_dic):\n",
        "    # parameters\n",
        "    input_size = par_dic['input_size']\n",
        "    conv_size = par_dic['conv_size']\n",
        "    conv_act = par_dic['conv_act']\n",
        "    pool_size = par_dic['pool_size']\n",
        "    dens_num = par_dic['dens_num']\n",
        "    dens_count = par_dic['dens_count']\n",
        "    dens_act = par_dic['dens_act']\n",
        "    drop_out = par_dic['drop_out']\n",
        "    output_count = par_dic['output_count']\n",
        "    output_act = par_dic['output_act']\n",
        "\n",
        "    # code block\n",
        "    inputs = Input(shape=(input_size, input_size, 1))\n",
        "    block1 = conv_block_2d(inputs, 2, [64, conv_size, conv_act, pool_size], 1)\n",
        "    block2 = conv_block_2d(block1, 2, [128, conv_size, conv_act, pool_size], 2)\n",
        "    block3 = conv_block_2d(block2, 4, [256, conv_size, conv_act, pool_size], 3)\n",
        "    block4 = conv_block_2d(block3, 4, [512, conv_size, conv_act, pool_size], 4)\n",
        "    block5 = conv_block_2d(block4, 4, [512, conv_size, conv_act, pool_size], 5)\n",
        "    dens = output_block(block5, dens_num, dens_count, dens_act, drop_out)\n",
        "    outputs = layers.Dense(output_count, activation=output_act)(dens)\n",
        "    model = Model(inputs, outputs)\n",
        "    return model"
      ],
      "execution_count": 6,
      "outputs": []
    },
    {
      "cell_type": "code",
      "metadata": {
        "id": "qdh1YajTHGRY"
      },
      "source": [
        "def VGG19_3D(par_dic):\r\n",
        "    # parameters\r\n",
        "    input_size = par_dic['input_size']\r\n",
        "    conv_size = par_dic['conv_size']\r\n",
        "    conv_act = par_dic['conv_act']\r\n",
        "    pool_size = par_dic['pool_size']\r\n",
        "    dens_num = par_dic['dens_num']\r\n",
        "    dens_count = par_dic['dens_count']\r\n",
        "    dens_act = par_dic['dens_act']\r\n",
        "    drop_out = par_dic['drop_out']\r\n",
        "    output_count = par_dic['output_count']\r\n",
        "    output_act = par_dic['output_act']\r\n",
        "\r\n",
        "    # code block\r\n",
        "    inputs = Input(shape=(input_size, input_size, input_size, 1))\r\n",
        "    block1 = conv_block_3d(inputs, 2, [64, conv_size, conv_act, pool_size], 1)\r\n",
        "    block2 = conv_block_3d(block1, 2, [128, conv_size, conv_act, pool_size], 2)\r\n",
        "    block3 = conv_block_3d(block2, 4, [256, conv_size, conv_act, pool_size], 3)\r\n",
        "    block4 = conv_block_3d(block3, 4, [512, conv_size, conv_act, pool_size], 4)\r\n",
        "    block5 = conv_block_3d(block4, 4, [512, conv_size, conv_act, pool_size], 5)\r\n",
        "    dens = output_block(block5, dens_num, dens_count, dens_act, drop_out)\r\n",
        "    outputs = layers.Dense(output_count, activation=output_act)(dens)\r\n",
        "    model = Model(inputs, outputs)\r\n",
        "    return model"
      ],
      "execution_count": 19,
      "outputs": []
    },
    {
      "cell_type": "markdown",
      "metadata": {
        "id": "dvmjT-BDmWmm"
      },
      "source": [
        "# 3. Dataset"
      ]
    },
    {
      "cell_type": "code",
      "metadata": {
        "id": "h21VXXuImWmm",
        "colab": {
          "base_uri": "https://localhost:8080/"
        },
        "outputId": "22a88442-1d56-4047-82f5-88d682639dff"
      },
      "source": [
        "(x_train, y_train), (x_test, y_test)=keras.datasets.mnist.load_data(path='minist.npz')"
      ],
      "execution_count": 8,
      "outputs": [
        {
          "output_type": "stream",
          "text": [
            "Downloading data from https://storage.googleapis.com/tensorflow/tf-keras-datasets/mnist.npz\n",
            "11493376/11490434 [==============================] - 0s 0us/step\n"
          ],
          "name": "stdout"
        }
      ]
    },
    {
      "cell_type": "code",
      "metadata": {
        "id": "HZhc0G0emWmn",
        "colab": {
          "base_uri": "https://localhost:8080/"
        },
        "outputId": "49f60046-f0f3-417a-b3c0-641d363bf8da"
      },
      "source": [
        "print(x_train.shape, y_train.shape)"
      ],
      "execution_count": 9,
      "outputs": [
        {
          "output_type": "stream",
          "text": [
            "(60000, 28, 28) (60000,)\n"
          ],
          "name": "stdout"
        }
      ]
    },
    {
      "cell_type": "markdown",
      "metadata": {
        "id": "-7YSw3QkmWmn"
      },
      "source": [
        "# 3.1 2D dataset"
      ]
    },
    {
      "cell_type": "code",
      "metadata": {
        "id": "T5iscUbymWmn",
        "colab": {
          "base_uri": "https://localhost:8080/"
        },
        "outputId": "caa65d4d-4e6e-4eb6-9983-4c8a9088b499"
      },
      "source": [
        "x_train_list = []\n",
        "x_test_list = []\n",
        "for i, i_ in enumerate(x_train[:5000]):\n",
        "    arr = np.zeros(shape=(32, 32))\n",
        "    arr[:28,:28] = x_train[i]\n",
        "    x_train_list.append(arr)\n",
        "for i, i_ in enumerate(x_test[:500]):\n",
        "    arr = np.zeros(shape=(32, 32))\n",
        "    arr[:28,:28] = x_test[i]\n",
        "    x_test_list.append(arr)\n",
        "\n",
        "x_train1 = np.expand_dims(np.array(x_train_list), axis=-1)\n",
        "x_test1 = np.expand_dims(np.array(x_test_list), axis=-1)\n",
        "print(x_train1.shape, x_test1.shape)"
      ],
      "execution_count": 10,
      "outputs": [
        {
          "output_type": "stream",
          "text": [
            "(5000, 32, 32, 1) (500, 32, 32, 1)\n"
          ],
          "name": "stdout"
        }
      ]
    },
    {
      "cell_type": "code",
      "metadata": {
        "id": "hYrbF26lmWmn",
        "colab": {
          "base_uri": "https://localhost:8080/"
        },
        "outputId": "8e6cc622-a793-4c58-c100-8019f6cd1b65"
      },
      "source": [
        "y_train_list = []\n",
        "y_test_list = []\n",
        "for i, i_ in enumerate(y_train[:5000]):\n",
        "    zero = [0]*10\n",
        "    zero[i_] = 1\n",
        "    y_train_list.append(zero)\n",
        "\n",
        "for i, i_ in enumerate(y_test[:500]):\n",
        "    zero = [0]*10\n",
        "    zero[i_] = 1\n",
        "    y_test_list.append(zero)    \n",
        "    \n",
        "y_train1 = np.array(y_train_list)\n",
        "y_test1 = np.array(y_test_list)\n",
        "print(y_train1.shape, y_test1.shape)"
      ],
      "execution_count": 11,
      "outputs": [
        {
          "output_type": "stream",
          "text": [
            "(5000, 10) (500, 10)\n"
          ],
          "name": "stdout"
        }
      ]
    },
    {
      "cell_type": "code",
      "metadata": {
        "id": "PDbfzKwImWmo",
        "colab": {
          "base_uri": "https://localhost:8080/",
          "height": 228
        },
        "outputId": "1b9ef7eb-4c29-4281-a98b-b27cd3d13de5"
      },
      "source": [
        "plt.figure(figsize=(10,10))\n",
        "for i in range(3):\n",
        "    plt.subplot(1,3,i+1)\n",
        "    plt.imshow(x_train1[i][...,0], cmap='gray')\n",
        "    plt.title('Class = {}'.format(y_train[i]))"
      ],
      "execution_count": 12,
      "outputs": [
        {
          "output_type": "display_data",
          "data": {
            "image/png": "[encoded data removed]",
            "text/plain": [
              "<Figure size 720x720 with 3 Axes>"
            ]
          },
          "metadata": {
            "tags": [],
            "needs_background": "light"
          }
        }
      ]
    },
    {
      "cell_type": "markdown",
      "metadata": {
        "id": "RNvCkU-rmWmo"
      },
      "source": [
        "## 3.2 3D dataset"
      ]
    },
    {
      "cell_type": "code",
      "metadata": {
        "id": "S7_FSBYamWmo",
        "colab": {
          "base_uri": "https://localhost:8080/"
        },
        "outputId": "0cc9164f-0b50-4f4e-fee9-f1ba69d59081"
      },
      "source": [
        "x_train_list = []\n",
        "y_train_list = []\n",
        "x_test_list = []\n",
        "y_test_list = []\n",
        "for i in range(1200):\n",
        "    zero = np.zeros(shape=(32,32,32))\n",
        "    ones = np.ones(shape=(16,16,16))\n",
        "    ran = int(np.random.randint(10, size=1)-5)\n",
        "    if 0 <= i < 400:\n",
        "        zero[:,:,:] = (ran*10) + 150\n",
        "        x_train_list.append(zero)\n",
        "        y_train_list.append([1,0,0])\n",
        "    elif 400 <= i < 800:\n",
        "        zero[8+ran:24+ran,8+ran:24+ran,8+ran:24+ran] = (ran*10) + 200\n",
        "        x_train_list.append(zero)\n",
        "        y_train_list.append([0,1,0])\n",
        "    elif 800 <= i < 1200:\n",
        "        for j in range(32):\n",
        "            for k in range(32):\n",
        "                for l in range(32):\n",
        "                    if ((j-16+ran)**2) + ((k-16+ran)**2) + ((l-16+ran)**2) < 100:\n",
        "                        zero[j,k,l] = (ran*10) + 200\n",
        "        x_train_list.append(zero)\n",
        "        y_train_list.append([0,0,1])\n",
        "\n",
        "for i in range(600):\n",
        "    zero = np.zeros(shape=(32,32,32))\n",
        "    ones = np.ones(shape=(16,16,16))\n",
        "    ran = int(np.random.randint(10, size=1)-5)\n",
        "    if 0 <= i < 200:\n",
        "        zero[:,:,:] = (ran*10) + 150\n",
        "        x_test_list.append(zero)\n",
        "        y_test_list.append([1,0,0])\n",
        "    elif 200 <= i < 400:\n",
        "        zero[8+ran:24+ran,8+ran:24+ran,8+ran:24+ran] = (ran*10) + 200\n",
        "        x_test_list.append(zero)\n",
        "        y_test_list.append([0,1,0])\n",
        "    elif 400 <= i < 600:\n",
        "        for j in range(32):\n",
        "            for k in range(32):\n",
        "                for l in range(32):\n",
        "                    if ((j-16+ran)**2) + ((k-16+ran)**2) + ((l-16+ran)**2) < 100:\n",
        "                        zero[j,k,l] = (ran*10) + 200\n",
        "        x_test_list.append(zero)\n",
        "        y_test_list.append([0,0,1])\n",
        "\n",
        "x3_train1 = np.expand_dims(np.array(x_train_list), axis=-1)\n",
        "x3_test1 = np.expand_dims(np.array(x_test_list), axis=-1)\n",
        "y3_train1 = np.array(y_train_list)\n",
        "y3_test1 = np.array(y_test_list)\n",
        "print(x3_train1.shape, x3_test1.shape)\n",
        "print(y3_train1.shape, y3_test1.shape)"
      ],
      "execution_count": 13,
      "outputs": [
        {
          "output_type": "stream",
          "text": [
            "(1200, 32, 32, 32, 1) (600, 32, 32, 32, 1)\n",
            "(1200, 3) (600, 3)\n"
          ],
          "name": "stdout"
        }
      ]
    },
    {
      "cell_type": "code",
      "metadata": {
        "id": "Mp8apIbbmWmp",
        "colab": {
          "base_uri": "https://localhost:8080/",
          "height": 607
        },
        "outputId": "fa1b5bf5-3e63-495d-ebdb-c8c9c6bfd505"
      },
      "source": [
        "plt.figure(figsize=(10,10))\n",
        "for i in range(3):\n",
        "    for j in range(3):\n",
        "        plt.subplot(3,3, (3*i)+j+1)\n",
        "        plt.imshow(x3_train1[(i*400)+(j*100)][(8*j)+8,...,0], cmap='gray')\n",
        "        plt.title('Class = {}'.format(str(y3_train1[(i*400)+(j*100)])))\n"
      ],
      "execution_count": 14,
      "outputs": [
        {
          "output_type": "display_data",
          "data": {
            "image/png": "[encoded data removed]",
            "text/plain": [
              "<Figure size 720x720 with 9 Axes>"
            ]
          },
          "metadata": {
            "tags": [],
            "needs_background": "light"
          }
        }
      ]
    },
    {
      "cell_type": "markdown",
      "metadata": {
        "id": "MWCfiABkmWmp"
      },
      "source": [
        "# 3. Model Build"
      ]
    },
    {
      "cell_type": "markdown",
      "metadata": {
        "id": "ck3Ecxs8mWmp"
      },
      "source": [
        "## 3.1 2D"
      ]
    },
    {
      "cell_type": "code",
      "metadata": {
        "id": "6RyJRUzAmWmp"
      },
      "source": [
        "network_param_2d = {'input_size': 32,\n",
        "                     'conv_size': 3,\n",
        "                     'conv_act': 'relu',\n",
        "                     'pool_size': 2,\n",
        "                     'dens_num': 2,\n",
        "                     'dens_count': [1000,500],\n",
        "                     'dens_act': 'relu',\n",
        "                     'drop_out': 0.5,\n",
        "                     'output_count': 10,\n",
        "                     'output_act': 'softmax'}"
      ],
      "execution_count": 15,
      "outputs": []
    },
    {
      "cell_type": "code",
      "metadata": {
        "scrolled": true,
        "id": "yRcrJ1-RmWmp",
        "colab": {
          "base_uri": "https://localhost:8080/"
        },
        "outputId": "9a7e4238-4d44-4a23-9a42-7bffbafd8b59"
      },
      "source": [
        "model = VGG19_2D(network_param_2d)\n",
        "model.summary()"
      ],
      "execution_count": 16,
      "outputs": [
        {
          "output_type": "stream",
          "text": [
            "Model: \"model\"\n",
            "_________________________________________________________________\n",
            "Layer (type)                 Output Shape              Param #   \n",
            "=================================================================\n",
            "input_2 (InputLayer)         [(None, 32, 32, 1)]       0         \n",
            "_________________________________________________________________\n",
            "block1_conv1 (Conv2D)        (None, 32, 32, 64)        640       \n",
            "_________________________________________________________________\n",
            "block1_batchnorm1 (BatchNorm (None, 32, 32, 64)        256       \n",
            "_________________________________________________________________\n",
            "block1_activ1 (Activation)   (None, 32, 32, 64)        0         \n",
            "_________________________________________________________________\n",
            "block1_conv2 (Conv2D)        (None, 32, 32, 64)        36928     \n",
            "_________________________________________________________________\n",
            "block1_batchnorm2 (BatchNorm (None, 32, 32, 64)        256       \n",
            "_________________________________________________________________\n",
            "block1_activ2 (Activation)   (None, 32, 32, 64)        0         \n",
            "_________________________________________________________________\n",
            "block1_pool (MaxPooling2D)   (None, 16, 16, 64)        0         \n",
            "_________________________________________________________________\n",
            "block2_conv1 (Conv2D)        (None, 16, 16, 128)       73856     \n",
            "_________________________________________________________________\n",
            "block2_batchnorm1 (BatchNorm (None, 16, 16, 128)       512       \n",
            "_________________________________________________________________\n",
            "block2_activ1 (Activation)   (None, 16, 16, 128)       0         \n",
            "_________________________________________________________________\n",
            "block2_conv2 (Conv2D)        (None, 16, 16, 128)       147584    \n",
            "_________________________________________________________________\n",
            "block2_batchnorm2 (BatchNorm (None, 16, 16, 128)       512       \n",
            "_________________________________________________________________\n",
            "block2_activ2 (Activation)   (None, 16, 16, 128)       0         \n",
            "_________________________________________________________________\n",
            "block2_pool (MaxPooling2D)   (None, 8, 8, 128)         0         \n",
            "_________________________________________________________________\n",
            "block3_conv1 (Conv2D)        (None, 8, 8, 256)         295168    \n",
            "_________________________________________________________________\n",
            "block3_batchnorm1 (BatchNorm (None, 8, 8, 256)         1024      \n",
            "_________________________________________________________________\n",
            "block3_activ1 (Activation)   (None, 8, 8, 256)         0         \n",
            "_________________________________________________________________\n",
            "block3_conv2 (Conv2D)        (None, 8, 8, 256)         590080    \n",
            "_________________________________________________________________\n",
            "block3_batchnorm2 (BatchNorm (None, 8, 8, 256)         1024      \n",
            "_________________________________________________________________\n",
            "block3_activ2 (Activation)   (None, 8, 8, 256)         0         \n",
            "_________________________________________________________________\n",
            "block3_conv3 (Conv2D)        (None, 8, 8, 256)         590080    \n",
            "_________________________________________________________________\n",
            "block3_batchnorm3 (BatchNorm (None, 8, 8, 256)         1024      \n",
            "_________________________________________________________________\n",
            "block3_activ3 (Activation)   (None, 8, 8, 256)         0         \n",
            "_________________________________________________________________\n",
            "block3_conv4 (Conv2D)        (None, 8, 8, 256)         590080    \n",
            "_________________________________________________________________\n",
            "block3_batchnorm4 (BatchNorm (None, 8, 8, 256)         1024      \n",
            "_________________________________________________________________\n",
            "block3_activ4 (Activation)   (None, 8, 8, 256)         0         \n",
            "_________________________________________________________________\n",
            "block3_pool (MaxPooling2D)   (None, 4, 4, 256)         0         \n",
            "_________________________________________________________________\n",
            "block4_conv1 (Conv2D)        (None, 4, 4, 512)         1180160   \n",
            "_________________________________________________________________\n",
            "block4_batchnorm1 (BatchNorm (None, 4, 4, 512)         2048      \n",
            "_________________________________________________________________\n",
            "block4_activ1 (Activation)   (None, 4, 4, 512)         0         \n",
            "_________________________________________________________________\n",
            "block4_conv2 (Conv2D)        (None, 4, 4, 512)         2359808   \n",
            "_________________________________________________________________\n",
            "block4_batchnorm2 (BatchNorm (None, 4, 4, 512)         2048      \n",
            "_________________________________________________________________\n",
            "block4_activ2 (Activation)   (None, 4, 4, 512)         0         \n",
            "_________________________________________________________________\n",
            "block4_conv3 (Conv2D)        (None, 4, 4, 512)         2359808   \n",
            "_________________________________________________________________\n",
            "block4_batchnorm3 (BatchNorm (None, 4, 4, 512)         2048      \n",
            "_________________________________________________________________\n",
            "block4_activ3 (Activation)   (None, 4, 4, 512)         0         \n",
            "_________________________________________________________________\n",
            "block4_conv4 (Conv2D)        (None, 4, 4, 512)         2359808   \n",
            "_________________________________________________________________\n",
            "block4_batchnorm4 (BatchNorm (None, 4, 4, 512)         2048      \n",
            "_________________________________________________________________\n",
            "block4_activ4 (Activation)   (None, 4, 4, 512)         0         \n",
            "_________________________________________________________________\n",
            "block4_pool (MaxPooling2D)   (None, 2, 2, 512)         0         \n",
            "_________________________________________________________________\n",
            "block5_conv1 (Conv2D)        (None, 2, 2, 512)         2359808   \n",
            "_________________________________________________________________\n",
            "block5_batchnorm1 (BatchNorm (None, 2, 2, 512)         2048      \n",
            "_________________________________________________________________\n",
            "block5_activ1 (Activation)   (None, 2, 2, 512)         0         \n",
            "_________________________________________________________________\n",
            "block5_conv2 (Conv2D)        (None, 2, 2, 512)         2359808   \n",
            "_________________________________________________________________\n",
            "block5_batchnorm2 (BatchNorm (None, 2, 2, 512)         2048      \n",
            "_________________________________________________________________\n",
            "block5_activ2 (Activation)   (None, 2, 2, 512)         0         \n",
            "_________________________________________________________________\n",
            "block5_conv3 (Conv2D)        (None, 2, 2, 512)         2359808   \n",
            "_________________________________________________________________\n",
            "block5_batchnorm3 (BatchNorm (None, 2, 2, 512)         2048      \n",
            "_________________________________________________________________\n",
            "block5_activ3 (Activation)   (None, 2, 2, 512)         0         \n",
            "_________________________________________________________________\n",
            "block5_conv4 (Conv2D)        (None, 2, 2, 512)         2359808   \n",
            "_________________________________________________________________\n",
            "block5_batchnorm4 (BatchNorm (None, 2, 2, 512)         2048      \n",
            "_________________________________________________________________\n",
            "block5_activ4 (Activation)   (None, 2, 2, 512)         0         \n",
            "_________________________________________________________________\n",
            "block5_pool (MaxPooling2D)   (None, 1, 1, 512)         0         \n",
            "_________________________________________________________________\n",
            "flatten_layer (Flatten)      (None, 512)               0         \n",
            "_________________________________________________________________\n",
            "classifier_dense_1 (Dense)   (None, 1000)              513000    \n",
            "_________________________________________________________________\n",
            "classifier_dropout_1 (Dropou (None, 1000)              0         \n",
            "_________________________________________________________________\n",
            "classifier_dense_2 (Dense)   (None, 500)               500500    \n",
            "_________________________________________________________________\n",
            "classifier_dropout_2 (Dropou (None, 500)               0         \n",
            "_________________________________________________________________\n",
            "dense (Dense)                (None, 10)                5010      \n",
            "=================================================================\n",
            "Total params: 21,063,758\n",
            "Trainable params: 21,052,750\n",
            "Non-trainable params: 11,008\n",
            "_________________________________________________________________\n"
          ],
          "name": "stdout"
        }
      ]
    },
    {
      "cell_type": "code",
      "metadata": {
        "id": "QJt621_cmWmq"
      },
      "source": [
        "model.compile(loss=losses.CategoricalCrossentropy(), optimizer=optimizers.Adam(lr=1e-5), metrics=['acc'])\n"
      ],
      "execution_count": null,
      "outputs": []
    },
    {
      "cell_type": "code",
      "metadata": {
        "scrolled": true,
        "id": "iKfz_dDumWmq",
        "colab": {
          "base_uri": "https://localhost:8080/"
        },
        "outputId": "3d7ad4cd-69f4-4288-a7d6-a58a48ab2388"
      },
      "source": [
        "callback_list = [keras.callbacks.EarlyStopping(monitor='val_loss', patience=20),\n",
        "                         keras.callbacks.ModelCheckpoint(filepath=os.path.join('2d_model.h5'),\n",
        "                                                         monitor='val_accuracy', save_best_only=True),\n",
        "                         keras.callbacks.ReduceLROnPlateau(monitor='val_loss', factor=0.1, patience=10)]\n",
        "\n",
        "history = model.fit(x_train1, y_train1, epochs=50, batch_size=32, \n",
        "                    validation_data=(x_test1, y_test1),\n",
        "                    callbacks=callback_list, shuffle=True)"
      ],
      "execution_count": null,
      "outputs": [
        {
          "output_type": "stream",
          "text": [
            "Epoch 1/50\n",
            "148/157 [===========================>..] - ETA: 26s - loss: 3.8944 - acc: 0.2021"
          ],
          "name": "stdout"
        }
      ]
    },
    {
      "cell_type": "code",
      "metadata": {
        "id": "hYSn7pqmmWmq"
      },
      "source": [
        "acc = history.history['acc']\n",
        "val_acc = history.history['val_acc']\n",
        "loss = history.history['loss']\n",
        "val_loss = history.history['val_loss']\n",
        "epochs = range(len(acc))\n",
        "# Accuracy graph\n",
        "plt.figure(figsize=(10, 10))\n",
        "plt.plot(epochs, acc, 'b', label='Training acc = {}%'.format(np.around(np.max(acc) * 100, decimals=1)))\n",
        "plt.plot(epochs, val_acc, 'r', label='Validation acc = {}%'.format(np.around(np.max(val_acc) * 100, decimals=1)))\n",
        "plt.title('{} Accuracy (Total Epoch = {})'.format('VGG16', len(acc)), fontsize=15, y=1.02)\n",
        "plt.xticks(size=15)\n",
        "plt.yticks(size=15)\n",
        "plt.legend(fontsize=15)\n",
        "plt.show()\n",
        "# Loss graph\n",
        "plt.figure(figsize=(10, 10))\n",
        "plt.plot(epochs, loss, 'b', label='Training loss = {}'.format(np.around(np.min(loss), decimals=3)))\n",
        "plt.plot(epochs, val_loss, 'r', label='Validation loss= {}'.format(np.around(np.min(val_loss), decimals=3)))\n",
        "plt.title('{} Loss (Total Epoch = {})'.format('VGG16', len(loss)), fontsize=15, y=1.02)\n",
        "plt.xticks(size=15)\n",
        "plt.yticks(size=15)\n",
        "plt.legend(fontsize=15)\n",
        "plt.show()"
      ],
      "execution_count": null,
      "outputs": []
    },
    {
      "cell_type": "markdown",
      "metadata": {
        "id": "KVT4KNd5mWmq"
      },
      "source": [
        "## 3.2 3D "
      ]
    },
    {
      "cell_type": "code",
      "metadata": {
        "id": "TpaWZMjpH5J4"
      },
      "source": [
        "network_param_3d = {'input_size': 32,\r\n",
        "                     'conv_size': 3,\r\n",
        "                     'conv_act': 'relu',\r\n",
        "                     'pool_size': 2,\r\n",
        "                     'dens_num': 2,\r\n",
        "                     'dens_count': [1000,500],\r\n",
        "                     'dens_act': 'relu',\r\n",
        "                     'drop_out': 0.5,\r\n",
        "                     'output_count': 3,\r\n",
        "                     'output_act': 'softmax'}"
      ],
      "execution_count": 20,
      "outputs": []
    },
    {
      "cell_type": "code",
      "metadata": {
        "scrolled": true,
        "id": "Et33FS_1mWmr",
        "outputId": "92d01c7d-2967-4a29-9284-5340b4db0d2f",
        "colab": {
          "base_uri": "https://localhost:8080/"
        }
      },
      "source": [
        "model = VGG19_3D(network_param_3d)\n",
        "model.summary()"
      ],
      "execution_count": 21,
      "outputs": [
        {
          "output_type": "stream",
          "text": [
            "Model: \"model_1\"\n",
            "_________________________________________________________________\n",
            "Layer (type)                 Output Shape              Param #   \n",
            "=================================================================\n",
            "input_3 (InputLayer)         [(None, 32, 32, 32, 1)]   0         \n",
            "_________________________________________________________________\n",
            "block1_conv1 (Conv3D)        (None, 32, 32, 32, 64)    1792      \n",
            "_________________________________________________________________\n",
            "block1_batchnorm1 (BatchNorm (None, 32, 32, 32, 64)    256       \n",
            "_________________________________________________________________\n",
            "block1_activ1 (Activation)   (None, 32, 32, 32, 64)    0         \n",
            "_________________________________________________________________\n",
            "block1_conv2 (Conv3D)        (None, 32, 32, 32, 64)    110656    \n",
            "_________________________________________________________________\n",
            "block1_batchnorm2 (BatchNorm (None, 32, 32, 32, 64)    256       \n",
            "_________________________________________________________________\n",
            "block1_activ2 (Activation)   (None, 32, 32, 32, 64)    0         \n",
            "_________________________________________________________________\n",
            "block1_pool (MaxPooling3D)   (None, 16, 16, 16, 64)    0         \n",
            "_________________________________________________________________\n",
            "block2_conv1 (Conv3D)        (None, 16, 16, 16, 128)   221312    \n",
            "_________________________________________________________________\n",
            "block2_batchnorm1 (BatchNorm (None, 16, 16, 16, 128)   512       \n",
            "_________________________________________________________________\n",
            "block2_activ1 (Activation)   (None, 16, 16, 16, 128)   0         \n",
            "_________________________________________________________________\n",
            "block2_conv2 (Conv3D)        (None, 16, 16, 16, 128)   442496    \n",
            "_________________________________________________________________\n",
            "block2_batchnorm2 (BatchNorm (None, 16, 16, 16, 128)   512       \n",
            "_________________________________________________________________\n",
            "block2_activ2 (Activation)   (None, 16, 16, 16, 128)   0         \n",
            "_________________________________________________________________\n",
            "block2_pool (MaxPooling3D)   (None, 8, 8, 8, 128)      0         \n",
            "_________________________________________________________________\n",
            "block3_conv1 (Conv3D)        (None, 8, 8, 8, 256)      884992    \n",
            "_________________________________________________________________\n",
            "block3_batchnorm1 (BatchNorm (None, 8, 8, 8, 256)      1024      \n",
            "_________________________________________________________________\n",
            "block3_activ1 (Activation)   (None, 8, 8, 8, 256)      0         \n",
            "_________________________________________________________________\n",
            "block3_conv2 (Conv3D)        (None, 8, 8, 8, 256)      1769728   \n",
            "_________________________________________________________________\n",
            "block3_batchnorm2 (BatchNorm (None, 8, 8, 8, 256)      1024      \n",
            "_________________________________________________________________\n",
            "block3_activ2 (Activation)   (None, 8, 8, 8, 256)      0         \n",
            "_________________________________________________________________\n",
            "block3_conv3 (Conv3D)        (None, 8, 8, 8, 256)      1769728   \n",
            "_________________________________________________________________\n",
            "block3_batchnorm3 (BatchNorm (None, 8, 8, 8, 256)      1024      \n",
            "_________________________________________________________________\n",
            "block3_activ3 (Activation)   (None, 8, 8, 8, 256)      0         \n",
            "_________________________________________________________________\n",
            "block3_conv4 (Conv3D)        (None, 8, 8, 8, 256)      1769728   \n",
            "_________________________________________________________________\n",
            "block3_batchnorm4 (BatchNorm (None, 8, 8, 8, 256)      1024      \n",
            "_________________________________________________________________\n",
            "block3_activ4 (Activation)   (None, 8, 8, 8, 256)      0         \n",
            "_________________________________________________________________\n",
            "block3_pool (MaxPooling3D)   (None, 4, 4, 4, 256)      0         \n",
            "_________________________________________________________________\n",
            "block4_conv1 (Conv3D)        (None, 4, 4, 4, 512)      3539456   \n",
            "_________________________________________________________________\n",
            "block4_batchnorm1 (BatchNorm (None, 4, 4, 4, 512)      2048      \n",
            "_________________________________________________________________\n",
            "block4_activ1 (Activation)   (None, 4, 4, 4, 512)      0         \n",
            "_________________________________________________________________\n",
            "block4_conv2 (Conv3D)        (None, 4, 4, 4, 512)      7078400   \n",
            "_________________________________________________________________\n",
            "block4_batchnorm2 (BatchNorm (None, 4, 4, 4, 512)      2048      \n",
            "_________________________________________________________________\n",
            "block4_activ2 (Activation)   (None, 4, 4, 4, 512)      0         \n",
            "_________________________________________________________________\n",
            "block4_conv3 (Conv3D)        (None, 4, 4, 4, 512)      7078400   \n",
            "_________________________________________________________________\n",
            "block4_batchnorm3 (BatchNorm (None, 4, 4, 4, 512)      2048      \n",
            "_________________________________________________________________\n",
            "block4_activ3 (Activation)   (None, 4, 4, 4, 512)      0         \n",
            "_________________________________________________________________\n",
            "block4_conv4 (Conv3D)        (None, 4, 4, 4, 512)      7078400   \n",
            "_________________________________________________________________\n",
            "block4_batchnorm4 (BatchNorm (None, 4, 4, 4, 512)      2048      \n",
            "_________________________________________________________________\n",
            "block4_activ4 (Activation)   (None, 4, 4, 4, 512)      0         \n",
            "_________________________________________________________________\n",
            "block4_pool (MaxPooling3D)   (None, 2, 2, 2, 512)      0         \n",
            "_________________________________________________________________\n",
            "block5_conv1 (Conv3D)        (None, 2, 2, 2, 512)      7078400   \n",
            "_________________________________________________________________\n",
            "block5_batchnorm1 (BatchNorm (None, 2, 2, 2, 512)      2048      \n",
            "_________________________________________________________________\n",
            "block5_activ1 (Activation)   (None, 2, 2, 2, 512)      0         \n",
            "_________________________________________________________________\n",
            "block5_conv2 (Conv3D)        (None, 2, 2, 2, 512)      7078400   \n",
            "_________________________________________________________________\n",
            "block5_batchnorm2 (BatchNorm (None, 2, 2, 2, 512)      2048      \n",
            "_________________________________________________________________\n",
            "block5_activ2 (Activation)   (None, 2, 2, 2, 512)      0         \n",
            "_________________________________________________________________\n",
            "block5_conv3 (Conv3D)        (None, 2, 2, 2, 512)      7078400   \n",
            "_________________________________________________________________\n",
            "block5_batchnorm3 (BatchNorm (None, 2, 2, 2, 512)      2048      \n",
            "_________________________________________________________________\n",
            "block5_activ3 (Activation)   (None, 2, 2, 2, 512)      0         \n",
            "_________________________________________________________________\n",
            "block5_conv4 (Conv3D)        (None, 2, 2, 2, 512)      7078400   \n",
            "_________________________________________________________________\n",
            "block5_batchnorm4 (BatchNorm (None, 2, 2, 2, 512)      2048      \n",
            "_________________________________________________________________\n",
            "block5_activ4 (Activation)   (None, 2, 2, 2, 512)      0         \n",
            "_________________________________________________________________\n",
            "block5_pool (MaxPooling3D)   (None, 1, 1, 1, 512)      0         \n",
            "_________________________________________________________________\n",
            "flatten_layer (Flatten)      (None, 512)               0         \n",
            "_________________________________________________________________\n",
            "classifier_dense_1 (Dense)   (None, 1000)              513000    \n",
            "_________________________________________________________________\n",
            "classifier_dropout_1 (Dropou (None, 1000)              0         \n",
            "_________________________________________________________________\n",
            "classifier_dense_2 (Dense)   (None, 500)               500500    \n",
            "_________________________________________________________________\n",
            "classifier_dropout_2 (Dropou (None, 500)               0         \n",
            "_________________________________________________________________\n",
            "dense_1 (Dense)              (None, 3)                 1503      \n",
            "=================================================================\n",
            "Total params: 61,095,707\n",
            "Trainable params: 61,084,699\n",
            "Non-trainable params: 11,008\n",
            "_________________________________________________________________\n"
          ],
          "name": "stdout"
        }
      ]
    },
    {
      "cell_type": "code",
      "metadata": {
        "id": "06KnVstxmWmr",
        "outputId": "c129192b-b2dd-40e8-ec06-df710c25fec4",
        "colab": {
          "base_uri": "https://localhost:8080/",
          "height": 389
        }
      },
      "source": [
        "model.compile(loss=losses.CategoricalCrossentropy(), optimizer=optimizers.Adam(lr=1e-5), metrics=['acc'])\n",
        "callback_list = [keras.callbacks.EarlyStopping(monitor='val_acc', patience=12),\n",
        "                         keras.callbacks.ModelCheckpoint(filepath=os.path.join('3d_model.h5'),\n",
        "                                                         monitor='val_accuracy', save_best_only=True),\n",
        "                         keras.callbacks.ReduceLROnPlateau(monitor='val_loss', factor=0.1, patience=10)]\n",
        "\n",
        "history = model.fit(x3_train1, y3_train1, epochs=100, batch_size=32, \n",
        "                    validation_data=(x3_test1, y3_test1),\n",
        "                    callbacks=callback_list, shuffle=True)"
      ],
      "execution_count": 23,
      "outputs": [
        {
          "output_type": "stream",
          "text": [
            "Epoch 1/100\n",
            " 5/38 [==>...........................] - ETA: 25s - loss: 0.0925 - acc: 0.9622"
          ],
          "name": "stdout"
        },
        {
          "output_type": "error",
          "ename": "KeyboardInterrupt",
          "evalue": "ignored",
          "traceback": [
            "\u001b[0;31m---------------------------------------------------------------------------\u001b[0m",
            "\u001b[0;31mKeyboardInterrupt\u001b[0m                         Traceback (most recent call last)",
            "\u001b[0;32m<ipython-input-23-1ccecc35b671>\u001b[0m in \u001b[0;36m<module>\u001b[0;34m()\u001b[0m\n\u001b[1;32m      7\u001b[0m history = model.fit(x3_train1, y3_train1, epochs=100, batch_size=32, \n\u001b[1;32m      8\u001b[0m                     \u001b[0mvalidation_data\u001b[0m\u001b[0;34m=\u001b[0m\u001b[0;34m(\u001b[0m\u001b[0mx3_test1\u001b[0m\u001b[0;34m,\u001b[0m \u001b[0my3_test1\u001b[0m\u001b[0;34m)\u001b[0m\u001b[0;34m,\u001b[0m\u001b[0;34m\u001b[0m\u001b[0;34m\u001b[0m\u001b[0m\n\u001b[0;32m----> 9\u001b[0;31m                     callbacks=callback_list, shuffle=True)\n\u001b[0m",
            "\u001b[0;32m/usr/local/lib/python3.6/dist-packages/tensorflow/python/keras/engine/training.py\u001b[0m in \u001b[0;36mfit\u001b[0;34m(self, x, y, batch_size, epochs, verbose, callbacks, validation_split, validation_data, shuffle, class_weight, sample_weight, initial_epoch, steps_per_epoch, validation_steps, validation_batch_size, validation_freq, max_queue_size, workers, use_multiprocessing)\u001b[0m\n\u001b[1;32m   1098\u001b[0m                 _r=1):\n\u001b[1;32m   1099\u001b[0m               \u001b[0mcallbacks\u001b[0m\u001b[0;34m.\u001b[0m\u001b[0mon_train_batch_begin\u001b[0m\u001b[0;34m(\u001b[0m\u001b[0mstep\u001b[0m\u001b[0;34m)\u001b[0m\u001b[0;34m\u001b[0m\u001b[0;34m\u001b[0m\u001b[0m\n\u001b[0;32m-> 1100\u001b[0;31m               \u001b[0mtmp_logs\u001b[0m \u001b[0;34m=\u001b[0m \u001b[0mself\u001b[0m\u001b[0;34m.\u001b[0m\u001b[0mtrain_function\u001b[0m\u001b[0;34m(\u001b[0m\u001b[0miterator\u001b[0m\u001b[0;34m)\u001b[0m\u001b[0;34m\u001b[0m\u001b[0;34m\u001b[0m\u001b[0m\n\u001b[0m\u001b[1;32m   1101\u001b[0m               \u001b[0;32mif\u001b[0m \u001b[0mdata_handler\u001b[0m\u001b[0;34m.\u001b[0m\u001b[0mshould_sync\u001b[0m\u001b[0;34m:\u001b[0m\u001b[0;34m\u001b[0m\u001b[0;34m\u001b[0m\u001b[0m\n\u001b[1;32m   1102\u001b[0m                 \u001b[0mcontext\u001b[0m\u001b[0;34m.\u001b[0m\u001b[0masync_wait\u001b[0m\u001b[0;34m(\u001b[0m\u001b[0;34m)\u001b[0m\u001b[0;34m\u001b[0m\u001b[0;34m\u001b[0m\u001b[0m\n",
            "\u001b[0;32m/usr/local/lib/python3.6/dist-packages/tensorflow/python/eager/def_function.py\u001b[0m in \u001b[0;36m__call__\u001b[0;34m(self, *args, **kwds)\u001b[0m\n\u001b[1;32m    826\u001b[0m     \u001b[0mtracing_count\u001b[0m \u001b[0;34m=\u001b[0m \u001b[0mself\u001b[0m\u001b[0;34m.\u001b[0m\u001b[0mexperimental_get_tracing_count\u001b[0m\u001b[0;34m(\u001b[0m\u001b[0;34m)\u001b[0m\u001b[0;34m\u001b[0m\u001b[0;34m\u001b[0m\u001b[0m\n\u001b[1;32m    827\u001b[0m     \u001b[0;32mwith\u001b[0m \u001b[0mtrace\u001b[0m\u001b[0;34m.\u001b[0m\u001b[0mTrace\u001b[0m\u001b[0;34m(\u001b[0m\u001b[0mself\u001b[0m\u001b[0;34m.\u001b[0m\u001b[0m_name\u001b[0m\u001b[0;34m)\u001b[0m \u001b[0;32mas\u001b[0m \u001b[0mtm\u001b[0m\u001b[0;34m:\u001b[0m\u001b[0;34m\u001b[0m\u001b[0;34m\u001b[0m\u001b[0m\n\u001b[0;32m--> 828\u001b[0;31m       \u001b[0mresult\u001b[0m \u001b[0;34m=\u001b[0m \u001b[0mself\u001b[0m\u001b[0;34m.\u001b[0m\u001b[0m_call\u001b[0m\u001b[0;34m(\u001b[0m\u001b[0;34m*\u001b[0m\u001b[0margs\u001b[0m\u001b[0;34m,\u001b[0m \u001b[0;34m**\u001b[0m\u001b[0mkwds\u001b[0m\u001b[0;34m)\u001b[0m\u001b[0;34m\u001b[0m\u001b[0;34m\u001b[0m\u001b[0m\n\u001b[0m\u001b[1;32m    829\u001b[0m       \u001b[0mcompiler\u001b[0m \u001b[0;34m=\u001b[0m \u001b[0;34m\"xla\"\u001b[0m \u001b[0;32mif\u001b[0m \u001b[0mself\u001b[0m\u001b[0;34m.\u001b[0m\u001b[0m_experimental_compile\u001b[0m \u001b[0;32melse\u001b[0m \u001b[0;34m\"nonXla\"\u001b[0m\u001b[0;34m\u001b[0m\u001b[0;34m\u001b[0m\u001b[0m\n\u001b[1;32m    830\u001b[0m       \u001b[0mnew_tracing_count\u001b[0m \u001b[0;34m=\u001b[0m \u001b[0mself\u001b[0m\u001b[0;34m.\u001b[0m\u001b[0mexperimental_get_tracing_count\u001b[0m\u001b[0;34m(\u001b[0m\u001b[0;34m)\u001b[0m\u001b[0;34m\u001b[0m\u001b[0;34m\u001b[0m\u001b[0m\n",
            "\u001b[0;32m/usr/local/lib/python3.6/dist-packages/tensorflow/python/eager/def_function.py\u001b[0m in \u001b[0;36m_call\u001b[0;34m(self, *args, **kwds)\u001b[0m\n\u001b[1;32m    853\u001b[0m       \u001b[0;31m# In this case we have created variables on the first call, so we run the\u001b[0m\u001b[0;34m\u001b[0m\u001b[0;34m\u001b[0m\u001b[0;34m\u001b[0m\u001b[0m\n\u001b[1;32m    854\u001b[0m       \u001b[0;31m# defunned version which is guaranteed to never create variables.\u001b[0m\u001b[0;34m\u001b[0m\u001b[0;34m\u001b[0m\u001b[0;34m\u001b[0m\u001b[0m\n\u001b[0;32m--> 855\u001b[0;31m       \u001b[0;32mreturn\u001b[0m \u001b[0mself\u001b[0m\u001b[0;34m.\u001b[0m\u001b[0m_stateless_fn\u001b[0m\u001b[0;34m(\u001b[0m\u001b[0;34m*\u001b[0m\u001b[0margs\u001b[0m\u001b[0;34m,\u001b[0m \u001b[0;34m**\u001b[0m\u001b[0mkwds\u001b[0m\u001b[0;34m)\u001b[0m  \u001b[0;31m# pylint: disable=not-callable\u001b[0m\u001b[0;34m\u001b[0m\u001b[0;34m\u001b[0m\u001b[0m\n\u001b[0m\u001b[1;32m    856\u001b[0m     \u001b[0;32melif\u001b[0m \u001b[0mself\u001b[0m\u001b[0;34m.\u001b[0m\u001b[0m_stateful_fn\u001b[0m \u001b[0;32mis\u001b[0m \u001b[0;32mnot\u001b[0m \u001b[0;32mNone\u001b[0m\u001b[0;34m:\u001b[0m\u001b[0;34m\u001b[0m\u001b[0;34m\u001b[0m\u001b[0m\n\u001b[1;32m    857\u001b[0m       \u001b[0;31m# Release the lock early so that multiple threads can perform the call\u001b[0m\u001b[0;34m\u001b[0m\u001b[0;34m\u001b[0m\u001b[0;34m\u001b[0m\u001b[0m\n",
            "\u001b[0;32m/usr/local/lib/python3.6/dist-packages/tensorflow/python/eager/function.py\u001b[0m in \u001b[0;36m__call__\u001b[0;34m(self, *args, **kwargs)\u001b[0m\n\u001b[1;32m   2941\u001b[0m        filtered_flat_args) = self._maybe_define_function(args, kwargs)\n\u001b[1;32m   2942\u001b[0m     return graph_function._call_flat(\n\u001b[0;32m-> 2943\u001b[0;31m         filtered_flat_args, captured_inputs=graph_function.captured_inputs)  # pylint: disable=protected-access\n\u001b[0m\u001b[1;32m   2944\u001b[0m \u001b[0;34m\u001b[0m\u001b[0m\n\u001b[1;32m   2945\u001b[0m   \u001b[0;34m@\u001b[0m\u001b[0mproperty\u001b[0m\u001b[0;34m\u001b[0m\u001b[0;34m\u001b[0m\u001b[0m\n",
            "\u001b[0;32m/usr/local/lib/python3.6/dist-packages/tensorflow/python/eager/function.py\u001b[0m in \u001b[0;36m_call_flat\u001b[0;34m(self, args, captured_inputs, cancellation_manager)\u001b[0m\n\u001b[1;32m   1917\u001b[0m       \u001b[0;31m# No tape is watching; skip to running the function.\u001b[0m\u001b[0;34m\u001b[0m\u001b[0;34m\u001b[0m\u001b[0;34m\u001b[0m\u001b[0m\n\u001b[1;32m   1918\u001b[0m       return self._build_call_outputs(self._inference_function.call(\n\u001b[0;32m-> 1919\u001b[0;31m           ctx, args, cancellation_manager=cancellation_manager))\n\u001b[0m\u001b[1;32m   1920\u001b[0m     forward_backward = self._select_forward_and_backward_functions(\n\u001b[1;32m   1921\u001b[0m         \u001b[0margs\u001b[0m\u001b[0;34m,\u001b[0m\u001b[0;34m\u001b[0m\u001b[0;34m\u001b[0m\u001b[0m\n",
            "\u001b[0;32m/usr/local/lib/python3.6/dist-packages/tensorflow/python/eager/function.py\u001b[0m in \u001b[0;36mcall\u001b[0;34m(self, ctx, args, cancellation_manager)\u001b[0m\n\u001b[1;32m    558\u001b[0m               \u001b[0minputs\u001b[0m\u001b[0;34m=\u001b[0m\u001b[0margs\u001b[0m\u001b[0;34m,\u001b[0m\u001b[0;34m\u001b[0m\u001b[0;34m\u001b[0m\u001b[0m\n\u001b[1;32m    559\u001b[0m               \u001b[0mattrs\u001b[0m\u001b[0;34m=\u001b[0m\u001b[0mattrs\u001b[0m\u001b[0;34m,\u001b[0m\u001b[0;34m\u001b[0m\u001b[0;34m\u001b[0m\u001b[0m\n\u001b[0;32m--> 560\u001b[0;31m               ctx=ctx)\n\u001b[0m\u001b[1;32m    561\u001b[0m         \u001b[0;32melse\u001b[0m\u001b[0;34m:\u001b[0m\u001b[0;34m\u001b[0m\u001b[0;34m\u001b[0m\u001b[0m\n\u001b[1;32m    562\u001b[0m           outputs = execute.execute_with_cancellation(\n",
            "\u001b[0;32m/usr/local/lib/python3.6/dist-packages/tensorflow/python/eager/execute.py\u001b[0m in \u001b[0;36mquick_execute\u001b[0;34m(op_name, num_outputs, inputs, attrs, ctx, name)\u001b[0m\n\u001b[1;32m     58\u001b[0m     \u001b[0mctx\u001b[0m\u001b[0;34m.\u001b[0m\u001b[0mensure_initialized\u001b[0m\u001b[0;34m(\u001b[0m\u001b[0;34m)\u001b[0m\u001b[0;34m\u001b[0m\u001b[0;34m\u001b[0m\u001b[0m\n\u001b[1;32m     59\u001b[0m     tensors = pywrap_tfe.TFE_Py_Execute(ctx._handle, device_name, op_name,\n\u001b[0;32m---> 60\u001b[0;31m                                         inputs, attrs, num_outputs)\n\u001b[0m\u001b[1;32m     61\u001b[0m   \u001b[0;32mexcept\u001b[0m \u001b[0mcore\u001b[0m\u001b[0;34m.\u001b[0m\u001b[0m_NotOkStatusException\u001b[0m \u001b[0;32mas\u001b[0m \u001b[0me\u001b[0m\u001b[0;34m:\u001b[0m\u001b[0;34m\u001b[0m\u001b[0;34m\u001b[0m\u001b[0m\n\u001b[1;32m     62\u001b[0m     \u001b[0;32mif\u001b[0m \u001b[0mname\u001b[0m \u001b[0;32mis\u001b[0m \u001b[0;32mnot\u001b[0m \u001b[0;32mNone\u001b[0m\u001b[0;34m:\u001b[0m\u001b[0;34m\u001b[0m\u001b[0;34m\u001b[0m\u001b[0m\n",
            "\u001b[0;31mKeyboardInterrupt\u001b[0m: "
          ]
        }
      ]
    },
    {
      "cell_type": "code",
      "metadata": {
        "id": "jK_aCtLrmWmr"
      },
      "source": [
        "acc = history.history['acc']\n",
        "val_acc = history.history['val_acc']\n",
        "loss = history.history['loss']\n",
        "val_loss = history.history['val_loss']\n",
        "epochs = range(len(acc))\n",
        "# Accuracy graph\n",
        "plt.figure(figsize=(10, 10))\n",
        "plt.plot(epochs, acc, 'b', label='Training acc = {}%'.format(np.around(np.max(acc) * 100, decimals=1)))\n",
        "plt.plot(epochs, val_acc, 'r', label='Validation acc = {}%'.format(np.around(np.max(val_acc) * 100, decimals=1)))\n",
        "plt.title('{} Accuracy (Total Epoch = {})'.format('VGG16', len(acc)), fontsize=15, y=1.02)\n",
        "plt.xticks(size=15)\n",
        "plt.yticks(size=15)\n",
        "plt.legend(fontsize=15)\n",
        "plt.show()\n",
        "# Loss graph\n",
        "plt.figure(figsize=(10, 10))\n",
        "plt.plot(epochs, loss, 'b', label='Training loss = {}'.format(np.around(np.min(loss), decimals=3)))\n",
        "plt.plot(epochs, val_loss, 'r', label='Validation loss= {}'.format(np.around(np.min(val_loss), decimals=3)))\n",
        "plt.title('{} Loss (Total Epoch = {})'.format('VGG16', len(loss)), fontsize=15, y=1.02)\n",
        "plt.xticks(size=15)\n",
        "plt.yticks(size=15)\n",
        "plt.legend(fontsize=15)\n",
        "plt.show()"
      ],
      "execution_count": null,
      "outputs": []
    },
    {
      "cell_type": "markdown",
      "metadata": {
        "id": "26qBMmXXmWmr"
      },
      "source": [
        "# 4. Additional Model"
      ]
    },
    {
      "cell_type": "markdown",
      "metadata": {
        "id": "E8_uGVPnmWmr"
      },
      "source": [
        "# 4.1 VGG19"
      ]
    },
    {
      "cell_type": "markdown",
      "metadata": {
        "id": "6j2tjkknmWmr"
      },
      "source": [
        "* keras application"
      ]
    },
    {
      "cell_type": "code",
      "metadata": {
        "id": "sWjw1sw8mWmr"
      },
      "source": [
        "from tensorflow.keras.applications import VGG19\n",
        "model = VGG19(weights='imagenet', include_top=False, input_shape=(32, 32, 3))\n",
        "model.summary()"
      ],
      "execution_count": null,
      "outputs": []
    },
    {
      "cell_type": "code",
      "metadata": {
        "id": "Zm27XS59mWms"
      },
      "source": [
        "def VGGfree_2D(input_size, block_num, layer_num, drop_out, flat_count, class_count, conv_act, flat_act, output_act, conv_str, pool_str):\n",
        "\n",
        "    inputs = Input(shape=(input_size, input_size, 1))\n",
        "    block = layers.Conv2D(32, conv_str, activation=conv_act, padding='same', kernel_initializer='he_normal')(inputs)\n",
        "    for i in range(block_num):\n",
        "        block = cn.conv_block_2d(block, layer_num, [32*(2**i), conv_str, conv_act, pool_str, drop_out])\n",
        "    flat = layers.Flatten()(block)\n",
        "    drop1 = layers.Dropout(drop_out)(flat)\n",
        "    dens = layers.Dense(flat_count, activation=flat_act)(drop1)\n",
        "    drop2 = layers.Dropout(drop_out)(dens)\n",
        "    outputs = layers.Dense(class_count, activation=output_act)(drop2)\n",
        "    model = Model(inputs, outputs)\n",
        "    return model\n",
        "\n",
        "model = VGGfree_2D(32, 5, 2, 0.5, 256, 2, 'relu', 'relu', 'sigmoid', 3, 2)\n",
        "model.summary()"
      ],
      "execution_count": null,
      "outputs": []
    },
    {
      "cell_type": "code",
      "metadata": {
        "id": "7mtaCfqFmWms"
      },
      "source": [
        ""
      ],
      "execution_count": null,
      "outputs": []
    }
  ]
}