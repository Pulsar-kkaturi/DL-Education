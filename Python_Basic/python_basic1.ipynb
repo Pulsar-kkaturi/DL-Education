{
  "nbformat": 4,
  "nbformat_minor": 0,
  "metadata": {
    "interpreter": {
      "hash": "23f9346fbce5fd1ea3aa77c4e5ac78421a3bb77361f42496a3017c0adb6888d7"
    },
    "kernelspec": {
      "display_name": "Python 3.8.10 64-bit ('py38': conda)",
      "name": "python3"
    },
    "language_info": {
      "codemirror_mode": {
        "name": "ipython",
        "version": 3
      },
      "file_extension": ".py",
      "mimetype": "text/x-python",
      "name": "python",
      "nbconvert_exporter": "python",
      "pygments_lexer": "ipython3",
      "version": "3.8.10"
    },
    "orig_nbformat": 4,
    "colab": {
      "name": "python_basic1.ipynb",
      "provenance": [],
      "include_colab_link": true
    }
  },
  "cells": [
    {
      "cell_type": "markdown",
      "metadata": {
        "id": "view-in-github",
        "colab_type": "text"
      },
      "source": [
        "<a href=\"https://colab.research.google.com/github/Pulsar-kkaturi/DL-Education/blob/master/Python_Basic/python_basic1.ipynb\" target=\"_parent\"><img src=\"https://colab.research.google.com/assets/colab-badge.svg\" alt=\"Open In Colab\"/></a>"
      ]
    },
    {
      "cell_type": "markdown",
      "metadata": {
        "id": "G9Vmb4Ya6Iu4"
      },
      "source": [
        "# 파이썬 기초문법 1 - 데이터 다루기"
      ]
    },
    {
      "cell_type": "markdown",
      "metadata": {
        "id": "Kvb7RS-S6Iu-"
      },
      "source": [
        "## 1. 사칙연산"
      ]
    },
    {
      "cell_type": "code",
      "metadata": {
        "id": "AeLWXvop6Iu_",
        "outputId": "f1e4fb15-f6bb-4406-c7b7-3f981d08058a"
      },
      "source": [
        "1 + 2"
      ],
      "execution_count": null,
      "outputs": [
        {
          "data": {
            "text/plain": [
              "3"
            ]
          },
          "execution_count": 1,
          "metadata": {},
          "output_type": "execute_result"
        }
      ]
    },
    {
      "cell_type": "markdown",
      "metadata": {
        "id": "3vLBSBQH6IvC"
      },
      "source": [
        "**사칙연산 기호**\n",
        "* 더하기: +\n",
        "* 빼기: -\n",
        "* 곱하기: *\n",
        "* 나누기: /"
      ]
    },
    {
      "cell_type": "code",
      "metadata": {
        "id": "oym_4aMh6IvD",
        "outputId": "a133ebb8-4a65-42d3-daa7-f0a3507341c1"
      },
      "source": [
        "(1 + 2 * 3 - 4) / 5"
      ],
      "execution_count": null,
      "outputs": [
        {
          "data": {
            "text/plain": [
              "0.6"
            ]
          },
          "execution_count": 2,
          "metadata": {},
          "output_type": "execute_result"
        }
      ]
    },
    {
      "cell_type": "markdown",
      "metadata": {
        "id": "dZvdUWUi6IvD"
      },
      "source": [
        "**제곱은 **로 나타냅니다.**\n",
        "* 제곱: **"
      ]
    },
    {
      "cell_type": "code",
      "metadata": {
        "id": "L08gzVt56IvE",
        "outputId": "d4a68168-6155-4b55-d934-6cb918b6f922"
      },
      "source": [
        "2 ** 8"
      ],
      "execution_count": null,
      "outputs": [
        {
          "data": {
            "text/plain": [
              "256"
            ]
          },
          "execution_count": 3,
          "metadata": {},
          "output_type": "execute_result"
        }
      ]
    },
    {
      "cell_type": "code",
      "metadata": {
        "id": "L0G80r3e6IvF"
      },
      "source": [
        ""
      ],
      "execution_count": null,
      "outputs": []
    }
  ]
}